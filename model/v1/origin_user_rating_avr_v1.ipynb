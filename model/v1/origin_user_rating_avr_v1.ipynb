{
 "cells": [
  {
   "cell_type": "markdown",
   "id": "76a9a20a",
   "metadata": {},
   "source": [
    "# Ver1. origin user 이용\n",
    "\n",
    "## sparsity 고려하지 않고 origin rating data를 이용해 LightFM 모델을 학습해봅니다.\n",
    "---\n",
    "### 1. rating 결측치 처리\n",
    "### 2. 정규화 처리 여부에 따른 비교"
   ]
  },
  {
   "cell_type": "code",
   "execution_count": null,
   "id": "f9887121",
   "metadata": {},
   "outputs": [],
   "source": []
  },
  {
   "cell_type": "code",
   "execution_count": 1,
   "id": "4f990d34",
   "metadata": {},
   "outputs": [],
   "source": [
    "import os\n",
    "import pandas as pd\n",
    "import numpy as  np"
   ]
  },
  {
   "cell_type": "code",
   "execution_count": 2,
   "id": "39b36cd9",
   "metadata": {},
   "outputs": [
    {
     "data": {
      "text/plain": [
       "'C:\\\\Users\\\\SSAFY\\\\Desktop\\\\Whisky\\\\v1'"
      ]
     },
     "execution_count": 2,
     "metadata": {},
     "output_type": "execute_result"
    }
   ],
   "source": [
    "os.getcwd()"
   ]
  },
  {
   "cell_type": "code",
   "execution_count": 3,
   "id": "ed88edcd",
   "metadata": {},
   "outputs": [],
   "source": [
    "rating = pd.read_csv(\"../dataset/rating.csv\", index_col = 0, encoding=\"utf-8\")\n",
    "whisky = pd.read_csv(\"../dataset/whisky.csv\", index_col=0 , encoding=\"UTF-8\")\n",
    "whisky_index = pd.read_csv(\"../dataset/whisky_index.csv\", index_col=0 , encoding=\"UTF-8\")\n",
    "user_index = pd.read_csv(\"../dataset/user_index.csv\", index_col=0 , encoding=\"UTF-8\")"
   ]
  },
  {
   "cell_type": "code",
   "execution_count": null,
   "id": "b469532b",
   "metadata": {},
   "outputs": [],
   "source": []
  },
  {
   "cell_type": "markdown",
   "id": "e2a904fd",
   "metadata": {},
   "source": [
    "## rating 결측치 처리 - 평균으로 대체합니다.\n",
    "---\n",
    "### 1. interactions 결측치 처리\n",
    "### 2. whisky columns(avr_rating) 수정"
   ]
  },
  {
   "cell_type": "markdown",
   "id": "98e9e895",
   "metadata": {},
   "source": [
    "## 1. interactions 결측치 처리"
   ]
  },
  {
   "cell_type": "code",
   "execution_count": 4,
   "id": "e185ae35",
   "metadata": {},
   "outputs": [
    {
     "name": "stdout",
     "output_type": "stream",
     "text": [
      "<class 'pandas.core.frame.DataFrame'>\n",
      "Int64Index: 908176 entries, 0 to 11258\n",
      "Data columns (total 3 columns):\n",
      " #   Column     Non-Null Count   Dtype  \n",
      "---  ------     --------------   -----  \n",
      " 0   user_id    908176 non-null  int64  \n",
      " 1   whisky_id  908176 non-null  int64  \n",
      " 2   rating     888132 non-null  float64\n",
      "dtypes: float64(1), int64(2)\n",
      "memory usage: 27.7 MB\n"
     ]
    }
   ],
   "source": [
    "rating.info()"
   ]
  },
  {
   "cell_type": "code",
   "execution_count": 5,
   "id": "07a90112",
   "metadata": {},
   "outputs": [
    {
     "name": "stderr",
     "output_type": "stream",
     "text": [
      "C:\\Users\\SSAFY\\AppData\\Local\\Temp\\ipykernel_12228\\1581247862.py:5: FutureWarning: Not prepending group keys to the result index of transform-like apply. In the future, the group keys will be included in the index, regardless of whether the applied function returns a like-indexed object.\n",
      "To preserve the previous behavior, use\n",
      "\n",
      "\t>>> .groupby(..., group_keys=False)\n",
      "\n",
      "To adopt the future behavior and silence this warning, use \n",
      "\n",
      "\t>>> .groupby(..., group_keys=True)\n",
      "  rating[\"rating\"] = rating.groupby(\"whisky_id\")[\"rating\"].apply(lambda x: x.fillna(round(x.mean()) if not np.isnan(x.mean()) else 0))\n"
     ]
    }
   ],
   "source": [
    "# Reset the index of the DataFrame\n",
    "rating = rating.reset_index(drop=True)\n",
    "\n",
    "# Group by \"whisky_name\" and fill missing values in \"rating\" with the rounded mean of that group\n",
    "rating[\"rating\"] = rating.groupby(\"whisky_id\")[\"rating\"].apply(lambda x: x.fillna(round(x.mean()) if not np.isnan(x.mean()) else 0))"
   ]
  },
  {
   "cell_type": "code",
   "execution_count": 6,
   "id": "4181e847",
   "metadata": {},
   "outputs": [
    {
     "name": "stdout",
     "output_type": "stream",
     "text": [
      "<class 'pandas.core.frame.DataFrame'>\n",
      "RangeIndex: 908176 entries, 0 to 908175\n",
      "Data columns (total 3 columns):\n",
      " #   Column     Non-Null Count   Dtype  \n",
      "---  ------     --------------   -----  \n",
      " 0   user_id    908176 non-null  int64  \n",
      " 1   whisky_id  908176 non-null  int64  \n",
      " 2   rating     908176 non-null  float64\n",
      "dtypes: float64(1), int64(2)\n",
      "memory usage: 20.8 MB\n"
     ]
    }
   ],
   "source": [
    "rating.info()"
   ]
  },
  {
   "cell_type": "markdown",
   "id": "ac14b86b",
   "metadata": {},
   "source": [
    "## 2. whisky 평균 평점, 총 인원 수정"
   ]
  },
  {
   "cell_type": "code",
   "execution_count": 7,
   "id": "e0b96a9b",
   "metadata": {},
   "outputs": [],
   "source": [
    "whisky[\"avr_rating\"] = round(rating.groupby(\"whisky_id\")[\"rating\"].mean(), 2)"
   ]
  },
  {
   "cell_type": "code",
   "execution_count": null,
   "id": "63d9e217",
   "metadata": {},
   "outputs": [],
   "source": []
  },
  {
   "cell_type": "code",
   "execution_count": 8,
   "id": "a326309e",
   "metadata": {},
   "outputs": [],
   "source": [
    "whisky[\"total_rating\"] = rating.groupby(\"whisky_id\")['user_id'].count()"
   ]
  },
  {
   "cell_type": "code",
   "execution_count": 9,
   "id": "62af8a6b",
   "metadata": {},
   "outputs": [
    {
     "data": {
      "text/html": [
       "<div>\n",
       "<style scoped>\n",
       "    .dataframe tbody tr th:only-of-type {\n",
       "        vertical-align: middle;\n",
       "    }\n",
       "\n",
       "    .dataframe tbody tr th {\n",
       "        vertical-align: top;\n",
       "    }\n",
       "\n",
       "    .dataframe thead th {\n",
       "        text-align: right;\n",
       "    }\n",
       "</style>\n",
       "<table border=\"1\" class=\"dataframe\">\n",
       "  <thead>\n",
       "    <tr style=\"text-align: right;\">\n",
       "      <th></th>\n",
       "      <th>whisky_id</th>\n",
       "      <th>link</th>\n",
       "      <th>image</th>\n",
       "      <th>name</th>\n",
       "      <th>avr_rating</th>\n",
       "      <th>category</th>\n",
       "      <th>location</th>\n",
       "      <th>total_rating</th>\n",
       "      <th>cost_rank</th>\n",
       "      <th>abv</th>\n",
       "      <th>...</th>\n",
       "      <th>herbal</th>\n",
       "      <th>oily</th>\n",
       "      <th>full_bodied</th>\n",
       "      <th>rich</th>\n",
       "      <th>sweet</th>\n",
       "      <th>salty</th>\n",
       "      <th>vanilla</th>\n",
       "      <th>tart</th>\n",
       "      <th>fruity</th>\n",
       "      <th>floral</th>\n",
       "    </tr>\n",
       "  </thead>\n",
       "  <tbody>\n",
       "    <tr>\n",
       "      <th>0</th>\n",
       "      <td>0</td>\n",
       "      <td>/spirits/hibiki-21-year</td>\n",
       "      <td>https://ip-distiller.imgix.net/images/spirits/...</td>\n",
       "      <td>Hibiki 21 Year</td>\n",
       "      <td>9.01</td>\n",
       "      <td>Blended</td>\n",
       "      <td>Japan</td>\n",
       "      <td>861.0</td>\n",
       "      <td>5</td>\n",
       "      <td>43.00</td>\n",
       "      <td>...</td>\n",
       "      <td>30</td>\n",
       "      <td>20</td>\n",
       "      <td>80</td>\n",
       "      <td>80</td>\n",
       "      <td>85</td>\n",
       "      <td>15</td>\n",
       "      <td>20</td>\n",
       "      <td>25</td>\n",
       "      <td>85</td>\n",
       "      <td>50</td>\n",
       "    </tr>\n",
       "    <tr>\n",
       "      <th>1</th>\n",
       "      <td>1</td>\n",
       "      <td>/spirits/highland-park-18</td>\n",
       "      <td>https://ip-distiller.imgix.net/images/spirits/...</td>\n",
       "      <td>Highland Park 18 Year</td>\n",
       "      <td>8.89</td>\n",
       "      <td>Peated Single Malt</td>\n",
       "      <td>Islands, Scotland</td>\n",
       "      <td>2988.0</td>\n",
       "      <td>4</td>\n",
       "      <td>43.00</td>\n",
       "      <td>...</td>\n",
       "      <td>20</td>\n",
       "      <td>40</td>\n",
       "      <td>70</td>\n",
       "      <td>80</td>\n",
       "      <td>70</td>\n",
       "      <td>40</td>\n",
       "      <td>50</td>\n",
       "      <td>50</td>\n",
       "      <td>70</td>\n",
       "      <td>20</td>\n",
       "    </tr>\n",
       "    <tr>\n",
       "      <th>2</th>\n",
       "      <td>2</td>\n",
       "      <td>/spirits/michter-s-20-year-kentucky-straight-b...</td>\n",
       "      <td>https://ip-distiller.imgix.net/images/spirits/...</td>\n",
       "      <td>Michter's 20 Year Kentucky Straight Bourbon (2...</td>\n",
       "      <td>9.00</td>\n",
       "      <td>Bourbon</td>\n",
       "      <td>Kentucky, USA</td>\n",
       "      <td>10.0</td>\n",
       "      <td>5</td>\n",
       "      <td>57.10</td>\n",
       "      <td>...</td>\n",
       "      <td>0</td>\n",
       "      <td>15</td>\n",
       "      <td>80</td>\n",
       "      <td>90</td>\n",
       "      <td>85</td>\n",
       "      <td>5</td>\n",
       "      <td>30</td>\n",
       "      <td>25</td>\n",
       "      <td>35</td>\n",
       "      <td>0</td>\n",
       "    </tr>\n",
       "    <tr>\n",
       "      <th>3</th>\n",
       "      <td>3</td>\n",
       "      <td>/spirits/george-t-stagg-bourbon-fall-2019</td>\n",
       "      <td>https://ip-distiller.imgix.net/images/spirits/...</td>\n",
       "      <td>George T. Stagg Bourbon (Fall 2019)</td>\n",
       "      <td>9.06</td>\n",
       "      <td>Bourbon</td>\n",
       "      <td>Kentucky, USA</td>\n",
       "      <td>629.0</td>\n",
       "      <td>4</td>\n",
       "      <td>58.45</td>\n",
       "      <td>...</td>\n",
       "      <td>50</td>\n",
       "      <td>20</td>\n",
       "      <td>60</td>\n",
       "      <td>60</td>\n",
       "      <td>45</td>\n",
       "      <td>0</td>\n",
       "      <td>60</td>\n",
       "      <td>60</td>\n",
       "      <td>45</td>\n",
       "      <td>0</td>\n",
       "    </tr>\n",
       "    <tr>\n",
       "      <th>4</th>\n",
       "      <td>4</td>\n",
       "      <td>/spirits/bowmore-mizunara-cask-finish</td>\n",
       "      <td>https://ip-distiller.imgix.net/images/spirits/...</td>\n",
       "      <td>Bowmore Mizunara Cask Finish</td>\n",
       "      <td>7.86</td>\n",
       "      <td>Peated Single Malt</td>\n",
       "      <td>Islay, Scotland</td>\n",
       "      <td>22.0</td>\n",
       "      <td>5</td>\n",
       "      <td>53.90</td>\n",
       "      <td>...</td>\n",
       "      <td>30</td>\n",
       "      <td>10</td>\n",
       "      <td>75</td>\n",
       "      <td>75</td>\n",
       "      <td>60</td>\n",
       "      <td>20</td>\n",
       "      <td>30</td>\n",
       "      <td>20</td>\n",
       "      <td>50</td>\n",
       "      <td>5</td>\n",
       "    </tr>\n",
       "    <tr>\n",
       "      <th>...</th>\n",
       "      <td>...</td>\n",
       "      <td>...</td>\n",
       "      <td>...</td>\n",
       "      <td>...</td>\n",
       "      <td>...</td>\n",
       "      <td>...</td>\n",
       "      <td>...</td>\n",
       "      <td>...</td>\n",
       "      <td>...</td>\n",
       "      <td>...</td>\n",
       "      <td>...</td>\n",
       "      <td>...</td>\n",
       "      <td>...</td>\n",
       "      <td>...</td>\n",
       "      <td>...</td>\n",
       "      <td>...</td>\n",
       "      <td>...</td>\n",
       "      <td>...</td>\n",
       "      <td>...</td>\n",
       "      <td>...</td>\n",
       "      <td>...</td>\n",
       "    </tr>\n",
       "    <tr>\n",
       "      <th>3530</th>\n",
       "      <td>3530</td>\n",
       "      <td>/spirits/wild-turkey-spiced</td>\n",
       "      <td>https://ip-distiller.imgix.net/images/spirits/...</td>\n",
       "      <td>Wild Turkey Spiced</td>\n",
       "      <td>5.92</td>\n",
       "      <td>Flavored Whiskey</td>\n",
       "      <td>Kentucky, USA</td>\n",
       "      <td>13.0</td>\n",
       "      <td>1</td>\n",
       "      <td>43.00</td>\n",
       "      <td>...</td>\n",
       "      <td>0</td>\n",
       "      <td>0</td>\n",
       "      <td>40</td>\n",
       "      <td>55</td>\n",
       "      <td>85</td>\n",
       "      <td>0</td>\n",
       "      <td>25</td>\n",
       "      <td>10</td>\n",
       "      <td>10</td>\n",
       "      <td>0</td>\n",
       "    </tr>\n",
       "    <tr>\n",
       "      <th>3531</th>\n",
       "      <td>3531</td>\n",
       "      <td>/spirits/seagram-s-seven-crown-american-blende...</td>\n",
       "      <td>https://ip-distiller.imgix.net/images/spirits/...</td>\n",
       "      <td>Seagram's 7 Crown American Blended Whiskey</td>\n",
       "      <td>4.31</td>\n",
       "      <td>Blended American Whiskey</td>\n",
       "      <td>USA</td>\n",
       "      <td>237.0</td>\n",
       "      <td>1</td>\n",
       "      <td>40.00</td>\n",
       "      <td>...</td>\n",
       "      <td>20</td>\n",
       "      <td>0</td>\n",
       "      <td>30</td>\n",
       "      <td>0</td>\n",
       "      <td>100</td>\n",
       "      <td>0</td>\n",
       "      <td>100</td>\n",
       "      <td>0</td>\n",
       "      <td>60</td>\n",
       "      <td>10</td>\n",
       "    </tr>\n",
       "    <tr>\n",
       "      <th>3532</th>\n",
       "      <td>3532</td>\n",
       "      <td>/spirits/11-wells-single-malt-whiskey</td>\n",
       "      <td>https://ip-distiller.imgix.net/images/spirits/...</td>\n",
       "      <td>11 Wells Single Malt Whiskey</td>\n",
       "      <td>6.00</td>\n",
       "      <td>American Single Malt</td>\n",
       "      <td>Minnesota, USA</td>\n",
       "      <td>2.0</td>\n",
       "      <td>3</td>\n",
       "      <td>42.00</td>\n",
       "      <td>...</td>\n",
       "      <td>10</td>\n",
       "      <td>40</td>\n",
       "      <td>10</td>\n",
       "      <td>10</td>\n",
       "      <td>90</td>\n",
       "      <td>0</td>\n",
       "      <td>50</td>\n",
       "      <td>20</td>\n",
       "      <td>30</td>\n",
       "      <td>10</td>\n",
       "    </tr>\n",
       "    <tr>\n",
       "      <th>3533</th>\n",
       "      <td>3533</td>\n",
       "      <td>/spirits/immortal-spirits-early-whiskey</td>\n",
       "      <td>https://ip-distiller.imgix.net/images/spirits/...</td>\n",
       "      <td>Immortal Spirits Early Whiskey</td>\n",
       "      <td>2.00</td>\n",
       "      <td>Other Whiskey</td>\n",
       "      <td>Oregon, USA</td>\n",
       "      <td>1.0</td>\n",
       "      <td>2</td>\n",
       "      <td>44.50</td>\n",
       "      <td>...</td>\n",
       "      <td>100</td>\n",
       "      <td>80</td>\n",
       "      <td>0</td>\n",
       "      <td>0</td>\n",
       "      <td>40</td>\n",
       "      <td>0</td>\n",
       "      <td>20</td>\n",
       "      <td>0</td>\n",
       "      <td>0</td>\n",
       "      <td>0</td>\n",
       "    </tr>\n",
       "    <tr>\n",
       "      <th>3534</th>\n",
       "      <td>3534</td>\n",
       "      <td>/spirits/triple-crown-blended-whiskey</td>\n",
       "      <td>https://ip-distiller.imgix.net/images/spirits/...</td>\n",
       "      <td>Triple Crown Blended Whiskey</td>\n",
       "      <td>4.88</td>\n",
       "      <td>Blended American Whiskey</td>\n",
       "      <td>Missouri, USA</td>\n",
       "      <td>16.0</td>\n",
       "      <td>1</td>\n",
       "      <td>40.00</td>\n",
       "      <td>...</td>\n",
       "      <td>29</td>\n",
       "      <td>0</td>\n",
       "      <td>30</td>\n",
       "      <td>40</td>\n",
       "      <td>100</td>\n",
       "      <td>0</td>\n",
       "      <td>55</td>\n",
       "      <td>0</td>\n",
       "      <td>30</td>\n",
       "      <td>10</td>\n",
       "    </tr>\n",
       "  </tbody>\n",
       "</table>\n",
       "<p>3535 rows × 24 columns</p>\n",
       "</div>"
      ],
      "text/plain": [
       "      whisky_id                                               link  \\\n",
       "0             0                            /spirits/hibiki-21-year   \n",
       "1             1                          /spirits/highland-park-18   \n",
       "2             2  /spirits/michter-s-20-year-kentucky-straight-b...   \n",
       "3             3          /spirits/george-t-stagg-bourbon-fall-2019   \n",
       "4             4              /spirits/bowmore-mizunara-cask-finish   \n",
       "...         ...                                                ...   \n",
       "3530       3530                        /spirits/wild-turkey-spiced   \n",
       "3531       3531  /spirits/seagram-s-seven-crown-american-blende...   \n",
       "3532       3532              /spirits/11-wells-single-malt-whiskey   \n",
       "3533       3533            /spirits/immortal-spirits-early-whiskey   \n",
       "3534       3534              /spirits/triple-crown-blended-whiskey   \n",
       "\n",
       "                                                  image  \\\n",
       "0     https://ip-distiller.imgix.net/images/spirits/...   \n",
       "1     https://ip-distiller.imgix.net/images/spirits/...   \n",
       "2     https://ip-distiller.imgix.net/images/spirits/...   \n",
       "3     https://ip-distiller.imgix.net/images/spirits/...   \n",
       "4     https://ip-distiller.imgix.net/images/spirits/...   \n",
       "...                                                 ...   \n",
       "3530  https://ip-distiller.imgix.net/images/spirits/...   \n",
       "3531  https://ip-distiller.imgix.net/images/spirits/...   \n",
       "3532  https://ip-distiller.imgix.net/images/spirits/...   \n",
       "3533  https://ip-distiller.imgix.net/images/spirits/...   \n",
       "3534  https://ip-distiller.imgix.net/images/spirits/...   \n",
       "\n",
       "                                                   name  avr_rating  \\\n",
       "0                                        Hibiki 21 Year        9.01   \n",
       "1                                 Highland Park 18 Year        8.89   \n",
       "2     Michter's 20 Year Kentucky Straight Bourbon (2...        9.00   \n",
       "3                   George T. Stagg Bourbon (Fall 2019)        9.06   \n",
       "4                          Bowmore Mizunara Cask Finish        7.86   \n",
       "...                                                 ...         ...   \n",
       "3530                                 Wild Turkey Spiced        5.92   \n",
       "3531         Seagram's 7 Crown American Blended Whiskey        4.31   \n",
       "3532                       11 Wells Single Malt Whiskey        6.00   \n",
       "3533                     Immortal Spirits Early Whiskey        2.00   \n",
       "3534                       Triple Crown Blended Whiskey        4.88   \n",
       "\n",
       "                      category           location  total_rating  cost_rank  \\\n",
       "0                      Blended              Japan         861.0          5   \n",
       "1           Peated Single Malt  Islands, Scotland        2988.0          4   \n",
       "2                      Bourbon      Kentucky, USA          10.0          5   \n",
       "3                      Bourbon      Kentucky, USA         629.0          4   \n",
       "4           Peated Single Malt    Islay, Scotland          22.0          5   \n",
       "...                        ...                ...           ...        ...   \n",
       "3530          Flavored Whiskey      Kentucky, USA          13.0          1   \n",
       "3531  Blended American Whiskey                USA         237.0          1   \n",
       "3532      American Single Malt     Minnesota, USA           2.0          3   \n",
       "3533             Other Whiskey        Oregon, USA           1.0          2   \n",
       "3534  Blended American Whiskey      Missouri, USA          16.0          1   \n",
       "\n",
       "        abv  ... herbal  oily  full_bodied  rich  sweet  salty  vanilla  tart  \\\n",
       "0     43.00  ...     30    20           80    80     85     15       20    25   \n",
       "1     43.00  ...     20    40           70    80     70     40       50    50   \n",
       "2     57.10  ...      0    15           80    90     85      5       30    25   \n",
       "3     58.45  ...     50    20           60    60     45      0       60    60   \n",
       "4     53.90  ...     30    10           75    75     60     20       30    20   \n",
       "...     ...  ...    ...   ...          ...   ...    ...    ...      ...   ...   \n",
       "3530  43.00  ...      0     0           40    55     85      0       25    10   \n",
       "3531  40.00  ...     20     0           30     0    100      0      100     0   \n",
       "3532  42.00  ...     10    40           10    10     90      0       50    20   \n",
       "3533  44.50  ...    100    80            0     0     40      0       20     0   \n",
       "3534  40.00  ...     29     0           30    40    100      0       55     0   \n",
       "\n",
       "      fruity  floral  \n",
       "0         85      50  \n",
       "1         70      20  \n",
       "2         35       0  \n",
       "3         45       0  \n",
       "4         50       5  \n",
       "...      ...     ...  \n",
       "3530      10       0  \n",
       "3531      60      10  \n",
       "3532      30      10  \n",
       "3533       0       0  \n",
       "3534      30      10  \n",
       "\n",
       "[3535 rows x 24 columns]"
      ]
     },
     "execution_count": 9,
     "metadata": {},
     "output_type": "execute_result"
    }
   ],
   "source": [
    "whisky"
   ]
  },
  {
   "cell_type": "markdown",
   "id": "94cb2a51",
   "metadata": {},
   "source": [
    "### 결측치 평균으로 대체 완료"
   ]
  },
  {
   "cell_type": "code",
   "execution_count": null,
   "id": "a8f6203a",
   "metadata": {},
   "outputs": [],
   "source": []
  },
  {
   "cell_type": "markdown",
   "id": "892f6b19",
   "metadata": {},
   "source": [
    "## 2-1. 정규화 진행하지 않고 학습 진행"
   ]
  },
  {
   "cell_type": "code",
   "execution_count": 10,
   "id": "74aca9fb",
   "metadata": {},
   "outputs": [
    {
     "name": "stderr",
     "output_type": "stream",
     "text": [
      "C:\\Users\\SSAFY\\anaconda3\\envs\\mini-project\\lib\\site-packages\\lightfm\\_lightfm_fast.py:9: UserWarning: LightFM was compiled without OpenMP support. Only a single thread will be used.\n",
      "  warnings.warn(\n"
     ]
    }
   ],
   "source": [
    "import os\n",
    "\n",
    "from scipy.sparse import coo_matrix, csr_matrix\n",
    "from tqdm.notebook import tqdm\n",
    "\n",
    "from lightfm import LightFM\n",
    "from lightfm.datasets import fetch_movielens\n",
    "from lightfm.evaluation import precision_at_k, auc_score, recall_at_k, reciprocal_rank\n"
   ]
  },
  {
   "cell_type": "markdown",
   "id": "925dbd5a",
   "metadata": {},
   "source": [
    "#### item meta data 생성"
   ]
  },
  {
   "cell_type": "code",
   "execution_count": 11,
   "id": "02b101b4",
   "metadata": {},
   "outputs": [
    {
     "data": {
      "text/plain": [
       "['cost_rank',\n",
       " 'smoky',\n",
       " 'peaty',\n",
       " 'spicy',\n",
       " 'herbal',\n",
       " 'oily',\n",
       " 'full_bodied',\n",
       " 'rich',\n",
       " 'sweet',\n",
       " 'salty',\n",
       " 'vanilla',\n",
       " 'tart',\n",
       " 'fruity',\n",
       " 'floral']"
      ]
     },
     "execution_count": 11,
     "metadata": {},
     "output_type": "execute_result"
    }
   ],
   "source": [
    "columns = whisky.columns.tolist()\n",
    "columns = [columns[8]] + columns[11:]\n",
    "columns"
   ]
  },
  {
   "cell_type": "code",
   "execution_count": 12,
   "id": "eaf18d5a",
   "metadata": {},
   "outputs": [],
   "source": [
    "item_features = np.zeros((whisky['whisky_id'].nunique(), len(columns)))\n",
    "for i in range(whisky['whisky_id'].nunique()):\n",
    "    for j, col_name in enumerate(columns):\n",
    "        item_features[i, j] = whisky.iloc[i][col_name]\n",
    "# item_features = csr_matrix(item_features)"
   ]
  },
  {
   "cell_type": "code",
   "execution_count": 13,
   "id": "7a2f1fa0",
   "metadata": {},
   "outputs": [
    {
     "data": {
      "text/plain": [
       "array([[ 5., 30., 85., ..., 25., 85., 50.],\n",
       "       [ 4., 40., 30., ..., 50., 70., 20.],\n",
       "       [ 5., 15.,  0., ..., 25., 35.,  0.],\n",
       "       ...,\n",
       "       [ 3., 90., 10., ..., 20., 30., 10.],\n",
       "       [ 2.,  0.,  0., ...,  0.,  0.,  0.],\n",
       "       [ 1., 31.,  0., ...,  0., 30., 10.]])"
      ]
     },
     "execution_count": 13,
     "metadata": {},
     "output_type": "execute_result"
    }
   ],
   "source": [
    "item_features"
   ]
  },
  {
   "cell_type": "code",
   "execution_count": 14,
   "id": "b2687149",
   "metadata": {},
   "outputs": [],
   "source": [
    "item_features = csr_matrix(item_features)"
   ]
  },
  {
   "cell_type": "markdown",
   "id": "513ab570",
   "metadata": {},
   "source": [
    "#### user_item_interactions 만들기"
   ]
  },
  {
   "cell_type": "code",
   "execution_count": 15,
   "id": "1084319b",
   "metadata": {},
   "outputs": [
    {
     "data": {
      "text/plain": [
       "119515"
      ]
     },
     "execution_count": 15,
     "metadata": {},
     "output_type": "execute_result"
    }
   ],
   "source": [
    "user_index['user_id'].nunique()"
   ]
  },
  {
   "cell_type": "code",
   "execution_count": 16,
   "id": "9ae98c75",
   "metadata": {},
   "outputs": [
    {
     "data": {
      "text/plain": [
       "3535"
      ]
     },
     "execution_count": 16,
     "metadata": {},
     "output_type": "execute_result"
    }
   ],
   "source": [
    "whisky_index['whisky_id'].nunique()"
   ]
  },
  {
   "cell_type": "code",
   "execution_count": 17,
   "id": "d0d8e8e8",
   "metadata": {},
   "outputs": [],
   "source": [
    "interactions = coo_matrix(\n",
    "    (\n",
    "        rating['rating'].values,\n",
    "        (rating['user_id'].values, rating[\"whisky_id\"].values)\n",
    "    ),\n",
    "    shape=(user_index['user_id'].nunique(), whisky_index['whisky_id'].nunique())\n",
    ")"
   ]
  },
  {
   "cell_type": "code",
   "execution_count": 18,
   "id": "770d7d52",
   "metadata": {},
   "outputs": [
    {
     "name": "stdout",
     "output_type": "stream",
     "text": [
      "  (0, 0)\t9.0\n",
      "  (1, 0)\t7.0\n",
      "  (2, 0)\t9.0\n",
      "  (3, 0)\t10.0\n",
      "  (4, 0)\t9.0\n",
      "  (5, 0)\t7.0\n",
      "  (6, 0)\t10.0\n",
      "  (7, 0)\t7.0\n",
      "  (8, 0)\t10.0\n",
      "  (9, 0)\t10.0\n",
      "  (10, 0)\t9.0\n",
      "  (11, 0)\t9.0\n",
      "  (12, 0)\t8.0\n",
      "  (13, 0)\t8.0\n",
      "  (14, 0)\t10.0\n",
      "  (15, 0)\t10.0\n",
      "  (16, 0)\t9.0\n",
      "  (17, 0)\t9.0\n",
      "  (18, 0)\t8.0\n",
      "  (19, 0)\t9.0\n",
      "  (20, 0)\t9.0\n",
      "  (21, 0)\t10.0\n",
      "  (22, 0)\t9.0\n",
      "  (23, 0)\t9.0\n",
      "  (24, 0)\t9.0\n",
      "  :\t:\n",
      "  (7636, 3531)\t4.0\n",
      "  (56292, 3531)\t2.0\n",
      "  (2670, 3531)\t2.0\n",
      "  (786, 3531)\t2.0\n",
      "  (5942, 3531)\t6.0\n",
      "  (15561, 3531)\t2.0\n",
      "  (25623, 3532)\t6.0\n",
      "  (2885, 3532)\t6.0\n",
      "  (7368, 3533)\t2.0\n",
      "  (69554, 3534)\t10.0\n",
      "  (4484, 3534)\t2.0\n",
      "  (85727, 3534)\t5.0\n",
      "  (43900, 3534)\t4.0\n",
      "  (16070, 3534)\t8.0\n",
      "  (29998, 3534)\t8.0\n",
      "  (7895, 3534)\t4.0\n",
      "  (104052, 3534)\t5.0\n",
      "  (31152, 3534)\t2.0\n",
      "  (119512, 3534)\t6.0\n",
      "  (2509, 3534)\t4.0\n",
      "  (4828, 3534)\t4.0\n",
      "  (119513, 3534)\t2.0\n",
      "  (119514, 3534)\t8.0\n",
      "  (3123, 3534)\t4.0\n",
      "  (95648, 3534)\t2.0\n"
     ]
    },
    {
     "data": {
      "text/plain": [
       "<119515x3535 sparse matrix of type '<class 'numpy.float64'>'\n",
       "\twith 908176 stored elements in COOrdinate format>"
      ]
     },
     "execution_count": 18,
     "metadata": {},
     "output_type": "execute_result"
    }
   ],
   "source": [
    "print(interactions)\n",
    "interactions"
   ]
  },
  {
   "cell_type": "markdown",
   "id": "533637ff",
   "metadata": {},
   "source": [
    "#### Train_Test data split"
   ]
  },
  {
   "cell_type": "code",
   "execution_count": 19,
   "id": "60b80985",
   "metadata": {},
   "outputs": [],
   "source": [
    "from lightfm.cross_validation import random_train_test_split\n",
    "from time import time"
   ]
  },
  {
   "cell_type": "code",
   "execution_count": 20,
   "id": "d12d0080",
   "metadata": {},
   "outputs": [],
   "source": [
    "train_interactions, test_interactions = random_train_test_split(interactions, test_percentage=0.2, random_state=42)"
   ]
  },
  {
   "cell_type": "code",
   "execution_count": null,
   "id": "10567896",
   "metadata": {},
   "outputs": [],
   "source": []
  },
  {
   "cell_type": "markdown",
   "id": "cc6a5b65",
   "metadata": {},
   "source": [
    "### Hyper Parameter Optimization by using HyperOPT"
   ]
  },
  {
   "cell_type": "code",
   "execution_count": null,
   "id": "40c8a101",
   "metadata": {},
   "outputs": [],
   "source": [
    "from hyperopt import fmin, hp, tpe, Trials"
   ]
  },
  {
   "cell_type": "code",
   "execution_count": null,
   "id": "760fbd21",
   "metadata": {},
   "outputs": [],
   "source": [
    "trials = Trials()\n",
    "space = [\n",
    "    hp.choice('no_components', range(20,80,10)),\n",
    "    hp.uniform('learning_rate', 0.01, 0.05),\n",
    "    hp.uniform('item_alpha', 1e-05, 5e-05),\n",
    "]"
   ]
  },
  {
   "cell_type": "code",
   "execution_count": null,
   "id": "705510d1",
   "metadata": {},
   "outputs": [],
   "source": [
    "def objective(params):\n",
    "    no_components, learning_rate, item_alpha = params\n",
    "\n",
    "    model = LightFM(no_components=no_components,\n",
    "                    learning_schedule='adagrad',\n",
    "                    loss='warp',\n",
    "                    learning_rate=learning_rate,\n",
    "                    item_alpha=item_alpha,\n",
    "                    random_state=0)\n",
    "\n",
    "    model.fit(interactions=train_interactions,\n",
    "              item_features=item_features,\n",
    "              epochs=3,\n",
    "              verbose=True)\n",
    "\n",
    "    test_precision = precision_at_k(model, test_interactions, k=10, item_features=item_features).mean()\n",
    "    test_recall = recall_at_k(model, test_interactions, k=10, item_features=item_features).mean()\n",
    "    test_auc = auc_score(model, test_interactions, item_features=item_features).mean()\n",
    "    test_reciprocal = reciprocal_rank(model, test_interactions, item_features=item_features)\n",
    "#     print(test_precision)\n",
    "#     print(test_recall)\n",
    "#     print(test_auc)\n",
    "#     print(test_reciprocal)\n",
    "    \n",
    "    print(\"no_comp: {}, lrn_rate: {:.5f}, item_alpha: {:.5f}, precision: {:.5f}, recall: {:.5f}, reciprocal_rank: {}, auc_score: {:.5f}\".format(\n",
    "      no_components, learning_rate, item_alpha, test_precision, test_recall, test_reciprocal.shape, test_auc))\n",
    "    # test_auc = auc_score(model, test, item_features=item_features).mean()\n",
    "    output = -test_precision\n",
    "\n",
    "    if np.abs(output+1) < 0.01 or output < -1.0:\n",
    "        output = 0.0\n",
    "\n",
    "    return output"
   ]
  },
  {
   "cell_type": "code",
   "execution_count": null,
   "id": "0bf3e4a4",
   "metadata": {},
   "outputs": [],
   "source": [
    "best_params = fmin(fn=objective, space=space, algo=tpe.suggest, max_evals=5, trials=trials)\n",
    "\n",
    "best_params"
   ]
  },
  {
   "cell_type": "code",
   "execution_count": null,
   "id": "804c38b0",
   "metadata": {},
   "outputs": [],
   "source": [
    "model = LightFM(no_components=40,\n",
    "                learning_schedule='adagrad',\n",
    "                loss='warp',\n",
    "                learning_rate=0.011370592645615374,\n",
    "                item_alpha=1.975734039413079e-05,\n",
    "                random_state=42)"
   ]
  },
  {
   "cell_type": "code",
   "execution_count": null,
   "id": "2e4987cd",
   "metadata": {
    "scrolled": true
   },
   "outputs": [],
   "source": [
    "%time model.fit_partial(train_interactions, item_features=item_features, epochs=10, verbose=True)"
   ]
  },
  {
   "cell_type": "code",
   "execution_count": null,
   "id": "991d037c",
   "metadata": {},
   "outputs": [],
   "source": [
    "print(\"Train precision: %.2f\" % precision_at_k(model, test_interactions, k=10, item_features=item_features).mean())\n",
    "print(\"Test precision: %.2f\" % precision_at_k(model, test_interactions, k=10, item_features=item_features).mean())"
   ]
  },
  {
   "cell_type": "code",
   "execution_count": null,
   "id": "2726a599",
   "metadata": {},
   "outputs": [],
   "source": [
    "# test_recall = recall_at_k(model, test_interactions, k=10, item_features=item_features).mean()\n",
    "test_auc = auc_score(model, test_interactions, item_features=item_features).mean()\n",
    "test_reciprocal = reciprocal_rank(model, test_interactions, item_features=item_features).mean()"
   ]
  },
  {
   "cell_type": "code",
   "execution_count": null,
   "id": "c9952fa6",
   "metadata": {},
   "outputs": [],
   "source": [
    "print(\"AUC : %.5f  Reciprocal : %.5f\" % (test_auc, test_reciprocal))"
   ]
  },
  {
   "cell_type": "markdown",
   "id": "7631a53b",
   "metadata": {},
   "source": [
    "#### Evaluation"
   ]
  },
  {
   "cell_type": "code",
   "execution_count": 21,
   "id": "dc0ef14f",
   "metadata": {},
   "outputs": [],
   "source": [
    "import pickle"
   ]
  },
  {
   "cell_type": "code",
   "execution_count": 22,
   "id": "ea0fd8a2",
   "metadata": {},
   "outputs": [],
   "source": [
    "# Load the saved model\n",
    "with open('origin_user_rating_model.pkl', 'rb') as f:\n",
    "    model = pickle.load(f)"
   ]
  },
  {
   "cell_type": "code",
   "execution_count": null,
   "id": "0e9d6d9c",
   "metadata": {},
   "outputs": [],
   "source": []
  },
  {
   "cell_type": "code",
   "execution_count": 23,
   "id": "a7c4f694",
   "metadata": {},
   "outputs": [
    {
     "name": "stdout",
     "output_type": "stream",
     "text": [
      "Train precision: 0.00601\n",
      "Test precision: 0.00212\n"
     ]
    }
   ],
   "source": [
    "print(\"Train precision: %.5f\" % precision_at_k(model, train_interactions, item_features=item_features, k=9).mean())\n",
    "print(\"Test precision: %.5f\" % precision_at_k(model, test_interactions, item_features=item_features, k=9).mean())"
   ]
  },
  {
   "cell_type": "code",
   "execution_count": 24,
   "id": "47597d50",
   "metadata": {},
   "outputs": [
    {
     "name": "stdout",
     "output_type": "stream",
     "text": [
      "0.68399495\n"
     ]
    }
   ],
   "source": [
    "test_auc = auc_score(model, test_interactions, item_features=item_features).mean()\n",
    "print(test_auc)"
   ]
  },
  {
   "cell_type": "markdown",
   "id": "4c46238e",
   "metadata": {},
   "source": [
    "#### save"
   ]
  },
  {
   "cell_type": "code",
   "execution_count": null,
   "id": "6c2e3d68",
   "metadata": {},
   "outputs": [],
   "source": [
    "# save the model to a file\n",
    "with open('origin_user_rating_model.pkl', 'wb') as f:\n",
    "    pickle.dump(model, f)"
   ]
  }
 ],
 "metadata": {
  "kernelspec": {
   "display_name": "Python 3 (ipykernel)",
   "language": "python",
   "name": "python3"
  },
  "language_info": {
   "codemirror_mode": {
    "name": "ipython",
    "version": 3
   },
   "file_extension": ".py",
   "mimetype": "text/x-python",
   "name": "python",
   "nbconvert_exporter": "python",
   "pygments_lexer": "ipython3",
   "version": "3.9.16"
  }
 },
 "nbformat": 4,
 "nbformat_minor": 5
}
