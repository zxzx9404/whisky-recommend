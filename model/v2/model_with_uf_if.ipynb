{
 "cells": [
  {
   "cell_type": "code",
   "execution_count": 1,
   "id": "96adc554",
   "metadata": {},
   "outputs": [
    {
     "name": "stderr",
     "output_type": "stream",
     "text": [
      "C:\\Users\\SSAFY\\anaconda3\\envs\\mini-project\\lib\\site-packages\\lightfm\\_lightfm_fast.py:9: UserWarning: LightFM was compiled without OpenMP support. Only a single thread will be used.\n",
      "  warnings.warn(\n"
     ]
    }
   ],
   "source": [
    "import os\n",
    "import pandas as pd\n",
    "import numpy as np\n",
    "from time import time\n",
    "from tqdm.notebook import tqdm\n",
    "import pickle\n",
    "\n",
    "from scipy.sparse import coo_matrix, csr_matrix\n",
    "\n",
    "from lightfm.cross_validation import random_train_test_split\n",
    "from lightfm import LightFM\n",
    "from lightfm.datasets import fetch_movielens\n",
    "from lightfm.evaluation import precision_at_k, auc_score, recall_at_k\n",
    "\n",
    "from hyperopt import fmin, hp, tpe, Trials"
   ]
  },
  {
   "cell_type": "code",
   "execution_count": 2,
   "id": "3397d437",
   "metadata": {},
   "outputs": [],
   "source": [
    "item_features = pd.read_csv(\"dataset/item_features.csv\", index_col=0, encoding=\"UTF-8\")\n",
    "user_features = pd.read_csv(\"dataset/user_features.csv\", index_col=0, encoding=\"UTF-8\")\n",
    "rating = pd.read_csv(\"dataset/rating.csv\", index_col=0, encoding=\"UTF-8\")\n",
    "whisky = pd.read_csv(\"dataset/whisky.csv\", index_col=0, encoding=\"UTF-8\")"
   ]
  },
  {
   "cell_type": "code",
   "execution_count": 3,
   "id": "ffb2c5f6",
   "metadata": {},
   "outputs": [],
   "source": [
    "item_features = csr_matrix(item_features)\n",
    "user_features = csr_matrix(user_features)"
   ]
  },
  {
   "cell_type": "code",
   "execution_count": 8,
   "id": "8799f9ef",
   "metadata": {},
   "outputs": [
    {
     "name": "stdout",
     "output_type": "stream",
     "text": [
      "  (0, 0)\t5\n",
      "  (0, 1)\t30\n",
      "  (0, 2)\t85\n",
      "  (0, 3)\t50\n",
      "  (0, 4)\t30\n",
      "  (0, 5)\t20\n",
      "  (0, 6)\t80\n",
      "  (0, 7)\t80\n",
      "  (0, 8)\t85\n",
      "  (0, 9)\t15\n",
      "  (0, 10)\t20\n",
      "  (0, 11)\t25\n",
      "  (0, 12)\t85\n",
      "  (0, 13)\t50\n",
      "  (1, 0)\t5\n",
      "  (1, 1)\t30\n",
      "  (1, 3)\t40\n",
      "  (1, 4)\t10\n",
      "  (1, 5)\t30\n",
      "  (1, 6)\t70\n",
      "  (1, 7)\t80\n",
      "  (1, 8)\t80\n",
      "  (1, 9)\t10\n",
      "  (1, 10)\t60\n",
      "  (1, 11)\t20\n",
      "  :\t:\n",
      "  (119512, 7)\t40\n",
      "  (119512, 8)\t100\n",
      "  (119512, 10)\t55\n",
      "  (119512, 12)\t30\n",
      "  (119512, 13)\t10\n",
      "  (119513, 0)\t1\n",
      "  (119513, 1)\t31\n",
      "  (119513, 3)\t40\n",
      "  (119513, 4)\t29\n",
      "  (119513, 6)\t30\n",
      "  (119513, 7)\t40\n",
      "  (119513, 8)\t100\n",
      "  (119513, 10)\t55\n",
      "  (119513, 12)\t30\n",
      "  (119513, 13)\t10\n",
      "  (119514, 0)\t1\n",
      "  (119514, 1)\t31\n",
      "  (119514, 3)\t40\n",
      "  (119514, 4)\t29\n",
      "  (119514, 6)\t30\n",
      "  (119514, 7)\t40\n",
      "  (119514, 8)\t100\n",
      "  (119514, 10)\t55\n",
      "  (119514, 12)\t30\n",
      "  (119514, 13)\t10\n"
     ]
    }
   ],
   "source": [
    "print(user_features)"
   ]
  },
  {
   "cell_type": "code",
   "execution_count": 9,
   "id": "a94bde6c",
   "metadata": {},
   "outputs": [],
   "source": [
    "unique_user = rating[\"user_id\"].unique()"
   ]
  },
  {
   "cell_type": "code",
   "execution_count": 10,
   "id": "12ca25f5",
   "metadata": {},
   "outputs": [
    {
     "data": {
      "text/plain": [
       "array([     0,      1,      2, ..., 119512, 119513, 119514], dtype=int64)"
      ]
     },
     "execution_count": 10,
     "metadata": {},
     "output_type": "execute_result"
    }
   ],
   "source": [
    "unique_user"
   ]
  },
  {
   "cell_type": "code",
   "execution_count": null,
   "id": "3ea9655d",
   "metadata": {},
   "outputs": [],
   "source": [
    "rating.groupby()"
   ]
  },
  {
   "cell_type": "code",
   "execution_count": null,
   "id": "a193cb67",
   "metadata": {},
   "outputs": [],
   "source": []
  },
  {
   "cell_type": "markdown",
   "id": "07d49b19",
   "metadata": {},
   "source": [
    "### make Interactions "
   ]
  },
  {
   "cell_type": "code",
   "execution_count": 11,
   "id": "17e2c250",
   "metadata": {},
   "outputs": [
    {
     "data": {
      "text/plain": [
       "(908176, 3)"
      ]
     },
     "execution_count": 11,
     "metadata": {},
     "output_type": "execute_result"
    }
   ],
   "source": [
    "rating.shape"
   ]
  },
  {
   "cell_type": "code",
   "execution_count": 12,
   "id": "d4092a72",
   "metadata": {},
   "outputs": [],
   "source": [
    "def create_user_item_interactions(rating, n_users, n_items):\n",
    "    interactions = coo_matrix(\n",
    "        (\n",
    "            rating['rating'].values,\n",
    "            (rating['user_id'].values, rating[\"whisky_id\"].values)\n",
    "        ),\n",
    "        shape=(n_users, n_items)\n",
    "    )\n",
    "    return interactions"
   ]
  },
  {
   "cell_type": "code",
   "execution_count": 13,
   "id": "ff1dbe03",
   "metadata": {},
   "outputs": [],
   "source": [
    "interactions = create_user_item_interactions(rating, rating[\"user_id\"].nunique(), whisky[\"whisky_id\"].nunique())"
   ]
  },
  {
   "cell_type": "code",
   "execution_count": 14,
   "id": "0aeaba0b",
   "metadata": {},
   "outputs": [
    {
     "name": "stdout",
     "output_type": "stream",
     "text": [
      "  (0, 0)\t9.0\n",
      "  (1, 0)\t7.0\n",
      "  (2, 0)\t9.0\n",
      "  (3, 0)\t10.0\n",
      "  (4, 0)\t9.0\n",
      "  (5, 0)\t7.0\n",
      "  (6, 0)\t10.0\n",
      "  (7, 0)\t7.0\n",
      "  (8, 0)\t10.0\n",
      "  (9, 0)\t10.0\n",
      "  (10, 0)\t9.0\n",
      "  (11, 0)\t9.0\n",
      "  (12, 0)\t8.0\n",
      "  (13, 0)\t8.0\n",
      "  (14, 0)\t10.0\n",
      "  (15, 0)\t10.0\n",
      "  (16, 0)\t9.0\n",
      "  (17, 0)\t9.0\n",
      "  (18, 0)\t8.0\n",
      "  (19, 0)\t9.0\n",
      "  (20, 0)\t9.0\n",
      "  (21, 0)\t10.0\n",
      "  (22, 0)\t9.0\n",
      "  (23, 0)\t9.0\n",
      "  (24, 0)\t9.0\n",
      "  :\t:\n",
      "  (7636, 3531)\t4.0\n",
      "  (56292, 3531)\t2.0\n",
      "  (2670, 3531)\t2.0\n",
      "  (786, 3531)\t2.0\n",
      "  (5942, 3531)\t6.0\n",
      "  (15561, 3531)\t2.0\n",
      "  (25623, 3532)\t6.0\n",
      "  (2885, 3532)\t6.0\n",
      "  (7368, 3533)\t2.0\n",
      "  (69554, 3534)\t10.0\n",
      "  (4484, 3534)\t2.0\n",
      "  (85727, 3534)\t5.0\n",
      "  (43900, 3534)\t4.0\n",
      "  (16070, 3534)\t8.0\n",
      "  (29998, 3534)\t8.0\n",
      "  (7895, 3534)\t4.0\n",
      "  (104052, 3534)\t5.0\n",
      "  (31152, 3534)\t2.0\n",
      "  (119512, 3534)\t6.0\n",
      "  (2509, 3534)\t4.0\n",
      "  (4828, 3534)\t4.0\n",
      "  (119513, 3534)\t2.0\n",
      "  (119514, 3534)\t8.0\n",
      "  (3123, 3534)\t4.0\n",
      "  (95648, 3534)\t2.0\n"
     ]
    },
    {
     "data": {
      "text/plain": [
       "<119515x3535 sparse matrix of type '<class 'numpy.float64'>'\n",
       "\twith 908176 stored elements in COOrdinate format>"
      ]
     },
     "execution_count": 14,
     "metadata": {},
     "output_type": "execute_result"
    }
   ],
   "source": [
    "print(interactions)\n",
    "interactions"
   ]
  },
  {
   "cell_type": "markdown",
   "id": "60b46c26",
   "metadata": {},
   "source": [
    "#### Train_Test data split"
   ]
  },
  {
   "cell_type": "code",
   "execution_count": null,
   "id": "31688268",
   "metadata": {},
   "outputs": [],
   "source": []
  },
  {
   "cell_type": "code",
   "execution_count": 15,
   "id": "25e7f621",
   "metadata": {},
   "outputs": [],
   "source": [
    "train_interactions, test_interactions = random_train_test_split(interactions, test_percentage=0.2, random_state=42)"
   ]
  },
  {
   "cell_type": "code",
   "execution_count": 13,
   "id": "d1b0c888",
   "metadata": {},
   "outputs": [],
   "source": [
    "train_interactions, valid_interactions = random_train_test_split(train_interactions, test_percentage=0.2, random_state=42)"
   ]
  },
  {
   "cell_type": "markdown",
   "id": "c52f76d4",
   "metadata": {},
   "source": [
    "### Hyper Parameter Optimization by using HyperOPT"
   ]
  },
  {
   "cell_type": "code",
   "execution_count": null,
   "id": "1435cbde",
   "metadata": {},
   "outputs": [],
   "source": []
  },
  {
   "cell_type": "code",
   "execution_count": 10,
   "id": "f7ee75ca",
   "metadata": {},
   "outputs": [],
   "source": [
    "trials = Trials()\n",
    "space = [\n",
    "    hp.choice('no_components', range(10,100,10)),\n",
    "    hp.uniform('learning_rate', 0.01, 0.05),\n",
    "    hp.uniform('item_alpha', 1e-05, 5e-05),\n",
    "]"
   ]
  },
  {
   "cell_type": "code",
   "execution_count": 17,
   "id": "e5f4e3a5",
   "metadata": {},
   "outputs": [],
   "source": [
    "def objective(params):\n",
    "    no_components, learning_rate, item_alpha = params\n",
    "\n",
    "    model = LightFM(no_components=no_components,\n",
    "                    learning_schedule='adagrad',\n",
    "                    loss='warp',\n",
    "                    learning_rate=learning_rate,\n",
    "                    item_alpha=item_alpha,\n",
    "                    random_state=0)\n",
    "\n",
    "    model.fit(interactions=train_interactions,\n",
    "              user_features=user_features,\n",
    "              item_features=item_features,\n",
    "              epochs=5,\n",
    "              verbose=True)\n",
    "\n",
    "    test_precision = precision_at_k(model, valid_interactions, k=10, item_features=item_features, user_features=user_features).mean()\n",
    "    test_recall = recall_at_k(model, valid_interactions, k=10, item_features=item_features, user_features=user_features).mean()\n",
    "    test_auc = auc_score(model, valid_interactions, item_features=item_features, user_features=user_features).mean()\n",
    "    \n",
    "    print(\"no_comp: {}, lrn_rate: {:.5f}, item_alpha: {:.5f}, precision: {:.5f}, recall: {:.5f}, auc_score: {:.5f}\".format(\n",
    "      no_components, learning_rate, item_alpha, test_precision, test_recall, test_auc))\n",
    "    output = -test_auc\n",
    "\n",
    "\n",
    "    return output"
   ]
  },
  {
   "cell_type": "code",
   "execution_count": null,
   "id": "a5b0e68e",
   "metadata": {},
   "outputs": [
    {
     "name": "stdout",
     "output_type": "stream",
     "text": [
      "\r",
      "  0%|                                                                           | 0/10 [00:00<?, ?trial/s, best loss=?]"
     ]
    },
    {
     "name": "stderr",
     "output_type": "stream",
     "text": [
      "Epoch:   0%|                                                                                     | 0/5 [00:00<?, ?it/s]\n",
      "\u001b[A\n",
      "Epoch:  20%|###############4                                                             | 1/5 [00:55<03:42, 55.65s/it]\n",
      "\u001b[A\n",
      "Epoch:  40%|##############################8                                              | 2/5 [01:49<02:44, 54.80s/it]\n",
      "\u001b[A\n",
      "Epoch:  60%|##############################################1                              | 3/5 [02:44<01:49, 54.56s/it]\n",
      "\u001b[A\n",
      "Epoch:  80%|#############################################################6               | 4/5 [03:38<00:54, 54.56s/it]\n",
      "\u001b[A\n",
      "Epoch: 100%|#############################################################################| 5/5 [04:36<00:00, 55.74s/it]\n",
      "\u001b[A\n",
      "Epoch: 100%|#############################################################################| 5/5 [04:36<00:00, 55.31s/it]\n"
     ]
    },
    {
     "name": "stdout",
     "output_type": "stream",
     "text": [
      "no_comp: 70, lrn_rate: 0.01352, item_alpha: 0.00002, precision: 0.00013, recall: 0.00038, auc_score: 0.36489           \n",
      " 10%|████▌                                        | 1/10 [08:58<1:20:44, 538.23s/trial, best loss: -0.3648923337459564]"
     ]
    },
    {
     "name": "stderr",
     "output_type": "stream",
     "text": [
      "Epoch:   0%|                                                                                     | 0/5 [00:00<?, ?it/s]\n",
      "\u001b[A\n",
      "Epoch:  20%|###############4                                                             | 1/5 [01:10<04:41, 70.27s/it]\n",
      "\u001b[A\n",
      "Epoch:  40%|##############################8                                              | 2/5 [02:22<03:33, 71.30s/it]\n",
      "\u001b[A\n",
      "Epoch:  60%|##############################################1                              | 3/5 [03:34<02:23, 71.77s/it]\n",
      "\u001b[A\n",
      "Epoch:  80%|#############################################################6               | 4/5 [04:49<01:12, 72.87s/it]\n",
      "\u001b[A\n",
      "Epoch: 100%|#############################################################################| 5/5 [06:01<00:00, 72.57s/it]\n",
      "\u001b[A\n",
      "Epoch: 100%|#############################################################################| 5/5 [06:01<00:00, 72.24s/it]\n"
     ]
    },
    {
     "name": "stdout",
     "output_type": "stream",
     "text": [
      "no_comp: 90, lrn_rate: 0.02640, item_alpha: 0.00003, precision: 0.00017, recall: 0.00045, auc_score: 0.37131           \n",
      " 20%|█████████                                    | 2/10 [20:49<1:25:21, 640.23s/trial, best loss: -0.3713105320930481]"
     ]
    },
    {
     "name": "stderr",
     "output_type": "stream",
     "text": [
      "Epoch:   0%|                                                                                     | 0/5 [00:00<?, ?it/s]\n",
      "\u001b[A\n",
      "Epoch:  20%|###############4                                                             | 1/5 [00:44<02:59, 44.76s/it]\n",
      "\u001b[A\n",
      "Epoch:  40%|##############################8                                              | 2/5 [01:26<02:09, 43.19s/it]\n",
      "\u001b[A\n",
      "Epoch:  60%|##############################################1                              | 3/5 [02:10<01:27, 43.55s/it]\n",
      "\u001b[A\n",
      "Epoch:  80%|#############################################################6               | 4/5 [02:54<00:43, 43.45s/it]\n",
      "\u001b[A\n",
      "Epoch: 100%|#############################################################################| 5/5 [03:38<00:00, 43.73s/it]\n",
      "\u001b[A\n",
      "Epoch: 100%|#############################################################################| 5/5 [03:38<00:00, 43.67s/it]\n"
     ]
    }
   ],
   "source": [
    "best_params = fmin(fn=objective, space=space, algo=tpe.suggest, max_evals=10, trials=trials)\n",
    "\n",
    "best_params"
   ]
  },
  {
   "cell_type": "code",
   "execution_count": 16,
   "id": "4e52981b",
   "metadata": {},
   "outputs": [],
   "source": [
    "model = LightFM(no_components=40,\n",
    "                learning_schedule='adagrad',\n",
    "                loss='warp',\n",
    "                learning_rate=0.011370592645615374,\n",
    "                item_alpha=1.975734039413079e-05,\n",
    "                random_state=42)"
   ]
  },
  {
   "cell_type": "code",
   "execution_count": 21,
   "id": "4d790da9",
   "metadata": {},
   "outputs": [
    {
     "data": {
      "text/plain": [
       "(119515, 14)"
      ]
     },
     "execution_count": 21,
     "metadata": {},
     "output_type": "execute_result"
    }
   ],
   "source": [
    "user_features.shape"
   ]
  },
  {
   "cell_type": "code",
   "execution_count": null,
   "id": "282aec70",
   "metadata": {},
   "outputs": [],
   "source": []
  },
  {
   "cell_type": "code",
   "execution_count": 23,
   "id": "38d3e4a4",
   "metadata": {
    "scrolled": true
   },
   "outputs": [
    {
     "name": "stderr",
     "output_type": "stream",
     "text": [
      "Epoch: 100%|███████████████████████████████████████████████████████████████████████████| 10/10 [06:30<00:00, 39.00s/it]"
     ]
    },
    {
     "name": "stdout",
     "output_type": "stream",
     "text": [
      "CPU times: total: 6min 27s\n",
      "Wall time: 6min 30s\n"
     ]
    },
    {
     "name": "stderr",
     "output_type": "stream",
     "text": [
      "\n"
     ]
    },
    {
     "data": {
      "text/plain": [
       "<lightfm.lightfm.LightFM at 0x245c12d6d60>"
      ]
     },
     "execution_count": 23,
     "metadata": {},
     "output_type": "execute_result"
    }
   ],
   "source": [
    "%time model.fit(interactions=train_interactions, user_features=user_features, item_features=item_features, epochs=10, verbose=True)"
   ]
  },
  {
   "cell_type": "markdown",
   "id": "2295ccab",
   "metadata": {},
   "source": [
    "#### Evaluation"
   ]
  },
  {
   "cell_type": "code",
   "execution_count": null,
   "id": "cf458e7b",
   "metadata": {},
   "outputs": [],
   "source": []
  },
  {
   "cell_type": "code",
   "execution_count": null,
   "id": "26125cb8",
   "metadata": {},
   "outputs": [],
   "source": [
    "# Load the saved model\n",
    "with open('origin_user_rating_model.pkl', 'rb') as f:\n",
    "    model = pickle.load(f)"
   ]
  },
  {
   "cell_type": "code",
   "execution_count": null,
   "id": "e24f8846",
   "metadata": {},
   "outputs": [],
   "source": []
  },
  {
   "cell_type": "code",
   "execution_count": 26,
   "id": "68d4ce69",
   "metadata": {},
   "outputs": [
    {
     "name": "stdout",
     "output_type": "stream",
     "text": [
      "Train precision: 0.00065\n",
      "Test precision: 0.00027\n"
     ]
    }
   ],
   "source": [
    "print(\"Train precision: %.5f\" % precision_at_k(model, train_interactions, user_features=user_features, item_features=item_features, k=9).mean())\n",
    "print(\"Test precision: %.5f\" % precision_at_k(model, test_interactions,  user_features=user_features, item_features=item_features, k=9).mean())"
   ]
  },
  {
   "cell_type": "code",
   "execution_count": 27,
   "id": "aa7cc5f4",
   "metadata": {},
   "outputs": [
    {
     "name": "stdout",
     "output_type": "stream",
     "text": [
      "0.44155654\n"
     ]
    }
   ],
   "source": [
    "test_auc = auc_score(model, test_interactions, user_features=user_features, item_features=item_features).mean()\n",
    "print(test_auc)"
   ]
  },
  {
   "cell_type": "markdown",
   "id": "8f62a731",
   "metadata": {},
   "source": [
    "#### save"
   ]
  },
  {
   "cell_type": "code",
   "execution_count": null,
   "id": "cdaa34ba",
   "metadata": {},
   "outputs": [],
   "source": [
    "# save the model to a file\n",
    "with open('origin_user_rating_model.pkl', 'wb') as f:\n",
    "    pickle.dump(model, f)"
   ]
  },
  {
   "cell_type": "code",
   "execution_count": null,
   "id": "c688120c",
   "metadata": {},
   "outputs": [],
   "source": []
  },
  {
   "cell_type": "code",
   "execution_count": null,
   "id": "fd341b55",
   "metadata": {},
   "outputs": [],
   "source": []
  },
  {
   "cell_type": "code",
   "execution_count": null,
   "id": "bef926cd",
   "metadata": {},
   "outputs": [],
   "source": []
  },
  {
   "cell_type": "code",
   "execution_count": 28,
   "id": "b823cae8",
   "metadata": {},
   "outputs": [],
   "source": [
    "model2 = LightFM(no_components=20,\n",
    "                learning_schedule='adagrad',\n",
    "                loss='warp',\n",
    "                learning_rate=0.011370592645615374,\n",
    "                item_alpha=1.975734039413079e-05,\n",
    "                random_state=42)"
   ]
  },
  {
   "cell_type": "code",
   "execution_count": 29,
   "id": "ffcf7551",
   "metadata": {},
   "outputs": [
    {
     "name": "stderr",
     "output_type": "stream",
     "text": [
      "Epoch: 100%|███████████████████████████████████████████████████████████████████████████| 10/10 [03:11<00:00, 19.14s/it]"
     ]
    },
    {
     "name": "stdout",
     "output_type": "stream",
     "text": [
      "CPU times: total: 3min 11s\n",
      "Wall time: 3min 11s\n"
     ]
    },
    {
     "name": "stderr",
     "output_type": "stream",
     "text": [
      "\n"
     ]
    },
    {
     "data": {
      "text/plain": [
       "<lightfm.lightfm.LightFM at 0x245ca0fdfa0>"
      ]
     },
     "execution_count": 29,
     "metadata": {},
     "output_type": "execute_result"
    }
   ],
   "source": [
    "%time model2.fit(interactions=train_interactions, user_features=user_features, item_features=item_features, epochs=10, verbose=True)"
   ]
  },
  {
   "cell_type": "code",
   "execution_count": 30,
   "id": "27a96885",
   "metadata": {},
   "outputs": [
    {
     "name": "stdout",
     "output_type": "stream",
     "text": [
      "Train precision: 0.00098\n",
      "Test precision: 0.00043\n"
     ]
    }
   ],
   "source": [
    "print(\"Train precision: %.5f\" % precision_at_k(model2, train_interactions, user_features=user_features, item_features=item_features, k=9).mean())\n",
    "print(\"Test precision: %.5f\" % precision_at_k(model2, test_interactions,  user_features=user_features, item_features=item_features, k=9).mean())"
   ]
  },
  {
   "cell_type": "code",
   "execution_count": 31,
   "id": "9649ff28",
   "metadata": {},
   "outputs": [
    {
     "name": "stdout",
     "output_type": "stream",
     "text": [
      "0.46701562\n"
     ]
    }
   ],
   "source": [
    "test_auc = auc_score(model2, test_interactions, user_features=user_features, item_features=item_features).mean()\n",
    "print(test_auc)"
   ]
  },
  {
   "cell_type": "code",
   "execution_count": null,
   "id": "2e9c2b56",
   "metadata": {},
   "outputs": [],
   "source": []
  },
  {
   "cell_type": "code",
   "execution_count": null,
   "id": "adda23c5",
   "metadata": {},
   "outputs": [],
   "source": []
  },
  {
   "cell_type": "code",
   "execution_count": 32,
   "id": "b89b2d11",
   "metadata": {},
   "outputs": [],
   "source": [
    "model3 = LightFM(no_components=10,\n",
    "                learning_schedule='adagrad',\n",
    "                loss='warp',\n",
    "                learning_rate=0.011370592645615374,\n",
    "                item_alpha=1.975734039413079e-05,\n",
    "                random_state=42)"
   ]
  },
  {
   "cell_type": "code",
   "execution_count": 33,
   "id": "84036d0c",
   "metadata": {},
   "outputs": [
    {
     "name": "stderr",
     "output_type": "stream",
     "text": [
      "Epoch: 100%|███████████████████████████████████████████████████████████████████████████| 10/10 [01:40<00:00, 10.02s/it]"
     ]
    },
    {
     "name": "stdout",
     "output_type": "stream",
     "text": [
      "CPU times: total: 1min 40s\n",
      "Wall time: 1min 40s\n"
     ]
    },
    {
     "name": "stderr",
     "output_type": "stream",
     "text": [
      "\n"
     ]
    },
    {
     "data": {
      "text/plain": [
       "<lightfm.lightfm.LightFM at 0x245ca0fd070>"
      ]
     },
     "execution_count": 33,
     "metadata": {},
     "output_type": "execute_result"
    }
   ],
   "source": [
    "%time model3.fit(interactions=train_interactions, user_features=user_features, item_features=item_features, epochs=10, verbose=True)"
   ]
  },
  {
   "cell_type": "code",
   "execution_count": 34,
   "id": "32a86731",
   "metadata": {},
   "outputs": [
    {
     "name": "stdout",
     "output_type": "stream",
     "text": [
      "Train precision: 0.00046\n",
      "Test precision: 0.00022\n"
     ]
    }
   ],
   "source": [
    "print(\"Train precision: %.5f\" % precision_at_k(model3, train_interactions, user_features=user_features, item_features=item_features, k=9).mean())\n",
    "print(\"Test precision: %.5f\" % precision_at_k(model3, test_interactions,  user_features=user_features, item_features=item_features, k=9).mean())"
   ]
  },
  {
   "cell_type": "code",
   "execution_count": 35,
   "id": "8c9e97cc",
   "metadata": {},
   "outputs": [
    {
     "name": "stdout",
     "output_type": "stream",
     "text": [
      "0.5863698\n"
     ]
    }
   ],
   "source": [
    "test_auc = auc_score(model3, test_interactions, user_features=user_features, item_features=item_features).mean()\n",
    "print(test_auc)"
   ]
  },
  {
   "cell_type": "code",
   "execution_count": null,
   "id": "57357ec9",
   "metadata": {},
   "outputs": [],
   "source": []
  },
  {
   "cell_type": "code",
   "execution_count": null,
   "id": "3a75841d",
   "metadata": {},
   "outputs": [],
   "source": []
  },
  {
   "cell_type": "code",
   "execution_count": null,
   "id": "f9db821e",
   "metadata": {},
   "outputs": [],
   "source": []
  },
  {
   "cell_type": "code",
   "execution_count": null,
   "id": "cffd5d25",
   "metadata": {},
   "outputs": [],
   "source": []
  },
  {
   "cell_type": "code",
   "execution_count": null,
   "id": "1a0488d5",
   "metadata": {},
   "outputs": [],
   "source": []
  },
  {
   "cell_type": "code",
   "execution_count": null,
   "id": "8970e428",
   "metadata": {},
   "outputs": [],
   "source": []
  }
 ],
 "metadata": {
  "kernelspec": {
   "display_name": "Python 3 (ipykernel)",
   "language": "python",
   "name": "python3"
  },
  "language_info": {
   "codemirror_mode": {
    "name": "ipython",
    "version": 3
   },
   "file_extension": ".py",
   "mimetype": "text/x-python",
   "name": "python",
   "nbconvert_exporter": "python",
   "pygments_lexer": "ipython3",
   "version": "3.9.16"
  }
 },
 "nbformat": 4,
 "nbformat_minor": 5
}
