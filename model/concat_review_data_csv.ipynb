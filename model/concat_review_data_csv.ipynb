{
 "cells": [
  {
   "cell_type": "markdown",
   "id": "52bfeb48",
   "metadata": {},
   "source": [
    "## CSV 파일 합치기\n",
    "---\n",
    "- 크롤링에 성공한 리뷰 데이터를 합치기 위한 코드입니다."
   ]
  },
  {
   "cell_type": "code",
   "execution_count": 1,
   "id": "a3af5400",
   "metadata": {},
   "outputs": [],
   "source": [
    "import os\n",
    "import pandas as pd"
   ]
  },
  {
   "cell_type": "markdown",
   "id": "09931e51",
   "metadata": {},
   "source": [
    "#### load data files"
   ]
  },
  {
   "cell_type": "code",
   "execution_count": 7,
   "id": "ed0a0604",
   "metadata": {},
   "outputs": [],
   "source": [
    "data1 = pd.read_csv(os.getcwd()+\"\\\\dataset\\\\rating\\\\user_whisky_rating_{}_{}.csv\".format(2750, 2858), index_col = 0)\n",
    "data2 = pd.read_csv(os.getcwd()+\"\\\\dataset\\\\rating\\\\user_whisky_rating_{}_{}.csv\".format(2858, 2900), index_col = 0)\n",
    "data3 = pd.read_csv(os.getcwd()+\"\\\\dataset\\\\rating\\\\user_whisky_rating_{}_{}.csv\".format(2900, 3100), index_col = 0)\n",
    "data4 = pd.read_csv(os.getcwd()+\"\\\\dataset\\\\rating\\\\user_whisky_rating_{}_{}.csv\".format(3100, 3300), index_col = 0)\n",
    "data5 = pd.read_csv(os.getcwd()+\"\\\\dataset\\\\rating\\\\user_whisky_rating_{}_{}.csv\".format(3300, 3400), index_col = 0)\n",
    "data6 = pd.read_csv(os.getcwd()+\"\\\\dataset\\\\rating\\\\user_whisky_rating_{}_{}.csv\".format(3400, 3535), index_col = 0)"
   ]
  },
  {
   "cell_type": "markdown",
   "id": "25492b1d",
   "metadata": {},
   "source": [
    "#### concat files"
   ]
  },
  {
   "cell_type": "code",
   "execution_count": 8,
   "id": "9eb66aa0",
   "metadata": {},
   "outputs": [],
   "source": [
    "data = pd.concat([data1, data2, data3, data4, data5, data6])"
   ]
  },
  {
   "cell_type": "markdown",
   "id": "2dde5572",
   "metadata": {},
   "source": [
    "#### check info "
   ]
  },
  {
   "cell_type": "code",
   "execution_count": 11,
   "id": "d7d526d7",
   "metadata": {
    "scrolled": false
   },
   "outputs": [
    {
     "name": "stdout",
     "output_type": "stream",
     "text": [
      "<class 'pandas.core.frame.DataFrame'>\n",
      "Int64Index: 135608 entries, 0 to 11258\n",
      "Data columns (total 3 columns):\n",
      " #   Column       Non-Null Count   Dtype  \n",
      "---  ------       --------------   -----  \n",
      " 0   username     135608 non-null  object \n",
      " 1   whisky_name  135608 non-null  object \n",
      " 2   rating       132539 non-null  float64\n",
      "dtypes: float64(1), object(2)\n",
      "memory usage: 4.1+ MB\n"
     ]
    }
   ],
   "source": [
    "data.info()"
   ]
  },
  {
   "cell_type": "code",
   "execution_count": 12,
   "id": "1ff3b789",
   "metadata": {},
   "outputs": [],
   "source": [
    "first = 2750\n",
    "last = 3535"
   ]
  },
  {
   "cell_type": "code",
   "execution_count": 14,
   "id": "580c1719",
   "metadata": {},
   "outputs": [],
   "source": [
    "savePath = os.getcwd()+\"\\\\dataset\\\\rating\"\n",
    "data.to_csv(savePath+\"\\\\rating_{}_{}.csv\".format(first, last))"
   ]
  },
  {
   "cell_type": "code",
   "execution_count": null,
   "id": "7886be13",
   "metadata": {},
   "outputs": [],
   "source": []
  }
 ],
 "metadata": {
  "kernelspec": {
   "display_name": "Python 3 (ipykernel)",
   "language": "python",
   "name": "python3"
  },
  "language_info": {
   "codemirror_mode": {
    "name": "ipython",
    "version": 3
   },
   "file_extension": ".py",
   "mimetype": "text/x-python",
   "name": "python",
   "nbconvert_exporter": "python",
   "pygments_lexer": "ipython3",
   "version": "3.9.16"
  }
 },
 "nbformat": 4,
 "nbformat_minor": 5
}
