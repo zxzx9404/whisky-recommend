{
 "cells": [
  {
   "cell_type": "markdown",
   "id": "3145dbe5",
   "metadata": {},
   "source": [
    "# 🍸 Review Crawling \n",
    "---\n",
    "- 3535개의 위스키에 대한 약 90만건의 review data 존재합니다.\n",
    "- 이를 크롤링하기 위한 코드입니다.\n",
    "\n",
    "## 필요 라이브러리\n",
    "- bs4\n",
    "- requests\n",
    "- time\n",
    "- pandas\n",
    "- tqdm\n",
    "- re\n",
    "- json"
   ]
  },
  {
   "cell_type": "code",
   "execution_count": 1,
   "id": "5a0207dd",
   "metadata": {},
   "outputs": [],
   "source": [
    "from bs4 import BeautifulSoup\n",
    "import requests\n",
    "\n",
    "from selenium import webdriver\n",
    "from selenium.webdriver.common.keys import Keys\n",
    "from selenium.webdriver.support.ui import WebDriverWait\n",
    "from selenium.webdriver.support import expected_conditions as EC\n",
    "from selenium.webdriver.common.by import By\n",
    "\n",
    "import os\n",
    "import time as tt\n",
    "import pandas as pd\n",
    "from tqdm.notebook import tqdm\n",
    "import re\n",
    "\n",
    "import json\n",
    "import math"
   ]
  },
  {
   "cell_type": "markdown",
   "id": "1160a2ce",
   "metadata": {},
   "source": [
    "### whisy data 불러오기"
   ]
  },
  {
   "cell_type": "code",
   "execution_count": 2,
   "id": "ca43a35f",
   "metadata": {},
   "outputs": [
    {
     "data": {
      "text/html": [
       "<div>\n",
       "<style scoped>\n",
       "    .dataframe tbody tr th:only-of-type {\n",
       "        vertical-align: middle;\n",
       "    }\n",
       "\n",
       "    .dataframe tbody tr th {\n",
       "        vertical-align: top;\n",
       "    }\n",
       "\n",
       "    .dataframe thead th {\n",
       "        text-align: right;\n",
       "    }\n",
       "</style>\n",
       "<table border=\"1\" class=\"dataframe\">\n",
       "  <thead>\n",
       "    <tr style=\"text-align: right;\">\n",
       "      <th></th>\n",
       "      <th>link</th>\n",
       "      <th>image</th>\n",
       "      <th>name</th>\n",
       "      <th>avr_rating</th>\n",
       "      <th>category</th>\n",
       "      <th>location</th>\n",
       "      <th>total_rating</th>\n",
       "      <th>cost_rank</th>\n",
       "      <th>abv</th>\n",
       "      <th>cask_type</th>\n",
       "      <th>...</th>\n",
       "      <th>oily</th>\n",
       "      <th>full_bodied</th>\n",
       "      <th>rich</th>\n",
       "      <th>sweet</th>\n",
       "      <th>briny</th>\n",
       "      <th>salty</th>\n",
       "      <th>vanilla</th>\n",
       "      <th>tart</th>\n",
       "      <th>fruity</th>\n",
       "      <th>floral</th>\n",
       "    </tr>\n",
       "  </thead>\n",
       "  <tbody>\n",
       "    <tr>\n",
       "      <th>0</th>\n",
       "      <td>/spirits/hibiki-21-year</td>\n",
       "      <td>https://ip-distiller.imgix.net/images/spirits/...</td>\n",
       "      <td>Hibiki 21 Year</td>\n",
       "      <td>4.52</td>\n",
       "      <td>Blended</td>\n",
       "      <td>Japan</td>\n",
       "      <td>861</td>\n",
       "      <td>5</td>\n",
       "      <td>43.00</td>\n",
       "      <td>ex-bourbon American oak, ex-sherry European oa...</td>\n",
       "      <td>...</td>\n",
       "      <td>20</td>\n",
       "      <td>80</td>\n",
       "      <td>80</td>\n",
       "      <td>85</td>\n",
       "      <td>0</td>\n",
       "      <td>15</td>\n",
       "      <td>20</td>\n",
       "      <td>25</td>\n",
       "      <td>85</td>\n",
       "      <td>50</td>\n",
       "    </tr>\n",
       "    <tr>\n",
       "      <th>1</th>\n",
       "      <td>/spirits/highland-park-18</td>\n",
       "      <td>https://ip-distiller.imgix.net/images/spirits/...</td>\n",
       "      <td>Highland Park 18 Year</td>\n",
       "      <td>4.47</td>\n",
       "      <td>Peated Single Malt</td>\n",
       "      <td>Islands, Scotland</td>\n",
       "      <td>2987</td>\n",
       "      <td>4</td>\n",
       "      <td>43.00</td>\n",
       "      <td>ex-sherry</td>\n",
       "      <td>...</td>\n",
       "      <td>40</td>\n",
       "      <td>70</td>\n",
       "      <td>80</td>\n",
       "      <td>70</td>\n",
       "      <td>20</td>\n",
       "      <td>40</td>\n",
       "      <td>50</td>\n",
       "      <td>50</td>\n",
       "      <td>70</td>\n",
       "      <td>20</td>\n",
       "    </tr>\n",
       "    <tr>\n",
       "      <th>2</th>\n",
       "      <td>/spirits/michter-s-20-year-kentucky-straight-b...</td>\n",
       "      <td>https://ip-distiller.imgix.net/images/spirits/...</td>\n",
       "      <td>Michter's 20 Year Kentucky Straight Bourbon (2...</td>\n",
       "      <td>4.61</td>\n",
       "      <td>Bourbon</td>\n",
       "      <td>Kentucky, USA</td>\n",
       "      <td>10</td>\n",
       "      <td>5</td>\n",
       "      <td>57.10</td>\n",
       "      <td>new, charred American oak</td>\n",
       "      <td>...</td>\n",
       "      <td>15</td>\n",
       "      <td>80</td>\n",
       "      <td>90</td>\n",
       "      <td>85</td>\n",
       "      <td>0</td>\n",
       "      <td>5</td>\n",
       "      <td>30</td>\n",
       "      <td>25</td>\n",
       "      <td>35</td>\n",
       "      <td>0</td>\n",
       "    </tr>\n",
       "    <tr>\n",
       "      <th>3</th>\n",
       "      <td>/spirits/george-t-stagg-bourbon-fall-2019</td>\n",
       "      <td>https://ip-distiller.imgix.net/images/spirits/...</td>\n",
       "      <td>George T. Stagg Bourbon (Fall 2019)</td>\n",
       "      <td>4.61</td>\n",
       "      <td>Bourbon</td>\n",
       "      <td>Kentucky, USA</td>\n",
       "      <td>628</td>\n",
       "      <td>4</td>\n",
       "      <td>58.45</td>\n",
       "      <td>new, charred American oak</td>\n",
       "      <td>...</td>\n",
       "      <td>20</td>\n",
       "      <td>60</td>\n",
       "      <td>60</td>\n",
       "      <td>45</td>\n",
       "      <td>0</td>\n",
       "      <td>0</td>\n",
       "      <td>60</td>\n",
       "      <td>60</td>\n",
       "      <td>45</td>\n",
       "      <td>0</td>\n",
       "    </tr>\n",
       "    <tr>\n",
       "      <th>4</th>\n",
       "      <td>/spirits/bowmore-mizunara-cask-finish</td>\n",
       "      <td>https://ip-distiller.imgix.net/images/spirits/...</td>\n",
       "      <td>Bowmore Mizunara Cask Finish</td>\n",
       "      <td>4.08</td>\n",
       "      <td>Peated Single Malt</td>\n",
       "      <td>Islay, Scotland</td>\n",
       "      <td>22</td>\n",
       "      <td>5</td>\n",
       "      <td>53.90</td>\n",
       "      <td>ex-bourbon, ex-sherry, new Mizunara oak</td>\n",
       "      <td>...</td>\n",
       "      <td>10</td>\n",
       "      <td>75</td>\n",
       "      <td>75</td>\n",
       "      <td>60</td>\n",
       "      <td>15</td>\n",
       "      <td>20</td>\n",
       "      <td>30</td>\n",
       "      <td>20</td>\n",
       "      <td>50</td>\n",
       "      <td>5</td>\n",
       "    </tr>\n",
       "    <tr>\n",
       "      <th>...</th>\n",
       "      <td>...</td>\n",
       "      <td>...</td>\n",
       "      <td>...</td>\n",
       "      <td>...</td>\n",
       "      <td>...</td>\n",
       "      <td>...</td>\n",
       "      <td>...</td>\n",
       "      <td>...</td>\n",
       "      <td>...</td>\n",
       "      <td>...</td>\n",
       "      <td>...</td>\n",
       "      <td>...</td>\n",
       "      <td>...</td>\n",
       "      <td>...</td>\n",
       "      <td>...</td>\n",
       "      <td>...</td>\n",
       "      <td>...</td>\n",
       "      <td>...</td>\n",
       "      <td>...</td>\n",
       "      <td>...</td>\n",
       "      <td>...</td>\n",
       "    </tr>\n",
       "    <tr>\n",
       "      <th>3530</th>\n",
       "      <td>/spirits/wild-turkey-spiced</td>\n",
       "      <td>https://ip-distiller.imgix.net/images/spirits/...</td>\n",
       "      <td>Wild Turkey Spiced</td>\n",
       "      <td>3.00</td>\n",
       "      <td>Flavored Whiskey</td>\n",
       "      <td>Kentucky, USA</td>\n",
       "      <td>13</td>\n",
       "      <td>1</td>\n",
       "      <td>43.00</td>\n",
       "      <td>New, Charred American Oak</td>\n",
       "      <td>...</td>\n",
       "      <td>0</td>\n",
       "      <td>40</td>\n",
       "      <td>55</td>\n",
       "      <td>85</td>\n",
       "      <td>0</td>\n",
       "      <td>0</td>\n",
       "      <td>25</td>\n",
       "      <td>10</td>\n",
       "      <td>10</td>\n",
       "      <td>0</td>\n",
       "    </tr>\n",
       "    <tr>\n",
       "      <th>3531</th>\n",
       "      <td>/spirits/seagram-s-seven-crown-american-blende...</td>\n",
       "      <td>https://ip-distiller.imgix.net/images/spirits/...</td>\n",
       "      <td>Seagram's 7 Crown American Blended Whiskey</td>\n",
       "      <td>2.21</td>\n",
       "      <td>Blended American Whiskey</td>\n",
       "      <td>USA</td>\n",
       "      <td>237</td>\n",
       "      <td>1</td>\n",
       "      <td>40.00</td>\n",
       "      <td>oak</td>\n",
       "      <td>...</td>\n",
       "      <td>0</td>\n",
       "      <td>30</td>\n",
       "      <td>0</td>\n",
       "      <td>100</td>\n",
       "      <td>0</td>\n",
       "      <td>0</td>\n",
       "      <td>100</td>\n",
       "      <td>0</td>\n",
       "      <td>60</td>\n",
       "      <td>10</td>\n",
       "    </tr>\n",
       "    <tr>\n",
       "      <th>3532</th>\n",
       "      <td>/spirits/11-wells-single-malt-whiskey</td>\n",
       "      <td>https://ip-distiller.imgix.net/images/spirits/...</td>\n",
       "      <td>11 Wells Single Malt Whiskey</td>\n",
       "      <td>3.00</td>\n",
       "      <td>American Single Malt</td>\n",
       "      <td>Minnesota, USA</td>\n",
       "      <td>2</td>\n",
       "      <td>3</td>\n",
       "      <td>42.00</td>\n",
       "      <td>new, charred American oak</td>\n",
       "      <td>...</td>\n",
       "      <td>40</td>\n",
       "      <td>10</td>\n",
       "      <td>10</td>\n",
       "      <td>90</td>\n",
       "      <td>0</td>\n",
       "      <td>0</td>\n",
       "      <td>50</td>\n",
       "      <td>20</td>\n",
       "      <td>30</td>\n",
       "      <td>10</td>\n",
       "    </tr>\n",
       "    <tr>\n",
       "      <th>3533</th>\n",
       "      <td>/spirits/immortal-spirits-early-whiskey</td>\n",
       "      <td>https://ip-distiller.imgix.net/images/spirits/...</td>\n",
       "      <td>Immortal Spirits Early Whiskey</td>\n",
       "      <td>1.00</td>\n",
       "      <td>Other Whiskey</td>\n",
       "      <td>Oregon, USA</td>\n",
       "      <td>1</td>\n",
       "      <td>2</td>\n",
       "      <td>44.50</td>\n",
       "      <td>new, charred American oak</td>\n",
       "      <td>...</td>\n",
       "      <td>80</td>\n",
       "      <td>0</td>\n",
       "      <td>0</td>\n",
       "      <td>40</td>\n",
       "      <td>0</td>\n",
       "      <td>0</td>\n",
       "      <td>20</td>\n",
       "      <td>0</td>\n",
       "      <td>0</td>\n",
       "      <td>0</td>\n",
       "    </tr>\n",
       "    <tr>\n",
       "      <th>3534</th>\n",
       "      <td>/spirits/triple-crown-blended-whiskey</td>\n",
       "      <td>https://ip-distiller.imgix.net/images/spirits/...</td>\n",
       "      <td>Triple Crown Blended Whiskey</td>\n",
       "      <td>2.43</td>\n",
       "      <td>Blended American Whiskey</td>\n",
       "      <td>Missouri, USA</td>\n",
       "      <td>16</td>\n",
       "      <td>1</td>\n",
       "      <td>40.00</td>\n",
       "      <td>NaN</td>\n",
       "      <td>...</td>\n",
       "      <td>0</td>\n",
       "      <td>30</td>\n",
       "      <td>40</td>\n",
       "      <td>100</td>\n",
       "      <td>0</td>\n",
       "      <td>0</td>\n",
       "      <td>55</td>\n",
       "      <td>0</td>\n",
       "      <td>30</td>\n",
       "      <td>10</td>\n",
       "    </tr>\n",
       "  </tbody>\n",
       "</table>\n",
       "<p>3535 rows × 24 columns</p>\n",
       "</div>"
      ],
      "text/plain": [
       "                                                   link  \\\n",
       "0                               /spirits/hibiki-21-year   \n",
       "1                             /spirits/highland-park-18   \n",
       "2     /spirits/michter-s-20-year-kentucky-straight-b...   \n",
       "3             /spirits/george-t-stagg-bourbon-fall-2019   \n",
       "4                 /spirits/bowmore-mizunara-cask-finish   \n",
       "...                                                 ...   \n",
       "3530                        /spirits/wild-turkey-spiced   \n",
       "3531  /spirits/seagram-s-seven-crown-american-blende...   \n",
       "3532              /spirits/11-wells-single-malt-whiskey   \n",
       "3533            /spirits/immortal-spirits-early-whiskey   \n",
       "3534              /spirits/triple-crown-blended-whiskey   \n",
       "\n",
       "                                                  image  \\\n",
       "0     https://ip-distiller.imgix.net/images/spirits/...   \n",
       "1     https://ip-distiller.imgix.net/images/spirits/...   \n",
       "2     https://ip-distiller.imgix.net/images/spirits/...   \n",
       "3     https://ip-distiller.imgix.net/images/spirits/...   \n",
       "4     https://ip-distiller.imgix.net/images/spirits/...   \n",
       "...                                                 ...   \n",
       "3530  https://ip-distiller.imgix.net/images/spirits/...   \n",
       "3531  https://ip-distiller.imgix.net/images/spirits/...   \n",
       "3532  https://ip-distiller.imgix.net/images/spirits/...   \n",
       "3533  https://ip-distiller.imgix.net/images/spirits/...   \n",
       "3534  https://ip-distiller.imgix.net/images/spirits/...   \n",
       "\n",
       "                                                   name  avr_rating  \\\n",
       "0                                        Hibiki 21 Year        4.52   \n",
       "1                                 Highland Park 18 Year        4.47   \n",
       "2     Michter's 20 Year Kentucky Straight Bourbon (2...        4.61   \n",
       "3                   George T. Stagg Bourbon (Fall 2019)        4.61   \n",
       "4                          Bowmore Mizunara Cask Finish        4.08   \n",
       "...                                                 ...         ...   \n",
       "3530                                 Wild Turkey Spiced        3.00   \n",
       "3531         Seagram's 7 Crown American Blended Whiskey        2.21   \n",
       "3532                       11 Wells Single Malt Whiskey        3.00   \n",
       "3533                     Immortal Spirits Early Whiskey        1.00   \n",
       "3534                       Triple Crown Blended Whiskey        2.43   \n",
       "\n",
       "                      category           location  total_rating  cost_rank  \\\n",
       "0                      Blended              Japan           861          5   \n",
       "1           Peated Single Malt  Islands, Scotland          2987          4   \n",
       "2                      Bourbon      Kentucky, USA            10          5   \n",
       "3                      Bourbon      Kentucky, USA           628          4   \n",
       "4           Peated Single Malt    Islay, Scotland            22          5   \n",
       "...                        ...                ...           ...        ...   \n",
       "3530          Flavored Whiskey      Kentucky, USA            13          1   \n",
       "3531  Blended American Whiskey                USA           237          1   \n",
       "3532      American Single Malt     Minnesota, USA             2          3   \n",
       "3533             Other Whiskey        Oregon, USA             1          2   \n",
       "3534  Blended American Whiskey      Missouri, USA            16          1   \n",
       "\n",
       "        abv                                          cask_type  ...  oily  \\\n",
       "0     43.00  ex-bourbon American oak, ex-sherry European oa...  ...    20   \n",
       "1     43.00                                          ex-sherry  ...    40   \n",
       "2     57.10                          new, charred American oak  ...    15   \n",
       "3     58.45                          new, charred American oak  ...    20   \n",
       "4     53.90            ex-bourbon, ex-sherry, new Mizunara oak  ...    10   \n",
       "...     ...                                                ...  ...   ...   \n",
       "3530  43.00                          New, Charred American Oak  ...     0   \n",
       "3531  40.00                                                oak  ...     0   \n",
       "3532  42.00                          new, charred American oak  ...    40   \n",
       "3533  44.50                          new, charred American oak  ...    80   \n",
       "3534  40.00                                                NaN  ...     0   \n",
       "\n",
       "      full_bodied  rich  sweet  briny  salty  vanilla  tart  fruity  floral  \n",
       "0              80    80     85      0     15       20    25      85      50  \n",
       "1              70    80     70     20     40       50    50      70      20  \n",
       "2              80    90     85      0      5       30    25      35       0  \n",
       "3              60    60     45      0      0       60    60      45       0  \n",
       "4              75    75     60     15     20       30    20      50       5  \n",
       "...           ...   ...    ...    ...    ...      ...   ...     ...     ...  \n",
       "3530           40    55     85      0      0       25    10      10       0  \n",
       "3531           30     0    100      0      0      100     0      60      10  \n",
       "3532           10    10     90      0      0       50    20      30      10  \n",
       "3533            0     0     40      0      0       20     0       0       0  \n",
       "3534           30    40    100      0      0       55     0      30      10  \n",
       "\n",
       "[3535 rows x 24 columns]"
      ]
     },
     "execution_count": 2,
     "metadata": {},
     "output_type": "execute_result"
    }
   ],
   "source": [
    "path = os.getcwd()\n",
    "whiskies = pd.read_csv(path + \"\\\\dataset\\\\whisky.csv\", index_col = 0)\n",
    "whiskies"
   ]
  },
  {
   "cell_type": "markdown",
   "id": "2242c92a",
   "metadata": {},
   "source": [
    "## 크롤링은 할당량\n",
    "\n",
    "- 다운 : [0:550]\n",
    "- 창민 : [550:1100]\n",
    "- 지은 : [1100:1650]\n",
    "- 은성 : [1650:2200]\n",
    "- 예진 : [2200:2750]\n",
    "- 준현 : [2750:3535]\n",
    "\n",
    "### ✨ start와 end 값만 수정하시면 됩니다!!"
   ]
  },
  {
   "cell_type": "code",
   "execution_count": 6,
   "id": "dac406ff",
   "metadata": {},
   "outputs": [],
   "source": [
    "start = 3400\n",
    "end = 3535"
   ]
  },
  {
   "cell_type": "markdown",
   "id": "e85f8b17",
   "metadata": {},
   "source": [
    "### link 기반 크롤링 -> BeautifulSoup 사용\n",
    "\n",
    "https://distiller.com/spirits/william-larue-weller-bourbon-fall-2016/tastes?page=1"
   ]
  },
  {
   "cell_type": "code",
   "execution_count": 7,
   "id": "d5cebdbd",
   "metadata": {
    "scrolled": true
   },
   "outputs": [
    {
     "data": {
      "application/vnd.jupyter.widget-view+json": {
       "model_id": "09cb0c2c64d44a9498b73bdc5c95ee04",
       "version_major": 2,
       "version_minor": 0
      },
      "text/plain": [
       "outer: 0it [00:00, ?it/s]"
      ]
     },
     "metadata": {},
     "output_type": "display_data"
    },
    {
     "name": "stdout",
     "output_type": "stream",
     "text": [
      "====================================================================================================================================\n",
      "index : 3400 total_rating : 68 totalPage : 7\n"
     ]
    },
    {
     "data": {
      "application/vnd.jupyter.widget-view+json": {
       "model_id": "795ec38531c5456a96abd54fced690c7",
       "version_major": 2,
       "version_minor": 0
      },
      "text/plain": [
       "inner:   0%|          | 0/7 [00:00<?, ?it/s]"
      ]
     },
     "metadata": {},
     "output_type": "display_data"
    },
    {
     "name": "stdout",
     "output_type": "stream",
     "text": [
      "url : https://distiller.com/spirits/yellow-rose-blended-whiskey/tastes?page=1\n",
      "url : https://distiller.com/spirits/yellow-rose-blended-whiskey/tastes?page=2\n",
      "url : https://distiller.com/spirits/yellow-rose-blended-whiskey/tastes?page=3\n",
      "url : https://distiller.com/spirits/yellow-rose-blended-whiskey/tastes?page=4\n",
      "url : https://distiller.com/spirits/yellow-rose-blended-whiskey/tastes?page=5\n",
      "url : https://distiller.com/spirits/yellow-rose-blended-whiskey/tastes?page=6\n",
      "url : https://distiller.com/spirits/yellow-rose-blended-whiskey/tastes?page=7\n",
      "====================================================================================================================================\n",
      "index : 3401 total_rating : 194 totalPage : 20\n"
     ]
    },
    {
     "data": {
      "application/vnd.jupyter.widget-view+json": {
       "model_id": "9cf0a3b52b7d425782089a4dbe11acc7",
       "version_major": 2,
       "version_minor": 0
      },
      "text/plain": [
       "inner:   0%|          | 0/20 [00:00<?, ?it/s]"
      ]
     },
     "metadata": {},
     "output_type": "display_data"
    },
    {
     "name": "stdout",
     "output_type": "stream",
     "text": [
      "url : https://distiller.com/spirits/johnnie-walker-swing/tastes?page=1\n",
      "url : https://distiller.com/spirits/johnnie-walker-swing/tastes?page=2\n",
      "url : https://distiller.com/spirits/johnnie-walker-swing/tastes?page=3\n",
      "url : https://distiller.com/spirits/johnnie-walker-swing/tastes?page=4\n",
      "url : https://distiller.com/spirits/johnnie-walker-swing/tastes?page=5\n",
      "url : https://distiller.com/spirits/johnnie-walker-swing/tastes?page=6\n",
      "url : https://distiller.com/spirits/johnnie-walker-swing/tastes?page=7\n",
      "url : https://distiller.com/spirits/johnnie-walker-swing/tastes?page=8\n",
      "url : https://distiller.com/spirits/johnnie-walker-swing/tastes?page=9\n",
      "url : https://distiller.com/spirits/johnnie-walker-swing/tastes?page=10\n",
      "url : https://distiller.com/spirits/johnnie-walker-swing/tastes?page=11\n",
      "url : https://distiller.com/spirits/johnnie-walker-swing/tastes?page=12\n",
      "url : https://distiller.com/spirits/johnnie-walker-swing/tastes?page=13\n",
      "url : https://distiller.com/spirits/johnnie-walker-swing/tastes?page=14\n",
      "url : https://distiller.com/spirits/johnnie-walker-swing/tastes?page=15\n",
      "url : https://distiller.com/spirits/johnnie-walker-swing/tastes?page=16\n",
      "url : https://distiller.com/spirits/johnnie-walker-swing/tastes?page=17\n",
      "url : https://distiller.com/spirits/johnnie-walker-swing/tastes?page=18\n",
      "url : https://distiller.com/spirits/johnnie-walker-swing/tastes?page=19\n",
      "url : https://distiller.com/spirits/johnnie-walker-swing/tastes?page=20\n",
      "====================================================================================================================================\n",
      "index : 3402 total_rating : 571 totalPage : 58\n"
     ]
    },
    {
     "data": {
      "application/vnd.jupyter.widget-view+json": {
       "model_id": "2b8d49a9617a43129b12edb4cddfeef5",
       "version_major": 2,
       "version_minor": 0
      },
      "text/plain": [
       "inner:   0%|          | 0/58 [00:00<?, ?it/s]"
      ]
     },
     "metadata": {},
     "output_type": "display_data"
    },
    {
     "name": "stdout",
     "output_type": "stream",
     "text": [
      "url : https://distiller.com/spirits/johnnie-walker-white-walker/tastes?page=1\n",
      "url : https://distiller.com/spirits/johnnie-walker-white-walker/tastes?page=2\n",
      "url : https://distiller.com/spirits/johnnie-walker-white-walker/tastes?page=3\n",
      "url : https://distiller.com/spirits/johnnie-walker-white-walker/tastes?page=4\n",
      "url : https://distiller.com/spirits/johnnie-walker-white-walker/tastes?page=5\n",
      "url : https://distiller.com/spirits/johnnie-walker-white-walker/tastes?page=6\n",
      "url : https://distiller.com/spirits/johnnie-walker-white-walker/tastes?page=7\n",
      "url : https://distiller.com/spirits/johnnie-walker-white-walker/tastes?page=8\n",
      "url : https://distiller.com/spirits/johnnie-walker-white-walker/tastes?page=9\n",
      "url : https://distiller.com/spirits/johnnie-walker-white-walker/tastes?page=10\n",
      "url : https://distiller.com/spirits/johnnie-walker-white-walker/tastes?page=11\n",
      "url : https://distiller.com/spirits/johnnie-walker-white-walker/tastes?page=12\n",
      "url : https://distiller.com/spirits/johnnie-walker-white-walker/tastes?page=13\n",
      "url : https://distiller.com/spirits/johnnie-walker-white-walker/tastes?page=14\n",
      "url : https://distiller.com/spirits/johnnie-walker-white-walker/tastes?page=15\n",
      "url : https://distiller.com/spirits/johnnie-walker-white-walker/tastes?page=16\n",
      "url : https://distiller.com/spirits/johnnie-walker-white-walker/tastes?page=17\n",
      "url : https://distiller.com/spirits/johnnie-walker-white-walker/tastes?page=18\n",
      "url : https://distiller.com/spirits/johnnie-walker-white-walker/tastes?page=19\n",
      "url : https://distiller.com/spirits/johnnie-walker-white-walker/tastes?page=20\n",
      "url : https://distiller.com/spirits/johnnie-walker-white-walker/tastes?page=21\n",
      "url : https://distiller.com/spirits/johnnie-walker-white-walker/tastes?page=22\n",
      "url : https://distiller.com/spirits/johnnie-walker-white-walker/tastes?page=23\n",
      "url : https://distiller.com/spirits/johnnie-walker-white-walker/tastes?page=24\n",
      "url : https://distiller.com/spirits/johnnie-walker-white-walker/tastes?page=25\n",
      "url : https://distiller.com/spirits/johnnie-walker-white-walker/tastes?page=26\n",
      "url : https://distiller.com/spirits/johnnie-walker-white-walker/tastes?page=27\n",
      "url : https://distiller.com/spirits/johnnie-walker-white-walker/tastes?page=28\n",
      "url : https://distiller.com/spirits/johnnie-walker-white-walker/tastes?page=29\n",
      "url : https://distiller.com/spirits/johnnie-walker-white-walker/tastes?page=30\n",
      "url : https://distiller.com/spirits/johnnie-walker-white-walker/tastes?page=31\n",
      "url : https://distiller.com/spirits/johnnie-walker-white-walker/tastes?page=32\n",
      "url : https://distiller.com/spirits/johnnie-walker-white-walker/tastes?page=33\n",
      "url : https://distiller.com/spirits/johnnie-walker-white-walker/tastes?page=34\n",
      "url : https://distiller.com/spirits/johnnie-walker-white-walker/tastes?page=35\n",
      "url : https://distiller.com/spirits/johnnie-walker-white-walker/tastes?page=36\n",
      "url : https://distiller.com/spirits/johnnie-walker-white-walker/tastes?page=37\n",
      "url : https://distiller.com/spirits/johnnie-walker-white-walker/tastes?page=38\n",
      "url : https://distiller.com/spirits/johnnie-walker-white-walker/tastes?page=39\n",
      "url : https://distiller.com/spirits/johnnie-walker-white-walker/tastes?page=40\n",
      "url : https://distiller.com/spirits/johnnie-walker-white-walker/tastes?page=41\n",
      "url : https://distiller.com/spirits/johnnie-walker-white-walker/tastes?page=42\n",
      "url : https://distiller.com/spirits/johnnie-walker-white-walker/tastes?page=43\n",
      "url : https://distiller.com/spirits/johnnie-walker-white-walker/tastes?page=44\n",
      "url : https://distiller.com/spirits/johnnie-walker-white-walker/tastes?page=45\n",
      "url : https://distiller.com/spirits/johnnie-walker-white-walker/tastes?page=46\n",
      "url : https://distiller.com/spirits/johnnie-walker-white-walker/tastes?page=47\n",
      "url : https://distiller.com/spirits/johnnie-walker-white-walker/tastes?page=48\n",
      "url : https://distiller.com/spirits/johnnie-walker-white-walker/tastes?page=49\n",
      "url : https://distiller.com/spirits/johnnie-walker-white-walker/tastes?page=50\n",
      "url : https://distiller.com/spirits/johnnie-walker-white-walker/tastes?page=51\n",
      "url : https://distiller.com/spirits/johnnie-walker-white-walker/tastes?page=52\n",
      "url : https://distiller.com/spirits/johnnie-walker-white-walker/tastes?page=53\n",
      "url : https://distiller.com/spirits/johnnie-walker-white-walker/tastes?page=54\n",
      "url : https://distiller.com/spirits/johnnie-walker-white-walker/tastes?page=55\n",
      "url : https://distiller.com/spirits/johnnie-walker-white-walker/tastes?page=56\n",
      "url : https://distiller.com/spirits/johnnie-walker-white-walker/tastes?page=57\n",
      "url : https://distiller.com/spirits/johnnie-walker-white-walker/tastes?page=58\n",
      "====================================================================================================================================\n",
      "index : 3403 total_rating : 0 totalPage : 0\n"
     ]
    },
    {
     "data": {
      "application/vnd.jupyter.widget-view+json": {
       "model_id": "fc9b7b985920474eafd09b2d0c697aa8",
       "version_major": 2,
       "version_minor": 0
      },
      "text/plain": [
       "inner: 0it [00:00, ?it/s]"
      ]
     },
     "metadata": {},
     "output_type": "display_data"
    },
    {
     "name": "stdout",
     "output_type": "stream",
     "text": [
      "====================================================================================================================================\n",
      "index : 3404 total_rating : 6 totalPage : 1\n"
     ]
    },
    {
     "data": {
      "application/vnd.jupyter.widget-view+json": {
       "model_id": "95061f574fac45839f0f270a78165036",
       "version_major": 2,
       "version_minor": 0
      },
      "text/plain": [
       "inner:   0%|          | 0/1 [00:00<?, ?it/s]"
      ]
     },
     "metadata": {},
     "output_type": "display_data"
    },
    {
     "name": "stdout",
     "output_type": "stream",
     "text": [
      "url : https://distiller.com/spirits/kingsbarns-new-make-spirit/tastes?page=1\n",
      "====================================================================================================================================\n",
      "index : 3405 total_rating : 1 totalPage : 1\n"
     ]
    },
    {
     "data": {
      "application/vnd.jupyter.widget-view+json": {
       "model_id": "e87f240978e544798712b30389edcbe4",
       "version_major": 2,
       "version_minor": 0
      },
      "text/plain": [
       "inner:   0%|          | 0/1 [00:00<?, ?it/s]"
      ]
     },
     "metadata": {},
     "output_type": "display_data"
    },
    {
     "name": "stdout",
     "output_type": "stream",
     "text": [
      "url : https://distiller.com/spirits/delaware-phoenix-bourbon/tastes?page=1\n",
      "====================================================================================================================================\n",
      "index : 3406 total_rating : 15 totalPage : 2\n"
     ]
    },
    {
     "data": {
      "application/vnd.jupyter.widget-view+json": {
       "model_id": "a0d7bbc62a504573b907abe53ea0ed9a",
       "version_major": 2,
       "version_minor": 0
      },
      "text/plain": [
       "inner:   0%|          | 0/2 [00:00<?, ?it/s]"
      ]
     },
     "metadata": {},
     "output_type": "display_data"
    },
    {
     "name": "stdout",
     "output_type": "stream",
     "text": [
      "url : https://distiller.com/spirits/the-hilhaven-lodge-whiskey/tastes?page=1\n",
      "url : https://distiller.com/spirits/the-hilhaven-lodge-whiskey/tastes?page=2\n",
      "====================================================================================================================================\n",
      "index : 3407 total_rating : 59 totalPage : 6\n"
     ]
    },
    {
     "data": {
      "application/vnd.jupyter.widget-view+json": {
       "model_id": "5ead1a375bdf4796a9d65f02c8e50976",
       "version_major": 2,
       "version_minor": 0
      },
      "text/plain": [
       "inner:   0%|          | 0/6 [00:00<?, ?it/s]"
      ]
     },
     "metadata": {},
     "output_type": "display_data"
    },
    {
     "name": "stdout",
     "output_type": "stream",
     "text": [
      "url : https://distiller.com/spirits/mack-by-mackmyra/tastes?page=1\n",
      "url : https://distiller.com/spirits/mack-by-mackmyra/tastes?page=2\n",
      "url : https://distiller.com/spirits/mack-by-mackmyra/tastes?page=3\n",
      "url : https://distiller.com/spirits/mack-by-mackmyra/tastes?page=4\n",
      "url : https://distiller.com/spirits/mack-by-mackmyra/tastes?page=5\n",
      "url : https://distiller.com/spirits/mack-by-mackmyra/tastes?page=6\n",
      "====================================================================================================================================\n",
      "index : 3408 total_rating : 148 totalPage : 15\n"
     ]
    },
    {
     "data": {
      "application/vnd.jupyter.widget-view+json": {
       "model_id": "594aee5a3a5e4823beaa579af4d1e9b3",
       "version_major": 2,
       "version_minor": 0
      },
      "text/plain": [
       "inner:   0%|          | 0/15 [00:00<?, ?it/s]"
      ]
     },
     "metadata": {},
     "output_type": "display_data"
    },
    {
     "name": "stdout",
     "output_type": "stream",
     "text": [
      "url : https://distiller.com/spirits/the-dubliner-irish-whiskey/tastes?page=1\n",
      "url : https://distiller.com/spirits/the-dubliner-irish-whiskey/tastes?page=2\n",
      "url : https://distiller.com/spirits/the-dubliner-irish-whiskey/tastes?page=3\n",
      "url : https://distiller.com/spirits/the-dubliner-irish-whiskey/tastes?page=4\n",
      "url : https://distiller.com/spirits/the-dubliner-irish-whiskey/tastes?page=5\n",
      "url : https://distiller.com/spirits/the-dubliner-irish-whiskey/tastes?page=6\n",
      "url : https://distiller.com/spirits/the-dubliner-irish-whiskey/tastes?page=7\n",
      "url : https://distiller.com/spirits/the-dubliner-irish-whiskey/tastes?page=8\n",
      "url : https://distiller.com/spirits/the-dubliner-irish-whiskey/tastes?page=9\n",
      "url : https://distiller.com/spirits/the-dubliner-irish-whiskey/tastes?page=10\n",
      "url : https://distiller.com/spirits/the-dubliner-irish-whiskey/tastes?page=11\n",
      "url : https://distiller.com/spirits/the-dubliner-irish-whiskey/tastes?page=12\n",
      "url : https://distiller.com/spirits/the-dubliner-irish-whiskey/tastes?page=13\n",
      "url : https://distiller.com/spirits/the-dubliner-irish-whiskey/tastes?page=14\n",
      "url : https://distiller.com/spirits/the-dubliner-irish-whiskey/tastes?page=15\n",
      "====================================================================================================================================\n",
      "index : 3409 total_rating : 75 totalPage : 8\n"
     ]
    },
    {
     "data": {
      "application/vnd.jupyter.widget-view+json": {
       "model_id": "c1c566369df24015ab4286339b006c01",
       "version_major": 2,
       "version_minor": 0
      },
      "text/plain": [
       "inner:   0%|          | 0/8 [00:00<?, ?it/s]"
      ]
     },
     "metadata": {},
     "output_type": "display_data"
    },
    {
     "name": "stdout",
     "output_type": "stream",
     "text": [
      "url : https://distiller.com/spirits/penderyn-celt/tastes?page=1\n",
      "url : https://distiller.com/spirits/penderyn-celt/tastes?page=2\n",
      "url : https://distiller.com/spirits/penderyn-celt/tastes?page=3\n",
      "url : https://distiller.com/spirits/penderyn-celt/tastes?page=4\n",
      "url : https://distiller.com/spirits/penderyn-celt/tastes?page=5\n",
      "url : https://distiller.com/spirits/penderyn-celt/tastes?page=6\n",
      "url : https://distiller.com/spirits/penderyn-celt/tastes?page=7\n",
      "url : https://distiller.com/spirits/penderyn-celt/tastes?page=8\n",
      "====================================================================================================================================\n",
      "index : 3410 total_rating : 1 totalPage : 1\n"
     ]
    },
    {
     "data": {
      "application/vnd.jupyter.widget-view+json": {
       "model_id": "606aaf57b6524c128ba98cc55d5c5ca5",
       "version_major": 2,
       "version_minor": 0
      },
      "text/plain": [
       "inner:   0%|          | 0/1 [00:00<?, ?it/s]"
      ]
     },
     "metadata": {},
     "output_type": "display_data"
    },
    {
     "name": "stdout",
     "output_type": "stream",
     "text": [
      "url : https://distiller.com/spirits/graveyard-sam-s-white-whiskey/tastes?page=1\n",
      "====================================================================================================================================\n",
      "index : 3411 total_rating : 0 totalPage : 0\n"
     ]
    },
    {
     "data": {
      "application/vnd.jupyter.widget-view+json": {
       "model_id": "17d5fc6f0f92453c8548d864fb817a4e",
       "version_major": 2,
       "version_minor": 0
      },
      "text/plain": [
       "inner: 0it [00:00, ?it/s]"
      ]
     },
     "metadata": {},
     "output_type": "display_data"
    },
    {
     "name": "stdout",
     "output_type": "stream",
     "text": [
      "====================================================================================================================================\n",
      "index : 3412 total_rating : 57 totalPage : 6\n"
     ]
    },
    {
     "data": {
      "application/vnd.jupyter.widget-view+json": {
       "model_id": "3a7e1c4a225847a6b1462e5515c16b79",
       "version_major": 2,
       "version_minor": 0
      },
      "text/plain": [
       "inner:   0%|          | 0/6 [00:00<?, ?it/s]"
      ]
     },
     "metadata": {},
     "output_type": "display_data"
    },
    {
     "name": "stdout",
     "output_type": "stream",
     "text": [
      "url : https://distiller.com/spirits/cardhu-amber-rock/tastes?page=1\n",
      "url : https://distiller.com/spirits/cardhu-amber-rock/tastes?page=2\n",
      "url : https://distiller.com/spirits/cardhu-amber-rock/tastes?page=3\n",
      "url : https://distiller.com/spirits/cardhu-amber-rock/tastes?page=4\n",
      "url : https://distiller.com/spirits/cardhu-amber-rock/tastes?page=5\n",
      "url : https://distiller.com/spirits/cardhu-amber-rock/tastes?page=6\n",
      "====================================================================================================================================\n",
      "index : 3413 total_rating : 8 totalPage : 1\n"
     ]
    },
    {
     "data": {
      "application/vnd.jupyter.widget-view+json": {
       "model_id": "af1638d4d0534f26a12f5a84a96b170e",
       "version_major": 2,
       "version_minor": 0
      },
      "text/plain": [
       "inner:   0%|          | 0/1 [00:00<?, ?it/s]"
      ]
     },
     "metadata": {},
     "output_type": "display_data"
    },
    {
     "name": "stdout",
     "output_type": "stream",
     "text": [
      "url : https://distiller.com/spirits/black-button-little-barrel-bourbon/tastes?page=1\n",
      "====================================================================================================================================\n",
      "index : 3414 total_rating : 41 totalPage : 5\n"
     ]
    },
    {
     "data": {
      "application/vnd.jupyter.widget-view+json": {
       "model_id": "1a818c521e1c4434af9d2788958dc09f",
       "version_major": 2,
       "version_minor": 0
      },
      "text/plain": [
       "inner:   0%|          | 0/5 [00:00<?, ?it/s]"
      ]
     },
     "metadata": {},
     "output_type": "display_data"
    },
    {
     "name": "stdout",
     "output_type": "stream",
     "text": [
      "url : https://distiller.com/spirits/old-pulteney-noss-head/tastes?page=1\n",
      "url : https://distiller.com/spirits/old-pulteney-noss-head/tastes?page=2\n",
      "url : https://distiller.com/spirits/old-pulteney-noss-head/tastes?page=3\n",
      "url : https://distiller.com/spirits/old-pulteney-noss-head/tastes?page=4\n",
      "url : https://distiller.com/spirits/old-pulteney-noss-head/tastes?page=5\n",
      "====================================================================================================================================\n",
      "index : 3415 total_rating : 9 totalPage : 1\n"
     ]
    },
    {
     "data": {
      "application/vnd.jupyter.widget-view+json": {
       "model_id": "566a120d2c2f433bb493a337fb07ba20",
       "version_major": 2,
       "version_minor": 0
      },
      "text/plain": [
       "inner:   0%|          | 0/1 [00:00<?, ?it/s]"
      ]
     },
     "metadata": {},
     "output_type": "display_data"
    },
    {
     "name": "stdout",
     "output_type": "stream",
     "text": [
      "url : https://distiller.com/spirits/j-k-williams-young-buck-bourbon/tastes?page=1\n",
      "====================================================================================================================================\n",
      "index : 3416 total_rating : 89 totalPage : 9\n"
     ]
    },
    {
     "data": {
      "application/vnd.jupyter.widget-view+json": {
       "model_id": "e90629507a884431afa80775f9a92e5f",
       "version_major": 2,
       "version_minor": 0
      },
      "text/plain": [
       "inner:   0%|          | 0/9 [00:00<?, ?it/s]"
      ]
     },
     "metadata": {},
     "output_type": "display_data"
    },
    {
     "name": "stdout",
     "output_type": "stream",
     "text": [
      "url : https://distiller.com/spirits/10th-mountain-bourbon/tastes?page=1\n",
      "url : https://distiller.com/spirits/10th-mountain-bourbon/tastes?page=2\n",
      "url : https://distiller.com/spirits/10th-mountain-bourbon/tastes?page=3\n",
      "url : https://distiller.com/spirits/10th-mountain-bourbon/tastes?page=4\n",
      "url : https://distiller.com/spirits/10th-mountain-bourbon/tastes?page=5\n",
      "url : https://distiller.com/spirits/10th-mountain-bourbon/tastes?page=6\n",
      "url : https://distiller.com/spirits/10th-mountain-bourbon/tastes?page=7\n",
      "url : https://distiller.com/spirits/10th-mountain-bourbon/tastes?page=8\n",
      "url : https://distiller.com/spirits/10th-mountain-bourbon/tastes?page=9\n",
      "====================================================================================================================================\n",
      "index : 3417 total_rating : 17 totalPage : 2\n"
     ]
    },
    {
     "data": {
      "application/vnd.jupyter.widget-view+json": {
       "model_id": "21038efaa0cf46c59695a371a3894f0e",
       "version_major": 2,
       "version_minor": 0
      },
      "text/plain": [
       "inner:   0%|          | 0/2 [00:00<?, ?it/s]"
      ]
     },
     "metadata": {},
     "output_type": "display_data"
    },
    {
     "name": "stdout",
     "output_type": "stream",
     "text": [
      "url : https://distiller.com/spirits/jimmy-s-texas-bourbon/tastes?page=1\n",
      "url : https://distiller.com/spirits/jimmy-s-texas-bourbon/tastes?page=2\n",
      "====================================================================================================================================\n",
      "index : 3418 total_rating : 55 totalPage : 6\n"
     ]
    },
    {
     "data": {
      "application/vnd.jupyter.widget-view+json": {
       "model_id": "d57f85a9000b456187e3469a052a92f6",
       "version_major": 2,
       "version_minor": 0
      },
      "text/plain": [
       "inner:   0%|          | 0/6 [00:00<?, ?it/s]"
      ]
     },
     "metadata": {},
     "output_type": "display_data"
    },
    {
     "name": "stdout",
     "output_type": "stream",
     "text": [
      "url : https://distiller.com/spirits/mckenzie-rye/tastes?page=1\n",
      "url : https://distiller.com/spirits/mckenzie-rye/tastes?page=2\n",
      "url : https://distiller.com/spirits/mckenzie-rye/tastes?page=3\n",
      "url : https://distiller.com/spirits/mckenzie-rye/tastes?page=4\n",
      "url : https://distiller.com/spirits/mckenzie-rye/tastes?page=5\n",
      "url : https://distiller.com/spirits/mckenzie-rye/tastes?page=6\n",
      "====================================================================================================================================\n",
      "index : 3419 total_rating : 621 totalPage : 63\n"
     ]
    },
    {
     "data": {
      "application/vnd.jupyter.widget-view+json": {
       "model_id": "d4b19e1121c44651ae86ce248fa69b47",
       "version_major": 2,
       "version_minor": 0
      },
      "text/plain": [
       "inner:   0%|          | 0/63 [00:00<?, ?it/s]"
      ]
     },
     "metadata": {},
     "output_type": "display_data"
    },
    {
     "name": "stdout",
     "output_type": "stream",
     "text": [
      "url : https://distiller.com/spirits/pendleton-blended-canadian-whisky/tastes?page=1\n",
      "url : https://distiller.com/spirits/pendleton-blended-canadian-whisky/tastes?page=2\n",
      "url : https://distiller.com/spirits/pendleton-blended-canadian-whisky/tastes?page=3\n",
      "url : https://distiller.com/spirits/pendleton-blended-canadian-whisky/tastes?page=4\n",
      "url : https://distiller.com/spirits/pendleton-blended-canadian-whisky/tastes?page=5\n",
      "url : https://distiller.com/spirits/pendleton-blended-canadian-whisky/tastes?page=6\n",
      "url : https://distiller.com/spirits/pendleton-blended-canadian-whisky/tastes?page=7\n",
      "url : https://distiller.com/spirits/pendleton-blended-canadian-whisky/tastes?page=8\n",
      "url : https://distiller.com/spirits/pendleton-blended-canadian-whisky/tastes?page=9\n",
      "url : https://distiller.com/spirits/pendleton-blended-canadian-whisky/tastes?page=10\n",
      "url : https://distiller.com/spirits/pendleton-blended-canadian-whisky/tastes?page=11\n",
      "url : https://distiller.com/spirits/pendleton-blended-canadian-whisky/tastes?page=12\n",
      "url : https://distiller.com/spirits/pendleton-blended-canadian-whisky/tastes?page=13\n",
      "url : https://distiller.com/spirits/pendleton-blended-canadian-whisky/tastes?page=14\n",
      "url : https://distiller.com/spirits/pendleton-blended-canadian-whisky/tastes?page=15\n",
      "url : https://distiller.com/spirits/pendleton-blended-canadian-whisky/tastes?page=16\n",
      "url : https://distiller.com/spirits/pendleton-blended-canadian-whisky/tastes?page=17\n",
      "url : https://distiller.com/spirits/pendleton-blended-canadian-whisky/tastes?page=18\n",
      "url : https://distiller.com/spirits/pendleton-blended-canadian-whisky/tastes?page=19\n",
      "url : https://distiller.com/spirits/pendleton-blended-canadian-whisky/tastes?page=20\n",
      "url : https://distiller.com/spirits/pendleton-blended-canadian-whisky/tastes?page=21\n",
      "url : https://distiller.com/spirits/pendleton-blended-canadian-whisky/tastes?page=22\n",
      "url : https://distiller.com/spirits/pendleton-blended-canadian-whisky/tastes?page=23\n",
      "url : https://distiller.com/spirits/pendleton-blended-canadian-whisky/tastes?page=24\n",
      "url : https://distiller.com/spirits/pendleton-blended-canadian-whisky/tastes?page=25\n",
      "url : https://distiller.com/spirits/pendleton-blended-canadian-whisky/tastes?page=26\n",
      "url : https://distiller.com/spirits/pendleton-blended-canadian-whisky/tastes?page=27\n",
      "url : https://distiller.com/spirits/pendleton-blended-canadian-whisky/tastes?page=28\n",
      "url : https://distiller.com/spirits/pendleton-blended-canadian-whisky/tastes?page=29\n",
      "url : https://distiller.com/spirits/pendleton-blended-canadian-whisky/tastes?page=30\n",
      "url : https://distiller.com/spirits/pendleton-blended-canadian-whisky/tastes?page=31\n",
      "url : https://distiller.com/spirits/pendleton-blended-canadian-whisky/tastes?page=32\n",
      "url : https://distiller.com/spirits/pendleton-blended-canadian-whisky/tastes?page=33\n",
      "url : https://distiller.com/spirits/pendleton-blended-canadian-whisky/tastes?page=34\n",
      "url : https://distiller.com/spirits/pendleton-blended-canadian-whisky/tastes?page=35\n",
      "url : https://distiller.com/spirits/pendleton-blended-canadian-whisky/tastes?page=36\n",
      "url : https://distiller.com/spirits/pendleton-blended-canadian-whisky/tastes?page=37\n",
      "url : https://distiller.com/spirits/pendleton-blended-canadian-whisky/tastes?page=38\n",
      "url : https://distiller.com/spirits/pendleton-blended-canadian-whisky/tastes?page=39\n",
      "url : https://distiller.com/spirits/pendleton-blended-canadian-whisky/tastes?page=40\n",
      "url : https://distiller.com/spirits/pendleton-blended-canadian-whisky/tastes?page=41\n",
      "url : https://distiller.com/spirits/pendleton-blended-canadian-whisky/tastes?page=42\n",
      "url : https://distiller.com/spirits/pendleton-blended-canadian-whisky/tastes?page=43\n",
      "url : https://distiller.com/spirits/pendleton-blended-canadian-whisky/tastes?page=44\n",
      "url : https://distiller.com/spirits/pendleton-blended-canadian-whisky/tastes?page=45\n",
      "url : https://distiller.com/spirits/pendleton-blended-canadian-whisky/tastes?page=46\n",
      "url : https://distiller.com/spirits/pendleton-blended-canadian-whisky/tastes?page=47\n",
      "url : https://distiller.com/spirits/pendleton-blended-canadian-whisky/tastes?page=48\n",
      "url : https://distiller.com/spirits/pendleton-blended-canadian-whisky/tastes?page=49\n",
      "url : https://distiller.com/spirits/pendleton-blended-canadian-whisky/tastes?page=50\n",
      "url : https://distiller.com/spirits/pendleton-blended-canadian-whisky/tastes?page=51\n",
      "url : https://distiller.com/spirits/pendleton-blended-canadian-whisky/tastes?page=52\n",
      "url : https://distiller.com/spirits/pendleton-blended-canadian-whisky/tastes?page=53\n",
      "url : https://distiller.com/spirits/pendleton-blended-canadian-whisky/tastes?page=54\n",
      "url : https://distiller.com/spirits/pendleton-blended-canadian-whisky/tastes?page=55\n",
      "url : https://distiller.com/spirits/pendleton-blended-canadian-whisky/tastes?page=56\n",
      "url : https://distiller.com/spirits/pendleton-blended-canadian-whisky/tastes?page=57\n",
      "url : https://distiller.com/spirits/pendleton-blended-canadian-whisky/tastes?page=58\n",
      "url : https://distiller.com/spirits/pendleton-blended-canadian-whisky/tastes?page=59\n",
      "url : https://distiller.com/spirits/pendleton-blended-canadian-whisky/tastes?page=60\n",
      "url : https://distiller.com/spirits/pendleton-blended-canadian-whisky/tastes?page=61\n",
      "url : https://distiller.com/spirits/pendleton-blended-canadian-whisky/tastes?page=62\n",
      "url : https://distiller.com/spirits/pendleton-blended-canadian-whisky/tastes?page=63\n",
      "====================================================================================================================================\n",
      "index : 3420 total_rating : 70 totalPage : 7\n"
     ]
    },
    {
     "data": {
      "application/vnd.jupyter.widget-view+json": {
       "model_id": "7b6ceb2dcfc944ed932c0b04d2ecc11f",
       "version_major": 2,
       "version_minor": 0
      },
      "text/plain": [
       "inner:   0%|          | 0/7 [00:00<?, ?it/s]"
      ]
     },
     "metadata": {},
     "output_type": "display_data"
    },
    {
     "name": "stdout",
     "output_type": "stream",
     "text": [
      "url : https://distiller.com/spirits/tomintoul-12-oloroso-finish/tastes?page=1\n",
      "url : https://distiller.com/spirits/tomintoul-12-oloroso-finish/tastes?page=2\n",
      "url : https://distiller.com/spirits/tomintoul-12-oloroso-finish/tastes?page=3\n",
      "url : https://distiller.com/spirits/tomintoul-12-oloroso-finish/tastes?page=4\n",
      "url : https://distiller.com/spirits/tomintoul-12-oloroso-finish/tastes?page=5\n",
      "url : https://distiller.com/spirits/tomintoul-12-oloroso-finish/tastes?page=6\n",
      "url : https://distiller.com/spirits/tomintoul-12-oloroso-finish/tastes?page=7\n",
      "====================================================================================================================================\n",
      "index : 3421 total_rating : 980 totalPage : 98\n"
     ]
    },
    {
     "data": {
      "application/vnd.jupyter.widget-view+json": {
       "model_id": "cad52ac8412146009f062ed1f84b0bd0",
       "version_major": 2,
       "version_minor": 0
      },
      "text/plain": [
       "inner:   0%|          | 0/98 [00:00<?, ?it/s]"
      ]
     },
     "metadata": {},
     "output_type": "display_data"
    },
    {
     "name": "stdout",
     "output_type": "stream",
     "text": [
      "url : https://distiller.com/spirits/jim-beam-devil-s-cut/tastes?page=1\n",
      "url : https://distiller.com/spirits/jim-beam-devil-s-cut/tastes?page=2\n",
      "url : https://distiller.com/spirits/jim-beam-devil-s-cut/tastes?page=3\n",
      "url : https://distiller.com/spirits/jim-beam-devil-s-cut/tastes?page=4\n",
      "url : https://distiller.com/spirits/jim-beam-devil-s-cut/tastes?page=5\n",
      "url : https://distiller.com/spirits/jim-beam-devil-s-cut/tastes?page=6\n",
      "url : https://distiller.com/spirits/jim-beam-devil-s-cut/tastes?page=7\n",
      "url : https://distiller.com/spirits/jim-beam-devil-s-cut/tastes?page=8\n",
      "url : https://distiller.com/spirits/jim-beam-devil-s-cut/tastes?page=9\n",
      "url : https://distiller.com/spirits/jim-beam-devil-s-cut/tastes?page=10\n",
      "url : https://distiller.com/spirits/jim-beam-devil-s-cut/tastes?page=11\n",
      "url : https://distiller.com/spirits/jim-beam-devil-s-cut/tastes?page=12\n",
      "url : https://distiller.com/spirits/jim-beam-devil-s-cut/tastes?page=13\n",
      "url : https://distiller.com/spirits/jim-beam-devil-s-cut/tastes?page=14\n",
      "url : https://distiller.com/spirits/jim-beam-devil-s-cut/tastes?page=15\n",
      "url : https://distiller.com/spirits/jim-beam-devil-s-cut/tastes?page=16\n",
      "url : https://distiller.com/spirits/jim-beam-devil-s-cut/tastes?page=17\n",
      "url : https://distiller.com/spirits/jim-beam-devil-s-cut/tastes?page=18\n",
      "url : https://distiller.com/spirits/jim-beam-devil-s-cut/tastes?page=19\n",
      "url : https://distiller.com/spirits/jim-beam-devil-s-cut/tastes?page=20\n",
      "url : https://distiller.com/spirits/jim-beam-devil-s-cut/tastes?page=21\n",
      "url : https://distiller.com/spirits/jim-beam-devil-s-cut/tastes?page=22\n",
      "url : https://distiller.com/spirits/jim-beam-devil-s-cut/tastes?page=23\n",
      "url : https://distiller.com/spirits/jim-beam-devil-s-cut/tastes?page=24\n",
      "url : https://distiller.com/spirits/jim-beam-devil-s-cut/tastes?page=25\n",
      "url : https://distiller.com/spirits/jim-beam-devil-s-cut/tastes?page=26\n",
      "url : https://distiller.com/spirits/jim-beam-devil-s-cut/tastes?page=27\n",
      "url : https://distiller.com/spirits/jim-beam-devil-s-cut/tastes?page=28\n",
      "url : https://distiller.com/spirits/jim-beam-devil-s-cut/tastes?page=29\n",
      "url : https://distiller.com/spirits/jim-beam-devil-s-cut/tastes?page=30\n",
      "url : https://distiller.com/spirits/jim-beam-devil-s-cut/tastes?page=31\n",
      "url : https://distiller.com/spirits/jim-beam-devil-s-cut/tastes?page=32\n",
      "url : https://distiller.com/spirits/jim-beam-devil-s-cut/tastes?page=33\n",
      "url : https://distiller.com/spirits/jim-beam-devil-s-cut/tastes?page=34\n",
      "url : https://distiller.com/spirits/jim-beam-devil-s-cut/tastes?page=35\n",
      "url : https://distiller.com/spirits/jim-beam-devil-s-cut/tastes?page=36\n",
      "url : https://distiller.com/spirits/jim-beam-devil-s-cut/tastes?page=37\n",
      "url : https://distiller.com/spirits/jim-beam-devil-s-cut/tastes?page=38\n",
      "url : https://distiller.com/spirits/jim-beam-devil-s-cut/tastes?page=39\n",
      "url : https://distiller.com/spirits/jim-beam-devil-s-cut/tastes?page=40\n",
      "url : https://distiller.com/spirits/jim-beam-devil-s-cut/tastes?page=41\n",
      "url : https://distiller.com/spirits/jim-beam-devil-s-cut/tastes?page=42\n",
      "url : https://distiller.com/spirits/jim-beam-devil-s-cut/tastes?page=43\n",
      "url : https://distiller.com/spirits/jim-beam-devil-s-cut/tastes?page=44\n",
      "url : https://distiller.com/spirits/jim-beam-devil-s-cut/tastes?page=45\n",
      "url : https://distiller.com/spirits/jim-beam-devil-s-cut/tastes?page=46\n",
      "url : https://distiller.com/spirits/jim-beam-devil-s-cut/tastes?page=47\n",
      "url : https://distiller.com/spirits/jim-beam-devil-s-cut/tastes?page=48\n",
      "url : https://distiller.com/spirits/jim-beam-devil-s-cut/tastes?page=49\n",
      "url : https://distiller.com/spirits/jim-beam-devil-s-cut/tastes?page=50\n",
      "url : https://distiller.com/spirits/jim-beam-devil-s-cut/tastes?page=51\n",
      "url : https://distiller.com/spirits/jim-beam-devil-s-cut/tastes?page=52\n",
      "url : https://distiller.com/spirits/jim-beam-devil-s-cut/tastes?page=53\n",
      "url : https://distiller.com/spirits/jim-beam-devil-s-cut/tastes?page=54\n",
      "url : https://distiller.com/spirits/jim-beam-devil-s-cut/tastes?page=55\n",
      "url : https://distiller.com/spirits/jim-beam-devil-s-cut/tastes?page=56\n",
      "url : https://distiller.com/spirits/jim-beam-devil-s-cut/tastes?page=57\n",
      "url : https://distiller.com/spirits/jim-beam-devil-s-cut/tastes?page=58\n",
      "url : https://distiller.com/spirits/jim-beam-devil-s-cut/tastes?page=59\n",
      "url : https://distiller.com/spirits/jim-beam-devil-s-cut/tastes?page=60\n",
      "url : https://distiller.com/spirits/jim-beam-devil-s-cut/tastes?page=61\n",
      "url : https://distiller.com/spirits/jim-beam-devil-s-cut/tastes?page=62\n",
      "url : https://distiller.com/spirits/jim-beam-devil-s-cut/tastes?page=63\n",
      "url : https://distiller.com/spirits/jim-beam-devil-s-cut/tastes?page=64\n",
      "url : https://distiller.com/spirits/jim-beam-devil-s-cut/tastes?page=65\n",
      "url : https://distiller.com/spirits/jim-beam-devil-s-cut/tastes?page=66\n",
      "url : https://distiller.com/spirits/jim-beam-devil-s-cut/tastes?page=67\n",
      "url : https://distiller.com/spirits/jim-beam-devil-s-cut/tastes?page=68\n",
      "url : https://distiller.com/spirits/jim-beam-devil-s-cut/tastes?page=69\n",
      "url : https://distiller.com/spirits/jim-beam-devil-s-cut/tastes?page=70\n",
      "url : https://distiller.com/spirits/jim-beam-devil-s-cut/tastes?page=71\n",
      "url : https://distiller.com/spirits/jim-beam-devil-s-cut/tastes?page=72\n",
      "url : https://distiller.com/spirits/jim-beam-devil-s-cut/tastes?page=73\n",
      "url : https://distiller.com/spirits/jim-beam-devil-s-cut/tastes?page=74\n",
      "url : https://distiller.com/spirits/jim-beam-devil-s-cut/tastes?page=75\n",
      "url : https://distiller.com/spirits/jim-beam-devil-s-cut/tastes?page=76\n",
      "url : https://distiller.com/spirits/jim-beam-devil-s-cut/tastes?page=77\n",
      "url : https://distiller.com/spirits/jim-beam-devil-s-cut/tastes?page=78\n",
      "url : https://distiller.com/spirits/jim-beam-devil-s-cut/tastes?page=79\n",
      "url : https://distiller.com/spirits/jim-beam-devil-s-cut/tastes?page=80\n",
      "url : https://distiller.com/spirits/jim-beam-devil-s-cut/tastes?page=81\n",
      "url : https://distiller.com/spirits/jim-beam-devil-s-cut/tastes?page=82\n",
      "url : https://distiller.com/spirits/jim-beam-devil-s-cut/tastes?page=83\n",
      "url : https://distiller.com/spirits/jim-beam-devil-s-cut/tastes?page=84\n",
      "url : https://distiller.com/spirits/jim-beam-devil-s-cut/tastes?page=85\n",
      "url : https://distiller.com/spirits/jim-beam-devil-s-cut/tastes?page=86\n",
      "url : https://distiller.com/spirits/jim-beam-devil-s-cut/tastes?page=87\n",
      "url : https://distiller.com/spirits/jim-beam-devil-s-cut/tastes?page=88\n",
      "url : https://distiller.com/spirits/jim-beam-devil-s-cut/tastes?page=89\n",
      "url : https://distiller.com/spirits/jim-beam-devil-s-cut/tastes?page=90\n",
      "url : https://distiller.com/spirits/jim-beam-devil-s-cut/tastes?page=91\n",
      "url : https://distiller.com/spirits/jim-beam-devil-s-cut/tastes?page=92\n",
      "url : https://distiller.com/spirits/jim-beam-devil-s-cut/tastes?page=93\n",
      "url : https://distiller.com/spirits/jim-beam-devil-s-cut/tastes?page=94\n",
      "url : https://distiller.com/spirits/jim-beam-devil-s-cut/tastes?page=95\n",
      "url : https://distiller.com/spirits/jim-beam-devil-s-cut/tastes?page=96\n",
      "url : https://distiller.com/spirits/jim-beam-devil-s-cut/tastes?page=97\n",
      "url : https://distiller.com/spirits/jim-beam-devil-s-cut/tastes?page=98\n",
      "====================================================================================================================================\n",
      "index : 3422 total_rating : 585 totalPage : 59\n"
     ]
    },
    {
     "data": {
      "application/vnd.jupyter.widget-view+json": {
       "model_id": "ccb4c11ad07a4d7f85300048fef3f55d",
       "version_major": 2,
       "version_minor": 0
      },
      "text/plain": [
       "inner:   0%|          | 0/59 [00:00<?, ?it/s]"
      ]
     },
     "metadata": {},
     "output_type": "display_data"
    },
    {
     "name": "stdout",
     "output_type": "stream",
     "text": [
      "url : https://distiller.com/spirits/mellow-corn-whiskey/tastes?page=1\n",
      "url : https://distiller.com/spirits/mellow-corn-whiskey/tastes?page=2\n",
      "url : https://distiller.com/spirits/mellow-corn-whiskey/tastes?page=3\n",
      "url : https://distiller.com/spirits/mellow-corn-whiskey/tastes?page=4\n",
      "url : https://distiller.com/spirits/mellow-corn-whiskey/tastes?page=5\n",
      "url : https://distiller.com/spirits/mellow-corn-whiskey/tastes?page=6\n",
      "url : https://distiller.com/spirits/mellow-corn-whiskey/tastes?page=7\n",
      "url : https://distiller.com/spirits/mellow-corn-whiskey/tastes?page=8\n",
      "url : https://distiller.com/spirits/mellow-corn-whiskey/tastes?page=9\n",
      "url : https://distiller.com/spirits/mellow-corn-whiskey/tastes?page=10\n",
      "url : https://distiller.com/spirits/mellow-corn-whiskey/tastes?page=11\n",
      "url : https://distiller.com/spirits/mellow-corn-whiskey/tastes?page=12\n",
      "url : https://distiller.com/spirits/mellow-corn-whiskey/tastes?page=13\n",
      "url : https://distiller.com/spirits/mellow-corn-whiskey/tastes?page=14\n",
      "url : https://distiller.com/spirits/mellow-corn-whiskey/tastes?page=15\n",
      "url : https://distiller.com/spirits/mellow-corn-whiskey/tastes?page=16\n",
      "url : https://distiller.com/spirits/mellow-corn-whiskey/tastes?page=17\n",
      "url : https://distiller.com/spirits/mellow-corn-whiskey/tastes?page=18\n",
      "url : https://distiller.com/spirits/mellow-corn-whiskey/tastes?page=19\n",
      "url : https://distiller.com/spirits/mellow-corn-whiskey/tastes?page=20\n",
      "url : https://distiller.com/spirits/mellow-corn-whiskey/tastes?page=21\n",
      "url : https://distiller.com/spirits/mellow-corn-whiskey/tastes?page=22\n",
      "url : https://distiller.com/spirits/mellow-corn-whiskey/tastes?page=23\n",
      "url : https://distiller.com/spirits/mellow-corn-whiskey/tastes?page=24\n",
      "url : https://distiller.com/spirits/mellow-corn-whiskey/tastes?page=25\n",
      "url : https://distiller.com/spirits/mellow-corn-whiskey/tastes?page=26\n",
      "url : https://distiller.com/spirits/mellow-corn-whiskey/tastes?page=27\n",
      "url : https://distiller.com/spirits/mellow-corn-whiskey/tastes?page=28\n",
      "url : https://distiller.com/spirits/mellow-corn-whiskey/tastes?page=29\n",
      "url : https://distiller.com/spirits/mellow-corn-whiskey/tastes?page=30\n",
      "url : https://distiller.com/spirits/mellow-corn-whiskey/tastes?page=31\n",
      "url : https://distiller.com/spirits/mellow-corn-whiskey/tastes?page=32\n",
      "url : https://distiller.com/spirits/mellow-corn-whiskey/tastes?page=33\n",
      "url : https://distiller.com/spirits/mellow-corn-whiskey/tastes?page=34\n",
      "url : https://distiller.com/spirits/mellow-corn-whiskey/tastes?page=35\n",
      "url : https://distiller.com/spirits/mellow-corn-whiskey/tastes?page=36\n",
      "url : https://distiller.com/spirits/mellow-corn-whiskey/tastes?page=37\n",
      "url : https://distiller.com/spirits/mellow-corn-whiskey/tastes?page=38\n",
      "url : https://distiller.com/spirits/mellow-corn-whiskey/tastes?page=39\n",
      "url : https://distiller.com/spirits/mellow-corn-whiskey/tastes?page=40\n",
      "url : https://distiller.com/spirits/mellow-corn-whiskey/tastes?page=41\n",
      "url : https://distiller.com/spirits/mellow-corn-whiskey/tastes?page=42\n",
      "url : https://distiller.com/spirits/mellow-corn-whiskey/tastes?page=43\n",
      "url : https://distiller.com/spirits/mellow-corn-whiskey/tastes?page=44\n",
      "url : https://distiller.com/spirits/mellow-corn-whiskey/tastes?page=45\n",
      "url : https://distiller.com/spirits/mellow-corn-whiskey/tastes?page=46\n",
      "url : https://distiller.com/spirits/mellow-corn-whiskey/tastes?page=47\n",
      "url : https://distiller.com/spirits/mellow-corn-whiskey/tastes?page=48\n",
      "url : https://distiller.com/spirits/mellow-corn-whiskey/tastes?page=49\n",
      "url : https://distiller.com/spirits/mellow-corn-whiskey/tastes?page=50\n",
      "url : https://distiller.com/spirits/mellow-corn-whiskey/tastes?page=51\n",
      "url : https://distiller.com/spirits/mellow-corn-whiskey/tastes?page=52\n",
      "url : https://distiller.com/spirits/mellow-corn-whiskey/tastes?page=53\n",
      "url : https://distiller.com/spirits/mellow-corn-whiskey/tastes?page=54\n",
      "url : https://distiller.com/spirits/mellow-corn-whiskey/tastes?page=55\n",
      "url : https://distiller.com/spirits/mellow-corn-whiskey/tastes?page=56\n",
      "url : https://distiller.com/spirits/mellow-corn-whiskey/tastes?page=57\n",
      "url : https://distiller.com/spirits/mellow-corn-whiskey/tastes?page=58\n",
      "url : https://distiller.com/spirits/mellow-corn-whiskey/tastes?page=59\n",
      "====================================================================================================================================\n",
      "index : 3423 total_rating : 11 totalPage : 2\n"
     ]
    },
    {
     "data": {
      "application/vnd.jupyter.widget-view+json": {
       "model_id": "b2b84e9838b24829b26da7d917110f93",
       "version_major": 2,
       "version_minor": 0
      },
      "text/plain": [
       "inner:   0%|          | 0/2 [00:00<?, ?it/s]"
      ]
     },
     "metadata": {},
     "output_type": "display_data"
    },
    {
     "name": "stdout",
     "output_type": "stream",
     "text": [
      "url : https://distiller.com/spirits/antiquary-21-year-old-blend/tastes?page=1\n",
      "url : https://distiller.com/spirits/antiquary-21-year-old-blend/tastes?page=2\n",
      "====================================================================================================================================\n",
      "index : 3424 total_rating : 70 totalPage : 7\n"
     ]
    },
    {
     "data": {
      "application/vnd.jupyter.widget-view+json": {
       "model_id": "e455796d15e646199a42c35fd337c957",
       "version_major": 2,
       "version_minor": 0
      },
      "text/plain": [
       "inner:   0%|          | 0/7 [00:00<?, ?it/s]"
      ]
     },
     "metadata": {},
     "output_type": "display_data"
    },
    {
     "name": "stdout",
     "output_type": "stream",
     "text": [
      "url : https://distiller.com/spirits/canadian-club-reserve-9-year/tastes?page=1\n",
      "url : https://distiller.com/spirits/canadian-club-reserve-9-year/tastes?page=2\n",
      "url : https://distiller.com/spirits/canadian-club-reserve-9-year/tastes?page=3\n",
      "url : https://distiller.com/spirits/canadian-club-reserve-9-year/tastes?page=4\n",
      "url : https://distiller.com/spirits/canadian-club-reserve-9-year/tastes?page=5\n",
      "url : https://distiller.com/spirits/canadian-club-reserve-9-year/tastes?page=6\n",
      "url : https://distiller.com/spirits/canadian-club-reserve-9-year/tastes?page=7\n",
      "====================================================================================================================================\n",
      "index : 3425 total_rating : 159 totalPage : 16\n"
     ]
    },
    {
     "data": {
      "application/vnd.jupyter.widget-view+json": {
       "model_id": "73e75dfe47774e5abc9a68fbdf7ee0fd",
       "version_major": 2,
       "version_minor": 0
      },
      "text/plain": [
       "inner:   0%|          | 0/16 [00:00<?, ?it/s]"
      ]
     },
     "metadata": {},
     "output_type": "display_data"
    },
    {
     "name": "stdout",
     "output_type": "stream",
     "text": [
      "url : https://distiller.com/spirits/copper-fox-rye-whiskey/tastes?page=1\n",
      "url : https://distiller.com/spirits/copper-fox-rye-whiskey/tastes?page=2\n",
      "url : https://distiller.com/spirits/copper-fox-rye-whiskey/tastes?page=3\n",
      "url : https://distiller.com/spirits/copper-fox-rye-whiskey/tastes?page=4\n",
      "url : https://distiller.com/spirits/copper-fox-rye-whiskey/tastes?page=5\n",
      "url : https://distiller.com/spirits/copper-fox-rye-whiskey/tastes?page=6\n",
      "url : https://distiller.com/spirits/copper-fox-rye-whiskey/tastes?page=7\n",
      "url : https://distiller.com/spirits/copper-fox-rye-whiskey/tastes?page=8\n",
      "url : https://distiller.com/spirits/copper-fox-rye-whiskey/tastes?page=9\n",
      "url : https://distiller.com/spirits/copper-fox-rye-whiskey/tastes?page=10\n",
      "url : https://distiller.com/spirits/copper-fox-rye-whiskey/tastes?page=11\n",
      "url : https://distiller.com/spirits/copper-fox-rye-whiskey/tastes?page=12\n",
      "url : https://distiller.com/spirits/copper-fox-rye-whiskey/tastes?page=13\n",
      "url : https://distiller.com/spirits/copper-fox-rye-whiskey/tastes?page=14\n",
      "url : https://distiller.com/spirits/copper-fox-rye-whiskey/tastes?page=15\n",
      "url : https://distiller.com/spirits/copper-fox-rye-whiskey/tastes?page=16\n",
      "====================================================================================================================================\n",
      "index : 3426 total_rating : 3 totalPage : 1\n"
     ]
    },
    {
     "data": {
      "application/vnd.jupyter.widget-view+json": {
       "model_id": "a8d220de53544f63b76577054539d0e2",
       "version_major": 2,
       "version_minor": 0
      },
      "text/plain": [
       "inner:   0%|          | 0/1 [00:00<?, ?it/s]"
      ]
     },
     "metadata": {},
     "output_type": "display_data"
    },
    {
     "name": "stdout",
     "output_type": "stream",
     "text": [
      "url : https://distiller.com/spirits/togouchi-pure-malt/tastes?page=1\n",
      "====================================================================================================================================\n",
      "index : 3427 total_rating : 38 totalPage : 4\n"
     ]
    },
    {
     "data": {
      "application/vnd.jupyter.widget-view+json": {
       "model_id": "ef7f8a2710bb46158daa8cad8876c3fd",
       "version_major": 2,
       "version_minor": 0
      },
      "text/plain": [
       "inner:   0%|          | 0/4 [00:00<?, ?it/s]"
      ]
     },
     "metadata": {},
     "output_type": "display_data"
    },
    {
     "name": "stdout",
     "output_type": "stream",
     "text": [
      "url : https://distiller.com/spirits/old-soul-blended-straight-bourbon/tastes?page=1\n",
      "url : https://distiller.com/spirits/old-soul-blended-straight-bourbon/tastes?page=2\n",
      "url : https://distiller.com/spirits/old-soul-blended-straight-bourbon/tastes?page=3\n",
      "url : https://distiller.com/spirits/old-soul-blended-straight-bourbon/tastes?page=4\n",
      "====================================================================================================================================\n",
      "index : 3428 total_rating : 19 totalPage : 2\n"
     ]
    },
    {
     "data": {
      "application/vnd.jupyter.widget-view+json": {
       "model_id": "250578f09a094b3e9c28c86d4071f36a",
       "version_major": 2,
       "version_minor": 0
      },
      "text/plain": [
       "inner:   0%|          | 0/2 [00:00<?, ?it/s]"
      ]
     },
     "metadata": {},
     "output_type": "display_data"
    },
    {
     "name": "stdout",
     "output_type": "stream",
     "text": [
      "url : https://distiller.com/spirits/clyde-mays-9-year-cask-strength-whiskey/tastes?page=1\n",
      "url : https://distiller.com/spirits/clyde-mays-9-year-cask-strength-whiskey/tastes?page=2\n",
      "====================================================================================================================================\n",
      "index : 3429 total_rating : 59 totalPage : 6\n"
     ]
    },
    {
     "data": {
      "application/vnd.jupyter.widget-view+json": {
       "model_id": "0dca21d77cad4163a1ee69c7fc8eeee1",
       "version_major": 2,
       "version_minor": 0
      },
      "text/plain": [
       "inner:   0%|          | 0/6 [00:00<?, ?it/s]"
      ]
     },
     "metadata": {},
     "output_type": "display_data"
    },
    {
     "name": "stdout",
     "output_type": "stream",
     "text": [
      "url : https://distiller.com/spirits/cask-crew-rye-whiskey-blend/tastes?page=1\n",
      "url : https://distiller.com/spirits/cask-crew-rye-whiskey-blend/tastes?page=2\n",
      "url : https://distiller.com/spirits/cask-crew-rye-whiskey-blend/tastes?page=3\n",
      "url : https://distiller.com/spirits/cask-crew-rye-whiskey-blend/tastes?page=4\n",
      "url : https://distiller.com/spirits/cask-crew-rye-whiskey-blend/tastes?page=5\n",
      "url : https://distiller.com/spirits/cask-crew-rye-whiskey-blend/tastes?page=6\n",
      "====================================================================================================================================\n",
      "index : 3430 total_rating : 12 totalPage : 2\n"
     ]
    },
    {
     "data": {
      "application/vnd.jupyter.widget-view+json": {
       "model_id": "0ef3fa547c414bdd922801f74ca4c7c6",
       "version_major": 2,
       "version_minor": 0
      },
      "text/plain": [
       "inner:   0%|          | 0/2 [00:00<?, ?it/s]"
      ]
     },
     "metadata": {},
     "output_type": "display_data"
    },
    {
     "name": "stdout",
     "output_type": "stream",
     "text": [
      "url : https://distiller.com/spirits/rattlesnake-rosie-s-apple-pie-corn-whiskey/tastes?page=1\n",
      "url : https://distiller.com/spirits/rattlesnake-rosie-s-apple-pie-corn-whiskey/tastes?page=2\n",
      "====================================================================================================================================\n",
      "index : 3431 total_rating : 24 totalPage : 3\n"
     ]
    },
    {
     "data": {
      "application/vnd.jupyter.widget-view+json": {
       "model_id": "5b4871ce13ad40f3b28619b513ace38a",
       "version_major": 2,
       "version_minor": 0
      },
      "text/plain": [
       "inner:   0%|          | 0/3 [00:00<?, ?it/s]"
      ]
     },
     "metadata": {},
     "output_type": "display_data"
    },
    {
     "name": "stdout",
     "output_type": "stream",
     "text": [
      "url : https://distiller.com/spirits/291-colorado-whiskey/tastes?page=1\n",
      "url : https://distiller.com/spirits/291-colorado-whiskey/tastes?page=2\n",
      "url : https://distiller.com/spirits/291-colorado-whiskey/tastes?page=3\n",
      "====================================================================================================================================\n",
      "index : 3432 total_rating : 1 totalPage : 1\n"
     ]
    },
    {
     "data": {
      "application/vnd.jupyter.widget-view+json": {
       "model_id": "cb69a14a15e34f9c9891811a779f2d1f",
       "version_major": 2,
       "version_minor": 0
      },
      "text/plain": [
       "inner:   0%|          | 0/1 [00:00<?, ?it/s]"
      ]
     },
     "metadata": {},
     "output_type": "display_data"
    },
    {
     "name": "stdout",
     "output_type": "stream",
     "text": [
      "url : https://distiller.com/spirits/teton-moonshine-blended-american-whiskey/tastes?page=1\n",
      "====================================================================================================================================\n",
      "index : 3433 total_rating : 1 totalPage : 1\n"
     ]
    },
    {
     "data": {
      "application/vnd.jupyter.widget-view+json": {
       "model_id": "60e234073b164f6290a71592887ddbc1",
       "version_major": 2,
       "version_minor": 0
      },
      "text/plain": [
       "inner:   0%|          | 0/1 [00:00<?, ?it/s]"
      ]
     },
     "metadata": {},
     "output_type": "display_data"
    },
    {
     "name": "stdout",
     "output_type": "stream",
     "text": [
      "url : https://distiller.com/spirits/james-alexander-12-year-blended-scotch/tastes?page=1\n",
      "====================================================================================================================================\n",
      "index : 3434 total_rating : 5 totalPage : 1\n"
     ]
    },
    {
     "data": {
      "application/vnd.jupyter.widget-view+json": {
       "model_id": "87eff02f49fd46a08711d7201cd0a048",
       "version_major": 2,
       "version_minor": 0
      },
      "text/plain": [
       "inner:   0%|          | 0/1 [00:00<?, ?it/s]"
      ]
     },
     "metadata": {},
     "output_type": "display_data"
    },
    {
     "name": "stdout",
     "output_type": "stream",
     "text": [
      "url : https://distiller.com/spirits/new-zealand-whisky-collection-south-island-single-malt-21-year/tastes?page=1\n",
      "====================================================================================================================================\n",
      "index : 3435 total_rating : 105 totalPage : 11\n"
     ]
    },
    {
     "data": {
      "application/vnd.jupyter.widget-view+json": {
       "model_id": "26a817cdbcea46249e8f355fd9649baa",
       "version_major": 2,
       "version_minor": 0
      },
      "text/plain": [
       "inner:   0%|          | 0/11 [00:00<?, ?it/s]"
      ]
     },
     "metadata": {},
     "output_type": "display_data"
    },
    {
     "name": "stdout",
     "output_type": "stream",
     "text": [
      "url : https://distiller.com/spirits/koval-single-barrel-millet-whiskey/tastes?page=1\n",
      "url : https://distiller.com/spirits/koval-single-barrel-millet-whiskey/tastes?page=2\n",
      "url : https://distiller.com/spirits/koval-single-barrel-millet-whiskey/tastes?page=3\n",
      "url : https://distiller.com/spirits/koval-single-barrel-millet-whiskey/tastes?page=4\n",
      "url : https://distiller.com/spirits/koval-single-barrel-millet-whiskey/tastes?page=5\n",
      "url : https://distiller.com/spirits/koval-single-barrel-millet-whiskey/tastes?page=6\n",
      "url : https://distiller.com/spirits/koval-single-barrel-millet-whiskey/tastes?page=7\n",
      "url : https://distiller.com/spirits/koval-single-barrel-millet-whiskey/tastes?page=8\n",
      "url : https://distiller.com/spirits/koval-single-barrel-millet-whiskey/tastes?page=9\n",
      "url : https://distiller.com/spirits/koval-single-barrel-millet-whiskey/tastes?page=10\n",
      "url : https://distiller.com/spirits/koval-single-barrel-millet-whiskey/tastes?page=11\n",
      "====================================================================================================================================\n",
      "index : 3436 total_rating : 21 totalPage : 3\n"
     ]
    },
    {
     "data": {
      "application/vnd.jupyter.widget-view+json": {
       "model_id": "61bc24edaafc4406864bf8230fd349b5",
       "version_major": 2,
       "version_minor": 0
      },
      "text/plain": [
       "inner:   0%|          | 0/3 [00:00<?, ?it/s]"
      ]
     },
     "metadata": {},
     "output_type": "display_data"
    },
    {
     "name": "stdout",
     "output_type": "stream",
     "text": [
      "url : https://distiller.com/spirits/wayward-single-malt-whiskey/tastes?page=1\n",
      "url : https://distiller.com/spirits/wayward-single-malt-whiskey/tastes?page=2\n",
      "url : https://distiller.com/spirits/wayward-single-malt-whiskey/tastes?page=3\n",
      "====================================================================================================================================\n",
      "index : 3437 total_rating : 5 totalPage : 1\n"
     ]
    },
    {
     "data": {
      "application/vnd.jupyter.widget-view+json": {
       "model_id": "78bdc43ac13245e1aa82869d10624769",
       "version_major": 2,
       "version_minor": 0
      },
      "text/plain": [
       "inner:   0%|          | 0/1 [00:00<?, ?it/s]"
      ]
     },
     "metadata": {},
     "output_type": "display_data"
    },
    {
     "name": "stdout",
     "output_type": "stream",
     "text": [
      "url : https://distiller.com/spirits/detroit-city-bloodline-whiskey/tastes?page=1\n",
      "====================================================================================================================================\n",
      "index : 3438 total_rating : 77 totalPage : 8\n"
     ]
    },
    {
     "data": {
      "application/vnd.jupyter.widget-view+json": {
       "model_id": "a4c06f25396d49c28753a1ce7793eba0",
       "version_major": 2,
       "version_minor": 0
      },
      "text/plain": [
       "inner:   0%|          | 0/8 [00:00<?, ?it/s]"
      ]
     },
     "metadata": {},
     "output_type": "display_data"
    },
    {
     "name": "stdout",
     "output_type": "stream",
     "text": [
      "url : https://distiller.com/spirits/jim-beam-jacob-s-ghost/tastes?page=1\n",
      "url : https://distiller.com/spirits/jim-beam-jacob-s-ghost/tastes?page=2\n",
      "url : https://distiller.com/spirits/jim-beam-jacob-s-ghost/tastes?page=3\n",
      "url : https://distiller.com/spirits/jim-beam-jacob-s-ghost/tastes?page=4\n",
      "url : https://distiller.com/spirits/jim-beam-jacob-s-ghost/tastes?page=5\n",
      "url : https://distiller.com/spirits/jim-beam-jacob-s-ghost/tastes?page=6\n",
      "url : https://distiller.com/spirits/jim-beam-jacob-s-ghost/tastes?page=7\n",
      "url : https://distiller.com/spirits/jim-beam-jacob-s-ghost/tastes?page=8\n",
      "====================================================================================================================================\n",
      "index : 3439 total_rating : 3 totalPage : 1\n"
     ]
    },
    {
     "data": {
      "application/vnd.jupyter.widget-view+json": {
       "model_id": "ba3f5377bdf742d49844fc8a9e894b5c",
       "version_major": 2,
       "version_minor": 0
      },
      "text/plain": [
       "inner:   0%|          | 0/1 [00:00<?, ?it/s]"
      ]
     },
     "metadata": {},
     "output_type": "display_data"
    },
    {
     "name": "stdout",
     "output_type": "stream",
     "text": [
      "url : https://distiller.com/spirits/double-barrel-laphroaig-macallan/tastes?page=1\n",
      "====================================================================================================================================\n",
      "index : 3440 total_rating : 120 totalPage : 12\n"
     ]
    },
    {
     "data": {
      "application/vnd.jupyter.widget-view+json": {
       "model_id": "c56e354738a148a79c693007243fc419",
       "version_major": 2,
       "version_minor": 0
      },
      "text/plain": [
       "inner:   0%|          | 0/12 [00:00<?, ?it/s]"
      ]
     },
     "metadata": {},
     "output_type": "display_data"
    },
    {
     "name": "stdout",
     "output_type": "stream",
     "text": [
      "url : https://distiller.com/spirits/black-white-blended-scotch/tastes?page=1\n",
      "url : https://distiller.com/spirits/black-white-blended-scotch/tastes?page=2\n",
      "url : https://distiller.com/spirits/black-white-blended-scotch/tastes?page=3\n",
      "url : https://distiller.com/spirits/black-white-blended-scotch/tastes?page=4\n",
      "url : https://distiller.com/spirits/black-white-blended-scotch/tastes?page=5\n",
      "url : https://distiller.com/spirits/black-white-blended-scotch/tastes?page=6\n",
      "url : https://distiller.com/spirits/black-white-blended-scotch/tastes?page=7\n",
      "url : https://distiller.com/spirits/black-white-blended-scotch/tastes?page=8\n",
      "url : https://distiller.com/spirits/black-white-blended-scotch/tastes?page=9\n",
      "url : https://distiller.com/spirits/black-white-blended-scotch/tastes?page=10\n",
      "url : https://distiller.com/spirits/black-white-blended-scotch/tastes?page=11\n",
      "url : https://distiller.com/spirits/black-white-blended-scotch/tastes?page=12\n",
      "====================================================================================================================================\n",
      "index : 3441 total_rating : 55 totalPage : 6\n"
     ]
    },
    {
     "data": {
      "application/vnd.jupyter.widget-view+json": {
       "model_id": "050657a00ac440debedb474db1077db3",
       "version_major": 2,
       "version_minor": 0
      },
      "text/plain": [
       "inner:   0%|          | 0/6 [00:00<?, ?it/s]"
      ]
     },
     "metadata": {},
     "output_type": "display_data"
    },
    {
     "name": "stdout",
     "output_type": "stream",
     "text": [
      "url : https://distiller.com/spirits/cody-road-rye-whiskey/tastes?page=1\n",
      "url : https://distiller.com/spirits/cody-road-rye-whiskey/tastes?page=2\n",
      "url : https://distiller.com/spirits/cody-road-rye-whiskey/tastes?page=3\n",
      "url : https://distiller.com/spirits/cody-road-rye-whiskey/tastes?page=4\n",
      "url : https://distiller.com/spirits/cody-road-rye-whiskey/tastes?page=5\n",
      "url : https://distiller.com/spirits/cody-road-rye-whiskey/tastes?page=6\n",
      "====================================================================================================================================\n",
      "index : 3442 total_rating : 34 totalPage : 4\n"
     ]
    },
    {
     "data": {
      "application/vnd.jupyter.widget-view+json": {
       "model_id": "043c06159ea14d249dea6c66dbb15730",
       "version_major": 2,
       "version_minor": 0
      },
      "text/plain": [
       "inner:   0%|          | 0/4 [00:00<?, ?it/s]"
      ]
     },
     "metadata": {},
     "output_type": "display_data"
    },
    {
     "name": "stdout",
     "output_type": "stream",
     "text": [
      "url : https://distiller.com/spirits/breuckelen-77-rye-corn-whiskey/tastes?page=1\n",
      "url : https://distiller.com/spirits/breuckelen-77-rye-corn-whiskey/tastes?page=2\n",
      "url : https://distiller.com/spirits/breuckelen-77-rye-corn-whiskey/tastes?page=3\n",
      "url : https://distiller.com/spirits/breuckelen-77-rye-corn-whiskey/tastes?page=4\n",
      "====================================================================================================================================\n",
      "index : 3443 total_rating : 43 totalPage : 5\n"
     ]
    },
    {
     "data": {
      "application/vnd.jupyter.widget-view+json": {
       "model_id": "5ece744eed9c4205ab7a2ac2fa865e80",
       "version_major": 2,
       "version_minor": 0
      },
      "text/plain": [
       "inner:   0%|          | 0/5 [00:00<?, ?it/s]"
      ]
     },
     "metadata": {},
     "output_type": "display_data"
    },
    {
     "name": "stdout",
     "output_type": "stream",
     "text": [
      "url : https://distiller.com/spirits/dark-horse-reserve-bourbon/tastes?page=1\n",
      "url : https://distiller.com/spirits/dark-horse-reserve-bourbon/tastes?page=2\n",
      "url : https://distiller.com/spirits/dark-horse-reserve-bourbon/tastes?page=3\n",
      "url : https://distiller.com/spirits/dark-horse-reserve-bourbon/tastes?page=4\n",
      "url : https://distiller.com/spirits/dark-horse-reserve-bourbon/tastes?page=5\n",
      "====================================================================================================================================\n",
      "index : 3444 total_rating : 34 totalPage : 4\n"
     ]
    },
    {
     "data": {
      "application/vnd.jupyter.widget-view+json": {
       "model_id": "5066747e0d434d6d9218ed047c6f993d",
       "version_major": 2,
       "version_minor": 0
      },
      "text/plain": [
       "inner:   0%|          | 0/4 [00:00<?, ?it/s]"
      ]
     },
     "metadata": {},
     "output_type": "display_data"
    },
    {
     "name": "stdout",
     "output_type": "stream",
     "text": [
      "url : https://distiller.com/spirits/texas-crown-club-ultra-premium/tastes?page=1\n",
      "url : https://distiller.com/spirits/texas-crown-club-ultra-premium/tastes?page=2\n",
      "url : https://distiller.com/spirits/texas-crown-club-ultra-premium/tastes?page=3\n",
      "url : https://distiller.com/spirits/texas-crown-club-ultra-premium/tastes?page=4\n",
      "====================================================================================================================================\n",
      "index : 3445 total_rating : 242 totalPage : 25\n"
     ]
    },
    {
     "data": {
      "application/vnd.jupyter.widget-view+json": {
       "model_id": "3e382b808acb49a5bd1fac9c9058af42",
       "version_major": 2,
       "version_minor": 0
      },
      "text/plain": [
       "inner:   0%|          | 0/25 [00:00<?, ?it/s]"
      ]
     },
     "metadata": {},
     "output_type": "display_data"
    },
    {
     "name": "stdout",
     "output_type": "stream",
     "text": [
      "url : https://distiller.com/spirits/canadian-club-classic-12-year/tastes?page=1\n",
      "url : https://distiller.com/spirits/canadian-club-classic-12-year/tastes?page=2\n",
      "url : https://distiller.com/spirits/canadian-club-classic-12-year/tastes?page=3\n",
      "url : https://distiller.com/spirits/canadian-club-classic-12-year/tastes?page=4\n",
      "url : https://distiller.com/spirits/canadian-club-classic-12-year/tastes?page=5\n",
      "url : https://distiller.com/spirits/canadian-club-classic-12-year/tastes?page=6\n",
      "url : https://distiller.com/spirits/canadian-club-classic-12-year/tastes?page=7\n",
      "url : https://distiller.com/spirits/canadian-club-classic-12-year/tastes?page=8\n",
      "url : https://distiller.com/spirits/canadian-club-classic-12-year/tastes?page=9\n",
      "url : https://distiller.com/spirits/canadian-club-classic-12-year/tastes?page=10\n",
      "url : https://distiller.com/spirits/canadian-club-classic-12-year/tastes?page=11\n",
      "url : https://distiller.com/spirits/canadian-club-classic-12-year/tastes?page=12\n",
      "url : https://distiller.com/spirits/canadian-club-classic-12-year/tastes?page=13\n",
      "url : https://distiller.com/spirits/canadian-club-classic-12-year/tastes?page=14\n",
      "url : https://distiller.com/spirits/canadian-club-classic-12-year/tastes?page=15\n",
      "url : https://distiller.com/spirits/canadian-club-classic-12-year/tastes?page=16\n",
      "url : https://distiller.com/spirits/canadian-club-classic-12-year/tastes?page=17\n",
      "url : https://distiller.com/spirits/canadian-club-classic-12-year/tastes?page=18\n",
      "url : https://distiller.com/spirits/canadian-club-classic-12-year/tastes?page=19\n",
      "url : https://distiller.com/spirits/canadian-club-classic-12-year/tastes?page=20\n",
      "url : https://distiller.com/spirits/canadian-club-classic-12-year/tastes?page=21\n",
      "url : https://distiller.com/spirits/canadian-club-classic-12-year/tastes?page=22\n",
      "url : https://distiller.com/spirits/canadian-club-classic-12-year/tastes?page=23\n",
      "url : https://distiller.com/spirits/canadian-club-classic-12-year/tastes?page=24\n",
      "url : https://distiller.com/spirits/canadian-club-classic-12-year/tastes?page=25\n",
      "====================================================================================================================================\n",
      "index : 3446 total_rating : 19 totalPage : 2\n"
     ]
    },
    {
     "data": {
      "application/vnd.jupyter.widget-view+json": {
       "model_id": "a8702281ab174904b992b59ef9e99feb",
       "version_major": 2,
       "version_minor": 0
      },
      "text/plain": [
       "inner:   0%|          | 0/2 [00:00<?, ?it/s]"
      ]
     },
     "metadata": {},
     "output_type": "display_data"
    },
    {
     "name": "stdout",
     "output_type": "stream",
     "text": [
      "url : https://distiller.com/spirits/black-nikka-clear/tastes?page=1\n",
      "url : https://distiller.com/spirits/black-nikka-clear/tastes?page=2\n",
      "====================================================================================================================================\n",
      "index : 3447 total_rating : 6 totalPage : 1\n"
     ]
    },
    {
     "data": {
      "application/vnd.jupyter.widget-view+json": {
       "model_id": "363a2866c76648a785f80bb8b2b21ccc",
       "version_major": 2,
       "version_minor": 0
      },
      "text/plain": [
       "inner:   0%|          | 0/1 [00:00<?, ?it/s]"
      ]
     },
     "metadata": {},
     "output_type": "display_data"
    },
    {
     "name": "stdout",
     "output_type": "stream",
     "text": [
      "url : https://distiller.com/spirits/kinsey-7-year-whiskey/tastes?page=1\n",
      "====================================================================================================================================\n",
      "index : 3448 total_rating : 11 totalPage : 2\n"
     ]
    },
    {
     "data": {
      "application/vnd.jupyter.widget-view+json": {
       "model_id": "3da8f44863bd4976a04ca33f0b652574",
       "version_major": 2,
       "version_minor": 0
      },
      "text/plain": [
       "inner:   0%|          | 0/2 [00:00<?, ?it/s]"
      ]
     },
     "metadata": {},
     "output_type": "display_data"
    },
    {
     "name": "stdout",
     "output_type": "stream",
     "text": [
      "url : https://distiller.com/spirits/honey-house-colorado-honey-whiskey/tastes?page=1\n",
      "url : https://distiller.com/spirits/honey-house-colorado-honey-whiskey/tastes?page=2\n",
      "====================================================================================================================================\n",
      "index : 3449 total_rating : 1 totalPage : 1\n"
     ]
    },
    {
     "data": {
      "application/vnd.jupyter.widget-view+json": {
       "model_id": "1ec3fa88b0474858b1615e0dcc7c9083",
       "version_major": 2,
       "version_minor": 0
      },
      "text/plain": [
       "inner:   0%|          | 0/1 [00:00<?, ?it/s]"
      ]
     },
     "metadata": {},
     "output_type": "display_data"
    },
    {
     "name": "stdout",
     "output_type": "stream",
     "text": [
      "url : https://distiller.com/spirits/teton-moonshine-raspberry-whiskey/tastes?page=1\n",
      "====================================================================================================================================\n",
      "index : 3450 total_rating : 26 totalPage : 3\n"
     ]
    },
    {
     "data": {
      "application/vnd.jupyter.widget-view+json": {
       "model_id": "d14f098de4c2459bac1b129ea7a71b3e",
       "version_major": 2,
       "version_minor": 0
      },
      "text/plain": [
       "inner:   0%|          | 0/3 [00:00<?, ?it/s]"
      ]
     },
     "metadata": {},
     "output_type": "display_data"
    },
    {
     "name": "stdout",
     "output_type": "stream",
     "text": [
      "url : https://distiller.com/spirits/seven-devils-straight-bourbon/tastes?page=1\n",
      "url : https://distiller.com/spirits/seven-devils-straight-bourbon/tastes?page=2\n",
      "url : https://distiller.com/spirits/seven-devils-straight-bourbon/tastes?page=3\n",
      "====================================================================================================================================\n",
      "index : 3451 total_rating : 13 totalPage : 2\n"
     ]
    },
    {
     "data": {
      "application/vnd.jupyter.widget-view+json": {
       "model_id": "9940bbd542b3477cb4dbb9c56b8d93d8",
       "version_major": 2,
       "version_minor": 0
      },
      "text/plain": [
       "inner:   0%|          | 0/2 [00:00<?, ?it/s]"
      ]
     },
     "metadata": {},
     "output_type": "display_data"
    },
    {
     "name": "stdout",
     "output_type": "stream",
     "text": [
      "url : https://distiller.com/spirits/rebel-yell-ginger-whiskey/tastes?page=1\n",
      "url : https://distiller.com/spirits/rebel-yell-ginger-whiskey/tastes?page=2\n",
      "====================================================================================================================================\n",
      "index : 3452 total_rating : 0 totalPage : 0\n"
     ]
    },
    {
     "data": {
      "application/vnd.jupyter.widget-view+json": {
       "model_id": "1bd7b19e69f54e32a41c3e8d9697e9d0",
       "version_major": 2,
       "version_minor": 0
      },
      "text/plain": [
       "inner: 0it [00:00, ?it/s]"
      ]
     },
     "metadata": {},
     "output_type": "display_data"
    },
    {
     "name": "stdout",
     "output_type": "stream",
     "text": [
      "====================================================================================================================================\n",
      "index : 3453 total_rating : 22 totalPage : 3\n"
     ]
    },
    {
     "data": {
      "application/vnd.jupyter.widget-view+json": {
       "model_id": "b17f80f918c24f0380b78b932d6e34c5",
       "version_major": 2,
       "version_minor": 0
      },
      "text/plain": [
       "inner:   0%|          | 0/3 [00:00<?, ?it/s]"
      ]
     },
     "metadata": {},
     "output_type": "display_data"
    },
    {
     "name": "stdout",
     "output_type": "stream",
     "text": [
      "url : https://distiller.com/spirits/duggan-s-dew-o-kirkintilloch/tastes?page=1\n",
      "url : https://distiller.com/spirits/duggan-s-dew-o-kirkintilloch/tastes?page=2\n",
      "url : https://distiller.com/spirits/duggan-s-dew-o-kirkintilloch/tastes?page=3\n",
      "====================================================================================================================================\n",
      "index : 3454 total_rating : 4 totalPage : 1\n"
     ]
    },
    {
     "data": {
      "application/vnd.jupyter.widget-view+json": {
       "model_id": "baded046391e4c2281ac20146284e8f6",
       "version_major": 2,
       "version_minor": 0
      },
      "text/plain": [
       "inner:   0%|          | 0/1 [00:00<?, ?it/s]"
      ]
     },
     "metadata": {},
     "output_type": "display_data"
    },
    {
     "name": "stdout",
     "output_type": "stream",
     "text": [
      "url : https://distiller.com/spirits/coppercraft-distillery-rye-malt/tastes?page=1\n",
      "====================================================================================================================================\n",
      "index : 3455 total_rating : 24 totalPage : 3\n"
     ]
    },
    {
     "data": {
      "application/vnd.jupyter.widget-view+json": {
       "model_id": "0b0008fd5e9e4227b55ae3c12e5d76f3",
       "version_major": 2,
       "version_minor": 0
      },
      "text/plain": [
       "inner:   0%|          | 0/3 [00:00<?, ?it/s]"
      ]
     },
     "metadata": {},
     "output_type": "display_data"
    },
    {
     "name": "stdout",
     "output_type": "stream",
     "text": [
      "url : https://distiller.com/spirits/dark-horse-reunion-rye/tastes?page=1\n",
      "url : https://distiller.com/spirits/dark-horse-reunion-rye/tastes?page=2\n",
      "url : https://distiller.com/spirits/dark-horse-reunion-rye/tastes?page=3\n",
      "====================================================================================================================================\n",
      "index : 3456 total_rating : 247 totalPage : 25\n"
     ]
    },
    {
     "data": {
      "application/vnd.jupyter.widget-view+json": {
       "model_id": "ebec0303024f446287d8f827cd587c76",
       "version_major": 2,
       "version_minor": 0
      },
      "text/plain": [
       "inner:   0%|          | 0/25 [00:00<?, ?it/s]"
      ]
     },
     "metadata": {},
     "output_type": "display_data"
    },
    {
     "name": "stdout",
     "output_type": "stream",
     "text": [
      "url : https://distiller.com/spirits/rebecca-creek-fine-texas-spirit-whiskey/tastes?page=1\n",
      "url : https://distiller.com/spirits/rebecca-creek-fine-texas-spirit-whiskey/tastes?page=2\n",
      "url : https://distiller.com/spirits/rebecca-creek-fine-texas-spirit-whiskey/tastes?page=3\n",
      "url : https://distiller.com/spirits/rebecca-creek-fine-texas-spirit-whiskey/tastes?page=4\n",
      "url : https://distiller.com/spirits/rebecca-creek-fine-texas-spirit-whiskey/tastes?page=5\n",
      "url : https://distiller.com/spirits/rebecca-creek-fine-texas-spirit-whiskey/tastes?page=6\n",
      "url : https://distiller.com/spirits/rebecca-creek-fine-texas-spirit-whiskey/tastes?page=7\n",
      "url : https://distiller.com/spirits/rebecca-creek-fine-texas-spirit-whiskey/tastes?page=8\n",
      "url : https://distiller.com/spirits/rebecca-creek-fine-texas-spirit-whiskey/tastes?page=9\n",
      "url : https://distiller.com/spirits/rebecca-creek-fine-texas-spirit-whiskey/tastes?page=10\n",
      "url : https://distiller.com/spirits/rebecca-creek-fine-texas-spirit-whiskey/tastes?page=11\n",
      "url : https://distiller.com/spirits/rebecca-creek-fine-texas-spirit-whiskey/tastes?page=12\n",
      "url : https://distiller.com/spirits/rebecca-creek-fine-texas-spirit-whiskey/tastes?page=13\n",
      "url : https://distiller.com/spirits/rebecca-creek-fine-texas-spirit-whiskey/tastes?page=14\n",
      "url : https://distiller.com/spirits/rebecca-creek-fine-texas-spirit-whiskey/tastes?page=15\n",
      "url : https://distiller.com/spirits/rebecca-creek-fine-texas-spirit-whiskey/tastes?page=16\n",
      "url : https://distiller.com/spirits/rebecca-creek-fine-texas-spirit-whiskey/tastes?page=17\n",
      "url : https://distiller.com/spirits/rebecca-creek-fine-texas-spirit-whiskey/tastes?page=18\n",
      "url : https://distiller.com/spirits/rebecca-creek-fine-texas-spirit-whiskey/tastes?page=19\n",
      "url : https://distiller.com/spirits/rebecca-creek-fine-texas-spirit-whiskey/tastes?page=20\n",
      "url : https://distiller.com/spirits/rebecca-creek-fine-texas-spirit-whiskey/tastes?page=21\n",
      "url : https://distiller.com/spirits/rebecca-creek-fine-texas-spirit-whiskey/tastes?page=22\n",
      "url : https://distiller.com/spirits/rebecca-creek-fine-texas-spirit-whiskey/tastes?page=23\n",
      "url : https://distiller.com/spirits/rebecca-creek-fine-texas-spirit-whiskey/tastes?page=24\n",
      "url : https://distiller.com/spirits/rebecca-creek-fine-texas-spirit-whiskey/tastes?page=25\n",
      "====================================================================================================================================\n",
      "index : 3457 total_rating : 177 totalPage : 18\n"
     ]
    },
    {
     "data": {
      "application/vnd.jupyter.widget-view+json": {
       "model_id": "b70b594bc1b54127810ee00670d4ee1d",
       "version_major": 2,
       "version_minor": 0
      },
      "text/plain": [
       "inner:   0%|          | 0/18 [00:00<?, ?it/s]"
      ]
     },
     "metadata": {},
     "output_type": "display_data"
    },
    {
     "name": "stdout",
     "output_type": "stream",
     "text": [
      "url : https://distiller.com/spirits/seagram-s-vo/tastes?page=1\n",
      "url : https://distiller.com/spirits/seagram-s-vo/tastes?page=2\n",
      "url : https://distiller.com/spirits/seagram-s-vo/tastes?page=3\n",
      "url : https://distiller.com/spirits/seagram-s-vo/tastes?page=4\n",
      "url : https://distiller.com/spirits/seagram-s-vo/tastes?page=5\n",
      "url : https://distiller.com/spirits/seagram-s-vo/tastes?page=6\n",
      "url : https://distiller.com/spirits/seagram-s-vo/tastes?page=7\n",
      "url : https://distiller.com/spirits/seagram-s-vo/tastes?page=8\n",
      "url : https://distiller.com/spirits/seagram-s-vo/tastes?page=9\n",
      "url : https://distiller.com/spirits/seagram-s-vo/tastes?page=10\n",
      "url : https://distiller.com/spirits/seagram-s-vo/tastes?page=11\n",
      "url : https://distiller.com/spirits/seagram-s-vo/tastes?page=12\n",
      "url : https://distiller.com/spirits/seagram-s-vo/tastes?page=13\n",
      "url : https://distiller.com/spirits/seagram-s-vo/tastes?page=14\n",
      "url : https://distiller.com/spirits/seagram-s-vo/tastes?page=15\n",
      "url : https://distiller.com/spirits/seagram-s-vo/tastes?page=16\n",
      "url : https://distiller.com/spirits/seagram-s-vo/tastes?page=17\n",
      "url : https://distiller.com/spirits/seagram-s-vo/tastes?page=18\n",
      "====================================================================================================================================\n",
      "index : 3458 total_rating : 53 totalPage : 6\n"
     ]
    },
    {
     "data": {
      "application/vnd.jupyter.widget-view+json": {
       "model_id": "ab0154eb90354bd0b5150112b2b7c52d",
       "version_major": 2,
       "version_minor": 0
      },
      "text/plain": [
       "inner:   0%|          | 0/6 [00:00<?, ?it/s]"
      ]
     },
     "metadata": {},
     "output_type": "display_data"
    },
    {
     "name": "stdout",
     "output_type": "stream",
     "text": [
      "url : https://distiller.com/spirits/three-chord-blended-bourbon/tastes?page=1\n",
      "url : https://distiller.com/spirits/three-chord-blended-bourbon/tastes?page=2\n",
      "url : https://distiller.com/spirits/three-chord-blended-bourbon/tastes?page=3\n",
      "url : https://distiller.com/spirits/three-chord-blended-bourbon/tastes?page=4\n",
      "url : https://distiller.com/spirits/three-chord-blended-bourbon/tastes?page=5\n",
      "url : https://distiller.com/spirits/three-chord-blended-bourbon/tastes?page=6\n",
      "====================================================================================================================================\n",
      "index : 3459 total_rating : 251 totalPage : 26\n"
     ]
    },
    {
     "data": {
      "application/vnd.jupyter.widget-view+json": {
       "model_id": "60574d8360a14296b040260e9c2a6545",
       "version_major": 2,
       "version_minor": 0
      },
      "text/plain": [
       "inner:   0%|          | 0/26 [00:00<?, ?it/s]"
      ]
     },
     "metadata": {},
     "output_type": "display_data"
    },
    {
     "name": "stdout",
     "output_type": "stream",
     "text": [
      "url : https://distiller.com/spirits/laphroaig-four-oak/tastes?page=1\n",
      "url : https://distiller.com/spirits/laphroaig-four-oak/tastes?page=2\n",
      "url : https://distiller.com/spirits/laphroaig-four-oak/tastes?page=3\n",
      "url : https://distiller.com/spirits/laphroaig-four-oak/tastes?page=4\n",
      "url : https://distiller.com/spirits/laphroaig-four-oak/tastes?page=5\n",
      "url : https://distiller.com/spirits/laphroaig-four-oak/tastes?page=6\n",
      "url : https://distiller.com/spirits/laphroaig-four-oak/tastes?page=7\n",
      "url : https://distiller.com/spirits/laphroaig-four-oak/tastes?page=8\n",
      "url : https://distiller.com/spirits/laphroaig-four-oak/tastes?page=9\n",
      "url : https://distiller.com/spirits/laphroaig-four-oak/tastes?page=10\n",
      "url : https://distiller.com/spirits/laphroaig-four-oak/tastes?page=11\n",
      "url : https://distiller.com/spirits/laphroaig-four-oak/tastes?page=12\n",
      "url : https://distiller.com/spirits/laphroaig-four-oak/tastes?page=13\n",
      "url : https://distiller.com/spirits/laphroaig-four-oak/tastes?page=14\n",
      "url : https://distiller.com/spirits/laphroaig-four-oak/tastes?page=15\n",
      "url : https://distiller.com/spirits/laphroaig-four-oak/tastes?page=16\n",
      "url : https://distiller.com/spirits/laphroaig-four-oak/tastes?page=17\n",
      "url : https://distiller.com/spirits/laphroaig-four-oak/tastes?page=18\n",
      "url : https://distiller.com/spirits/laphroaig-four-oak/tastes?page=19\n",
      "url : https://distiller.com/spirits/laphroaig-four-oak/tastes?page=20\n",
      "url : https://distiller.com/spirits/laphroaig-four-oak/tastes?page=21\n",
      "url : https://distiller.com/spirits/laphroaig-four-oak/tastes?page=22\n",
      "url : https://distiller.com/spirits/laphroaig-four-oak/tastes?page=23\n",
      "url : https://distiller.com/spirits/laphroaig-four-oak/tastes?page=24\n",
      "url : https://distiller.com/spirits/laphroaig-four-oak/tastes?page=25\n",
      "url : https://distiller.com/spirits/laphroaig-four-oak/tastes?page=26\n",
      "====================================================================================================================================\n",
      "index : 3460 total_rating : 13 totalPage : 2\n"
     ]
    },
    {
     "data": {
      "application/vnd.jupyter.widget-view+json": {
       "model_id": "3974f9ada64a41d98a2a9a9979c99ef0",
       "version_major": 2,
       "version_minor": 0
      },
      "text/plain": [
       "inner:   0%|          | 0/2 [00:00<?, ?it/s]"
      ]
     },
     "metadata": {},
     "output_type": "display_data"
    },
    {
     "name": "stdout",
     "output_type": "stream",
     "text": [
      "url : https://distiller.com/spirits/291-american-whiskey/tastes?page=1\n",
      "url : https://distiller.com/spirits/291-american-whiskey/tastes?page=2\n",
      "====================================================================================================================================\n",
      "index : 3461 total_rating : 3 totalPage : 1\n"
     ]
    },
    {
     "data": {
      "application/vnd.jupyter.widget-view+json": {
       "model_id": "9fca638212924029b41ecf6d0d00e529",
       "version_major": 2,
       "version_minor": 0
      },
      "text/plain": [
       "inner:   0%|          | 0/1 [00:00<?, ?it/s]"
      ]
     },
     "metadata": {},
     "output_type": "display_data"
    },
    {
     "name": "stdout",
     "output_type": "stream",
     "text": [
      "url : https://distiller.com/spirits/salado-texas-whiskey/tastes?page=1\n",
      "====================================================================================================================================\n",
      "index : 3462 total_rating : 2 totalPage : 1\n"
     ]
    },
    {
     "data": {
      "application/vnd.jupyter.widget-view+json": {
       "model_id": "cadb1fcc2b46437bba24ae76011f4707",
       "version_major": 2,
       "version_minor": 0
      },
      "text/plain": [
       "inner:   0%|          | 0/1 [00:00<?, ?it/s]"
      ]
     },
     "metadata": {},
     "output_type": "display_data"
    },
    {
     "name": "stdout",
     "output_type": "stream",
     "text": [
      "url : https://distiller.com/spirits/fliquor-bean-whiskey-infused-with-coffee/tastes?page=1\n",
      "====================================================================================================================================\n",
      "index : 3463 total_rating : 40 totalPage : 4\n"
     ]
    },
    {
     "data": {
      "application/vnd.jupyter.widget-view+json": {
       "model_id": "3f1898d368ba4e848c0f1a08aa9231b0",
       "version_major": 2,
       "version_minor": 0
      },
      "text/plain": [
       "inner:   0%|          | 0/4 [00:00<?, ?it/s]"
      ]
     },
     "metadata": {},
     "output_type": "display_data"
    },
    {
     "name": "stdout",
     "output_type": "stream",
     "text": [
      "url : https://distiller.com/spirits/palmetto-whiskey/tastes?page=1\n",
      "url : https://distiller.com/spirits/palmetto-whiskey/tastes?page=2\n",
      "url : https://distiller.com/spirits/palmetto-whiskey/tastes?page=3\n",
      "url : https://distiller.com/spirits/palmetto-whiskey/tastes?page=4\n",
      "====================================================================================================================================\n",
      "index : 3464 total_rating : 2 totalPage : 1\n"
     ]
    },
    {
     "data": {
      "application/vnd.jupyter.widget-view+json": {
       "model_id": "cca2f5eed22341b2b51a9268cfefe51d",
       "version_major": 2,
       "version_minor": 0
      },
      "text/plain": [
       "inner:   0%|          | 0/1 [00:00<?, ?it/s]"
      ]
     },
     "metadata": {},
     "output_type": "display_data"
    },
    {
     "name": "stdout",
     "output_type": "stream",
     "text": [
      "url : https://distiller.com/spirits/short-mountain-shiner-s-select-tennessee-moonshine/tastes?page=1\n",
      "====================================================================================================================================\n",
      "index : 3465 total_rating : 8 totalPage : 1\n"
     ]
    },
    {
     "data": {
      "application/vnd.jupyter.widget-view+json": {
       "model_id": "ccca36d7472f4d7a9d49214f44aac786",
       "version_major": 2,
       "version_minor": 0
      },
      "text/plain": [
       "inner:   0%|          | 0/1 [00:00<?, ?it/s]"
      ]
     },
     "metadata": {},
     "output_type": "display_data"
    },
    {
     "name": "stdout",
     "output_type": "stream",
     "text": [
      "url : https://distiller.com/spirits/missouri-spirits-bourbon-whiskey/tastes?page=1\n",
      "====================================================================================================================================\n",
      "index : 3466 total_rating : 5 totalPage : 1\n"
     ]
    },
    {
     "data": {
      "application/vnd.jupyter.widget-view+json": {
       "model_id": "030dfadde4824b5fb2d3ec5ae29fdf4d",
       "version_major": 2,
       "version_minor": 0
      },
      "text/plain": [
       "inner:   0%|          | 0/1 [00:00<?, ?it/s]"
      ]
     },
     "metadata": {},
     "output_type": "display_data"
    },
    {
     "name": "stdout",
     "output_type": "stream",
     "text": [
      "url : https://distiller.com/spirits/graveyard-sam-s-baby-bourbon/tastes?page=1\n",
      "====================================================================================================================================\n",
      "index : 3467 total_rating : 389 totalPage : 39\n"
     ]
    },
    {
     "data": {
      "application/vnd.jupyter.widget-view+json": {
       "model_id": "f2a7c8e46cdc4005a2d96517a8cde2e2",
       "version_major": 2,
       "version_minor": 0
      },
      "text/plain": [
       "inner:   0%|          | 0/39 [00:00<?, ?it/s]"
      ]
     },
     "metadata": {},
     "output_type": "display_data"
    },
    {
     "name": "stdout",
     "output_type": "stream",
     "text": [
      "url : https://distiller.com/spirits/calumet-farm-bourbon/tastes?page=1\n",
      "url : https://distiller.com/spirits/calumet-farm-bourbon/tastes?page=2\n",
      "url : https://distiller.com/spirits/calumet-farm-bourbon/tastes?page=3\n",
      "url : https://distiller.com/spirits/calumet-farm-bourbon/tastes?page=4\n",
      "url : https://distiller.com/spirits/calumet-farm-bourbon/tastes?page=5\n",
      "url : https://distiller.com/spirits/calumet-farm-bourbon/tastes?page=6\n",
      "url : https://distiller.com/spirits/calumet-farm-bourbon/tastes?page=7\n",
      "url : https://distiller.com/spirits/calumet-farm-bourbon/tastes?page=8\n",
      "url : https://distiller.com/spirits/calumet-farm-bourbon/tastes?page=9\n",
      "url : https://distiller.com/spirits/calumet-farm-bourbon/tastes?page=10\n",
      "url : https://distiller.com/spirits/calumet-farm-bourbon/tastes?page=11\n",
      "url : https://distiller.com/spirits/calumet-farm-bourbon/tastes?page=12\n",
      "url : https://distiller.com/spirits/calumet-farm-bourbon/tastes?page=13\n",
      "url : https://distiller.com/spirits/calumet-farm-bourbon/tastes?page=14\n",
      "url : https://distiller.com/spirits/calumet-farm-bourbon/tastes?page=15\n",
      "url : https://distiller.com/spirits/calumet-farm-bourbon/tastes?page=16\n",
      "url : https://distiller.com/spirits/calumet-farm-bourbon/tastes?page=17\n",
      "url : https://distiller.com/spirits/calumet-farm-bourbon/tastes?page=18\n",
      "url : https://distiller.com/spirits/calumet-farm-bourbon/tastes?page=19\n",
      "url : https://distiller.com/spirits/calumet-farm-bourbon/tastes?page=20\n",
      "url : https://distiller.com/spirits/calumet-farm-bourbon/tastes?page=21\n",
      "url : https://distiller.com/spirits/calumet-farm-bourbon/tastes?page=22\n",
      "url : https://distiller.com/spirits/calumet-farm-bourbon/tastes?page=23\n",
      "url : https://distiller.com/spirits/calumet-farm-bourbon/tastes?page=24\n",
      "url : https://distiller.com/spirits/calumet-farm-bourbon/tastes?page=25\n",
      "url : https://distiller.com/spirits/calumet-farm-bourbon/tastes?page=26\n",
      "url : https://distiller.com/spirits/calumet-farm-bourbon/tastes?page=27\n",
      "url : https://distiller.com/spirits/calumet-farm-bourbon/tastes?page=28\n",
      "url : https://distiller.com/spirits/calumet-farm-bourbon/tastes?page=29\n",
      "url : https://distiller.com/spirits/calumet-farm-bourbon/tastes?page=30\n",
      "url : https://distiller.com/spirits/calumet-farm-bourbon/tastes?page=31\n",
      "url : https://distiller.com/spirits/calumet-farm-bourbon/tastes?page=32\n",
      "url : https://distiller.com/spirits/calumet-farm-bourbon/tastes?page=33\n",
      "url : https://distiller.com/spirits/calumet-farm-bourbon/tastes?page=34\n",
      "url : https://distiller.com/spirits/calumet-farm-bourbon/tastes?page=35\n",
      "url : https://distiller.com/spirits/calumet-farm-bourbon/tastes?page=36\n",
      "url : https://distiller.com/spirits/calumet-farm-bourbon/tastes?page=37\n",
      "url : https://distiller.com/spirits/calumet-farm-bourbon/tastes?page=38\n",
      "url : https://distiller.com/spirits/calumet-farm-bourbon/tastes?page=39\n",
      "====================================================================================================================================\n",
      "index : 3468 total_rating : 10 totalPage : 1\n"
     ]
    },
    {
     "data": {
      "application/vnd.jupyter.widget-view+json": {
       "model_id": "6913a417a2d1495ba29b102dad2a2595",
       "version_major": 2,
       "version_minor": 0
      },
      "text/plain": [
       "inner:   0%|          | 0/1 [00:00<?, ?it/s]"
      ]
     },
     "metadata": {},
     "output_type": "display_data"
    },
    {
     "name": "stdout",
     "output_type": "stream",
     "text": [
      "url : https://distiller.com/spirits/wigle-four-grain-whiskey/tastes?page=1\n",
      "====================================================================================================================================\n",
      "index : 3469 total_rating : 14 totalPage : 2\n"
     ]
    },
    {
     "data": {
      "application/vnd.jupyter.widget-view+json": {
       "model_id": "ccb348af8c064be38d38570121df8995",
       "version_major": 2,
       "version_minor": 0
      },
      "text/plain": [
       "inner:   0%|          | 0/2 [00:00<?, ?it/s]"
      ]
     },
     "metadata": {},
     "output_type": "display_data"
    },
    {
     "name": "stdout",
     "output_type": "stream",
     "text": [
      "url : https://distiller.com/spirits/bootlegger-21-new-york-bourbon/tastes?page=1\n",
      "url : https://distiller.com/spirits/bootlegger-21-new-york-bourbon/tastes?page=2\n",
      "====================================================================================================================================\n",
      "index : 3470 total_rating : 3 totalPage : 1\n"
     ]
    },
    {
     "data": {
      "application/vnd.jupyter.widget-view+json": {
       "model_id": "a7fc277b62be453b989074e0be46660f",
       "version_major": 2,
       "version_minor": 0
      },
      "text/plain": [
       "inner:   0%|          | 0/1 [00:00<?, ?it/s]"
      ]
     },
     "metadata": {},
     "output_type": "display_data"
    },
    {
     "name": "stdout",
     "output_type": "stream",
     "text": [
      "url : https://distiller.com/spirits/j-k-williams-bourbon-barrel-whiskey/tastes?page=1\n",
      "====================================================================================================================================\n",
      "index : 3471 total_rating : 3 totalPage : 1\n"
     ]
    },
    {
     "data": {
      "application/vnd.jupyter.widget-view+json": {
       "model_id": "7091f6caa73046bf85fadb630958146c",
       "version_major": 2,
       "version_minor": 0
      },
      "text/plain": [
       "inner:   0%|          | 0/1 [00:00<?, ?it/s]"
      ]
     },
     "metadata": {},
     "output_type": "display_data"
    },
    {
     "name": "stdout",
     "output_type": "stream",
     "text": [
      "url : https://distiller.com/spirits/tirado-gold-corn-whiskey/tastes?page=1\n",
      "====================================================================================================================================\n",
      "index : 3472 total_rating : 54 totalPage : 6\n"
     ]
    },
    {
     "data": {
      "application/vnd.jupyter.widget-view+json": {
       "model_id": "b563232376da4d7089ce2c35de01941f",
       "version_major": 2,
       "version_minor": 0
      },
      "text/plain": [
       "inner:   0%|          | 0/6 [00:00<?, ?it/s]"
      ]
     },
     "metadata": {},
     "output_type": "display_data"
    },
    {
     "name": "stdout",
     "output_type": "stream",
     "text": [
      "url : https://distiller.com/spirits/wasmund-s-single-malt/tastes?page=1\n",
      "url : https://distiller.com/spirits/wasmund-s-single-malt/tastes?page=2\n",
      "url : https://distiller.com/spirits/wasmund-s-single-malt/tastes?page=3\n",
      "url : https://distiller.com/spirits/wasmund-s-single-malt/tastes?page=4\n",
      "url : https://distiller.com/spirits/wasmund-s-single-malt/tastes?page=5\n",
      "url : https://distiller.com/spirits/wasmund-s-single-malt/tastes?page=6\n",
      "====================================================================================================================================\n",
      "index : 3473 total_rating : 37 totalPage : 4\n"
     ]
    },
    {
     "data": {
      "application/vnd.jupyter.widget-view+json": {
       "model_id": "5d4d3daa8c444e61b69863bf230aa2e0",
       "version_major": 2,
       "version_minor": 0
      },
      "text/plain": [
       "inner:   0%|          | 0/4 [00:00<?, ?it/s]"
      ]
     },
     "metadata": {},
     "output_type": "display_data"
    },
    {
     "name": "stdout",
     "output_type": "stream",
     "text": [
      "url : https://distiller.com/spirits/jura-brooklyn/tastes?page=1\n",
      "url : https://distiller.com/spirits/jura-brooklyn/tastes?page=2\n",
      "url : https://distiller.com/spirits/jura-brooklyn/tastes?page=3\n",
      "url : https://distiller.com/spirits/jura-brooklyn/tastes?page=4\n",
      "====================================================================================================================================\n",
      "index : 3474 total_rating : 10 totalPage : 1\n"
     ]
    },
    {
     "data": {
      "application/vnd.jupyter.widget-view+json": {
       "model_id": "bf7123a9881644d58e7a487a32c3482d",
       "version_major": 2,
       "version_minor": 0
      },
      "text/plain": [
       "inner:   0%|          | 0/1 [00:00<?, ?it/s]"
      ]
     },
     "metadata": {},
     "output_type": "display_data"
    },
    {
     "name": "stdout",
     "output_type": "stream",
     "text": [
      "url : https://distiller.com/spirits/old-charter-101/tastes?page=1\n",
      "====================================================================================================================================\n",
      "index : 3475 total_rating : 37 totalPage : 4\n"
     ]
    },
    {
     "data": {
      "application/vnd.jupyter.widget-view+json": {
       "model_id": "1ea76d5e395d45e7b57a66851c684a0b",
       "version_major": 2,
       "version_minor": 0
      },
      "text/plain": [
       "inner:   0%|          | 0/4 [00:00<?, ?it/s]"
      ]
     },
     "metadata": {},
     "output_type": "display_data"
    },
    {
     "name": "stdout",
     "output_type": "stream",
     "text": [
      "url : https://distiller.com/spirits/breuckelen-77-new-york-wheat-whiskey/tastes?page=1\n",
      "url : https://distiller.com/spirits/breuckelen-77-new-york-wheat-whiskey/tastes?page=2\n",
      "url : https://distiller.com/spirits/breuckelen-77-new-york-wheat-whiskey/tastes?page=3\n",
      "url : https://distiller.com/spirits/breuckelen-77-new-york-wheat-whiskey/tastes?page=4\n",
      "====================================================================================================================================\n",
      "index : 3476 total_rating : 1 totalPage : 1\n"
     ]
    },
    {
     "data": {
      "application/vnd.jupyter.widget-view+json": {
       "model_id": "218d155171844350a49da8d7d71ca21c",
       "version_major": 2,
       "version_minor": 0
      },
      "text/plain": [
       "inner:   0%|          | 0/1 [00:00<?, ?it/s]"
      ]
     },
     "metadata": {},
     "output_type": "display_data"
    },
    {
     "name": "stdout",
     "output_type": "stream",
     "text": [
      "url : https://distiller.com/spirits/lower-east-side-blended-malt/tastes?page=1\n",
      "====================================================================================================================================\n",
      "index : 3477 total_rating : 290 totalPage : 29\n"
     ]
    },
    {
     "data": {
      "application/vnd.jupyter.widget-view+json": {
       "model_id": "dddb5005abe44897957a21d0ab61c788",
       "version_major": 2,
       "version_minor": 0
      },
      "text/plain": [
       "inner:   0%|          | 0/29 [00:00<?, ?it/s]"
      ]
     },
     "metadata": {},
     "output_type": "display_data"
    },
    {
     "name": "stdout",
     "output_type": "stream",
     "text": [
      "url : https://distiller.com/spirits/jameson-cold-brew/tastes?page=1\n",
      "url : https://distiller.com/spirits/jameson-cold-brew/tastes?page=2\n",
      "url : https://distiller.com/spirits/jameson-cold-brew/tastes?page=3\n",
      "url : https://distiller.com/spirits/jameson-cold-brew/tastes?page=4\n",
      "url : https://distiller.com/spirits/jameson-cold-brew/tastes?page=5\n",
      "url : https://distiller.com/spirits/jameson-cold-brew/tastes?page=6\n",
      "url : https://distiller.com/spirits/jameson-cold-brew/tastes?page=7\n",
      "url : https://distiller.com/spirits/jameson-cold-brew/tastes?page=8\n",
      "url : https://distiller.com/spirits/jameson-cold-brew/tastes?page=9\n",
      "url : https://distiller.com/spirits/jameson-cold-brew/tastes?page=10\n",
      "url : https://distiller.com/spirits/jameson-cold-brew/tastes?page=11\n",
      "url : https://distiller.com/spirits/jameson-cold-brew/tastes?page=12\n",
      "url : https://distiller.com/spirits/jameson-cold-brew/tastes?page=13\n",
      "url : https://distiller.com/spirits/jameson-cold-brew/tastes?page=14\n",
      "url : https://distiller.com/spirits/jameson-cold-brew/tastes?page=15\n",
      "url : https://distiller.com/spirits/jameson-cold-brew/tastes?page=16\n",
      "url : https://distiller.com/spirits/jameson-cold-brew/tastes?page=17\n",
      "url : https://distiller.com/spirits/jameson-cold-brew/tastes?page=18\n",
      "url : https://distiller.com/spirits/jameson-cold-brew/tastes?page=19\n",
      "url : https://distiller.com/spirits/jameson-cold-brew/tastes?page=20\n",
      "url : https://distiller.com/spirits/jameson-cold-brew/tastes?page=21\n",
      "url : https://distiller.com/spirits/jameson-cold-brew/tastes?page=22\n",
      "url : https://distiller.com/spirits/jameson-cold-brew/tastes?page=23\n",
      "url : https://distiller.com/spirits/jameson-cold-brew/tastes?page=24\n",
      "url : https://distiller.com/spirits/jameson-cold-brew/tastes?page=25\n",
      "url : https://distiller.com/spirits/jameson-cold-brew/tastes?page=26\n",
      "url : https://distiller.com/spirits/jameson-cold-brew/tastes?page=27\n",
      "url : https://distiller.com/spirits/jameson-cold-brew/tastes?page=28\n",
      "url : https://distiller.com/spirits/jameson-cold-brew/tastes?page=29\n",
      "====================================================================================================================================\n",
      "index : 3478 total_rating : 10 totalPage : 1\n"
     ]
    },
    {
     "data": {
      "application/vnd.jupyter.widget-view+json": {
       "model_id": "1d82e73e7a2949ff995008713de95832",
       "version_major": 2,
       "version_minor": 0
      },
      "text/plain": [
       "inner:   0%|          | 0/1 [00:00<?, ?it/s]"
      ]
     },
     "metadata": {},
     "output_type": "display_data"
    },
    {
     "name": "stdout",
     "output_type": "stream",
     "text": [
      "url : https://distiller.com/spirits/boot-hill-distillery-red-eye-whiskey/tastes?page=1\n",
      "====================================================================================================================================\n",
      "index : 3479 total_rating : 0 totalPage : 0\n"
     ]
    },
    {
     "data": {
      "application/vnd.jupyter.widget-view+json": {
       "model_id": "0d91577d73bd4528b7ceeb2ff2c2d408",
       "version_major": 2,
       "version_minor": 0
      },
      "text/plain": [
       "inner: 0it [00:00, ?it/s]"
      ]
     },
     "metadata": {},
     "output_type": "display_data"
    },
    {
     "name": "stdout",
     "output_type": "stream",
     "text": [
      "====================================================================================================================================\n",
      "index : 3480 total_rating : 1 totalPage : 1\n"
     ]
    },
    {
     "data": {
      "application/vnd.jupyter.widget-view+json": {
       "model_id": "c9638498f257418a8e345bcf7e3840cb",
       "version_major": 2,
       "version_minor": 0
      },
      "text/plain": [
       "inner:   0%|          | 0/1 [00:00<?, ?it/s]"
      ]
     },
     "metadata": {},
     "output_type": "display_data"
    },
    {
     "name": "stdout",
     "output_type": "stream",
     "text": [
      "url : https://distiller.com/spirits/still-cellars-whiskey-barley/tastes?page=1\n",
      "====================================================================================================================================\n",
      "index : 3481 total_rating : 12 totalPage : 2\n"
     ]
    },
    {
     "data": {
      "application/vnd.jupyter.widget-view+json": {
       "model_id": "1c1c1eba556a41c991bb8ed2800a417b",
       "version_major": 2,
       "version_minor": 0
      },
      "text/plain": [
       "inner:   0%|          | 0/2 [00:00<?, ?it/s]"
      ]
     },
     "metadata": {},
     "output_type": "display_data"
    },
    {
     "name": "stdout",
     "output_type": "stream",
     "text": [
      "url : https://distiller.com/spirits/eastside-distilling-marionberry-whiskey/tastes?page=1\n",
      "url : https://distiller.com/spirits/eastside-distilling-marionberry-whiskey/tastes?page=2\n",
      "====================================================================================================================================\n",
      "index : 3482 total_rating : 14 totalPage : 2\n"
     ]
    },
    {
     "data": {
      "application/vnd.jupyter.widget-view+json": {
       "model_id": "a7c4d2769e934e7fa3d569eb54ca936e",
       "version_major": 2,
       "version_minor": 0
      },
      "text/plain": [
       "inner:   0%|          | 0/2 [00:00<?, ?it/s]"
      ]
     },
     "metadata": {},
     "output_type": "display_data"
    },
    {
     "name": "stdout",
     "output_type": "stream",
     "text": [
      "url : https://distiller.com/spirits/charred-oak-bourbon/tastes?page=1\n",
      "url : https://distiller.com/spirits/charred-oak-bourbon/tastes?page=2\n",
      "====================================================================================================================================\n",
      "index : 3483 total_rating : 197 totalPage : 20\n"
     ]
    },
    {
     "data": {
      "application/vnd.jupyter.widget-view+json": {
       "model_id": "718be8dca64f4e568375c746d33f8afc",
       "version_major": 2,
       "version_minor": 0
      },
      "text/plain": [
       "inner:   0%|          | 0/20 [00:00<?, ?it/s]"
      ]
     },
     "metadata": {},
     "output_type": "display_data"
    },
    {
     "name": "stdout",
     "output_type": "stream",
     "text": [
      "url : https://distiller.com/spirits/bell-s-original/tastes?page=1\n",
      "url : https://distiller.com/spirits/bell-s-original/tastes?page=2\n",
      "url : https://distiller.com/spirits/bell-s-original/tastes?page=3\n",
      "url : https://distiller.com/spirits/bell-s-original/tastes?page=4\n",
      "url : https://distiller.com/spirits/bell-s-original/tastes?page=5\n",
      "url : https://distiller.com/spirits/bell-s-original/tastes?page=6\n",
      "url : https://distiller.com/spirits/bell-s-original/tastes?page=7\n",
      "url : https://distiller.com/spirits/bell-s-original/tastes?page=8\n",
      "url : https://distiller.com/spirits/bell-s-original/tastes?page=9\n",
      "url : https://distiller.com/spirits/bell-s-original/tastes?page=10\n",
      "url : https://distiller.com/spirits/bell-s-original/tastes?page=11\n",
      "url : https://distiller.com/spirits/bell-s-original/tastes?page=12\n",
      "url : https://distiller.com/spirits/bell-s-original/tastes?page=13\n",
      "url : https://distiller.com/spirits/bell-s-original/tastes?page=14\n",
      "url : https://distiller.com/spirits/bell-s-original/tastes?page=15\n",
      "url : https://distiller.com/spirits/bell-s-original/tastes?page=16\n",
      "url : https://distiller.com/spirits/bell-s-original/tastes?page=17\n",
      "url : https://distiller.com/spirits/bell-s-original/tastes?page=18\n",
      "url : https://distiller.com/spirits/bell-s-original/tastes?page=19\n",
      "url : https://distiller.com/spirits/bell-s-original/tastes?page=20\n",
      "====================================================================================================================================\n",
      "index : 3484 total_rating : 17 totalPage : 2\n"
     ]
    },
    {
     "data": {
      "application/vnd.jupyter.widget-view+json": {
       "model_id": "92a10deff0fe47d7a5a0b959f30b0027",
       "version_major": 2,
       "version_minor": 0
      },
      "text/plain": [
       "inner:   0%|          | 0/2 [00:00<?, ?it/s]"
      ]
     },
     "metadata": {},
     "output_type": "display_data"
    },
    {
     "name": "stdout",
     "output_type": "stream",
     "text": [
      "url : https://distiller.com/spirits/highspire-whiskey/tastes?page=1\n",
      "url : https://distiller.com/spirits/highspire-whiskey/tastes?page=2\n",
      "====================================================================================================================================\n",
      "index : 3485 total_rating : 242 totalPage : 25\n"
     ]
    },
    {
     "data": {
      "application/vnd.jupyter.widget-view+json": {
       "model_id": "9144aeff26e8417cba39d623cd47f4c5",
       "version_major": 2,
       "version_minor": 0
      },
      "text/plain": [
       "inner:   0%|          | 0/25 [00:00<?, ?it/s]"
      ]
     },
     "metadata": {},
     "output_type": "display_data"
    },
    {
     "name": "stdout",
     "output_type": "stream",
     "text": [
      "url : https://distiller.com/spirits/old-crow-bourbon/tastes?page=1\n",
      "url : https://distiller.com/spirits/old-crow-bourbon/tastes?page=2\n",
      "url : https://distiller.com/spirits/old-crow-bourbon/tastes?page=3\n",
      "url : https://distiller.com/spirits/old-crow-bourbon/tastes?page=4\n",
      "url : https://distiller.com/spirits/old-crow-bourbon/tastes?page=5\n",
      "url : https://distiller.com/spirits/old-crow-bourbon/tastes?page=6\n",
      "url : https://distiller.com/spirits/old-crow-bourbon/tastes?page=7\n",
      "url : https://distiller.com/spirits/old-crow-bourbon/tastes?page=8\n",
      "url : https://distiller.com/spirits/old-crow-bourbon/tastes?page=9\n",
      "url : https://distiller.com/spirits/old-crow-bourbon/tastes?page=10\n",
      "url : https://distiller.com/spirits/old-crow-bourbon/tastes?page=11\n",
      "url : https://distiller.com/spirits/old-crow-bourbon/tastes?page=12\n",
      "url : https://distiller.com/spirits/old-crow-bourbon/tastes?page=13\n",
      "url : https://distiller.com/spirits/old-crow-bourbon/tastes?page=14\n",
      "url : https://distiller.com/spirits/old-crow-bourbon/tastes?page=15\n",
      "url : https://distiller.com/spirits/old-crow-bourbon/tastes?page=16\n",
      "url : https://distiller.com/spirits/old-crow-bourbon/tastes?page=17\n",
      "url : https://distiller.com/spirits/old-crow-bourbon/tastes?page=18\n",
      "url : https://distiller.com/spirits/old-crow-bourbon/tastes?page=19\n",
      "url : https://distiller.com/spirits/old-crow-bourbon/tastes?page=20\n",
      "url : https://distiller.com/spirits/old-crow-bourbon/tastes?page=21\n",
      "url : https://distiller.com/spirits/old-crow-bourbon/tastes?page=22\n",
      "url : https://distiller.com/spirits/old-crow-bourbon/tastes?page=23\n",
      "url : https://distiller.com/spirits/old-crow-bourbon/tastes?page=24\n",
      "url : https://distiller.com/spirits/old-crow-bourbon/tastes?page=25\n",
      "====================================================================================================================================\n",
      "index : 3486 total_rating : 89 totalPage : 9\n"
     ]
    },
    {
     "data": {
      "application/vnd.jupyter.widget-view+json": {
       "model_id": "67706668779f453b9248a5c5e00e2d7c",
       "version_major": 2,
       "version_minor": 0
      },
      "text/plain": [
       "inner:   0%|          | 0/9 [00:00<?, ?it/s]"
      ]
     },
     "metadata": {},
     "output_type": "display_data"
    },
    {
     "name": "stdout",
     "output_type": "stream",
     "text": [
      "url : https://distiller.com/spirits/cody-road-bourbon/tastes?page=1\n",
      "url : https://distiller.com/spirits/cody-road-bourbon/tastes?page=2\n",
      "url : https://distiller.com/spirits/cody-road-bourbon/tastes?page=3\n",
      "url : https://distiller.com/spirits/cody-road-bourbon/tastes?page=4\n",
      "url : https://distiller.com/spirits/cody-road-bourbon/tastes?page=5\n",
      "url : https://distiller.com/spirits/cody-road-bourbon/tastes?page=6\n",
      "url : https://distiller.com/spirits/cody-road-bourbon/tastes?page=7\n",
      "url : https://distiller.com/spirits/cody-road-bourbon/tastes?page=8\n",
      "url : https://distiller.com/spirits/cody-road-bourbon/tastes?page=9\n",
      "====================================================================================================================================\n",
      "index : 3487 total_rating : 23 totalPage : 3\n"
     ]
    },
    {
     "data": {
      "application/vnd.jupyter.widget-view+json": {
       "model_id": "63ccaf769cd4406b9a0851df5edb5d17",
       "version_major": 2,
       "version_minor": 0
      },
      "text/plain": [
       "inner:   0%|          | 0/3 [00:00<?, ?it/s]"
      ]
     },
     "metadata": {},
     "output_type": "display_data"
    },
    {
     "name": "stdout",
     "output_type": "stream",
     "text": [
      "url : https://distiller.com/spirits/redemption-barrel-proof-10-year-straight-rye-2017-edition/tastes?page=1\n",
      "url : https://distiller.com/spirits/redemption-barrel-proof-10-year-straight-rye-2017-edition/tastes?page=2\n",
      "url : https://distiller.com/spirits/redemption-barrel-proof-10-year-straight-rye-2017-edition/tastes?page=3\n",
      "====================================================================================================================================\n",
      "index : 3488 total_rating : 25 totalPage : 3\n"
     ]
    },
    {
     "data": {
      "application/vnd.jupyter.widget-view+json": {
       "model_id": "ff3dce57c8f744fd95ca834a0f09c88c",
       "version_major": 2,
       "version_minor": 0
      },
      "text/plain": [
       "inner:   0%|          | 0/3 [00:00<?, ?it/s]"
      ]
     },
     "metadata": {},
     "output_type": "display_data"
    },
    {
     "name": "stdout",
     "output_type": "stream",
     "text": [
      "url : https://distiller.com/spirits/rebel-yell-root-beer-whiskey/tastes?page=1\n",
      "url : https://distiller.com/spirits/rebel-yell-root-beer-whiskey/tastes?page=2\n",
      "url : https://distiller.com/spirits/rebel-yell-root-beer-whiskey/tastes?page=3\n",
      "====================================================================================================================================\n",
      "index : 3489 total_rating : 122 totalPage : 13\n"
     ]
    },
    {
     "data": {
      "application/vnd.jupyter.widget-view+json": {
       "model_id": "06f27bfa8836400e99932243a150efda",
       "version_major": 2,
       "version_minor": 0
      },
      "text/plain": [
       "inner:   0%|          | 0/13 [00:00<?, ?it/s]"
      ]
     },
     "metadata": {},
     "output_type": "display_data"
    },
    {
     "name": "stdout",
     "output_type": "stream",
     "text": [
      "url : https://distiller.com/spirits/white-oak-akashi-single-malt/tastes?page=1\n",
      "url : https://distiller.com/spirits/white-oak-akashi-single-malt/tastes?page=2\n",
      "url : https://distiller.com/spirits/white-oak-akashi-single-malt/tastes?page=3\n",
      "url : https://distiller.com/spirits/white-oak-akashi-single-malt/tastes?page=4\n",
      "url : https://distiller.com/spirits/white-oak-akashi-single-malt/tastes?page=5\n",
      "url : https://distiller.com/spirits/white-oak-akashi-single-malt/tastes?page=6\n",
      "url : https://distiller.com/spirits/white-oak-akashi-single-malt/tastes?page=7\n",
      "url : https://distiller.com/spirits/white-oak-akashi-single-malt/tastes?page=8\n",
      "url : https://distiller.com/spirits/white-oak-akashi-single-malt/tastes?page=9\n",
      "url : https://distiller.com/spirits/white-oak-akashi-single-malt/tastes?page=10\n",
      "url : https://distiller.com/spirits/white-oak-akashi-single-malt/tastes?page=11\n",
      "url : https://distiller.com/spirits/white-oak-akashi-single-malt/tastes?page=12\n",
      "url : https://distiller.com/spirits/white-oak-akashi-single-malt/tastes?page=13\n",
      "====================================================================================================================================\n",
      "index : 3490 total_rating : 47 totalPage : 5\n"
     ]
    },
    {
     "data": {
      "application/vnd.jupyter.widget-view+json": {
       "model_id": "56b53178d977495d96546867ce3080a5",
       "version_major": 2,
       "version_minor": 0
      },
      "text/plain": [
       "inner:   0%|          | 0/5 [00:00<?, ?it/s]"
      ]
     },
     "metadata": {},
     "output_type": "display_data"
    },
    {
     "name": "stdout",
     "output_type": "stream",
     "text": [
      "url : https://distiller.com/spirits/seagram-s-100-pipers-blended-scotch/tastes?page=1\n",
      "url : https://distiller.com/spirits/seagram-s-100-pipers-blended-scotch/tastes?page=2\n",
      "url : https://distiller.com/spirits/seagram-s-100-pipers-blended-scotch/tastes?page=3\n",
      "url : https://distiller.com/spirits/seagram-s-100-pipers-blended-scotch/tastes?page=4\n",
      "url : https://distiller.com/spirits/seagram-s-100-pipers-blended-scotch/tastes?page=5\n",
      "====================================================================================================================================\n",
      "index : 3491 total_rating : 0 totalPage : 0\n"
     ]
    },
    {
     "data": {
      "application/vnd.jupyter.widget-view+json": {
       "model_id": "c80ae6cdbfa04d10b6508cbd3a581ccd",
       "version_major": 2,
       "version_minor": 0
      },
      "text/plain": [
       "inner: 0it [00:00, ?it/s]"
      ]
     },
     "metadata": {},
     "output_type": "display_data"
    },
    {
     "name": "stdout",
     "output_type": "stream",
     "text": [
      "====================================================================================================================================\n",
      "index : 3492 total_rating : 2 totalPage : 1\n"
     ]
    },
    {
     "data": {
      "application/vnd.jupyter.widget-view+json": {
       "model_id": "7ae4198dac7946a3b9c88913b66eebdd",
       "version_major": 2,
       "version_minor": 0
      },
      "text/plain": [
       "inner:   0%|          | 0/1 [00:00<?, ?it/s]"
      ]
     },
     "metadata": {},
     "output_type": "display_data"
    },
    {
     "name": "stdout",
     "output_type": "stream",
     "text": [
      "url : https://distiller.com/spirits/james-alexander-blended-scotch/tastes?page=1\n",
      "====================================================================================================================================\n",
      "index : 3493 total_rating : 2 totalPage : 1\n"
     ]
    },
    {
     "data": {
      "application/vnd.jupyter.widget-view+json": {
       "model_id": "35f4bebd94894ad2a977b08da4bfabab",
       "version_major": 2,
       "version_minor": 0
      },
      "text/plain": [
       "inner:   0%|          | 0/1 [00:00<?, ?it/s]"
      ]
     },
     "metadata": {},
     "output_type": "display_data"
    },
    {
     "name": "stdout",
     "output_type": "stream",
     "text": [
      "url : https://distiller.com/spirits/rusty-piton-corn-whiskey/tastes?page=1\n",
      "====================================================================================================================================\n",
      "index : 3494 total_rating : 1 totalPage : 1\n"
     ]
    },
    {
     "data": {
      "application/vnd.jupyter.widget-view+json": {
       "model_id": "8fae77d9b58d4e318ac2d16314d220aa",
       "version_major": 2,
       "version_minor": 0
      },
      "text/plain": [
       "inner:   0%|          | 0/1 [00:00<?, ?it/s]"
      ]
     },
     "metadata": {},
     "output_type": "display_data"
    },
    {
     "name": "stdout",
     "output_type": "stream",
     "text": [
      "url : https://distiller.com/spirits/mb-roland-kentucky-white-dog/tastes?page=1\n",
      "====================================================================================================================================\n",
      "index : 3495 total_rating : 143 totalPage : 15\n"
     ]
    },
    {
     "data": {
      "application/vnd.jupyter.widget-view+json": {
       "model_id": "d4a3811003a64a4d9b2a910f34078f03",
       "version_major": 2,
       "version_minor": 0
      },
      "text/plain": [
       "inner:   0%|          | 0/15 [00:00<?, ?it/s]"
      ]
     },
     "metadata": {},
     "output_type": "display_data"
    },
    {
     "name": "stdout",
     "output_type": "stream",
     "text": [
      "url : https://distiller.com/spirits/cleveland-bourbon/tastes?page=1\n",
      "url : https://distiller.com/spirits/cleveland-bourbon/tastes?page=2\n",
      "url : https://distiller.com/spirits/cleveland-bourbon/tastes?page=3\n",
      "url : https://distiller.com/spirits/cleveland-bourbon/tastes?page=4\n",
      "url : https://distiller.com/spirits/cleveland-bourbon/tastes?page=5\n",
      "url : https://distiller.com/spirits/cleveland-bourbon/tastes?page=6\n",
      "url : https://distiller.com/spirits/cleveland-bourbon/tastes?page=7\n",
      "url : https://distiller.com/spirits/cleveland-bourbon/tastes?page=8\n",
      "url : https://distiller.com/spirits/cleveland-bourbon/tastes?page=9\n",
      "url : https://distiller.com/spirits/cleveland-bourbon/tastes?page=10\n",
      "url : https://distiller.com/spirits/cleveland-bourbon/tastes?page=11\n",
      "url : https://distiller.com/spirits/cleveland-bourbon/tastes?page=12\n",
      "url : https://distiller.com/spirits/cleveland-bourbon/tastes?page=13\n",
      "url : https://distiller.com/spirits/cleveland-bourbon/tastes?page=14\n",
      "url : https://distiller.com/spirits/cleveland-bourbon/tastes?page=15\n",
      "====================================================================================================================================\n",
      "index : 3496 total_rating : 642 totalPage : 65\n"
     ]
    },
    {
     "data": {
      "application/vnd.jupyter.widget-view+json": {
       "model_id": "b3c173b2dd0b443ab9f8cd34c789583d",
       "version_major": 2,
       "version_minor": 0
      },
      "text/plain": [
       "inner:   0%|          | 0/65 [00:00<?, ?it/s]"
      ]
     },
     "metadata": {},
     "output_type": "display_data"
    },
    {
     "name": "stdout",
     "output_type": "stream",
     "text": [
      "url : https://distiller.com/spirits/mcafee-s-benchmark-no-8-bourbon/tastes?page=1\n",
      "url : https://distiller.com/spirits/mcafee-s-benchmark-no-8-bourbon/tastes?page=2\n",
      "url : https://distiller.com/spirits/mcafee-s-benchmark-no-8-bourbon/tastes?page=3\n",
      "url : https://distiller.com/spirits/mcafee-s-benchmark-no-8-bourbon/tastes?page=4\n",
      "url : https://distiller.com/spirits/mcafee-s-benchmark-no-8-bourbon/tastes?page=5\n",
      "url : https://distiller.com/spirits/mcafee-s-benchmark-no-8-bourbon/tastes?page=6\n",
      "url : https://distiller.com/spirits/mcafee-s-benchmark-no-8-bourbon/tastes?page=7\n",
      "url : https://distiller.com/spirits/mcafee-s-benchmark-no-8-bourbon/tastes?page=8\n",
      "url : https://distiller.com/spirits/mcafee-s-benchmark-no-8-bourbon/tastes?page=9\n",
      "url : https://distiller.com/spirits/mcafee-s-benchmark-no-8-bourbon/tastes?page=10\n",
      "url : https://distiller.com/spirits/mcafee-s-benchmark-no-8-bourbon/tastes?page=11\n",
      "url : https://distiller.com/spirits/mcafee-s-benchmark-no-8-bourbon/tastes?page=12\n",
      "url : https://distiller.com/spirits/mcafee-s-benchmark-no-8-bourbon/tastes?page=13\n",
      "url : https://distiller.com/spirits/mcafee-s-benchmark-no-8-bourbon/tastes?page=14\n",
      "url : https://distiller.com/spirits/mcafee-s-benchmark-no-8-bourbon/tastes?page=15\n",
      "url : https://distiller.com/spirits/mcafee-s-benchmark-no-8-bourbon/tastes?page=16\n",
      "url : https://distiller.com/spirits/mcafee-s-benchmark-no-8-bourbon/tastes?page=17\n",
      "url : https://distiller.com/spirits/mcafee-s-benchmark-no-8-bourbon/tastes?page=18\n",
      "url : https://distiller.com/spirits/mcafee-s-benchmark-no-8-bourbon/tastes?page=19\n",
      "url : https://distiller.com/spirits/mcafee-s-benchmark-no-8-bourbon/tastes?page=20\n",
      "url : https://distiller.com/spirits/mcafee-s-benchmark-no-8-bourbon/tastes?page=21\n",
      "url : https://distiller.com/spirits/mcafee-s-benchmark-no-8-bourbon/tastes?page=22\n",
      "url : https://distiller.com/spirits/mcafee-s-benchmark-no-8-bourbon/tastes?page=23\n",
      "url : https://distiller.com/spirits/mcafee-s-benchmark-no-8-bourbon/tastes?page=24\n",
      "url : https://distiller.com/spirits/mcafee-s-benchmark-no-8-bourbon/tastes?page=25\n",
      "url : https://distiller.com/spirits/mcafee-s-benchmark-no-8-bourbon/tastes?page=26\n",
      "url : https://distiller.com/spirits/mcafee-s-benchmark-no-8-bourbon/tastes?page=27\n",
      "url : https://distiller.com/spirits/mcafee-s-benchmark-no-8-bourbon/tastes?page=28\n",
      "url : https://distiller.com/spirits/mcafee-s-benchmark-no-8-bourbon/tastes?page=29\n",
      "url : https://distiller.com/spirits/mcafee-s-benchmark-no-8-bourbon/tastes?page=30\n",
      "url : https://distiller.com/spirits/mcafee-s-benchmark-no-8-bourbon/tastes?page=31\n",
      "url : https://distiller.com/spirits/mcafee-s-benchmark-no-8-bourbon/tastes?page=32\n",
      "url : https://distiller.com/spirits/mcafee-s-benchmark-no-8-bourbon/tastes?page=33\n",
      "url : https://distiller.com/spirits/mcafee-s-benchmark-no-8-bourbon/tastes?page=34\n",
      "url : https://distiller.com/spirits/mcafee-s-benchmark-no-8-bourbon/tastes?page=35\n",
      "url : https://distiller.com/spirits/mcafee-s-benchmark-no-8-bourbon/tastes?page=36\n",
      "url : https://distiller.com/spirits/mcafee-s-benchmark-no-8-bourbon/tastes?page=37\n",
      "url : https://distiller.com/spirits/mcafee-s-benchmark-no-8-bourbon/tastes?page=38\n",
      "url : https://distiller.com/spirits/mcafee-s-benchmark-no-8-bourbon/tastes?page=39\n",
      "url : https://distiller.com/spirits/mcafee-s-benchmark-no-8-bourbon/tastes?page=40\n",
      "url : https://distiller.com/spirits/mcafee-s-benchmark-no-8-bourbon/tastes?page=41\n",
      "url : https://distiller.com/spirits/mcafee-s-benchmark-no-8-bourbon/tastes?page=42\n",
      "url : https://distiller.com/spirits/mcafee-s-benchmark-no-8-bourbon/tastes?page=43\n",
      "url : https://distiller.com/spirits/mcafee-s-benchmark-no-8-bourbon/tastes?page=44\n",
      "url : https://distiller.com/spirits/mcafee-s-benchmark-no-8-bourbon/tastes?page=45\n",
      "url : https://distiller.com/spirits/mcafee-s-benchmark-no-8-bourbon/tastes?page=46\n",
      "url : https://distiller.com/spirits/mcafee-s-benchmark-no-8-bourbon/tastes?page=47\n",
      "url : https://distiller.com/spirits/mcafee-s-benchmark-no-8-bourbon/tastes?page=48\n",
      "url : https://distiller.com/spirits/mcafee-s-benchmark-no-8-bourbon/tastes?page=49\n",
      "url : https://distiller.com/spirits/mcafee-s-benchmark-no-8-bourbon/tastes?page=50\n",
      "url : https://distiller.com/spirits/mcafee-s-benchmark-no-8-bourbon/tastes?page=51\n",
      "url : https://distiller.com/spirits/mcafee-s-benchmark-no-8-bourbon/tastes?page=52\n",
      "url : https://distiller.com/spirits/mcafee-s-benchmark-no-8-bourbon/tastes?page=53\n",
      "url : https://distiller.com/spirits/mcafee-s-benchmark-no-8-bourbon/tastes?page=54\n",
      "url : https://distiller.com/spirits/mcafee-s-benchmark-no-8-bourbon/tastes?page=55\n",
      "url : https://distiller.com/spirits/mcafee-s-benchmark-no-8-bourbon/tastes?page=56\n",
      "url : https://distiller.com/spirits/mcafee-s-benchmark-no-8-bourbon/tastes?page=57\n",
      "url : https://distiller.com/spirits/mcafee-s-benchmark-no-8-bourbon/tastes?page=58\n",
      "url : https://distiller.com/spirits/mcafee-s-benchmark-no-8-bourbon/tastes?page=59\n",
      "url : https://distiller.com/spirits/mcafee-s-benchmark-no-8-bourbon/tastes?page=60\n",
      "url : https://distiller.com/spirits/mcafee-s-benchmark-no-8-bourbon/tastes?page=61\n",
      "url : https://distiller.com/spirits/mcafee-s-benchmark-no-8-bourbon/tastes?page=62\n",
      "url : https://distiller.com/spirits/mcafee-s-benchmark-no-8-bourbon/tastes?page=63\n",
      "url : https://distiller.com/spirits/mcafee-s-benchmark-no-8-bourbon/tastes?page=64\n",
      "url : https://distiller.com/spirits/mcafee-s-benchmark-no-8-bourbon/tastes?page=65\n",
      "====================================================================================================================================\n",
      "index : 3497 total_rating : 0 totalPage : 0\n"
     ]
    },
    {
     "data": {
      "application/vnd.jupyter.widget-view+json": {
       "model_id": "d52c062b81594953b425df444718b05c",
       "version_major": 2,
       "version_minor": 0
      },
      "text/plain": [
       "inner: 0it [00:00, ?it/s]"
      ]
     },
     "metadata": {},
     "output_type": "display_data"
    },
    {
     "name": "stdout",
     "output_type": "stream",
     "text": [
      "====================================================================================================================================\n",
      "index : 3498 total_rating : 1 totalPage : 1\n"
     ]
    },
    {
     "data": {
      "application/vnd.jupyter.widget-view+json": {
       "model_id": "35ae57710e9040bf99a0e524090f51c9",
       "version_major": 2,
       "version_minor": 0
      },
      "text/plain": [
       "inner:   0%|          | 0/1 [00:00<?, ?it/s]"
      ]
     },
     "metadata": {},
     "output_type": "display_data"
    },
    {
     "name": "stdout",
     "output_type": "stream",
     "text": [
      "url : https://distiller.com/spirits/manhattan-moonshine/tastes?page=1\n",
      "====================================================================================================================================\n",
      "index : 3499 total_rating : 7 totalPage : 1\n"
     ]
    },
    {
     "data": {
      "application/vnd.jupyter.widget-view+json": {
       "model_id": "20cb3274dfa346308d7a38c2b5bd1d55",
       "version_major": 2,
       "version_minor": 0
      },
      "text/plain": [
       "inner:   0%|          | 0/1 [00:00<?, ?it/s]"
      ]
     },
     "metadata": {},
     "output_type": "display_data"
    },
    {
     "name": "stdout",
     "output_type": "stream",
     "text": [
      "url : https://distiller.com/spirits/longrow-tokaji-wood-10-year/tastes?page=1\n",
      "====================================================================================================================================\n",
      "index : 3500 total_rating : 48 totalPage : 5\n"
     ]
    },
    {
     "data": {
      "application/vnd.jupyter.widget-view+json": {
       "model_id": "1c80926fcf7a494eb4236270b41a7426",
       "version_major": 2,
       "version_minor": 0
      },
      "text/plain": [
       "inner:   0%|          | 0/5 [00:00<?, ?it/s]"
      ]
     },
     "metadata": {},
     "output_type": "display_data"
    },
    {
     "name": "stdout",
     "output_type": "stream",
     "text": [
      "url : https://distiller.com/spirits/filibuster-rye/tastes?page=1\n",
      "url : https://distiller.com/spirits/filibuster-rye/tastes?page=2\n",
      "url : https://distiller.com/spirits/filibuster-rye/tastes?page=3\n",
      "url : https://distiller.com/spirits/filibuster-rye/tastes?page=4\n",
      "url : https://distiller.com/spirits/filibuster-rye/tastes?page=5\n",
      "====================================================================================================================================\n",
      "index : 3501 total_rating : 242 totalPage : 25\n"
     ]
    },
    {
     "data": {
      "application/vnd.jupyter.widget-view+json": {
       "model_id": "186590b78ee04245a3a0a8db48177124",
       "version_major": 2,
       "version_minor": 0
      },
      "text/plain": [
       "inner:   0%|          | 0/25 [00:00<?, ?it/s]"
      ]
     },
     "metadata": {},
     "output_type": "display_data"
    },
    {
     "name": "stdout",
     "output_type": "stream",
     "text": [
      "url : https://distiller.com/spirits/lexington-bourbon/tastes?page=1\n",
      "url : https://distiller.com/spirits/lexington-bourbon/tastes?page=2\n",
      "url : https://distiller.com/spirits/lexington-bourbon/tastes?page=3\n",
      "url : https://distiller.com/spirits/lexington-bourbon/tastes?page=4\n",
      "url : https://distiller.com/spirits/lexington-bourbon/tastes?page=5\n",
      "url : https://distiller.com/spirits/lexington-bourbon/tastes?page=6\n",
      "url : https://distiller.com/spirits/lexington-bourbon/tastes?page=7\n",
      "url : https://distiller.com/spirits/lexington-bourbon/tastes?page=8\n",
      "url : https://distiller.com/spirits/lexington-bourbon/tastes?page=9\n",
      "url : https://distiller.com/spirits/lexington-bourbon/tastes?page=10\n",
      "url : https://distiller.com/spirits/lexington-bourbon/tastes?page=11\n",
      "url : https://distiller.com/spirits/lexington-bourbon/tastes?page=12\n",
      "url : https://distiller.com/spirits/lexington-bourbon/tastes?page=13\n",
      "url : https://distiller.com/spirits/lexington-bourbon/tastes?page=14\n",
      "url : https://distiller.com/spirits/lexington-bourbon/tastes?page=15\n",
      "url : https://distiller.com/spirits/lexington-bourbon/tastes?page=16\n",
      "url : https://distiller.com/spirits/lexington-bourbon/tastes?page=17\n",
      "url : https://distiller.com/spirits/lexington-bourbon/tastes?page=18\n",
      "url : https://distiller.com/spirits/lexington-bourbon/tastes?page=19\n",
      "url : https://distiller.com/spirits/lexington-bourbon/tastes?page=20\n",
      "url : https://distiller.com/spirits/lexington-bourbon/tastes?page=21\n",
      "url : https://distiller.com/spirits/lexington-bourbon/tastes?page=22\n",
      "url : https://distiller.com/spirits/lexington-bourbon/tastes?page=23\n",
      "url : https://distiller.com/spirits/lexington-bourbon/tastes?page=24\n",
      "url : https://distiller.com/spirits/lexington-bourbon/tastes?page=25\n",
      "====================================================================================================================================\n",
      "index : 3502 total_rating : 56 totalPage : 6\n"
     ]
    },
    {
     "data": {
      "application/vnd.jupyter.widget-view+json": {
       "model_id": "728d1a10ff8949b2874294e6d0e80fef",
       "version_major": 2,
       "version_minor": 0
      },
      "text/plain": [
       "inner:   0%|          | 0/6 [00:00<?, ?it/s]"
      ]
     },
     "metadata": {},
     "output_type": "display_data"
    },
    {
     "name": "stdout",
     "output_type": "stream",
     "text": [
      "url : https://distiller.com/spirits/windsor/tastes?page=1\n",
      "url : https://distiller.com/spirits/windsor/tastes?page=2\n",
      "url : https://distiller.com/spirits/windsor/tastes?page=3\n",
      "url : https://distiller.com/spirits/windsor/tastes?page=4\n",
      "url : https://distiller.com/spirits/windsor/tastes?page=5\n",
      "url : https://distiller.com/spirits/windsor/tastes?page=6\n",
      "====================================================================================================================================\n",
      "index : 3503 total_rating : 156 totalPage : 16\n"
     ]
    },
    {
     "data": {
      "application/vnd.jupyter.widget-view+json": {
       "model_id": "223a13cc465a48089131daf685db214e",
       "version_major": 2,
       "version_minor": 0
      },
      "text/plain": [
       "inner:   0%|          | 0/16 [00:00<?, ?it/s]"
      ]
     },
     "metadata": {},
     "output_type": "display_data"
    },
    {
     "name": "stdout",
     "output_type": "stream",
     "text": [
      "url : https://distiller.com/spirits/canadian-mist/tastes?page=1\n",
      "url : https://distiller.com/spirits/canadian-mist/tastes?page=2\n",
      "url : https://distiller.com/spirits/canadian-mist/tastes?page=3\n",
      "url : https://distiller.com/spirits/canadian-mist/tastes?page=4\n",
      "url : https://distiller.com/spirits/canadian-mist/tastes?page=5\n",
      "url : https://distiller.com/spirits/canadian-mist/tastes?page=6\n",
      "url : https://distiller.com/spirits/canadian-mist/tastes?page=7\n",
      "url : https://distiller.com/spirits/canadian-mist/tastes?page=8\n",
      "url : https://distiller.com/spirits/canadian-mist/tastes?page=9\n",
      "url : https://distiller.com/spirits/canadian-mist/tastes?page=10\n",
      "url : https://distiller.com/spirits/canadian-mist/tastes?page=11\n",
      "url : https://distiller.com/spirits/canadian-mist/tastes?page=12\n",
      "url : https://distiller.com/spirits/canadian-mist/tastes?page=13\n",
      "url : https://distiller.com/spirits/canadian-mist/tastes?page=14\n",
      "url : https://distiller.com/spirits/canadian-mist/tastes?page=15\n",
      "url : https://distiller.com/spirits/canadian-mist/tastes?page=16\n",
      "====================================================================================================================================\n",
      "index : 3504 total_rating : 92 totalPage : 10\n"
     ]
    },
    {
     "data": {
      "application/vnd.jupyter.widget-view+json": {
       "model_id": "98912cd59d1242e19d27a3919daa1bed",
       "version_major": 2,
       "version_minor": 0
      },
      "text/plain": [
       "inner:   0%|          | 0/10 [00:00<?, ?it/s]"
      ]
     },
     "metadata": {},
     "output_type": "display_data"
    },
    {
     "name": "stdout",
     "output_type": "stream",
     "text": [
      "url : https://distiller.com/spirits/crown-royal-texas-mesquite/tastes?page=1\n",
      "url : https://distiller.com/spirits/crown-royal-texas-mesquite/tastes?page=2\n",
      "url : https://distiller.com/spirits/crown-royal-texas-mesquite/tastes?page=3\n",
      "url : https://distiller.com/spirits/crown-royal-texas-mesquite/tastes?page=4\n",
      "url : https://distiller.com/spirits/crown-royal-texas-mesquite/tastes?page=5\n",
      "url : https://distiller.com/spirits/crown-royal-texas-mesquite/tastes?page=6\n",
      "url : https://distiller.com/spirits/crown-royal-texas-mesquite/tastes?page=7\n",
      "url : https://distiller.com/spirits/crown-royal-texas-mesquite/tastes?page=8\n",
      "url : https://distiller.com/spirits/crown-royal-texas-mesquite/tastes?page=9\n",
      "url : https://distiller.com/spirits/crown-royal-texas-mesquite/tastes?page=10\n",
      "====================================================================================================================================\n",
      "index : 3505 total_rating : 2 totalPage : 1\n"
     ]
    },
    {
     "data": {
      "application/vnd.jupyter.widget-view+json": {
       "model_id": "6bda14749cb3406e9117afc5e71b9122",
       "version_major": 2,
       "version_minor": 0
      },
      "text/plain": [
       "inner:   0%|          | 0/1 [00:00<?, ?it/s]"
      ]
     },
     "metadata": {},
     "output_type": "display_data"
    },
    {
     "name": "stdout",
     "output_type": "stream",
     "text": [
      "url : https://distiller.com/spirits/teton-moonshine-huckleberry-whiskey/tastes?page=1\n",
      "====================================================================================================================================\n",
      "index : 3506 total_rating : 0 totalPage : 0\n"
     ]
    },
    {
     "data": {
      "application/vnd.jupyter.widget-view+json": {
       "model_id": "4b1f63aa427d41e28ad5518d4f5acdb5",
       "version_major": 2,
       "version_minor": 0
      },
      "text/plain": [
       "inner: 0it [00:00, ?it/s]"
      ]
     },
     "metadata": {},
     "output_type": "display_data"
    },
    {
     "name": "stdout",
     "output_type": "stream",
     "text": [
      "====================================================================================================================================\n",
      "index : 3507 total_rating : 1 totalPage : 1\n"
     ]
    },
    {
     "data": {
      "application/vnd.jupyter.widget-view+json": {
       "model_id": "75e25749a60a4b099f9363b783122585",
       "version_major": 2,
       "version_minor": 0
      },
      "text/plain": [
       "inner:   0%|          | 0/1 [00:00<?, ?it/s]"
      ]
     },
     "metadata": {},
     "output_type": "display_data"
    },
    {
     "name": "stdout",
     "output_type": "stream",
     "text": [
      "url : https://distiller.com/spirits/j-w-overbey-bourbon/tastes?page=1\n",
      "====================================================================================================================================\n",
      "index : 3508 total_rating : 12 totalPage : 2\n"
     ]
    },
    {
     "data": {
      "application/vnd.jupyter.widget-view+json": {
       "model_id": "bab023986bbe417fbbdfac0cd54b301f",
       "version_major": 2,
       "version_minor": 0
      },
      "text/plain": [
       "inner:   0%|          | 0/2 [00:00<?, ?it/s]"
      ]
     },
     "metadata": {},
     "output_type": "display_data"
    },
    {
     "name": "stdout",
     "output_type": "stream",
     "text": [
      "url : https://distiller.com/spirits/bowen-s-whiskey/tastes?page=1\n",
      "url : https://distiller.com/spirits/bowen-s-whiskey/tastes?page=2\n",
      "====================================================================================================================================\n",
      "index : 3509 total_rating : 436 totalPage : 44\n"
     ]
    },
    {
     "data": {
      "application/vnd.jupyter.widget-view+json": {
       "model_id": "4b7eba822f9f4e40b906995219a9182f",
       "version_major": 2,
       "version_minor": 0
      },
      "text/plain": [
       "inner:   0%|          | 0/44 [00:00<?, ?it/s]"
      ]
     },
     "metadata": {},
     "output_type": "display_data"
    },
    {
     "name": "stdout",
     "output_type": "stream",
     "text": [
      "url : https://distiller.com/spirits/smokehead/tastes?page=1\n",
      "url : https://distiller.com/spirits/smokehead/tastes?page=2\n",
      "url : https://distiller.com/spirits/smokehead/tastes?page=3\n",
      "url : https://distiller.com/spirits/smokehead/tastes?page=4\n",
      "url : https://distiller.com/spirits/smokehead/tastes?page=5\n",
      "url : https://distiller.com/spirits/smokehead/tastes?page=6\n",
      "url : https://distiller.com/spirits/smokehead/tastes?page=7\n",
      "url : https://distiller.com/spirits/smokehead/tastes?page=8\n",
      "url : https://distiller.com/spirits/smokehead/tastes?page=9\n",
      "url : https://distiller.com/spirits/smokehead/tastes?page=10\n",
      "url : https://distiller.com/spirits/smokehead/tastes?page=11\n",
      "url : https://distiller.com/spirits/smokehead/tastes?page=12\n",
      "url : https://distiller.com/spirits/smokehead/tastes?page=13\n",
      "url : https://distiller.com/spirits/smokehead/tastes?page=14\n",
      "url : https://distiller.com/spirits/smokehead/tastes?page=15\n",
      "url : https://distiller.com/spirits/smokehead/tastes?page=16\n",
      "url : https://distiller.com/spirits/smokehead/tastes?page=17\n",
      "url : https://distiller.com/spirits/smokehead/tastes?page=18\n",
      "url : https://distiller.com/spirits/smokehead/tastes?page=19\n",
      "url : https://distiller.com/spirits/smokehead/tastes?page=20\n",
      "url : https://distiller.com/spirits/smokehead/tastes?page=21\n",
      "url : https://distiller.com/spirits/smokehead/tastes?page=22\n",
      "url : https://distiller.com/spirits/smokehead/tastes?page=23\n",
      "url : https://distiller.com/spirits/smokehead/tastes?page=24\n",
      "url : https://distiller.com/spirits/smokehead/tastes?page=25\n",
      "url : https://distiller.com/spirits/smokehead/tastes?page=26\n",
      "url : https://distiller.com/spirits/smokehead/tastes?page=27\n",
      "url : https://distiller.com/spirits/smokehead/tastes?page=28\n",
      "url : https://distiller.com/spirits/smokehead/tastes?page=29\n",
      "url : https://distiller.com/spirits/smokehead/tastes?page=30\n",
      "url : https://distiller.com/spirits/smokehead/tastes?page=31\n",
      "url : https://distiller.com/spirits/smokehead/tastes?page=32\n",
      "url : https://distiller.com/spirits/smokehead/tastes?page=33\n",
      "url : https://distiller.com/spirits/smokehead/tastes?page=34\n",
      "url : https://distiller.com/spirits/smokehead/tastes?page=35\n",
      "url : https://distiller.com/spirits/smokehead/tastes?page=36\n",
      "url : https://distiller.com/spirits/smokehead/tastes?page=37\n",
      "url : https://distiller.com/spirits/smokehead/tastes?page=38\n",
      "url : https://distiller.com/spirits/smokehead/tastes?page=39\n",
      "url : https://distiller.com/spirits/smokehead/tastes?page=40\n",
      "url : https://distiller.com/spirits/smokehead/tastes?page=41\n",
      "url : https://distiller.com/spirits/smokehead/tastes?page=42\n",
      "url : https://distiller.com/spirits/smokehead/tastes?page=43\n",
      "url : https://distiller.com/spirits/smokehead/tastes?page=44\n",
      "====================================================================================================================================\n",
      "index : 3510 total_rating : 1 totalPage : 1\n"
     ]
    },
    {
     "data": {
      "application/vnd.jupyter.widget-view+json": {
       "model_id": "a00f136972a84680ae3d9d5100565df3",
       "version_major": 2,
       "version_minor": 0
      },
      "text/plain": [
       "inner:   0%|          | 0/1 [00:00<?, ?it/s]"
      ]
     },
     "metadata": {},
     "output_type": "display_data"
    },
    {
     "name": "stdout",
     "output_type": "stream",
     "text": [
      "url : https://distiller.com/spirits/chattooga-belle-block-and-tackle-whiskey/tastes?page=1\n",
      "====================================================================================================================================\n",
      "index : 3511 total_rating : 56 totalPage : 6\n"
     ]
    },
    {
     "data": {
      "application/vnd.jupyter.widget-view+json": {
       "model_id": "5f0a754a45c443f7a6b18e095e32ba18",
       "version_major": 2,
       "version_minor": 0
      },
      "text/plain": [
       "inner:   0%|          | 0/6 [00:00<?, ?it/s]"
      ]
     },
     "metadata": {},
     "output_type": "display_data"
    },
    {
     "name": "stdout",
     "output_type": "stream",
     "text": [
      "url : https://distiller.com/spirits/2bar-bourbon/tastes?page=1\n",
      "url : https://distiller.com/spirits/2bar-bourbon/tastes?page=2\n",
      "url : https://distiller.com/spirits/2bar-bourbon/tastes?page=3\n",
      "url : https://distiller.com/spirits/2bar-bourbon/tastes?page=4\n",
      "url : https://distiller.com/spirits/2bar-bourbon/tastes?page=5\n",
      "url : https://distiller.com/spirits/2bar-bourbon/tastes?page=6\n",
      "====================================================================================================================================\n",
      "index : 3512 total_rating : 230 totalPage : 23\n"
     ]
    },
    {
     "data": {
      "application/vnd.jupyter.widget-view+json": {
       "model_id": "039b01f437fd497bbff1f3a8d03419a9",
       "version_major": 2,
       "version_minor": 0
      },
      "text/plain": [
       "inner:   0%|          | 0/23 [00:00<?, ?it/s]"
      ]
     },
     "metadata": {},
     "output_type": "display_data"
    },
    {
     "name": "stdout",
     "output_type": "stream",
     "text": [
      "url : https://distiller.com/spirits/mcclelland-s-single-malt-highland/tastes?page=1\n",
      "url : https://distiller.com/spirits/mcclelland-s-single-malt-highland/tastes?page=2\n",
      "url : https://distiller.com/spirits/mcclelland-s-single-malt-highland/tastes?page=3\n",
      "url : https://distiller.com/spirits/mcclelland-s-single-malt-highland/tastes?page=4\n",
      "url : https://distiller.com/spirits/mcclelland-s-single-malt-highland/tastes?page=5\n",
      "url : https://distiller.com/spirits/mcclelland-s-single-malt-highland/tastes?page=6\n",
      "url : https://distiller.com/spirits/mcclelland-s-single-malt-highland/tastes?page=7\n",
      "url : https://distiller.com/spirits/mcclelland-s-single-malt-highland/tastes?page=8\n",
      "url : https://distiller.com/spirits/mcclelland-s-single-malt-highland/tastes?page=9\n",
      "url : https://distiller.com/spirits/mcclelland-s-single-malt-highland/tastes?page=10\n",
      "url : https://distiller.com/spirits/mcclelland-s-single-malt-highland/tastes?page=11\n",
      "url : https://distiller.com/spirits/mcclelland-s-single-malt-highland/tastes?page=12\n",
      "url : https://distiller.com/spirits/mcclelland-s-single-malt-highland/tastes?page=13\n",
      "url : https://distiller.com/spirits/mcclelland-s-single-malt-highland/tastes?page=14\n",
      "url : https://distiller.com/spirits/mcclelland-s-single-malt-highland/tastes?page=15\n",
      "url : https://distiller.com/spirits/mcclelland-s-single-malt-highland/tastes?page=16\n",
      "url : https://distiller.com/spirits/mcclelland-s-single-malt-highland/tastes?page=17\n",
      "url : https://distiller.com/spirits/mcclelland-s-single-malt-highland/tastes?page=18\n",
      "url : https://distiller.com/spirits/mcclelland-s-single-malt-highland/tastes?page=19\n",
      "url : https://distiller.com/spirits/mcclelland-s-single-malt-highland/tastes?page=20\n",
      "url : https://distiller.com/spirits/mcclelland-s-single-malt-highland/tastes?page=21\n",
      "url : https://distiller.com/spirits/mcclelland-s-single-malt-highland/tastes?page=22\n",
      "url : https://distiller.com/spirits/mcclelland-s-single-malt-highland/tastes?page=23\n",
      "====================================================================================================================================\n",
      "index : 3513 total_rating : 57 totalPage : 6\n"
     ]
    },
    {
     "data": {
      "application/vnd.jupyter.widget-view+json": {
       "model_id": "26da90e39dec4f9cbb02839437a67069",
       "version_major": 2,
       "version_minor": 0
      },
      "text/plain": [
       "inner:   0%|          | 0/6 [00:00<?, ?it/s]"
      ]
     },
     "metadata": {},
     "output_type": "display_data"
    },
    {
     "name": "stdout",
     "output_type": "stream",
     "text": [
      "url : https://distiller.com/spirits/mcclelland-s-single-malt-lowland/tastes?page=1\n",
      "url : https://distiller.com/spirits/mcclelland-s-single-malt-lowland/tastes?page=2\n",
      "url : https://distiller.com/spirits/mcclelland-s-single-malt-lowland/tastes?page=3\n",
      "url : https://distiller.com/spirits/mcclelland-s-single-malt-lowland/tastes?page=4\n",
      "url : https://distiller.com/spirits/mcclelland-s-single-malt-lowland/tastes?page=5\n",
      "url : https://distiller.com/spirits/mcclelland-s-single-malt-lowland/tastes?page=6\n",
      "====================================================================================================================================\n",
      "index : 3514 total_rating : 55 totalPage : 6\n"
     ]
    },
    {
     "data": {
      "application/vnd.jupyter.widget-view+json": {
       "model_id": "9d3c33686bd0458e8dd8f4d1f8651001",
       "version_major": 2,
       "version_minor": 0
      },
      "text/plain": [
       "inner:   0%|          | 0/6 [00:00<?, ?it/s]"
      ]
     },
     "metadata": {},
     "output_type": "display_data"
    },
    {
     "name": "stdout",
     "output_type": "stream",
     "text": [
      "url : https://distiller.com/spirits/john-b-stetson-kentucky-straight-bourbon-whiskey/tastes?page=1\n",
      "url : https://distiller.com/spirits/john-b-stetson-kentucky-straight-bourbon-whiskey/tastes?page=2\n",
      "url : https://distiller.com/spirits/john-b-stetson-kentucky-straight-bourbon-whiskey/tastes?page=3\n",
      "url : https://distiller.com/spirits/john-b-stetson-kentucky-straight-bourbon-whiskey/tastes?page=4\n",
      "url : https://distiller.com/spirits/john-b-stetson-kentucky-straight-bourbon-whiskey/tastes?page=5\n",
      "url : https://distiller.com/spirits/john-b-stetson-kentucky-straight-bourbon-whiskey/tastes?page=6\n",
      "====================================================================================================================================\n",
      "index : 3515 total_rating : 103 totalPage : 11\n"
     ]
    },
    {
     "data": {
      "application/vnd.jupyter.widget-view+json": {
       "model_id": "b745f2b230a54532835ccef955338584",
       "version_major": 2,
       "version_minor": 0
      },
      "text/plain": [
       "inner:   0%|          | 0/11 [00:00<?, ?it/s]"
      ]
     },
     "metadata": {},
     "output_type": "display_data"
    },
    {
     "name": "stdout",
     "output_type": "stream",
     "text": [
      "url : https://distiller.com/spirits/wiser-s-deluxe/tastes?page=1\n",
      "url : https://distiller.com/spirits/wiser-s-deluxe/tastes?page=2\n",
      "url : https://distiller.com/spirits/wiser-s-deluxe/tastes?page=3\n",
      "url : https://distiller.com/spirits/wiser-s-deluxe/tastes?page=4\n",
      "url : https://distiller.com/spirits/wiser-s-deluxe/tastes?page=5\n",
      "url : https://distiller.com/spirits/wiser-s-deluxe/tastes?page=6\n",
      "url : https://distiller.com/spirits/wiser-s-deluxe/tastes?page=7\n",
      "url : https://distiller.com/spirits/wiser-s-deluxe/tastes?page=8\n",
      "url : https://distiller.com/spirits/wiser-s-deluxe/tastes?page=9\n",
      "url : https://distiller.com/spirits/wiser-s-deluxe/tastes?page=10\n",
      "url : https://distiller.com/spirits/wiser-s-deluxe/tastes?page=11\n",
      "====================================================================================================================================\n",
      "index : 3516 total_rating : 36 totalPage : 4\n"
     ]
    },
    {
     "data": {
      "application/vnd.jupyter.widget-view+json": {
       "model_id": "165a9f240bd34d1aae638718f7e53d4b",
       "version_major": 2,
       "version_minor": 0
      },
      "text/plain": [
       "inner:   0%|          | 0/4 [00:00<?, ?it/s]"
      ]
     },
     "metadata": {},
     "output_type": "display_data"
    },
    {
     "name": "stdout",
     "output_type": "stream",
     "text": [
      "url : https://distiller.com/spirits/yamazakura-fine-blended-whisky/tastes?page=1\n",
      "url : https://distiller.com/spirits/yamazakura-fine-blended-whisky/tastes?page=2\n",
      "url : https://distiller.com/spirits/yamazakura-fine-blended-whisky/tastes?page=3\n",
      "url : https://distiller.com/spirits/yamazakura-fine-blended-whisky/tastes?page=4\n",
      "====================================================================================================================================\n",
      "index : 3517 total_rating : 53 totalPage : 6\n"
     ]
    },
    {
     "data": {
      "application/vnd.jupyter.widget-view+json": {
       "model_id": "66bcb194bf314881b22389af2145703c",
       "version_major": 2,
       "version_minor": 0
      },
      "text/plain": [
       "inner:   0%|          | 0/6 [00:00<?, ?it/s]"
      ]
     },
     "metadata": {},
     "output_type": "display_data"
    },
    {
     "name": "stdout",
     "output_type": "stream",
     "text": [
      "url : https://distiller.com/spirits/new-holland-zeppelin-bend-straight-malt-whiskey/tastes?page=1\n",
      "url : https://distiller.com/spirits/new-holland-zeppelin-bend-straight-malt-whiskey/tastes?page=2\n",
      "url : https://distiller.com/spirits/new-holland-zeppelin-bend-straight-malt-whiskey/tastes?page=3\n",
      "url : https://distiller.com/spirits/new-holland-zeppelin-bend-straight-malt-whiskey/tastes?page=4\n",
      "url : https://distiller.com/spirits/new-holland-zeppelin-bend-straight-malt-whiskey/tastes?page=5\n",
      "url : https://distiller.com/spirits/new-holland-zeppelin-bend-straight-malt-whiskey/tastes?page=6\n",
      "====================================================================================================================================\n",
      "index : 3518 total_rating : 84 totalPage : 9\n"
     ]
    },
    {
     "data": {
      "application/vnd.jupyter.widget-view+json": {
       "model_id": "c0b1282575fc4e91869b3527e93a086f",
       "version_major": 2,
       "version_minor": 0
      },
      "text/plain": [
       "inner:   0%|          | 0/9 [00:00<?, ?it/s]"
      ]
     },
     "metadata": {},
     "output_type": "display_data"
    },
    {
     "name": "stdout",
     "output_type": "stream",
     "text": [
      "url : https://distiller.com/spirits/george-dickel-tabasco-brand-barrel-finish/tastes?page=1\n",
      "url : https://distiller.com/spirits/george-dickel-tabasco-brand-barrel-finish/tastes?page=2\n",
      "url : https://distiller.com/spirits/george-dickel-tabasco-brand-barrel-finish/tastes?page=3\n",
      "url : https://distiller.com/spirits/george-dickel-tabasco-brand-barrel-finish/tastes?page=4\n",
      "url : https://distiller.com/spirits/george-dickel-tabasco-brand-barrel-finish/tastes?page=5\n",
      "url : https://distiller.com/spirits/george-dickel-tabasco-brand-barrel-finish/tastes?page=6\n",
      "url : https://distiller.com/spirits/george-dickel-tabasco-brand-barrel-finish/tastes?page=7\n",
      "url : https://distiller.com/spirits/george-dickel-tabasco-brand-barrel-finish/tastes?page=8\n",
      "url : https://distiller.com/spirits/george-dickel-tabasco-brand-barrel-finish/tastes?page=9\n",
      "====================================================================================================================================\n",
      "index : 3519 total_rating : 5 totalPage : 1\n"
     ]
    },
    {
     "data": {
      "application/vnd.jupyter.widget-view+json": {
       "model_id": "002036e1e0df41739dfbce3ded0ce80c",
       "version_major": 2,
       "version_minor": 0
      },
      "text/plain": [
       "inner:   0%|          | 0/1 [00:00<?, ?it/s]"
      ]
     },
     "metadata": {},
     "output_type": "display_data"
    },
    {
     "name": "stdout",
     "output_type": "stream",
     "text": [
      "url : https://distiller.com/spirits/black-canyon-corn-whiskey/tastes?page=1\n",
      "====================================================================================================================================\n",
      "index : 3520 total_rating : 52 totalPage : 6\n"
     ]
    },
    {
     "data": {
      "application/vnd.jupyter.widget-view+json": {
       "model_id": "1692c37265cb499caf71e35e43a62392",
       "version_major": 2,
       "version_minor": 0
      },
      "text/plain": [
       "inner:   0%|          | 0/6 [00:00<?, ?it/s]"
      ]
     },
     "metadata": {},
     "output_type": "display_data"
    },
    {
     "name": "stdout",
     "output_type": "stream",
     "text": [
      "url : https://distiller.com/spirits/ten-high-whiskey/tastes?page=1\n",
      "url : https://distiller.com/spirits/ten-high-whiskey/tastes?page=2\n",
      "url : https://distiller.com/spirits/ten-high-whiskey/tastes?page=3\n",
      "url : https://distiller.com/spirits/ten-high-whiskey/tastes?page=4\n",
      "url : https://distiller.com/spirits/ten-high-whiskey/tastes?page=5\n",
      "url : https://distiller.com/spirits/ten-high-whiskey/tastes?page=6\n",
      "====================================================================================================================================\n",
      "index : 3521 total_rating : 2 totalPage : 1\n"
     ]
    },
    {
     "data": {
      "application/vnd.jupyter.widget-view+json": {
       "model_id": "998fdb539cc04afd8d88446d963117db",
       "version_major": 2,
       "version_minor": 0
      },
      "text/plain": [
       "inner:   0%|          | 0/1 [00:00<?, ?it/s]"
      ]
     },
     "metadata": {},
     "output_type": "display_data"
    },
    {
     "name": "stdout",
     "output_type": "stream",
     "text": [
      "url : https://distiller.com/spirits/teton-moonshine-spiced-apple-pie-whiskey/tastes?page=1\n",
      "====================================================================================================================================\n",
      "index : 3522 total_rating : 95 totalPage : 10\n"
     ]
    },
    {
     "data": {
      "application/vnd.jupyter.widget-view+json": {
       "model_id": "eb606c7f71054b1b82891fd79a8f6f99",
       "version_major": 2,
       "version_minor": 0
      },
      "text/plain": [
       "inner:   0%|          | 0/10 [00:00<?, ?it/s]"
      ]
     },
     "metadata": {},
     "output_type": "display_data"
    },
    {
     "name": "stdout",
     "output_type": "stream",
     "text": [
      "url : https://distiller.com/spirits/winchester-extra-smooth-bourbon/tastes?page=1\n",
      "url : https://distiller.com/spirits/winchester-extra-smooth-bourbon/tastes?page=2\n",
      "url : https://distiller.com/spirits/winchester-extra-smooth-bourbon/tastes?page=3\n",
      "url : https://distiller.com/spirits/winchester-extra-smooth-bourbon/tastes?page=4\n",
      "url : https://distiller.com/spirits/winchester-extra-smooth-bourbon/tastes?page=5\n",
      "url : https://distiller.com/spirits/winchester-extra-smooth-bourbon/tastes?page=6\n",
      "url : https://distiller.com/spirits/winchester-extra-smooth-bourbon/tastes?page=7\n",
      "url : https://distiller.com/spirits/winchester-extra-smooth-bourbon/tastes?page=8\n",
      "url : https://distiller.com/spirits/winchester-extra-smooth-bourbon/tastes?page=9\n",
      "url : https://distiller.com/spirits/winchester-extra-smooth-bourbon/tastes?page=10\n",
      "====================================================================================================================================\n",
      "index : 3523 total_rating : 0 totalPage : 0\n"
     ]
    },
    {
     "data": {
      "application/vnd.jupyter.widget-view+json": {
       "model_id": "00afff807ebc4938afbe50e037725de4",
       "version_major": 2,
       "version_minor": 0
      },
      "text/plain": [
       "inner: 0it [00:00, ?it/s]"
      ]
     },
     "metadata": {},
     "output_type": "display_data"
    },
    {
     "name": "stdout",
     "output_type": "stream",
     "text": [
      "====================================================================================================================================\n",
      "index : 3524 total_rating : 6 totalPage : 1\n"
     ]
    },
    {
     "data": {
      "application/vnd.jupyter.widget-view+json": {
       "model_id": "a2b6295bae21485d9a6a5448b09a1de7",
       "version_major": 2,
       "version_minor": 0
      },
      "text/plain": [
       "inner:   0%|          | 0/1 [00:00<?, ?it/s]"
      ]
     },
     "metadata": {},
     "output_type": "display_data"
    },
    {
     "name": "stdout",
     "output_type": "stream",
     "text": [
      "url : https://distiller.com/spirits/mb-roland-kentucky-black-dog/tastes?page=1\n",
      "====================================================================================================================================\n",
      "index : 3525 total_rating : 71 totalPage : 8\n"
     ]
    },
    {
     "data": {
      "application/vnd.jupyter.widget-view+json": {
       "model_id": "5ed2dfb724a54aaca67ffd202b14c3be",
       "version_major": 2,
       "version_minor": 0
      },
      "text/plain": [
       "inner:   0%|          | 0/8 [00:00<?, ?it/s]"
      ]
     },
     "metadata": {},
     "output_type": "display_data"
    },
    {
     "name": "stdout",
     "output_type": "stream",
     "text": [
      "url : https://distiller.com/spirits/whyte-mackay-special-blended-scotch/tastes?page=1\n",
      "url : https://distiller.com/spirits/whyte-mackay-special-blended-scotch/tastes?page=2\n",
      "url : https://distiller.com/spirits/whyte-mackay-special-blended-scotch/tastes?page=3\n",
      "url : https://distiller.com/spirits/whyte-mackay-special-blended-scotch/tastes?page=4\n",
      "url : https://distiller.com/spirits/whyte-mackay-special-blended-scotch/tastes?page=5\n",
      "url : https://distiller.com/spirits/whyte-mackay-special-blended-scotch/tastes?page=6\n",
      "url : https://distiller.com/spirits/whyte-mackay-special-blended-scotch/tastes?page=7\n",
      "url : https://distiller.com/spirits/whyte-mackay-special-blended-scotch/tastes?page=8\n",
      "====================================================================================================================================\n",
      "index : 3526 total_rating : 341 totalPage : 35\n"
     ]
    },
    {
     "data": {
      "application/vnd.jupyter.widget-view+json": {
       "model_id": "9541a5d766c44425bc6b1f5e619a9126",
       "version_major": 2,
       "version_minor": 0
      },
      "text/plain": [
       "inner:   0%|          | 0/35 [00:00<?, ?it/s]"
      ]
     },
     "metadata": {},
     "output_type": "display_data"
    },
    {
     "name": "stdout",
     "output_type": "stream",
     "text": [
      "url : https://distiller.com/spirits/mcclelland-s-single-malt-islay/tastes?page=1\n",
      "url : https://distiller.com/spirits/mcclelland-s-single-malt-islay/tastes?page=2\n",
      "url : https://distiller.com/spirits/mcclelland-s-single-malt-islay/tastes?page=3\n",
      "url : https://distiller.com/spirits/mcclelland-s-single-malt-islay/tastes?page=4\n",
      "url : https://distiller.com/spirits/mcclelland-s-single-malt-islay/tastes?page=5\n",
      "url : https://distiller.com/spirits/mcclelland-s-single-malt-islay/tastes?page=6\n",
      "url : https://distiller.com/spirits/mcclelland-s-single-malt-islay/tastes?page=7\n",
      "url : https://distiller.com/spirits/mcclelland-s-single-malt-islay/tastes?page=8\n",
      "url : https://distiller.com/spirits/mcclelland-s-single-malt-islay/tastes?page=9\n",
      "url : https://distiller.com/spirits/mcclelland-s-single-malt-islay/tastes?page=10\n",
      "url : https://distiller.com/spirits/mcclelland-s-single-malt-islay/tastes?page=11\n",
      "url : https://distiller.com/spirits/mcclelland-s-single-malt-islay/tastes?page=12\n",
      "url : https://distiller.com/spirits/mcclelland-s-single-malt-islay/tastes?page=13\n",
      "url : https://distiller.com/spirits/mcclelland-s-single-malt-islay/tastes?page=14\n",
      "url : https://distiller.com/spirits/mcclelland-s-single-malt-islay/tastes?page=15\n",
      "url : https://distiller.com/spirits/mcclelland-s-single-malt-islay/tastes?page=16\n",
      "url : https://distiller.com/spirits/mcclelland-s-single-malt-islay/tastes?page=17\n",
      "url : https://distiller.com/spirits/mcclelland-s-single-malt-islay/tastes?page=18\n",
      "url : https://distiller.com/spirits/mcclelland-s-single-malt-islay/tastes?page=19\n",
      "url : https://distiller.com/spirits/mcclelland-s-single-malt-islay/tastes?page=20\n",
      "url : https://distiller.com/spirits/mcclelland-s-single-malt-islay/tastes?page=21\n",
      "url : https://distiller.com/spirits/mcclelland-s-single-malt-islay/tastes?page=22\n",
      "url : https://distiller.com/spirits/mcclelland-s-single-malt-islay/tastes?page=23\n",
      "url : https://distiller.com/spirits/mcclelland-s-single-malt-islay/tastes?page=24\n",
      "url : https://distiller.com/spirits/mcclelland-s-single-malt-islay/tastes?page=25\n",
      "url : https://distiller.com/spirits/mcclelland-s-single-malt-islay/tastes?page=26\n",
      "url : https://distiller.com/spirits/mcclelland-s-single-malt-islay/tastes?page=27\n",
      "url : https://distiller.com/spirits/mcclelland-s-single-malt-islay/tastes?page=28\n",
      "url : https://distiller.com/spirits/mcclelland-s-single-malt-islay/tastes?page=29\n",
      "url : https://distiller.com/spirits/mcclelland-s-single-malt-islay/tastes?page=30\n",
      "url : https://distiller.com/spirits/mcclelland-s-single-malt-islay/tastes?page=31\n",
      "url : https://distiller.com/spirits/mcclelland-s-single-malt-islay/tastes?page=32\n",
      "url : https://distiller.com/spirits/mcclelland-s-single-malt-islay/tastes?page=33\n",
      "url : https://distiller.com/spirits/mcclelland-s-single-malt-islay/tastes?page=34\n",
      "url : https://distiller.com/spirits/mcclelland-s-single-malt-islay/tastes?page=35\n",
      "====================================================================================================================================\n",
      "index : 3527 total_rating : 484 totalPage : 49\n"
     ]
    },
    {
     "data": {
      "application/vnd.jupyter.widget-view+json": {
       "model_id": "4cec462eceaf4b1c8eddc39398f2c363",
       "version_major": 2,
       "version_minor": 0
      },
      "text/plain": [
       "inner:   0%|          | 0/49 [00:00<?, ?it/s]"
      ]
     },
     "metadata": {},
     "output_type": "display_data"
    },
    {
     "name": "stdout",
     "output_type": "stream",
     "text": [
      "url : https://distiller.com/spirits/new-holland-beer-barrel-bourbon/tastes?page=1\n",
      "url : https://distiller.com/spirits/new-holland-beer-barrel-bourbon/tastes?page=2\n",
      "url : https://distiller.com/spirits/new-holland-beer-barrel-bourbon/tastes?page=3\n",
      "url : https://distiller.com/spirits/new-holland-beer-barrel-bourbon/tastes?page=4\n",
      "url : https://distiller.com/spirits/new-holland-beer-barrel-bourbon/tastes?page=5\n",
      "url : https://distiller.com/spirits/new-holland-beer-barrel-bourbon/tastes?page=6\n",
      "url : https://distiller.com/spirits/new-holland-beer-barrel-bourbon/tastes?page=7\n",
      "url : https://distiller.com/spirits/new-holland-beer-barrel-bourbon/tastes?page=8\n",
      "url : https://distiller.com/spirits/new-holland-beer-barrel-bourbon/tastes?page=9\n",
      "url : https://distiller.com/spirits/new-holland-beer-barrel-bourbon/tastes?page=10\n",
      "url : https://distiller.com/spirits/new-holland-beer-barrel-bourbon/tastes?page=11\n",
      "url : https://distiller.com/spirits/new-holland-beer-barrel-bourbon/tastes?page=12\n",
      "url : https://distiller.com/spirits/new-holland-beer-barrel-bourbon/tastes?page=13\n",
      "url : https://distiller.com/spirits/new-holland-beer-barrel-bourbon/tastes?page=14\n",
      "url : https://distiller.com/spirits/new-holland-beer-barrel-bourbon/tastes?page=15\n",
      "url : https://distiller.com/spirits/new-holland-beer-barrel-bourbon/tastes?page=16\n",
      "url : https://distiller.com/spirits/new-holland-beer-barrel-bourbon/tastes?page=17\n",
      "url : https://distiller.com/spirits/new-holland-beer-barrel-bourbon/tastes?page=18\n",
      "url : https://distiller.com/spirits/new-holland-beer-barrel-bourbon/tastes?page=19\n",
      "url : https://distiller.com/spirits/new-holland-beer-barrel-bourbon/tastes?page=20\n",
      "url : https://distiller.com/spirits/new-holland-beer-barrel-bourbon/tastes?page=21\n",
      "url : https://distiller.com/spirits/new-holland-beer-barrel-bourbon/tastes?page=22\n",
      "url : https://distiller.com/spirits/new-holland-beer-barrel-bourbon/tastes?page=23\n",
      "url : https://distiller.com/spirits/new-holland-beer-barrel-bourbon/tastes?page=24\n",
      "url : https://distiller.com/spirits/new-holland-beer-barrel-bourbon/tastes?page=25\n",
      "url : https://distiller.com/spirits/new-holland-beer-barrel-bourbon/tastes?page=26\n",
      "url : https://distiller.com/spirits/new-holland-beer-barrel-bourbon/tastes?page=27\n",
      "url : https://distiller.com/spirits/new-holland-beer-barrel-bourbon/tastes?page=28\n",
      "url : https://distiller.com/spirits/new-holland-beer-barrel-bourbon/tastes?page=29\n",
      "url : https://distiller.com/spirits/new-holland-beer-barrel-bourbon/tastes?page=30\n",
      "url : https://distiller.com/spirits/new-holland-beer-barrel-bourbon/tastes?page=31\n",
      "url : https://distiller.com/spirits/new-holland-beer-barrel-bourbon/tastes?page=32\n",
      "url : https://distiller.com/spirits/new-holland-beer-barrel-bourbon/tastes?page=33\n",
      "url : https://distiller.com/spirits/new-holland-beer-barrel-bourbon/tastes?page=34\n",
      "url : https://distiller.com/spirits/new-holland-beer-barrel-bourbon/tastes?page=35\n",
      "url : https://distiller.com/spirits/new-holland-beer-barrel-bourbon/tastes?page=36\n",
      "url : https://distiller.com/spirits/new-holland-beer-barrel-bourbon/tastes?page=37\n",
      "url : https://distiller.com/spirits/new-holland-beer-barrel-bourbon/tastes?page=38\n",
      "url : https://distiller.com/spirits/new-holland-beer-barrel-bourbon/tastes?page=39\n",
      "url : https://distiller.com/spirits/new-holland-beer-barrel-bourbon/tastes?page=40\n",
      "url : https://distiller.com/spirits/new-holland-beer-barrel-bourbon/tastes?page=41\n",
      "url : https://distiller.com/spirits/new-holland-beer-barrel-bourbon/tastes?page=42\n",
      "url : https://distiller.com/spirits/new-holland-beer-barrel-bourbon/tastes?page=43\n",
      "url : https://distiller.com/spirits/new-holland-beer-barrel-bourbon/tastes?page=44\n",
      "url : https://distiller.com/spirits/new-holland-beer-barrel-bourbon/tastes?page=45\n",
      "url : https://distiller.com/spirits/new-holland-beer-barrel-bourbon/tastes?page=46\n",
      "url : https://distiller.com/spirits/new-holland-beer-barrel-bourbon/tastes?page=47\n",
      "url : https://distiller.com/spirits/new-holland-beer-barrel-bourbon/tastes?page=48\n",
      "url : https://distiller.com/spirits/new-holland-beer-barrel-bourbon/tastes?page=49\n",
      "====================================================================================================================================\n",
      "index : 3528 total_rating : 29 totalPage : 3\n"
     ]
    },
    {
     "data": {
      "application/vnd.jupyter.widget-view+json": {
       "model_id": "e0215edb9cf34557aaa01f1761ef7868",
       "version_major": 2,
       "version_minor": 0
      },
      "text/plain": [
       "inner:   0%|          | 0/3 [00:00<?, ?it/s]"
      ]
     },
     "metadata": {},
     "output_type": "display_data"
    },
    {
     "name": "stdout",
     "output_type": "stream",
     "text": [
      "url : https://distiller.com/spirits/lord-calvert-canadian-whisky/tastes?page=1\n",
      "url : https://distiller.com/spirits/lord-calvert-canadian-whisky/tastes?page=2\n",
      "url : https://distiller.com/spirits/lord-calvert-canadian-whisky/tastes?page=3\n",
      "====================================================================================================================================\n",
      "index : 3529 total_rating : 0 totalPage : 0\n"
     ]
    },
    {
     "data": {
      "application/vnd.jupyter.widget-view+json": {
       "model_id": "0ed33aac7a6a4d1fa23297b4a3754049",
       "version_major": 2,
       "version_minor": 0
      },
      "text/plain": [
       "inner: 0it [00:00, ?it/s]"
      ]
     },
     "metadata": {},
     "output_type": "display_data"
    },
    {
     "name": "stdout",
     "output_type": "stream",
     "text": [
      "====================================================================================================================================\n",
      "index : 3530 total_rating : 13 totalPage : 2\n"
     ]
    },
    {
     "data": {
      "application/vnd.jupyter.widget-view+json": {
       "model_id": "e9e193f7cbf440e9a6348325dd2b0680",
       "version_major": 2,
       "version_minor": 0
      },
      "text/plain": [
       "inner:   0%|          | 0/2 [00:00<?, ?it/s]"
      ]
     },
     "metadata": {},
     "output_type": "display_data"
    },
    {
     "name": "stdout",
     "output_type": "stream",
     "text": [
      "url : https://distiller.com/spirits/wild-turkey-spiced/tastes?page=1\n",
      "url : https://distiller.com/spirits/wild-turkey-spiced/tastes?page=2\n",
      "====================================================================================================================================\n",
      "index : 3531 total_rating : 237 totalPage : 24\n"
     ]
    },
    {
     "data": {
      "application/vnd.jupyter.widget-view+json": {
       "model_id": "4eed8e5430f0461eae4ebca66861b588",
       "version_major": 2,
       "version_minor": 0
      },
      "text/plain": [
       "inner:   0%|          | 0/24 [00:00<?, ?it/s]"
      ]
     },
     "metadata": {},
     "output_type": "display_data"
    },
    {
     "name": "stdout",
     "output_type": "stream",
     "text": [
      "url : https://distiller.com/spirits/seagram-s-seven-crown-american-blended-whiskey/tastes?page=1\n",
      "url : https://distiller.com/spirits/seagram-s-seven-crown-american-blended-whiskey/tastes?page=2\n",
      "url : https://distiller.com/spirits/seagram-s-seven-crown-american-blended-whiskey/tastes?page=3\n",
      "url : https://distiller.com/spirits/seagram-s-seven-crown-american-blended-whiskey/tastes?page=4\n",
      "url : https://distiller.com/spirits/seagram-s-seven-crown-american-blended-whiskey/tastes?page=5\n",
      "url : https://distiller.com/spirits/seagram-s-seven-crown-american-blended-whiskey/tastes?page=6\n",
      "url : https://distiller.com/spirits/seagram-s-seven-crown-american-blended-whiskey/tastes?page=7\n",
      "url : https://distiller.com/spirits/seagram-s-seven-crown-american-blended-whiskey/tastes?page=8\n",
      "url : https://distiller.com/spirits/seagram-s-seven-crown-american-blended-whiskey/tastes?page=9\n",
      "url : https://distiller.com/spirits/seagram-s-seven-crown-american-blended-whiskey/tastes?page=10\n",
      "url : https://distiller.com/spirits/seagram-s-seven-crown-american-blended-whiskey/tastes?page=11\n",
      "url : https://distiller.com/spirits/seagram-s-seven-crown-american-blended-whiskey/tastes?page=12\n",
      "url : https://distiller.com/spirits/seagram-s-seven-crown-american-blended-whiskey/tastes?page=13\n",
      "url : https://distiller.com/spirits/seagram-s-seven-crown-american-blended-whiskey/tastes?page=14\n",
      "url : https://distiller.com/spirits/seagram-s-seven-crown-american-blended-whiskey/tastes?page=15\n",
      "url : https://distiller.com/spirits/seagram-s-seven-crown-american-blended-whiskey/tastes?page=16\n",
      "url : https://distiller.com/spirits/seagram-s-seven-crown-american-blended-whiskey/tastes?page=17\n",
      "url : https://distiller.com/spirits/seagram-s-seven-crown-american-blended-whiskey/tastes?page=18\n",
      "url : https://distiller.com/spirits/seagram-s-seven-crown-american-blended-whiskey/tastes?page=19\n",
      "url : https://distiller.com/spirits/seagram-s-seven-crown-american-blended-whiskey/tastes?page=20\n",
      "url : https://distiller.com/spirits/seagram-s-seven-crown-american-blended-whiskey/tastes?page=21\n",
      "url : https://distiller.com/spirits/seagram-s-seven-crown-american-blended-whiskey/tastes?page=22\n",
      "url : https://distiller.com/spirits/seagram-s-seven-crown-american-blended-whiskey/tastes?page=23\n",
      "url : https://distiller.com/spirits/seagram-s-seven-crown-american-blended-whiskey/tastes?page=24\n",
      "====================================================================================================================================\n",
      "index : 3532 total_rating : 2 totalPage : 1\n"
     ]
    },
    {
     "data": {
      "application/vnd.jupyter.widget-view+json": {
       "model_id": "a46588ef0f7d436e96756edcf4abf403",
       "version_major": 2,
       "version_minor": 0
      },
      "text/plain": [
       "inner:   0%|          | 0/1 [00:00<?, ?it/s]"
      ]
     },
     "metadata": {},
     "output_type": "display_data"
    },
    {
     "name": "stdout",
     "output_type": "stream",
     "text": [
      "url : https://distiller.com/spirits/11-wells-single-malt-whiskey/tastes?page=1\n",
      "====================================================================================================================================\n",
      "index : 3533 total_rating : 1 totalPage : 1\n"
     ]
    },
    {
     "data": {
      "application/vnd.jupyter.widget-view+json": {
       "model_id": "6b2d4d6128fc466981ac621418bc0c98",
       "version_major": 2,
       "version_minor": 0
      },
      "text/plain": [
       "inner:   0%|          | 0/1 [00:00<?, ?it/s]"
      ]
     },
     "metadata": {},
     "output_type": "display_data"
    },
    {
     "name": "stdout",
     "output_type": "stream",
     "text": [
      "url : https://distiller.com/spirits/immortal-spirits-early-whiskey/tastes?page=1\n",
      "====================================================================================================================================\n",
      "index : 3534 total_rating : 16 totalPage : 2\n"
     ]
    },
    {
     "data": {
      "application/vnd.jupyter.widget-view+json": {
       "model_id": "da9a59f8e31a4292abfcf6616ffc886e",
       "version_major": 2,
       "version_minor": 0
      },
      "text/plain": [
       "inner:   0%|          | 0/2 [00:00<?, ?it/s]"
      ]
     },
     "metadata": {},
     "output_type": "display_data"
    },
    {
     "name": "stdout",
     "output_type": "stream",
     "text": [
      "url : https://distiller.com/spirits/triple-crown-blended-whiskey/tastes?page=1\n",
      "url : https://distiller.com/spirits/triple-crown-blended-whiskey/tastes?page=2\n"
     ]
    }
   ],
   "source": [
    "whisky_names = []\n",
    "usernames = []\n",
    "ratings = []\n",
    "for i, whisky in tqdm(whiskies[start:end].iterrows(), desc=\"outer\", position=0):\n",
    "    whisky_name = whisky[\"name\"]\n",
    "    \n",
    "    base_url = \"https://distiller.com\" + whisky[\"link\"] + \"/tastes?page=\"\n",
    "    last_page = math.ceil(whisky[\"total_rating\"] / 10)\n",
    "    print(\"====================================================================================================================================\")\n",
    "    print(\"index : {} total_rating : {} totalPage : {}\".format(i, whisky[\"total_rating\"], last_page))\n",
    "    \n",
    "    for page in tqdm(range(1, last_page + 1), desc=\"inner\", position=1, leave=True):\n",
    "        url = base_url + str(page)\n",
    "        req = requests.get(url)\n",
    "        print(\"url : {}\".format(url))\n",
    "        tt.sleep(1.5)\n",
    "        soup = BeautifulSoup(req.text, \"lxml\")\n",
    "        \n",
    "        rating_details = soup.find_all(class_=\"name-details\")\n",
    "        for info in rating_details:\n",
    "            try: \n",
    "                username = info.select_one(\"h3.mini-headline\").get_text().strip()\n",
    "            except AttributeError: \n",
    "                username = \"Unknown\"\n",
    "            \n",
    "            try:\n",
    "                rating = math.floor(float(info.select_one(\"div.rating-display__value\").get_text()) * 2)\n",
    "            except AttributeError:\n",
    "                rating = None\n",
    "            \n",
    "            whisky_names.append(whisky_name)\n",
    "            usernames.append(username)\n",
    "            ratings.append(rating)"
   ]
  },
  {
   "cell_type": "code",
   "execution_count": 8,
   "id": "dfceda4a",
   "metadata": {},
   "outputs": [
    {
     "name": "stdout",
     "output_type": "stream",
     "text": [
      "11259\n",
      "11259\n",
      "11259\n"
     ]
    }
   ],
   "source": [
    "print(len(whisky_names))\n",
    "print(len(usernames))\n",
    "print(len(ratings))"
   ]
  },
  {
   "cell_type": "code",
   "execution_count": 9,
   "id": "66f91e89",
   "metadata": {},
   "outputs": [
    {
     "data": {
      "text/plain": [
       "'C:\\\\Users\\\\SSAFY\\\\Desktop\\\\Whisky\\\\dataset'"
      ]
     },
     "execution_count": 9,
     "metadata": {},
     "output_type": "execute_result"
    }
   ],
   "source": [
    "savePath = os.getcwd()+\"\\\\dataset\\\\rating\"\n",
    "savePath"
   ]
  },
  {
   "cell_type": "markdown",
   "id": "b336c885",
   "metadata": {},
   "source": [
    "(현재 작업 위치)\\\\dataset 위치에 생성한 데이터를 csv 파일로 저장합니다."
   ]
  },
  {
   "cell_type": "markdown",
   "id": "96baf1af",
   "metadata": {},
   "source": [
    "### 파일 저장\n",
    "- start, end 기준으로 파일명을 저장합니다."
   ]
  },
  {
   "cell_type": "code",
   "execution_count": 10,
   "id": "b3c2b82f",
   "metadata": {},
   "outputs": [],
   "source": [
    "df = pd.DataFrame({\n",
    "    \"username\": usernames, \"whisky_name\": whisky_names, \"rating\": ratings \n",
    "})\n",
    "df.to_csv(savePath+\"\\\\user_whisky_rating_{}_{}.csv\".format(str(start), str(end)))"
   ]
  },
  {
   "cell_type": "code",
   "execution_count": null,
   "id": "a2b2364c",
   "metadata": {},
   "outputs": [],
   "source": []
  }
 ],
 "metadata": {
  "kernelspec": {
   "display_name": "Python 3 (ipykernel)",
   "language": "python",
   "name": "python3"
  },
  "language_info": {
   "codemirror_mode": {
    "name": "ipython",
    "version": 3
   },
   "file_extension": ".py",
   "mimetype": "text/x-python",
   "name": "python",
   "nbconvert_exporter": "python",
   "pygments_lexer": "ipython3",
   "version": "3.9.16"
  }
 },
 "nbformat": 4,
 "nbformat_minor": 5
}
