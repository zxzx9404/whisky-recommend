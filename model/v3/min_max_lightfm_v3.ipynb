{
 "cells": [
  {
   "cell_type": "markdown",
   "id": "08a0a16d",
   "metadata": {},
   "source": [
    "# Min-Max Normalization 적용한 lightfm model 학습"
   ]
  },
  {
   "cell_type": "code",
   "execution_count": null,
   "id": "3b151dfd",
   "metadata": {},
   "outputs": [],
   "source": []
  },
  {
   "cell_type": "code",
   "execution_count": 1,
   "id": "96adc554",
   "metadata": {},
   "outputs": [
    {
     "name": "stderr",
     "output_type": "stream",
     "text": [
      "C:\\Users\\SSAFY\\anaconda3\\envs\\mini-project\\lib\\site-packages\\lightfm\\_lightfm_fast.py:9: UserWarning: LightFM was compiled without OpenMP support. Only a single thread will be used.\n",
      "  warnings.warn(\n"
     ]
    }
   ],
   "source": [
    "import os\n",
    "import pandas as pd\n",
    "import numpy as np\n",
    "from time import time\n",
    "from tqdm.notebook import tqdm\n",
    "import pickle\n",
    "\n",
    "from scipy.sparse import coo_matrix, csr_matrix\n",
    "\n",
    "from lightfm.cross_validation import random_train_test_split\n",
    "from lightfm import LightFM\n",
    "from lightfm.datasets import fetch_movielens\n",
    "from lightfm.evaluation import precision_at_k, auc_score, recall_at_k\n",
    "\n",
    "from hyperopt import fmin, hp, tpe, Trials"
   ]
  },
  {
   "cell_type": "markdown",
   "id": "19e561e2",
   "metadata": {},
   "source": [
    "min_max_item_features.csv\n",
    "min_max_user_features.csv\n",
    "rating.csv\n",
    "robust_item_features.csv\n",
    "robust_user_features.csv\n",
    "whisky.csv"
   ]
  },
  {
   "cell_type": "code",
   "execution_count": 2,
   "id": "3397d437",
   "metadata": {},
   "outputs": [],
   "source": [
    "item_features = pd.read_csv(\"dataset/min_max_item_features.csv\", index_col=0, encoding=\"UTF-8\")\n",
    "user_features = pd.read_csv(\"dataset/min_max_user_features.csv\", index_col=0, encoding=\"UTF-8\")\n",
    "rating = pd.read_csv(\"dataset/rating.csv\", index_col=0, encoding=\"UTF-8\")\n",
    "whisky = pd.read_csv(\"dataset/whisky.csv\", index_col=0, encoding=\"UTF-8\")"
   ]
  },
  {
   "cell_type": "code",
   "execution_count": 3,
   "id": "ffb2c5f6",
   "metadata": {},
   "outputs": [],
   "source": [
    "item_features = csr_matrix(item_features)\n",
    "user_features = csr_matrix(user_features)"
   ]
  },
  {
   "cell_type": "code",
   "execution_count": 4,
   "id": "8799f9ef",
   "metadata": {},
   "outputs": [
    {
     "name": "stdout",
     "output_type": "stream",
     "text": [
      "  (0, 0)\t5.0\n",
      "  (0, 1)\t0.3\n",
      "  (0, 2)\t0.85\n",
      "  (0, 3)\t0.5\n",
      "  (0, 4)\t0.3\n",
      "  (0, 5)\t0.2\n",
      "  (0, 6)\t0.8\n",
      "  (0, 7)\t0.8\n",
      "  (0, 8)\t0.85\n",
      "  (0, 9)\t0.1666666666666666\n",
      "  (0, 10)\t0.2\n",
      "  (0, 11)\t0.25\n",
      "  (0, 12)\t0.85\n",
      "  (0, 13)\t0.5263157894736842\n",
      "  (1, 0)\t5.0\n",
      "  (1, 1)\t0.3\n",
      "  (1, 2)\t0.3\n",
      "  (1, 3)\t0.6\n",
      "  (1, 4)\t0.4\n",
      "  (1, 5)\t0.7000000000000001\n",
      "  (1, 6)\t0.8\n",
      "  (1, 7)\t0.7000000000000001\n",
      "  (1, 8)\t0.7000000000000001\n",
      "  (1, 9)\t0.4444444444444445\n",
      "  (1, 10)\t0.6\n",
      "  :\t:\n",
      "  (119512, 7)\t0.4\n",
      "  (119512, 8)\t1.0\n",
      "  (119512, 10)\t0.55\n",
      "  (119512, 12)\t0.3\n",
      "  (119512, 13)\t0.1052631578947368\n",
      "  (119513, 0)\t1.0\n",
      "  (119513, 1)\t0.31\n",
      "  (119513, 3)\t0.4\n",
      "  (119513, 4)\t0.29\n",
      "  (119513, 6)\t0.3\n",
      "  (119513, 7)\t0.4\n",
      "  (119513, 8)\t1.0\n",
      "  (119513, 10)\t0.55\n",
      "  (119513, 12)\t0.3\n",
      "  (119513, 13)\t0.1052631578947368\n",
      "  (119514, 0)\t1.0\n",
      "  (119514, 1)\t0.31\n",
      "  (119514, 3)\t0.4\n",
      "  (119514, 4)\t0.29\n",
      "  (119514, 6)\t0.3\n",
      "  (119514, 7)\t0.4\n",
      "  (119514, 8)\t1.0\n",
      "  (119514, 10)\t0.55\n",
      "  (119514, 12)\t0.3\n",
      "  (119514, 13)\t0.1052631578947368\n"
     ]
    }
   ],
   "source": [
    "print(user_features)"
   ]
  },
  {
   "cell_type": "code",
   "execution_count": 5,
   "id": "a94bde6c",
   "metadata": {},
   "outputs": [],
   "source": [
    "unique_user = rating[\"user_id\"].unique()"
   ]
  },
  {
   "cell_type": "code",
   "execution_count": 6,
   "id": "12ca25f5",
   "metadata": {
    "scrolled": true
   },
   "outputs": [
    {
     "data": {
      "text/plain": [
       "array([     0,      1,      2, ..., 119512, 119513, 119514], dtype=int64)"
      ]
     },
     "execution_count": 6,
     "metadata": {},
     "output_type": "execute_result"
    }
   ],
   "source": [
    "unique_user"
   ]
  },
  {
   "cell_type": "code",
   "execution_count": null,
   "id": "a193cb67",
   "metadata": {},
   "outputs": [],
   "source": []
  },
  {
   "cell_type": "markdown",
   "id": "07d49b19",
   "metadata": {},
   "source": [
    "### make Interactions "
   ]
  },
  {
   "cell_type": "code",
   "execution_count": 7,
   "id": "17e2c250",
   "metadata": {},
   "outputs": [
    {
     "data": {
      "text/plain": [
       "(908176, 3)"
      ]
     },
     "execution_count": 7,
     "metadata": {},
     "output_type": "execute_result"
    }
   ],
   "source": [
    "rating.shape"
   ]
  },
  {
   "cell_type": "code",
   "execution_count": 8,
   "id": "d4092a72",
   "metadata": {},
   "outputs": [],
   "source": [
    "def create_user_item_interactions(rating, n_users, n_items):\n",
    "    interactions = coo_matrix(\n",
    "        (\n",
    "            rating['rating'].values,\n",
    "            (rating['user_id'].values, rating[\"whisky_id\"].values)\n",
    "        ),\n",
    "        shape=(n_users, n_items)\n",
    "    )\n",
    "    return interactions"
   ]
  },
  {
   "cell_type": "code",
   "execution_count": 9,
   "id": "ff1dbe03",
   "metadata": {},
   "outputs": [],
   "source": [
    "interactions = create_user_item_interactions(rating, rating[\"user_id\"].nunique(), whisky[\"whisky_id\"].nunique())"
   ]
  },
  {
   "cell_type": "code",
   "execution_count": 10,
   "id": "0aeaba0b",
   "metadata": {},
   "outputs": [
    {
     "name": "stdout",
     "output_type": "stream",
     "text": [
      "  (0, 0)\t9.0\n",
      "  (1, 0)\t7.0\n",
      "  (2, 0)\t9.0\n",
      "  (3, 0)\t10.0\n",
      "  (4, 0)\t9.0\n",
      "  (5, 0)\t7.0\n",
      "  (6, 0)\t10.0\n",
      "  (7, 0)\t7.0\n",
      "  (8, 0)\t10.0\n",
      "  (9, 0)\t10.0\n",
      "  (10, 0)\t9.0\n",
      "  (11, 0)\t9.0\n",
      "  (12, 0)\t8.0\n",
      "  (13, 0)\t8.0\n",
      "  (14, 0)\t10.0\n",
      "  (15, 0)\t10.0\n",
      "  (16, 0)\t9.0\n",
      "  (17, 0)\t9.0\n",
      "  (18, 0)\t8.0\n",
      "  (19, 0)\t9.0\n",
      "  (20, 0)\t9.0\n",
      "  (21, 0)\t10.0\n",
      "  (22, 0)\t9.0\n",
      "  (23, 0)\t9.0\n",
      "  (24, 0)\t9.0\n",
      "  :\t:\n",
      "  (7636, 3531)\t4.0\n",
      "  (56292, 3531)\t2.0\n",
      "  (2670, 3531)\t2.0\n",
      "  (786, 3531)\t2.0\n",
      "  (5942, 3531)\t6.0\n",
      "  (15561, 3531)\t2.0\n",
      "  (25623, 3532)\t6.0\n",
      "  (2885, 3532)\t6.0\n",
      "  (7368, 3533)\t2.0\n",
      "  (69554, 3534)\t10.0\n",
      "  (4484, 3534)\t2.0\n",
      "  (85727, 3534)\t5.0\n",
      "  (43900, 3534)\t4.0\n",
      "  (16070, 3534)\t8.0\n",
      "  (29998, 3534)\t8.0\n",
      "  (7895, 3534)\t4.0\n",
      "  (104052, 3534)\t5.0\n",
      "  (31152, 3534)\t2.0\n",
      "  (119512, 3534)\t6.0\n",
      "  (2509, 3534)\t4.0\n",
      "  (4828, 3534)\t4.0\n",
      "  (119513, 3534)\t2.0\n",
      "  (119514, 3534)\t8.0\n",
      "  (3123, 3534)\t4.0\n",
      "  (95648, 3534)\t2.0\n"
     ]
    },
    {
     "data": {
      "text/plain": [
       "<119515x3535 sparse matrix of type '<class 'numpy.float64'>'\n",
       "\twith 908176 stored elements in COOrdinate format>"
      ]
     },
     "execution_count": 10,
     "metadata": {},
     "output_type": "execute_result"
    }
   ],
   "source": [
    "print(interactions)\n",
    "interactions"
   ]
  },
  {
   "cell_type": "markdown",
   "id": "60b46c26",
   "metadata": {},
   "source": [
    "## Train_Test data split"
   ]
  },
  {
   "cell_type": "code",
   "execution_count": 11,
   "id": "25e7f621",
   "metadata": {},
   "outputs": [],
   "source": [
    "train_interactions, test_interactions = random_train_test_split(interactions, test_percentage=0.2, random_state=42)"
   ]
  },
  {
   "cell_type": "code",
   "execution_count": 12,
   "id": "d1b0c888",
   "metadata": {},
   "outputs": [],
   "source": [
    "train_interactions, valid_interactions = random_train_test_split(train_interactions, test_percentage=0.2, random_state=42)"
   ]
  },
  {
   "cell_type": "markdown",
   "id": "c52f76d4",
   "metadata": {},
   "source": [
    "### Hyper Parameter Optimization by using HyperOPT"
   ]
  },
  {
   "cell_type": "code",
   "execution_count": null,
   "id": "1435cbde",
   "metadata": {},
   "outputs": [],
   "source": []
  },
  {
   "cell_type": "code",
   "execution_count": null,
   "id": "f7ee75ca",
   "metadata": {},
   "outputs": [],
   "source": [
    "trials = Trials()\n",
    "space = [\n",
    "    hp.choice('no_components', range(10,51,10)),\n",
    "    hp.uniform('learning_rate', 0.001, 0.005,  0.01),\n",
    "    hp.uniform('item_alpha', 1e-05, 5e-05),\n",
    "    hp.uniform('user_alpha', 1e-05, 5e-05),\n",
    "]"
   ]
  },
  {
   "cell_type": "code",
   "execution_count": null,
   "id": "e5f4e3a5",
   "metadata": {},
   "outputs": [],
   "source": [
    "def objective(params):\n",
    "    no_components, learning_rate, item_alpha, user_alpha = params\n",
    "\n",
    "    model = LightFM(no_components=no_components,\n",
    "                    learning_schedule='adagrad',\n",
    "                    loss='warp',\n",
    "                    learning_rate=learning_rate,\n",
    "                    item_alpha=item_alpha,\n",
    "                    user_alpha=user_alpha,\n",
    "                    random_state=0)\n",
    "\n",
    "    model.fit(interactions=train_interactions,\n",
    "              user_features=user_features,\n",
    "              item_features=item_features,\n",
    "              epochs=3,\n",
    "              verbose=True)\n",
    "\n",
    "    test_precision = precision_at_k(model, valid_interactions, k=10, item_features=item_features, user_features=user_features).mean()\n",
    "    test_recall = recall_at_k(model, valid_interactions, k=10, item_features=item_features, user_features=user_features).mean()\n",
    "    test_auc = auc_score(model, valid_interactions, item_features=item_features, user_features=user_features).mean()\n",
    "    \n",
    "    print(\"no_comp: {}, lrn_rate: {:.5f}, item_alpha: {:.5f}, precision: {:.5f}, recall: {:.5f}, auc_score: {:.5f}\".format(\n",
    "      no_components, learning_rate, item_alpha, test_precision, test_recall, test_auc))\n",
    "    output = -test_auc\n",
    "\n",
    "\n",
    "    return output"
   ]
  },
  {
   "cell_type": "code",
   "execution_count": null,
   "id": "a5b0e68e",
   "metadata": {},
   "outputs": [],
   "source": [
    "best_params = fmin(fn=objective, space=space, algo=tpe.suggest, max_evals=5, trials=trials)\n",
    "\n",
    "best_params"
   ]
  },
  {
   "cell_type": "code",
   "execution_count": null,
   "id": "d5f40619",
   "metadata": {},
   "outputs": [],
   "source": [
    "midel = LightFM(no_components=20,\n",
    "                learning_rate=0.05,\n",
    "                loss=\"warp\",\n",
    "                item_alpha=0.01,\n",
    "                user_alpha=0.01,\n",
    "                random_state=42\n",
    "               )"
   ]
  },
  {
   "cell_type": "code",
   "execution_count": null,
   "id": "e16e4e32",
   "metadata": {},
   "outputs": [],
   "source": [
    "%time model.fit(interactions=train_interactions, user_features=user_features, item_features=item_features, epochs=10, verbose=True)"
   ]
  },
  {
   "cell_type": "code",
   "execution_count": null,
   "id": "4e52981b",
   "metadata": {},
   "outputs": [],
   "source": [
    "model = LightFM(no_components=40,\n",
    "                learning_schedule='adagrad',\n",
    "                loss='warp',\n",
    "                learning_rate=0.011370592645615374,\n",
    "                item_alpha=1.975734039413079e-05,\n",
    "                random_state=42)"
   ]
  },
  {
   "cell_type": "code",
   "execution_count": null,
   "id": "c715c321",
   "metadata": {
    "scrolled": true
   },
   "outputs": [],
   "source": [
    "%time midel.fit(interactions=train_interactions, user_features=user_features, item_features=item_features, epochs=10, verbose=True)"
   ]
  },
  {
   "cell_type": "code",
   "execution_count": null,
   "id": "42aee705",
   "metadata": {},
   "outputs": [],
   "source": [
    "print(\"Train precision: %.5f\" % precision_at_k(midel, test_interactions, user_features=user_features, item_features=item_features, k=9).mean())\n",
    "print(\"Test precision: %.5f\" % precision_at_k(midel, test_interactions,  user_features=user_features, item_features=item_features, k=9).mean())"
   ]
  },
  {
   "cell_type": "code",
   "execution_count": null,
   "id": "b69c8254",
   "metadata": {
    "scrolled": true
   },
   "outputs": [],
   "source": [
    "test_auc = auc_score(midel, test_interactions, user_features=user_features, item_features=item_features).mean()\n",
    "print(test_auc)"
   ]
  },
  {
   "cell_type": "markdown",
   "id": "1dd2d440",
   "metadata": {},
   "source": [
    "## Optuna 사용한 HyperParameter 최적화\n",
    "---\n",
    "- learning_rate, alpha 등의 하이퍼 파라미터 값을 작게 설정했을 때보다 높게 설정했을 때 AUC Score가 높게 나오는 경향이 보였습니다.\n",
    "- HyperOPT는 베이지안 최적화 접근 기반인데 이 부분에 제대로 알지 못하기 때문에 전체를 돌려보는 Optuna 방식으로 변경하겠습니다.\n",
    "- Optuna의 경우 시각화도 가능하고, GridSearchCV보다 빠르다는 장점이 있습니다."
   ]
  },
  {
   "cell_type": "code",
   "execution_count": null,
   "id": "b5fc39d3",
   "metadata": {},
   "outputs": [],
   "source": []
  },
  {
   "cell_type": "code",
   "execution_count": 13,
   "id": "dfeb573a",
   "metadata": {},
   "outputs": [],
   "source": [
    "import optuna"
   ]
  },
  {
   "cell_type": "code",
   "execution_count": 14,
   "id": "cb9a1211",
   "metadata": {},
   "outputs": [],
   "source": [
    "def objective(trial):\n",
    "    \n",
    "    \n",
    "    # 조정할 하이퍼 파라미터\n",
    "    params = {\n",
    "        \"learning_schedule\": 'adagrad',\n",
    "        \"loss\": \"warp\",\n",
    "        \"random_state\": 0,\n",
    "        \"no_components\": trial.suggest_categorical(\"no_components\", [10, 20, 30, 40, 50]),\n",
    "        'learning_rate': trial.suggest_categorical(\"learning_rate\", [0.0005, 0.001, 0.005,  0.01,  0.05]),\n",
    "        'item_alpha': trial.suggest_categorical(\"item_alpha\", [5e-04, 1e-03, 5e-03, 1e-02]),\n",
    "        'user_alpha': trial.suggest_categorical(\"user_alpha\", [5e-04, 1e-03, 5e-03, 1e-02]),\n",
    "    }\n",
    "\n",
    "    model = LightFM(**params)\n",
    "\n",
    "    model.fit(interactions=train_interactions,\n",
    "              user_features=user_features,\n",
    "              item_features=item_features,\n",
    "              epochs=3,\n",
    "              verbose=True)\n",
    "\n",
    "    test_precision = precision_at_k(model, valid_interactions, k=9, item_features=item_features, user_features=user_features).mean()\n",
    "    test_recall = recall_at_k(model, valid_interactions, k=9, item_features=item_features, user_features=user_features).mean()\n",
    "    test_auc = auc_score(model, valid_interactions, item_features=item_features, user_features=user_features).mean()\n",
    "    \n",
    "    print(\"no_comp: {}, lrn_rate: {:.5f}, item_alpha: {:.5f}, user_alpha: {:.5f}, precision: {:.5f}, recall: {:.5f}, auc_score: {:.5f}\".format(\n",
    "      params[\"no_components\"], params[\"learning_rate\"], params[\"item_alpha\"], params[\"user_alpha\"], test_precision, test_recall, test_auc))\n",
    "    return test_auc"
   ]
  },
  {
   "cell_type": "code",
   "execution_count": 15,
   "id": "9616d0fb",
   "metadata": {
    "scrolled": false
   },
   "outputs": [
    {
     "name": "stderr",
     "output_type": "stream",
     "text": [
      "\u001b[32m[I 2023-03-13 20:39:04,459]\u001b[0m A new study created in memory with name: no-name-512a595e-85c2-49aa-a0ff-f866e2b5004e\u001b[0m\n",
      "Epoch: 100%|█████████████████████████████████████████████████████████████████████████████| 3/3 [01:09<00:00, 23.16s/it]\n",
      "\u001b[32m[I 2023-03-13 20:42:48,357]\u001b[0m Trial 0 finished with value: 0.7446987628936768 and parameters: {'no_components': 20, 'learning_rate': 0.0005, 'item_alpha': 0.001, 'user_alpha': 0.005}. Best is trial 0 with value: 0.7446987628936768.\u001b[0m\n"
     ]
    },
    {
     "name": "stdout",
     "output_type": "stream",
     "text": [
      "no_comp: 20, lrn_rate: 0.00050, item_alpha: 0.00100, user_alpha: 0.00500, precision: 0.00077, recall: 0.00268, auc_score: 0.74470\n"
     ]
    },
    {
     "name": "stderr",
     "output_type": "stream",
     "text": [
      "Epoch: 100%|█████████████████████████████████████████████████████████████████████████████| 3/3 [02:14<00:00, 44.95s/it]\n",
      "\u001b[32m[I 2023-03-13 20:49:13,855]\u001b[0m Trial 1 finished with value: 0.7767640948295593 and parameters: {'no_components': 40, 'learning_rate': 0.005, 'item_alpha': 0.01, 'user_alpha': 0.01}. Best is trial 1 with value: 0.7767640948295593.\u001b[0m\n"
     ]
    },
    {
     "name": "stdout",
     "output_type": "stream",
     "text": [
      "no_comp: 40, lrn_rate: 0.00500, item_alpha: 0.01000, user_alpha: 0.01000, precision: 0.00282, recall: 0.01199, auc_score: 0.77676\n"
     ]
    },
    {
     "name": "stderr",
     "output_type": "stream",
     "text": [
      "Epoch: 100%|█████████████████████████████████████████████████████████████████████████████| 3/3 [01:47<00:00, 35.84s/it]\n",
      "\u001b[32m[I 2023-03-13 20:54:24,165]\u001b[0m Trial 2 finished with value: 0.745319664478302 and parameters: {'no_components': 30, 'learning_rate': 0.0005, 'item_alpha': 0.001, 'user_alpha': 0.001}. Best is trial 1 with value: 0.7767640948295593.\u001b[0m\n"
     ]
    },
    {
     "name": "stdout",
     "output_type": "stream",
     "text": [
      "no_comp: 30, lrn_rate: 0.00050, item_alpha: 0.00100, user_alpha: 0.00100, precision: 0.00089, recall: 0.00334, auc_score: 0.74532\n"
     ]
    },
    {
     "name": "stderr",
     "output_type": "stream",
     "text": [
      "Epoch: 100%|█████████████████████████████████████████████████████████████████████████████| 3/3 [02:11<00:00, 43.97s/it]\n",
      "\u001b[32m[I 2023-03-13 21:00:42,679]\u001b[0m Trial 3 finished with value: 0.8078765869140625 and parameters: {'no_components': 40, 'learning_rate': 0.05, 'item_alpha': 0.01, 'user_alpha': 0.001}. Best is trial 3 with value: 0.8078765869140625.\u001b[0m\n"
     ]
    },
    {
     "name": "stdout",
     "output_type": "stream",
     "text": [
      "no_comp: 40, lrn_rate: 0.05000, item_alpha: 0.01000, user_alpha: 0.00100, precision: 0.00685, recall: 0.04067, auc_score: 0.80788\n"
     ]
    },
    {
     "name": "stderr",
     "output_type": "stream",
     "text": [
      "Epoch: 100%|█████████████████████████████████████████████████████████████████████████████| 3/3 [00:37<00:00, 12.43s/it]\n",
      "\u001b[32m[I 2023-03-13 21:03:11,497]\u001b[0m Trial 4 finished with value: 0.7968514561653137 and parameters: {'no_components': 10, 'learning_rate': 0.05, 'item_alpha': 0.01, 'user_alpha': 0.001}. Best is trial 3 with value: 0.8078765869140625.\u001b[0m\n"
     ]
    },
    {
     "name": "stdout",
     "output_type": "stream",
     "text": [
      "no_comp: 10, lrn_rate: 0.05000, item_alpha: 0.01000, user_alpha: 0.00100, precision: 0.00416, recall: 0.02009, auc_score: 0.79685\n"
     ]
    },
    {
     "name": "stderr",
     "output_type": "stream",
     "text": [
      "Epoch: 100%|█████████████████████████████████████████████████████████████████████████████| 3/3 [02:17<00:00, 45.69s/it]\n",
      "\u001b[32m[I 2023-03-13 21:09:28,019]\u001b[0m Trial 5 finished with value: 0.7761074304580688 and parameters: {'no_components': 40, 'learning_rate': 0.005, 'item_alpha': 0.001, 'user_alpha': 0.001}. Best is trial 3 with value: 0.8078765869140625.\u001b[0m\n"
     ]
    },
    {
     "name": "stdout",
     "output_type": "stream",
     "text": [
      "no_comp: 40, lrn_rate: 0.00500, item_alpha: 0.00100, user_alpha: 0.00100, precision: 0.00274, recall: 0.01178, auc_score: 0.77611\n"
     ]
    },
    {
     "name": "stderr",
     "output_type": "stream",
     "text": [
      "Epoch: 100%|█████████████████████████████████████████████████████████████████████████████| 3/3 [01:11<00:00, 23.97s/it]\n",
      "\u001b[32m[I 2023-03-13 21:13:14,145]\u001b[0m Trial 6 finished with value: 0.7806143164634705 and parameters: {'no_components': 20, 'learning_rate': 0.01, 'item_alpha': 0.01, 'user_alpha': 0.001}. Best is trial 3 with value: 0.8078765869140625.\u001b[0m\n"
     ]
    },
    {
     "name": "stdout",
     "output_type": "stream",
     "text": [
      "no_comp: 20, lrn_rate: 0.01000, item_alpha: 0.01000, user_alpha: 0.00100, precision: 0.00309, recall: 0.01317, auc_score: 0.78061\n"
     ]
    },
    {
     "name": "stderr",
     "output_type": "stream",
     "text": [
      "Epoch: 100%|█████████████████████████████████████████████████████████████████████████████| 3/3 [01:46<00:00, 35.61s/it]\n",
      "\u001b[32m[I 2023-03-13 21:18:30,842]\u001b[0m Trial 7 finished with value: 0.7479438185691833 and parameters: {'no_components': 30, 'learning_rate': 0.001, 'item_alpha': 0.005, 'user_alpha': 0.005}. Best is trial 3 with value: 0.8078765869140625.\u001b[0m\n"
     ]
    },
    {
     "name": "stdout",
     "output_type": "stream",
     "text": [
      "no_comp: 30, lrn_rate: 0.00100, item_alpha: 0.00500, user_alpha: 0.00500, precision: 0.00104, recall: 0.00389, auc_score: 0.74794\n"
     ]
    },
    {
     "name": "stderr",
     "output_type": "stream",
     "text": [
      "Epoch: 100%|█████████████████████████████████████████████████████████████████████████████| 3/3 [00:38<00:00, 12.80s/it]\n",
      "\u001b[32m[I 2023-03-13 21:21:00,612]\u001b[0m Trial 8 finished with value: 0.7674564719200134 and parameters: {'no_components': 10, 'learning_rate': 0.005, 'item_alpha': 0.001, 'user_alpha': 0.0005}. Best is trial 3 with value: 0.8078765869140625.\u001b[0m\n"
     ]
    },
    {
     "name": "stdout",
     "output_type": "stream",
     "text": [
      "no_comp: 10, lrn_rate: 0.00500, item_alpha: 0.00100, user_alpha: 0.00050, precision: 0.00170, recall: 0.00626, auc_score: 0.76746\n"
     ]
    },
    {
     "name": "stderr",
     "output_type": "stream",
     "text": [
      "Epoch: 100%|█████████████████████████████████████████████████████████████████████████████| 3/3 [02:20<00:00, 46.99s/it]\n",
      "\u001b[32m[I 2023-03-13 21:27:28,837]\u001b[0m Trial 9 finished with value: 0.7458027601242065 and parameters: {'no_components': 40, 'learning_rate': 0.0005, 'item_alpha': 0.01, 'user_alpha': 0.005}. Best is trial 3 with value: 0.8078765869140625.\u001b[0m\n"
     ]
    },
    {
     "name": "stdout",
     "output_type": "stream",
     "text": [
      "no_comp: 40, lrn_rate: 0.00050, item_alpha: 0.01000, user_alpha: 0.00500, precision: 0.00108, recall: 0.00400, auc_score: 0.74580\n"
     ]
    },
    {
     "name": "stderr",
     "output_type": "stream",
     "text": [
      "Epoch: 100%|█████████████████████████████████████████████████████████████████████████████| 3/3 [02:46<00:00, 55.53s/it]\n",
      "\u001b[32m[I 2023-03-13 21:35:25,297]\u001b[0m Trial 10 finished with value: 0.8056703209877014 and parameters: {'no_components': 50, 'learning_rate': 0.05, 'item_alpha': 0.0005, 'user_alpha': 0.0005}. Best is trial 3 with value: 0.8078765869140625.\u001b[0m\n"
     ]
    },
    {
     "name": "stdout",
     "output_type": "stream",
     "text": [
      "no_comp: 50, lrn_rate: 0.05000, item_alpha: 0.00050, user_alpha: 0.00050, precision: 0.00509, recall: 0.02822, auc_score: 0.80567\n"
     ]
    },
    {
     "name": "stderr",
     "output_type": "stream",
     "text": [
      "Epoch: 100%|█████████████████████████████████████████████████████████████████████████████| 3/3 [03:10<00:00, 63.51s/it]\n",
      "\u001b[32m[I 2023-03-13 21:44:18,841]\u001b[0m Trial 11 finished with value: 0.8056703209877014 and parameters: {'no_components': 50, 'learning_rate': 0.05, 'item_alpha': 0.0005, 'user_alpha': 0.0005}. Best is trial 3 with value: 0.8078765869140625.\u001b[0m\n"
     ]
    },
    {
     "name": "stdout",
     "output_type": "stream",
     "text": [
      "no_comp: 50, lrn_rate: 0.05000, item_alpha: 0.00050, user_alpha: 0.00050, precision: 0.00509, recall: 0.02822, auc_score: 0.80567\n"
     ]
    },
    {
     "name": "stderr",
     "output_type": "stream",
     "text": [
      "Epoch: 100%|█████████████████████████████████████████████████████████████████████████████| 3/3 [03:01<00:00, 60.63s/it]\n",
      "\u001b[32m[I 2023-03-13 21:52:41,977]\u001b[0m Trial 12 finished with value: 0.8056703209877014 and parameters: {'no_components': 50, 'learning_rate': 0.05, 'item_alpha': 0.0005, 'user_alpha': 0.0005}. Best is trial 3 with value: 0.8078765869140625.\u001b[0m\n"
     ]
    },
    {
     "name": "stdout",
     "output_type": "stream",
     "text": [
      "no_comp: 50, lrn_rate: 0.05000, item_alpha: 0.00050, user_alpha: 0.00050, precision: 0.00509, recall: 0.02822, auc_score: 0.80567\n"
     ]
    },
    {
     "name": "stderr",
     "output_type": "stream",
     "text": [
      "Epoch: 100%|█████████████████████████████████████████████████████████████████████████████| 3/3 [02:57<00:00, 59.21s/it]\n",
      "\u001b[32m[I 2023-03-13 22:00:59,518]\u001b[0m Trial 13 finished with value: 0.783507764339447 and parameters: {'no_components': 50, 'learning_rate': 0.05, 'item_alpha': 0.0005, 'user_alpha': 0.01}. Best is trial 3 with value: 0.8078765869140625.\u001b[0m\n"
     ]
    },
    {
     "name": "stdout",
     "output_type": "stream",
     "text": [
      "no_comp: 50, lrn_rate: 0.05000, item_alpha: 0.00050, user_alpha: 0.01000, precision: 0.00490, recall: 0.02849, auc_score: 0.78351\n"
     ]
    },
    {
     "name": "stderr",
     "output_type": "stream",
     "text": [
      "Epoch: 100%|█████████████████████████████████████████████████████████████████████████████| 3/3 [02:54<00:00, 58.02s/it]\n",
      "\u001b[32m[I 2023-03-13 22:09:04,364]\u001b[0m Trial 14 finished with value: 0.8068074584007263 and parameters: {'no_components': 50, 'learning_rate': 0.05, 'item_alpha': 0.005, 'user_alpha': 0.0005}. Best is trial 3 with value: 0.8078765869140625.\u001b[0m\n"
     ]
    },
    {
     "name": "stdout",
     "output_type": "stream",
     "text": [
      "no_comp: 50, lrn_rate: 0.05000, item_alpha: 0.00500, user_alpha: 0.00050, precision: 0.00538, recall: 0.03013, auc_score: 0.80681\n"
     ]
    },
    {
     "name": "stderr",
     "output_type": "stream",
     "text": [
      "Epoch: 100%|█████████████████████████████████████████████████████████████████████████████| 3/3 [02:22<00:00, 47.60s/it]\n",
      "\u001b[32m[I 2023-03-13 22:15:41,680]\u001b[0m Trial 15 finished with value: 0.7870996594429016 and parameters: {'no_components': 40, 'learning_rate': 0.01, 'item_alpha': 0.005, 'user_alpha': 0.001}. Best is trial 3 with value: 0.8078765869140625.\u001b[0m\n"
     ]
    },
    {
     "name": "stdout",
     "output_type": "stream",
     "text": [
      "no_comp: 40, lrn_rate: 0.01000, item_alpha: 0.00500, user_alpha: 0.00100, precision: 0.00348, recall: 0.01541, auc_score: 0.78710\n"
     ]
    },
    {
     "name": "stderr",
     "output_type": "stream",
     "text": [
      "Epoch: 100%|█████████████████████████████████████████████████████████████████████████████| 3/3 [02:25<00:00, 48.61s/it]\n",
      "\u001b[32m[I 2023-03-13 22:22:36,941]\u001b[0m Trial 16 finished with value: 0.7483178973197937 and parameters: {'no_components': 40, 'learning_rate': 0.001, 'item_alpha': 0.005, 'user_alpha': 0.0005}. Best is trial 3 with value: 0.8078765869140625.\u001b[0m\n"
     ]
    },
    {
     "name": "stdout",
     "output_type": "stream",
     "text": [
      "no_comp: 40, lrn_rate: 0.00100, item_alpha: 0.00500, user_alpha: 0.00050, precision: 0.00106, recall: 0.00391, auc_score: 0.74832\n"
     ]
    },
    {
     "name": "stderr",
     "output_type": "stream",
     "text": [
      "Epoch: 100%|█████████████████████████████████████████████████████████████████████████████| 3/3 [02:55<00:00, 58.66s/it]\n",
      "\u001b[32m[I 2023-03-13 22:30:54,831]\u001b[0m Trial 17 finished with value: 0.7907894849777222 and parameters: {'no_components': 50, 'learning_rate': 0.05, 'item_alpha': 0.005, 'user_alpha': 0.01}. Best is trial 3 with value: 0.8078765869140625.\u001b[0m\n"
     ]
    },
    {
     "name": "stdout",
     "output_type": "stream",
     "text": [
      "no_comp: 50, lrn_rate: 0.05000, item_alpha: 0.00500, user_alpha: 0.01000, precision: 0.00489, recall: 0.02802, auc_score: 0.79079\n"
     ]
    },
    {
     "name": "stderr",
     "output_type": "stream",
     "text": [
      "Epoch: 100%|█████████████████████████████████████████████████████████████████████████████| 3/3 [01:45<00:00, 35.11s/it]\n",
      "\u001b[32m[I 2023-03-13 22:36:14,767]\u001b[0m Trial 18 finished with value: 0.8056063055992126 and parameters: {'no_components': 30, 'learning_rate': 0.05, 'item_alpha': 0.01, 'user_alpha': 0.001}. Best is trial 3 with value: 0.8078765869140625.\u001b[0m\n"
     ]
    },
    {
     "name": "stdout",
     "output_type": "stream",
     "text": [
      "no_comp: 30, lrn_rate: 0.05000, item_alpha: 0.01000, user_alpha: 0.00100, precision: 0.00563, recall: 0.03205, auc_score: 0.80561\n"
     ]
    },
    {
     "name": "stderr",
     "output_type": "stream",
     "text": [
      "Epoch: 100%|█████████████████████████████████████████████████████████████████████████████| 3/3 [00:39<00:00, 13.28s/it]\n",
      "\u001b[32m[I 2023-03-13 22:38:50,634]\u001b[0m Trial 19 finished with value: 0.7959623336791992 and parameters: {'no_components': 10, 'learning_rate': 0.05, 'item_alpha': 0.005, 'user_alpha': 0.0005}. Best is trial 3 with value: 0.8078765869140625.\u001b[0m\n"
     ]
    },
    {
     "name": "stdout",
     "output_type": "stream",
     "text": [
      "no_comp: 10, lrn_rate: 0.05000, item_alpha: 0.00500, user_alpha: 0.00050, precision: 0.00384, recall: 0.01756, auc_score: 0.79596\n"
     ]
    },
    {
     "name": "stderr",
     "output_type": "stream",
     "text": [
      "Epoch: 100%|█████████████████████████████████████████████████████████████████████████████| 3/3 [01:17<00:00, 25.96s/it]\n",
      "\u001b[32m[I 2023-03-13 22:42:49,419]\u001b[0m Trial 20 finished with value: 0.7806143164634705 and parameters: {'no_components': 20, 'learning_rate': 0.01, 'item_alpha': 0.01, 'user_alpha': 0.001}. Best is trial 3 with value: 0.8078765869140625.\u001b[0m\n"
     ]
    },
    {
     "name": "stdout",
     "output_type": "stream",
     "text": [
      "no_comp: 20, lrn_rate: 0.01000, item_alpha: 0.01000, user_alpha: 0.00100, precision: 0.00309, recall: 0.01317, auc_score: 0.78061\n"
     ]
    },
    {
     "name": "stderr",
     "output_type": "stream",
     "text": [
      "Epoch: 100%|█████████████████████████████████████████████████████████████████████████████| 3/3 [02:57<00:00, 59.03s/it]\n",
      "\u001b[32m[I 2023-03-13 22:50:58,418]\u001b[0m Trial 21 finished with value: 0.8056703209877014 and parameters: {'no_components': 50, 'learning_rate': 0.05, 'item_alpha': 0.0005, 'user_alpha': 0.0005}. Best is trial 3 with value: 0.8078765869140625.\u001b[0m\n"
     ]
    },
    {
     "name": "stdout",
     "output_type": "stream",
     "text": [
      "no_comp: 50, lrn_rate: 0.05000, item_alpha: 0.00050, user_alpha: 0.00050, precision: 0.00509, recall: 0.02822, auc_score: 0.80567\n"
     ]
    },
    {
     "name": "stderr",
     "output_type": "stream",
     "text": [
      "Epoch: 100%|█████████████████████████████████████████████████████████████████████████████| 3/3 [02:54<00:00, 58.29s/it]\n",
      "\u001b[32m[I 2023-03-13 22:59:27,736]\u001b[0m Trial 22 finished with value: 0.8056703209877014 and parameters: {'no_components': 50, 'learning_rate': 0.05, 'item_alpha': 0.0005, 'user_alpha': 0.0005}. Best is trial 3 with value: 0.8078765869140625.\u001b[0m\n"
     ]
    },
    {
     "name": "stdout",
     "output_type": "stream",
     "text": [
      "no_comp: 50, lrn_rate: 0.05000, item_alpha: 0.00050, user_alpha: 0.00050, precision: 0.00509, recall: 0.02822, auc_score: 0.80567\n"
     ]
    },
    {
     "name": "stderr",
     "output_type": "stream",
     "text": [
      "Epoch: 100%|█████████████████████████████████████████████████████████████████████████████| 3/3 [02:53<00:00, 57.80s/it]\n",
      "\u001b[32m[I 2023-03-13 23:07:26,119]\u001b[0m Trial 23 finished with value: 0.8056703209877014 and parameters: {'no_components': 50, 'learning_rate': 0.05, 'item_alpha': 0.0005, 'user_alpha': 0.0005}. Best is trial 3 with value: 0.8078765869140625.\u001b[0m\n"
     ]
    },
    {
     "name": "stdout",
     "output_type": "stream",
     "text": [
      "no_comp: 50, lrn_rate: 0.05000, item_alpha: 0.00050, user_alpha: 0.00050, precision: 0.00509, recall: 0.02822, auc_score: 0.80567\n"
     ]
    },
    {
     "name": "stderr",
     "output_type": "stream",
     "text": [
      "Epoch: 100%|█████████████████████████████████████████████████████████████████████████████| 3/3 [02:53<00:00, 57.84s/it]\n",
      "\u001b[32m[I 2023-03-13 23:15:34,882]\u001b[0m Trial 24 finished with value: 0.8068074584007263 and parameters: {'no_components': 50, 'learning_rate': 0.05, 'item_alpha': 0.005, 'user_alpha': 0.0005}. Best is trial 3 with value: 0.8078765869140625.\u001b[0m\n"
     ]
    },
    {
     "name": "stdout",
     "output_type": "stream",
     "text": [
      "no_comp: 50, lrn_rate: 0.05000, item_alpha: 0.00500, user_alpha: 0.00050, precision: 0.00538, recall: 0.03013, auc_score: 0.80681\n"
     ]
    },
    {
     "name": "stderr",
     "output_type": "stream",
     "text": [
      "Epoch: 100%|█████████████████████████████████████████████████████████████████████████████| 3/3 [02:40<00:00, 53.37s/it]\n",
      "\u001b[32m[I 2023-03-13 23:22:57,725]\u001b[0m Trial 25 finished with value: 0.7483178973197937 and parameters: {'no_components': 40, 'learning_rate': 0.001, 'item_alpha': 0.005, 'user_alpha': 0.0005}. Best is trial 3 with value: 0.8078765869140625.\u001b[0m\n"
     ]
    },
    {
     "name": "stdout",
     "output_type": "stream",
     "text": [
      "no_comp: 40, lrn_rate: 0.00100, item_alpha: 0.00500, user_alpha: 0.00050, precision: 0.00106, recall: 0.00391, auc_score: 0.74832\n"
     ]
    },
    {
     "name": "stderr",
     "output_type": "stream",
     "text": [
      "Epoch: 100%|█████████████████████████████████████████████████████████████████████████████| 3/3 [03:10<00:00, 63.33s/it]\n",
      "\u001b[32m[I 2023-03-13 23:31:53,559]\u001b[0m Trial 26 finished with value: 0.8066747188568115 and parameters: {'no_components': 50, 'learning_rate': 0.05, 'item_alpha': 0.005, 'user_alpha': 0.005}. Best is trial 3 with value: 0.8078765869140625.\u001b[0m\n"
     ]
    },
    {
     "name": "stdout",
     "output_type": "stream",
     "text": [
      "no_comp: 50, lrn_rate: 0.05000, item_alpha: 0.00500, user_alpha: 0.00500, precision: 0.00570, recall: 0.03259, auc_score: 0.80667\n"
     ]
    },
    {
     "name": "stderr",
     "output_type": "stream",
     "text": [
      "Epoch: 100%|█████████████████████████████████████████████████████████████████████████████| 3/3 [03:04<00:00, 61.55s/it]\n",
      "\u001b[32m[I 2023-03-13 23:40:38,621]\u001b[0m Trial 27 finished with value: 0.7907894849777222 and parameters: {'no_components': 50, 'learning_rate': 0.05, 'item_alpha': 0.005, 'user_alpha': 0.01}. Best is trial 3 with value: 0.8078765869140625.\u001b[0m\n"
     ]
    },
    {
     "name": "stdout",
     "output_type": "stream",
     "text": [
      "no_comp: 50, lrn_rate: 0.05000, item_alpha: 0.00500, user_alpha: 0.01000, precision: 0.00489, recall: 0.02802, auc_score: 0.79079\n"
     ]
    },
    {
     "name": "stderr",
     "output_type": "stream",
     "text": [
      "Epoch: 100%|█████████████████████████████████████████████████████████████████████████████| 3/3 [02:14<00:00, 44.78s/it]\n",
      "\u001b[32m[I 2023-03-13 23:47:16,385]\u001b[0m Trial 28 finished with value: 0.8074862360954285 and parameters: {'no_components': 40, 'learning_rate': 0.05, 'item_alpha': 0.005, 'user_alpha': 0.0005}. Best is trial 3 with value: 0.8078765869140625.\u001b[0m\n"
     ]
    },
    {
     "name": "stdout",
     "output_type": "stream",
     "text": [
      "no_comp: 40, lrn_rate: 0.05000, item_alpha: 0.00500, user_alpha: 0.00050, precision: 0.00577, recall: 0.03327, auc_score: 0.80749\n"
     ]
    },
    {
     "name": "stderr",
     "output_type": "stream",
     "text": [
      "Epoch: 100%|█████████████████████████████████████████████████████████████████████████████| 3/3 [02:23<00:00, 47.83s/it]\n",
      "\u001b[32m[I 2023-03-13 23:53:57,932]\u001b[0m Trial 29 finished with value: 0.7458696365356445 and parameters: {'no_components': 40, 'learning_rate': 0.0005, 'item_alpha': 0.005, 'user_alpha': 0.005}. Best is trial 3 with value: 0.8078765869140625.\u001b[0m\n"
     ]
    },
    {
     "name": "stdout",
     "output_type": "stream",
     "text": [
      "no_comp: 40, lrn_rate: 0.00050, item_alpha: 0.00500, user_alpha: 0.00500, precision: 0.00108, recall: 0.00405, auc_score: 0.74587\n"
     ]
    },
    {
     "name": "stderr",
     "output_type": "stream",
     "text": [
      "Epoch: 100%|█████████████████████████████████████████████████████████████████████████████| 3/3 [02:27<00:00, 49.27s/it]\n",
      "\u001b[32m[I 2023-03-14 00:00:41,769]\u001b[0m Trial 30 finished with value: 0.7757359743118286 and parameters: {'no_components': 40, 'learning_rate': 0.005, 'item_alpha': 0.01, 'user_alpha': 0.001}. Best is trial 3 with value: 0.8078765869140625.\u001b[0m\n"
     ]
    },
    {
     "name": "stdout",
     "output_type": "stream",
     "text": [
      "no_comp: 40, lrn_rate: 0.00500, item_alpha: 0.01000, user_alpha: 0.00100, precision: 0.00283, recall: 0.01200, auc_score: 0.77574\n"
     ]
    },
    {
     "name": "stderr",
     "output_type": "stream",
     "text": [
      "Epoch: 100%|█████████████████████████████████████████████████████████████████████████████| 3/3 [01:16<00:00, 25.61s/it]\n",
      "\u001b[32m[I 2023-03-14 00:04:43,778]\u001b[0m Trial 31 finished with value: 0.802362859249115 and parameters: {'no_components': 20, 'learning_rate': 0.05, 'item_alpha': 0.005, 'user_alpha': 0.0005}. Best is trial 3 with value: 0.8078765869140625.\u001b[0m\n"
     ]
    },
    {
     "name": "stdout",
     "output_type": "stream",
     "text": [
      "no_comp: 20, lrn_rate: 0.05000, item_alpha: 0.00500, user_alpha: 0.00050, precision: 0.00415, recall: 0.02107, auc_score: 0.80236\n"
     ]
    },
    {
     "name": "stderr",
     "output_type": "stream",
     "text": [
      "Epoch: 100%|█████████████████████████████████████████████████████████████████████████████| 3/3 [02:24<00:00, 48.31s/it]\n",
      "\u001b[32m[I 2023-03-14 00:11:51,843]\u001b[0m Trial 32 finished with value: 0.8074862360954285 and parameters: {'no_components': 40, 'learning_rate': 0.05, 'item_alpha': 0.005, 'user_alpha': 0.0005}. Best is trial 3 with value: 0.8078765869140625.\u001b[0m\n"
     ]
    },
    {
     "name": "stdout",
     "output_type": "stream",
     "text": [
      "no_comp: 40, lrn_rate: 0.05000, item_alpha: 0.00500, user_alpha: 0.00050, precision: 0.00577, recall: 0.03327, auc_score: 0.80749\n"
     ]
    },
    {
     "name": "stderr",
     "output_type": "stream",
     "text": [
      "Epoch: 100%|█████████████████████████████████████████████████████████████████████████████| 3/3 [02:31<00:00, 50.53s/it]\n",
      "\u001b[32m[I 2023-03-14 00:19:06,166]\u001b[0m Trial 33 finished with value: 0.8074862360954285 and parameters: {'no_components': 40, 'learning_rate': 0.05, 'item_alpha': 0.005, 'user_alpha': 0.0005}. Best is trial 3 with value: 0.8078765869140625.\u001b[0m\n"
     ]
    },
    {
     "name": "stdout",
     "output_type": "stream",
     "text": [
      "no_comp: 40, lrn_rate: 0.05000, item_alpha: 0.00500, user_alpha: 0.00050, precision: 0.00577, recall: 0.03327, auc_score: 0.80749\n"
     ]
    },
    {
     "name": "stderr",
     "output_type": "stream",
     "text": [
      "Epoch: 100%|█████████████████████████████████████████████████████████████████████████████| 3/3 [02:39<00:00, 53.18s/it]\n",
      "\u001b[32m[I 2023-03-14 00:26:29,188]\u001b[0m Trial 34 finished with value: 0.7458818554878235 and parameters: {'no_components': 40, 'learning_rate': 0.0005, 'item_alpha': 0.001, 'user_alpha': 0.0005}. Best is trial 3 with value: 0.8078765869140625.\u001b[0m\n"
     ]
    },
    {
     "name": "stdout",
     "output_type": "stream",
     "text": [
      "no_comp: 40, lrn_rate: 0.00050, item_alpha: 0.00100, user_alpha: 0.00050, precision: 0.00108, recall: 0.00405, auc_score: 0.74588\n"
     ]
    },
    {
     "name": "stderr",
     "output_type": "stream",
     "text": [
      "Epoch: 100%|█████████████████████████████████████████████████████████████████████████████| 3/3 [02:32<00:00, 50.80s/it]\n",
      "\u001b[32m[I 2023-03-14 00:34:00,711]\u001b[0m Trial 35 finished with value: 0.7982140183448792 and parameters: {'no_components': 40, 'learning_rate': 0.05, 'item_alpha': 0.005, 'user_alpha': 0.01}. Best is trial 3 with value: 0.8078765869140625.\u001b[0m\n"
     ]
    },
    {
     "name": "stdout",
     "output_type": "stream",
     "text": [
      "no_comp: 40, lrn_rate: 0.05000, item_alpha: 0.00500, user_alpha: 0.01000, precision: 0.00593, recall: 0.03341, auc_score: 0.79821\n"
     ]
    },
    {
     "name": "stderr",
     "output_type": "stream",
     "text": [
      "Epoch: 100%|█████████████████████████████████████████████████████████████████████████████| 3/3 [02:37<00:00, 52.34s/it]\n",
      "\u001b[32m[I 2023-03-14 00:41:25,061]\u001b[0m Trial 36 finished with value: 0.7872189283370972 and parameters: {'no_components': 40, 'learning_rate': 0.01, 'item_alpha': 0.01, 'user_alpha': 0.001}. Best is trial 3 with value: 0.8078765869140625.\u001b[0m\n"
     ]
    },
    {
     "name": "stdout",
     "output_type": "stream",
     "text": [
      "no_comp: 40, lrn_rate: 0.01000, item_alpha: 0.01000, user_alpha: 0.00100, precision: 0.00365, recall: 0.01610, auc_score: 0.78722\n"
     ]
    },
    {
     "name": "stderr",
     "output_type": "stream",
     "text": [
      "Epoch: 100%|█████████████████████████████████████████████████████████████████████████████| 3/3 [02:42<00:00, 54.26s/it]\n",
      "\u001b[32m[I 2023-03-14 00:48:24,478]\u001b[0m Trial 37 finished with value: 0.7483000159263611 and parameters: {'no_components': 40, 'learning_rate': 0.001, 'item_alpha': 0.001, 'user_alpha': 0.0005}. Best is trial 3 with value: 0.8078765869140625.\u001b[0m\n"
     ]
    },
    {
     "name": "stdout",
     "output_type": "stream",
     "text": [
      "no_comp: 40, lrn_rate: 0.00100, item_alpha: 0.00100, user_alpha: 0.00050, precision: 0.00108, recall: 0.00397, auc_score: 0.74830\n"
     ]
    },
    {
     "name": "stderr",
     "output_type": "stream",
     "text": [
      "Epoch: 100%|█████████████████████████████████████████████████████████████████████████████| 3/3 [02:19<00:00, 46.54s/it]\n",
      "\u001b[32m[I 2023-03-14 00:54:47,406]\u001b[0m Trial 38 finished with value: 0.7757359743118286 and parameters: {'no_components': 40, 'learning_rate': 0.005, 'item_alpha': 0.01, 'user_alpha': 0.001}. Best is trial 3 with value: 0.8078765869140625.\u001b[0m\n"
     ]
    },
    {
     "name": "stdout",
     "output_type": "stream",
     "text": [
      "no_comp: 40, lrn_rate: 0.00500, item_alpha: 0.01000, user_alpha: 0.00100, precision: 0.00283, recall: 0.01200, auc_score: 0.77574\n"
     ]
    },
    {
     "name": "stderr",
     "output_type": "stream",
     "text": [
      "Epoch: 100%|█████████████████████████████████████████████████████████████████████████████| 3/3 [02:21<00:00, 47.11s/it]\n",
      "\u001b[32m[I 2023-03-14 01:01:25,634]\u001b[0m Trial 39 finished with value: 0.8074862360954285 and parameters: {'no_components': 40, 'learning_rate': 0.05, 'item_alpha': 0.005, 'user_alpha': 0.0005}. Best is trial 3 with value: 0.8078765869140625.\u001b[0m\n"
     ]
    },
    {
     "name": "stdout",
     "output_type": "stream",
     "text": [
      "no_comp: 40, lrn_rate: 0.05000, item_alpha: 0.00500, user_alpha: 0.00050, precision: 0.00577, recall: 0.03327, auc_score: 0.80749\n"
     ]
    },
    {
     "name": "stderr",
     "output_type": "stream",
     "text": [
      "Epoch: 100%|█████████████████████████████████████████████████████████████████████████████| 3/3 [01:49<00:00, 36.40s/it]\n",
      "\u001b[32m[I 2023-03-14 01:06:47,753]\u001b[0m Trial 40 finished with value: 0.7453698515892029 and parameters: {'no_components': 30, 'learning_rate': 0.0005, 'item_alpha': 0.005, 'user_alpha': 0.005}. Best is trial 3 with value: 0.8078765869140625.\u001b[0m\n"
     ]
    },
    {
     "name": "stdout",
     "output_type": "stream",
     "text": [
      "no_comp: 30, lrn_rate: 0.00050, item_alpha: 0.00500, user_alpha: 0.00500, precision: 0.00094, recall: 0.00355, auc_score: 0.74537\n"
     ]
    },
    {
     "name": "stderr",
     "output_type": "stream",
     "text": [
      "Epoch: 100%|█████████████████████████████████████████████████████████████████████████████| 3/3 [02:17<00:00, 45.68s/it]\n",
      "\u001b[32m[I 2023-03-14 01:13:32,404]\u001b[0m Trial 41 finished with value: 0.8074862360954285 and parameters: {'no_components': 40, 'learning_rate': 0.05, 'item_alpha': 0.005, 'user_alpha': 0.0005}. Best is trial 3 with value: 0.8078765869140625.\u001b[0m\n"
     ]
    },
    {
     "name": "stdout",
     "output_type": "stream",
     "text": [
      "no_comp: 40, lrn_rate: 0.05000, item_alpha: 0.00500, user_alpha: 0.00050, precision: 0.00577, recall: 0.03327, auc_score: 0.80749\n"
     ]
    },
    {
     "name": "stderr",
     "output_type": "stream",
     "text": [
      "Epoch: 100%|█████████████████████████████████████████████████████████████████████████████| 3/3 [02:20<00:00, 46.90s/it]\n",
      "\u001b[32m[I 2023-03-14 01:20:20,374]\u001b[0m Trial 42 finished with value: 0.8074862360954285 and parameters: {'no_components': 40, 'learning_rate': 0.05, 'item_alpha': 0.005, 'user_alpha': 0.0005}. Best is trial 3 with value: 0.8078765869140625.\u001b[0m\n"
     ]
    },
    {
     "name": "stdout",
     "output_type": "stream",
     "text": [
      "no_comp: 40, lrn_rate: 0.05000, item_alpha: 0.00500, user_alpha: 0.00050, precision: 0.00577, recall: 0.03327, auc_score: 0.80749\n"
     ]
    },
    {
     "name": "stderr",
     "output_type": "stream",
     "text": [
      "Epoch: 100%|█████████████████████████████████████████████████████████████████████████████| 3/3 [02:19<00:00, 46.65s/it]\n",
      "\u001b[32m[I 2023-03-14 01:27:03,164]\u001b[0m Trial 43 finished with value: 0.8074862360954285 and parameters: {'no_components': 40, 'learning_rate': 0.05, 'item_alpha': 0.005, 'user_alpha': 0.0005}. Best is trial 3 with value: 0.8078765869140625.\u001b[0m\n"
     ]
    },
    {
     "name": "stdout",
     "output_type": "stream",
     "text": [
      "no_comp: 40, lrn_rate: 0.05000, item_alpha: 0.00500, user_alpha: 0.00050, precision: 0.00577, recall: 0.03327, auc_score: 0.80749\n"
     ]
    },
    {
     "name": "stderr",
     "output_type": "stream",
     "text": [
      "Epoch: 100%|█████████████████████████████████████████████████████████████████████████████| 3/3 [00:39<00:00, 13.17s/it]\n",
      "\u001b[32m[I 2023-03-14 01:29:40,938]\u001b[0m Trial 44 finished with value: 0.797116756439209 and parameters: {'no_components': 10, 'learning_rate': 0.05, 'item_alpha': 0.01, 'user_alpha': 0.0005}. Best is trial 3 with value: 0.8078765869140625.\u001b[0m\n"
     ]
    },
    {
     "name": "stdout",
     "output_type": "stream",
     "text": [
      "no_comp: 10, lrn_rate: 0.05000, item_alpha: 0.01000, user_alpha: 0.00050, precision: 0.00416, recall: 0.02018, auc_score: 0.79712\n"
     ]
    },
    {
     "name": "stderr",
     "output_type": "stream",
     "text": [
      "Epoch: 100%|█████████████████████████████████████████████████████████████████████████████| 3/3 [02:15<00:00, 45.08s/it]\n",
      "\u001b[32m[I 2023-03-14 01:36:13,602]\u001b[0m Trial 45 finished with value: 0.806874692440033 and parameters: {'no_components': 40, 'learning_rate': 0.05, 'item_alpha': 0.001, 'user_alpha': 0.0005}. Best is trial 3 with value: 0.8078765869140625.\u001b[0m\n"
     ]
    },
    {
     "name": "stdout",
     "output_type": "stream",
     "text": [
      "no_comp: 40, lrn_rate: 0.05000, item_alpha: 0.00100, user_alpha: 0.00050, precision: 0.00524, recall: 0.02948, auc_score: 0.80687\n"
     ]
    },
    {
     "name": "stderr",
     "output_type": "stream",
     "text": [
      "Epoch: 100%|█████████████████████████████████████████████████████████████████████████████| 3/3 [02:24<00:00, 48.24s/it]\n",
      "\u001b[32m[I 2023-03-14 01:42:52,214]\u001b[0m Trial 46 finished with value: 0.7759144902229309 and parameters: {'no_components': 40, 'learning_rate': 0.005, 'item_alpha': 0.005, 'user_alpha': 0.001}. Best is trial 3 with value: 0.8078765869140625.\u001b[0m\n"
     ]
    },
    {
     "name": "stdout",
     "output_type": "stream",
     "text": [
      "no_comp: 40, lrn_rate: 0.00500, item_alpha: 0.00500, user_alpha: 0.00100, precision: 0.00274, recall: 0.01170, auc_score: 0.77591\n"
     ]
    },
    {
     "name": "stderr",
     "output_type": "stream",
     "text": [
      "Epoch: 100%|█████████████████████████████████████████████████████████████████████████████| 3/3 [02:20<00:00, 46.68s/it]\n",
      "\u001b[32m[I 2023-03-14 01:49:33,387]\u001b[0m Trial 47 finished with value: 0.8074862360954285 and parameters: {'no_components': 40, 'learning_rate': 0.05, 'item_alpha': 0.005, 'user_alpha': 0.0005}. Best is trial 3 with value: 0.8078765869140625.\u001b[0m\n"
     ]
    },
    {
     "name": "stdout",
     "output_type": "stream",
     "text": [
      "no_comp: 40, lrn_rate: 0.05000, item_alpha: 0.00500, user_alpha: 0.00050, precision: 0.00577, recall: 0.03327, auc_score: 0.80749\n"
     ]
    },
    {
     "name": "stderr",
     "output_type": "stream",
     "text": [
      "Epoch: 100%|█████████████████████████████████████████████████████████████████████████████| 3/3 [01:12<00:00, 24.33s/it]\n",
      "\u001b[32m[I 2023-03-14 01:53:30,949]\u001b[0m Trial 48 finished with value: 0.7803113460540771 and parameters: {'no_components': 20, 'learning_rate': 0.01, 'item_alpha': 0.005, 'user_alpha': 0.0005}. Best is trial 3 with value: 0.8078765869140625.\u001b[0m\n"
     ]
    },
    {
     "name": "stdout",
     "output_type": "stream",
     "text": [
      "no_comp: 20, lrn_rate: 0.01000, item_alpha: 0.00500, user_alpha: 0.00050, precision: 0.00307, recall: 0.01312, auc_score: 0.78031\n"
     ]
    },
    {
     "name": "stderr",
     "output_type": "stream",
     "text": [
      "Epoch: 100%|█████████████████████████████████████████████████████████████████████████████| 3/3 [02:17<00:00, 45.75s/it]\n",
      "\u001b[32m[I 2023-03-14 02:00:07,623]\u001b[0m Trial 49 finished with value: 0.8045592308044434 and parameters: {'no_components': 40, 'learning_rate': 0.05, 'item_alpha': 0.01, 'user_alpha': 0.01}. Best is trial 3 with value: 0.8078765869140625.\u001b[0m\n"
     ]
    },
    {
     "name": "stdout",
     "output_type": "stream",
     "text": [
      "no_comp: 40, lrn_rate: 0.05000, item_alpha: 0.01000, user_alpha: 0.01000, precision: 0.00567, recall: 0.03168, auc_score: 0.80456\n",
      "{'no_components': 40, 'learning_rate': 0.05, 'item_alpha': 0.01, 'user_alpha': 0.001}\n"
     ]
    }
   ],
   "source": [
    "study = optuna.create_study(direction='maximize')\n",
    "study.optimize(objective, n_trials=50)\n",
    "print(study.best_trial.params)"
   ]
  },
  {
   "cell_type": "markdown",
   "id": "4be62785",
   "metadata": {},
   "source": [
    "best : no_comp: 40, lrn_rate: 0.05000, item_alpha: 0.00500, user_alpha: 0.00050, precision: 0.00577, recall: 0.03327, auc_score: 0.80749"
   ]
  },
  {
   "cell_type": "code",
   "execution_count": 20,
   "id": "8270b57c",
   "metadata": {
    "scrolled": false
   },
   "outputs": [
    {
     "name": "stdout",
     "output_type": "stream",
     "text": [
      "Best Params : {'no_components': 40, 'learning_rate': 0.05, 'item_alpha': 0.01, 'user_alpha': 0.001}\n",
      "\n",
      "Best Trials : [FrozenTrial(number=3, state=TrialState.COMPLETE, values=[0.8078765869140625], datetime_start=datetime.datetime(2023, 3, 13, 20, 54, 24, 166409), datetime_complete=datetime.datetime(2023, 3, 13, 21, 0, 42, 679591), params={'no_components': 40, 'learning_rate': 0.05, 'item_alpha': 0.01, 'user_alpha': 0.001}, user_attrs={}, system_attrs={}, intermediate_values={}, distributions={'no_components': CategoricalDistribution(choices=(10, 20, 30, 40, 50)), 'learning_rate': CategoricalDistribution(choices=(0.0005, 0.001, 0.005, 0.01, 0.05)), 'item_alpha': CategoricalDistribution(choices=(0.0005, 0.001, 0.005, 0.01)), 'user_alpha': CategoricalDistribution(choices=(0.0005, 0.001, 0.005, 0.01))}, trial_id=3, value=None)]\n",
      "\n",
      "Best Values : 0.8078765869140625\n"
     ]
    }
   ],
   "source": [
    "print(\"Best Params : {}\".format(study.best_params))\n",
    "print()\n",
    "print(\"Best Trials : {}\".format(study.best_trials))\n",
    "print()\n",
    "print(\"Best Values : {}\".format(study.best_value))"
   ]
  },
  {
   "cell_type": "code",
   "execution_count": null,
   "id": "2382f845",
   "metadata": {},
   "outputs": [],
   "source": []
  },
  {
   "cell_type": "markdown",
   "id": "b1f60b52",
   "metadata": {},
   "source": [
    "### uniform distribution 기반으로 최적 파라미터를 찾습니다.\n",
    "---\n",
    "- 위 과정은 GridSearch 방식으로 직접 설정한 파라미터 값에서 최적 값을 찾았습니다.\n",
    "- 그 결과를 바탕으로 적절한 범위를 설정해 좀 더 세세한 optimal hyper parameter value를 찾습니다."
   ]
  },
  {
   "cell_type": "code",
   "execution_count": 22,
   "id": "e8957c3b",
   "metadata": {},
   "outputs": [],
   "source": [
    "def objective(trial):    \n",
    "    # 조정할 하이퍼 파라미터\n",
    "    params = {\n",
    "        \"learning_schedule\": 'adagrad',\n",
    "        \"loss\": \"warp\",\n",
    "        \"random_state\": 0,\n",
    "        \"no_components\": trial.suggest_int(\"no_components\", 40, 100, 10),\n",
    "        'learning_rate': trial.suggest_float(\"learning_rate\", 0.005,  0.01),\n",
    "        'item_alpha': trial.suggest_float(\"item_alpha\", 1e-03, 1e-02),\n",
    "        'user_alpha': trial.suggest_float(\"user_alpha\", 1e-03, 1e-02),\n",
    "    }\n",
    "\n",
    "    model = LightFM(**params)\n",
    "\n",
    "    model.fit(interactions=train_interactions,\n",
    "              user_features=user_features,\n",
    "              item_features=item_features,\n",
    "              epochs=5,\n",
    "              verbose=True)\n",
    "\n",
    "    test_precision = precision_at_k(model, valid_interactions, k=9, item_features=item_features, user_features=user_features).mean()\n",
    "    test_recall = recall_at_k(model, valid_interactions, k=9, item_features=item_features, user_features=user_features).mean()\n",
    "    test_auc = auc_score(model, valid_interactions, item_features=item_features, user_features=user_features).mean()\n",
    "    \n",
    "    print(\"no_comp: {}, lrn_rate: {:.5f}, item_alpha: {:.5f}, user_alpha: {:.5f}, precision: {:.5f}, recall: {:.5f}, auc_score: {:.5f}\".format(\n",
    "      params[\"no_components\"], params[\"learning_rate\"], params[\"item_alpha\"], params[\"user_alpha\"], test_precision, test_recall, test_auc))\n",
    "    return test_auc"
   ]
  },
  {
   "cell_type": "code",
   "execution_count": 23,
   "id": "0a60eeab",
   "metadata": {},
   "outputs": [
    {
     "name": "stderr",
     "output_type": "stream",
     "text": [
      "\u001b[32m[I 2023-03-14 09:42:18,351]\u001b[0m A new study created in memory with name: no-name-63b82246-2429-4b54-8b31-523a81431f02\u001b[0m\n",
      "Epoch: 100%|█████████████████████████████████████████████████████████████████████████████| 5/5 [04:24<00:00, 52.86s/it]\n",
      "\u001b[32m[I 2023-03-14 09:51:18,814]\u001b[0m Trial 0 finished with value: 0.7900952696800232 and parameters: {'no_components': 60, 'learning_rate': 0.008744355581243406, 'item_alpha': 0.0054353405577961655, 'user_alpha': 0.007493531192629571}. Best is trial 0 with value: 0.7900952696800232.\u001b[0m\n"
     ]
    },
    {
     "name": "stdout",
     "output_type": "stream",
     "text": [
      "no_comp: 60, lrn_rate: 0.00874, item_alpha: 0.00544, user_alpha: 0.00749, precision: 0.00391, recall: 0.01776, auc_score: 0.79010\n"
     ]
    },
    {
     "name": "stderr",
     "output_type": "stream",
     "text": [
      "Epoch: 100%|█████████████████████████████████████████████████████████████████████████████| 5/5 [04:33<00:00, 54.76s/it]\n",
      "\u001b[32m[I 2023-03-14 10:00:15,041]\u001b[0m Trial 1 finished with value: 0.7869731187820435 and parameters: {'no_components': 60, 'learning_rate': 0.00783405821538858, 'item_alpha': 0.005256311308722085, 'user_alpha': 0.0035617167199210715}. Best is trial 0 with value: 0.7900952696800232.\u001b[0m\n"
     ]
    },
    {
     "name": "stdout",
     "output_type": "stream",
     "text": [
      "no_comp: 60, lrn_rate: 0.00783, item_alpha: 0.00526, user_alpha: 0.00356, precision: 0.00380, recall: 0.01700, auc_score: 0.78697\n"
     ]
    },
    {
     "name": "stderr",
     "output_type": "stream",
     "text": [
      "Epoch: 100%|█████████████████████████████████████████████████████████████████████████████| 5/5 [02:59<00:00, 35.95s/it]\n",
      "\u001b[32m[I 2023-03-14 10:06:21,205]\u001b[0m Trial 2 finished with value: 0.789766788482666 and parameters: {'no_components': 40, 'learning_rate': 0.009113351699509237, 'item_alpha': 0.0029736887742244276, 'user_alpha': 0.004450398783566782}. Best is trial 0 with value: 0.7900952696800232.\u001b[0m\n"
     ]
    },
    {
     "name": "stdout",
     "output_type": "stream",
     "text": [
      "no_comp: 40, lrn_rate: 0.00911, item_alpha: 0.00297, user_alpha: 0.00445, precision: 0.00384, recall: 0.01736, auc_score: 0.78977\n"
     ]
    },
    {
     "name": "stderr",
     "output_type": "stream",
     "text": [
      "Epoch: 100%|█████████████████████████████████████████████████████████████████████████████| 5/5 [02:56<00:00, 35.24s/it]\n",
      "\u001b[32m[I 2023-03-14 10:12:29,709]\u001b[0m Trial 3 finished with value: 0.7885702252388 and parameters: {'no_components': 40, 'learning_rate': 0.008726169290588953, 'item_alpha': 0.0026658191771247253, 'user_alpha': 0.0018158137664292004}. Best is trial 0 with value: 0.7900952696800232.\u001b[0m\n"
     ]
    },
    {
     "name": "stdout",
     "output_type": "stream",
     "text": [
      "no_comp: 40, lrn_rate: 0.00873, item_alpha: 0.00267, user_alpha: 0.00182, precision: 0.00376, recall: 0.01685, auc_score: 0.78857\n"
     ]
    },
    {
     "name": "stderr",
     "output_type": "stream",
     "text": [
      "Epoch: 100%|█████████████████████████████████████████████████████████████████████████████| 5/5 [04:21<00:00, 52.34s/it]\n",
      "\u001b[32m[I 2023-03-14 10:21:24,681]\u001b[0m Trial 4 finished with value: 0.7837953567504883 and parameters: {'no_components': 60, 'learning_rate': 0.0062955575620366406, 'item_alpha': 0.0032670452426154357, 'user_alpha': 0.002272292566376715}. Best is trial 0 with value: 0.7900952696800232.\u001b[0m\n"
     ]
    },
    {
     "name": "stdout",
     "output_type": "stream",
     "text": [
      "no_comp: 60, lrn_rate: 0.00630, item_alpha: 0.00327, user_alpha: 0.00227, precision: 0.00321, recall: 0.01345, auc_score: 0.78380\n"
     ]
    },
    {
     "name": "stderr",
     "output_type": "stream",
     "text": [
      "Epoch: 100%|█████████████████████████████████████████████████████████████████████████████| 5/5 [04:33<00:00, 54.69s/it]\n",
      "\u001b[32m[I 2023-03-14 10:30:30,210]\u001b[0m Trial 5 finished with value: 0.7890052199363708 and parameters: {'no_components': 60, 'learning_rate': 0.00937088152907794, 'item_alpha': 0.003431696086366004, 'user_alpha': 0.0016378296530448384}. Best is trial 0 with value: 0.7900952696800232.\u001b[0m\n"
     ]
    },
    {
     "name": "stdout",
     "output_type": "stream",
     "text": [
      "no_comp: 60, lrn_rate: 0.00937, item_alpha: 0.00343, user_alpha: 0.00164, precision: 0.00381, recall: 0.01721, auc_score: 0.78901\n"
     ]
    },
    {
     "name": "stderr",
     "output_type": "stream",
     "text": [
      "Epoch: 100%|█████████████████████████████████████████████████████████████████████████████| 5/5 [03:45<00:00, 45.01s/it]\n",
      "\u001b[32m[I 2023-03-14 10:38:06,417]\u001b[0m Trial 6 finished with value: 0.78534996509552 and parameters: {'no_components': 50, 'learning_rate': 0.006041072086701743, 'item_alpha': 0.002016770126366943, 'user_alpha': 0.0075948785596470295}. Best is trial 0 with value: 0.7900952696800232.\u001b[0m\n"
     ]
    },
    {
     "name": "stdout",
     "output_type": "stream",
     "text": [
      "no_comp: 50, lrn_rate: 0.00604, item_alpha: 0.00202, user_alpha: 0.00759, precision: 0.00320, recall: 0.01342, auc_score: 0.78535\n"
     ]
    },
    {
     "name": "stderr",
     "output_type": "stream",
     "text": [
      "Epoch: 100%|█████████████████████████████████████████████████████████████████████████████| 5/5 [05:17<00:00, 63.58s/it]\n",
      "\u001b[32m[I 2023-03-14 10:49:25,111]\u001b[0m Trial 7 finished with value: 0.7883428931236267 and parameters: {'no_components': 60, 'learning_rate': 0.00897190202372921, 'item_alpha': 0.0043688217266823, 'user_alpha': 0.001041311656141226}. Best is trial 0 with value: 0.7900952696800232.\u001b[0m\n"
     ]
    },
    {
     "name": "stdout",
     "output_type": "stream",
     "text": [
      "no_comp: 60, lrn_rate: 0.00897, item_alpha: 0.00437, user_alpha: 0.00104, precision: 0.00377, recall: 0.01699, auc_score: 0.78834\n"
     ]
    },
    {
     "name": "stderr",
     "output_type": "stream",
     "text": [
      "Epoch: 100%|████████████████████████████████████████████████████████████████████████████| 5/5 [09:46<00:00, 117.20s/it]\n",
      "\u001b[32m[I 2023-03-14 11:09:11,616]\u001b[0m Trial 8 finished with value: 0.7941944599151611 and parameters: {'no_components': 100, 'learning_rate': 0.009893046603840893, 'item_alpha': 0.0030773642617245816, 'user_alpha': 0.005040129725222948}. Best is trial 8 with value: 0.7941944599151611.\u001b[0m\n"
     ]
    },
    {
     "name": "stdout",
     "output_type": "stream",
     "text": [
      "no_comp: 100, lrn_rate: 0.00989, item_alpha: 0.00308, user_alpha: 0.00504, precision: 0.00382, recall: 0.01728, auc_score: 0.79419\n"
     ]
    },
    {
     "name": "stderr",
     "output_type": "stream",
     "text": [
      "Epoch: 100%|████████████████████████████████████████████████████████████████████████████| 5/5 [08:56<00:00, 107.23s/it]\n",
      "\u001b[32m[I 2023-03-14 11:27:10,355]\u001b[0m Trial 9 finished with value: 0.7905226945877075 and parameters: {'no_components': 90, 'learning_rate': 0.006973741933003714, 'item_alpha': 0.003934295451587753, 'user_alpha': 0.006095542302565062}. Best is trial 8 with value: 0.7941944599151611.\u001b[0m\n"
     ]
    },
    {
     "name": "stdout",
     "output_type": "stream",
     "text": [
      "no_comp: 90, lrn_rate: 0.00697, item_alpha: 0.00393, user_alpha: 0.00610, precision: 0.00386, recall: 0.01744, auc_score: 0.79052\n"
     ]
    },
    {
     "name": "stderr",
     "output_type": "stream",
     "text": [
      "Epoch: 100%|████████████████████████████████████████████████████████████████████████████| 5/5 [09:56<00:00, 119.29s/it]\n",
      "\u001b[32m[I 2023-03-14 11:47:01,520]\u001b[0m Trial 10 finished with value: 0.7954165935516357 and parameters: {'no_components': 100, 'learning_rate': 0.009932208333231074, 'item_alpha': 0.00709020991706499, 'user_alpha': 0.009417827767001969}. Best is trial 10 with value: 0.7954165935516357.\u001b[0m\n"
     ]
    },
    {
     "name": "stdout",
     "output_type": "stream",
     "text": [
      "no_comp: 100, lrn_rate: 0.00993, item_alpha: 0.00709, user_alpha: 0.00942, precision: 0.00417, recall: 0.01967, auc_score: 0.79542\n"
     ]
    },
    {
     "name": "stderr",
     "output_type": "stream",
     "text": [
      "Epoch: 100%|████████████████████████████████████████████████████████████████████████████| 5/5 [09:36<00:00, 115.30s/it]\n",
      "\u001b[32m[I 2023-03-14 12:06:32,043]\u001b[0m Trial 11 finished with value: 0.7956605553627014 and parameters: {'no_components': 100, 'learning_rate': 0.009940909725802523, 'item_alpha': 0.007755873955143551, 'user_alpha': 0.009853008299281606}. Best is trial 11 with value: 0.7956605553627014.\u001b[0m\n"
     ]
    },
    {
     "name": "stdout",
     "output_type": "stream",
     "text": [
      "no_comp: 100, lrn_rate: 0.00994, item_alpha: 0.00776, user_alpha: 0.00985, precision: 0.00417, recall: 0.01984, auc_score: 0.79566\n"
     ]
    },
    {
     "name": "stderr",
     "output_type": "stream",
     "text": [
      "Epoch: 100%|████████████████████████████████████████████████████████████████████████████| 5/5 [08:39<00:00, 103.92s/it]\n",
      "\u001b[32m[I 2023-03-14 12:23:42,416]\u001b[0m Trial 12 finished with value: 0.7944998741149902 and parameters: {'no_components': 90, 'learning_rate': 0.00984209390354189, 'item_alpha': 0.007849618827532778, 'user_alpha': 0.009818703410986054}. Best is trial 11 with value: 0.7956605553627014.\u001b[0m\n"
     ]
    },
    {
     "name": "stdout",
     "output_type": "stream",
     "text": [
      "no_comp: 90, lrn_rate: 0.00984, item_alpha: 0.00785, user_alpha: 0.00982, precision: 0.00391, recall: 0.01777, auc_score: 0.79450\n"
     ]
    },
    {
     "name": "stderr",
     "output_type": "stream",
     "text": [
      "Epoch: 100%|████████████████████████████████████████████████████████████████████████████| 5/5 [09:41<00:00, 116.33s/it]\n",
      "\u001b[32m[I 2023-03-14 12:43:44,944]\u001b[0m Trial 13 finished with value: 0.7873353362083435 and parameters: {'no_components': 100, 'learning_rate': 0.005031117534812491, 'item_alpha': 0.007710480775616058, 'user_alpha': 0.00993501348729219}. Best is trial 11 with value: 0.7956605553627014.\u001b[0m\n"
     ]
    },
    {
     "name": "stdout",
     "output_type": "stream",
     "text": [
      "no_comp: 100, lrn_rate: 0.00503, item_alpha: 0.00771, user_alpha: 0.00994, precision: 0.00350, recall: 0.01520, auc_score: 0.78734\n"
     ]
    },
    {
     "name": "stderr",
     "output_type": "stream",
     "text": [
      "Epoch: 100%|█████████████████████████████████████████████████████████████████████████████| 5/5 [08:15<00:00, 99.04s/it]\n",
      "\u001b[32m[I 2023-03-14 13:00:12,980]\u001b[0m Trial 14 finished with value: 0.7935495376586914 and parameters: {'no_components': 80, 'learning_rate': 0.009941055289895005, 'item_alpha': 0.009467355445034954, 'user_alpha': 0.008711364041285079}. Best is trial 11 with value: 0.7956605553627014.\u001b[0m\n"
     ]
    },
    {
     "name": "stdout",
     "output_type": "stream",
     "text": [
      "no_comp: 80, lrn_rate: 0.00994, item_alpha: 0.00947, user_alpha: 0.00871, precision: 0.00392, recall: 0.01775, auc_score: 0.79355\n"
     ]
    },
    {
     "name": "stderr",
     "output_type": "stream",
     "text": [
      "Epoch: 100%|█████████████████████████████████████████████████████████████████████████████| 5/5 [08:16<00:00, 99.36s/it]\n",
      "\u001b[32m[I 2023-03-14 13:16:46,057]\u001b[0m Trial 15 finished with value: 0.7921397686004639 and parameters: {'no_components': 80, 'learning_rate': 0.008195048870903845, 'item_alpha': 0.006907477937234164, 'user_alpha': 0.008768325480768176}. Best is trial 11 with value: 0.7956605553627014.\u001b[0m\n"
     ]
    },
    {
     "name": "stdout",
     "output_type": "stream",
     "text": [
      "no_comp: 80, lrn_rate: 0.00820, item_alpha: 0.00691, user_alpha: 0.00877, precision: 0.00387, recall: 0.01760, auc_score: 0.79214\n"
     ]
    },
    {
     "name": "stderr",
     "output_type": "stream",
     "text": [
      "Epoch: 100%|████████████████████████████████████████████████████████████████████████████| 5/5 [09:18<00:00, 111.80s/it]\n",
      "\u001b[32m[I 2023-03-14 13:35:39,877]\u001b[0m Trial 16 finished with value: 0.7924544215202332 and parameters: {'no_components': 90, 'learning_rate': 0.008288038064501343, 'item_alpha': 0.006627829134077943, 'user_alpha': 0.0065749376267359855}. Best is trial 11 with value: 0.7956605553627014.\u001b[0m\n"
     ]
    },
    {
     "name": "stdout",
     "output_type": "stream",
     "text": [
      "no_comp: 90, lrn_rate: 0.00829, item_alpha: 0.00663, user_alpha: 0.00657, precision: 0.00381, recall: 0.01721, auc_score: 0.79245\n"
     ]
    },
    {
     "name": "stderr",
     "output_type": "stream",
     "text": [
      "Epoch: 100%|████████████████████████████████████████████████████████████████████████████| 5/5 [10:04<00:00, 120.85s/it]\n",
      "\u001b[32m[I 2023-03-14 13:56:03,573]\u001b[0m Trial 17 finished with value: 0.7942331433296204 and parameters: {'no_components': 100, 'learning_rate': 0.009393266167179158, 'item_alpha': 0.009569967863489013, 'user_alpha': 0.00888210231907306}. Best is trial 11 with value: 0.7956605553627014.\u001b[0m\n"
     ]
    },
    {
     "name": "stdout",
     "output_type": "stream",
     "text": [
      "no_comp: 100, lrn_rate: 0.00939, item_alpha: 0.00957, user_alpha: 0.00888, precision: 0.00386, recall: 0.01744, auc_score: 0.79423\n"
     ]
    },
    {
     "name": "stderr",
     "output_type": "stream",
     "text": [
      "Epoch: 100%|█████████████████████████████████████████████████████████████████████████████| 5/5 [08:17<00:00, 99.57s/it]\n",
      "\u001b[32m[I 2023-03-14 14:12:29,273]\u001b[0m Trial 18 finished with value: 0.792930006980896 and parameters: {'no_components': 80, 'learning_rate': 0.00945874250102717, 'item_alpha': 0.008250309819740616, 'user_alpha': 0.007791842444526473}. Best is trial 11 with value: 0.7956605553627014.\u001b[0m\n"
     ]
    },
    {
     "name": "stdout",
     "output_type": "stream",
     "text": [
      "no_comp: 80, lrn_rate: 0.00946, item_alpha: 0.00825, user_alpha: 0.00779, precision: 0.00385, recall: 0.01746, auc_score: 0.79293\n"
     ]
    },
    {
     "name": "stderr",
     "output_type": "stream",
     "text": [
      "Epoch: 100%|█████████████████████████████████████████████████████████████████████████████| 5/5 [07:04<00:00, 84.94s/it]\n",
      "\u001b[33m[W 2023-03-14 14:23:54,622]\u001b[0m Trial 19 failed with parameters: {'no_components': 90, 'learning_rate': 0.008641169469838991, 'item_alpha': 0.0063916245049787405, 'user_alpha': 0.009686035732046409} because of the following error: KeyboardInterrupt().\u001b[0m\n",
      "Traceback (most recent call last):\n",
      "  File \"C:\\Users\\SSAFY\\anaconda3\\envs\\mini-project\\lib\\site-packages\\optuna\\study\\_optimize.py\", line 200, in _run_trial\n",
      "    value_or_values = func(trial)\n",
      "  File \"C:\\Users\\SSAFY\\AppData\\Local\\Temp\\ipykernel_27684\\134447992.py\", line 22, in objective\n",
      "    test_recall = recall_at_k(model, valid_interactions, k=9, item_features=item_features, user_features=user_features).mean()\n",
      "  File \"C:\\Users\\SSAFY\\anaconda3\\envs\\mini-project\\lib\\site-packages\\lightfm\\evaluation.py\", line 148, in recall_at_k\n",
      "    ranks = model.predict_rank(\n",
      "  File \"C:\\Users\\SSAFY\\anaconda3\\envs\\mini-project\\lib\\site-packages\\lightfm\\lightfm.py\", line 942, in predict_rank\n",
      "    predict_ranks(\n",
      "KeyboardInterrupt\n",
      "\u001b[33m[W 2023-03-14 14:23:54,628]\u001b[0m Trial 19 failed with value None.\u001b[0m\n"
     ]
    },
    {
     "ename": "KeyboardInterrupt",
     "evalue": "",
     "output_type": "error",
     "traceback": [
      "\u001b[1;31m---------------------------------------------------------------------------\u001b[0m",
      "\u001b[1;31mKeyboardInterrupt\u001b[0m                         Traceback (most recent call last)",
      "Cell \u001b[1;32mIn[23], line 2\u001b[0m\n\u001b[0;32m      1\u001b[0m study \u001b[38;5;241m=\u001b[39m optuna\u001b[38;5;241m.\u001b[39mcreate_study(direction\u001b[38;5;241m=\u001b[39m\u001b[38;5;124m'\u001b[39m\u001b[38;5;124mmaximize\u001b[39m\u001b[38;5;124m'\u001b[39m)\n\u001b[1;32m----> 2\u001b[0m \u001b[43mstudy\u001b[49m\u001b[38;5;241;43m.\u001b[39;49m\u001b[43moptimize\u001b[49m\u001b[43m(\u001b[49m\u001b[43mobjective\u001b[49m\u001b[43m,\u001b[49m\u001b[43m \u001b[49m\u001b[43mn_trials\u001b[49m\u001b[38;5;241;43m=\u001b[39;49m\u001b[38;5;241;43m50\u001b[39;49m\u001b[43m)\u001b[49m\n\u001b[0;32m      3\u001b[0m \u001b[38;5;28mprint\u001b[39m(study\u001b[38;5;241m.\u001b[39mbest_trial\u001b[38;5;241m.\u001b[39mparams)\n",
      "File \u001b[1;32m~\\anaconda3\\envs\\mini-project\\lib\\site-packages\\optuna\\study\\study.py:425\u001b[0m, in \u001b[0;36mStudy.optimize\u001b[1;34m(self, func, n_trials, timeout, n_jobs, catch, callbacks, gc_after_trial, show_progress_bar)\u001b[0m\n\u001b[0;32m    321\u001b[0m \u001b[38;5;28;01mdef\u001b[39;00m \u001b[38;5;21moptimize\u001b[39m(\n\u001b[0;32m    322\u001b[0m     \u001b[38;5;28mself\u001b[39m,\n\u001b[0;32m    323\u001b[0m     func: ObjectiveFuncType,\n\u001b[1;32m   (...)\u001b[0m\n\u001b[0;32m    330\u001b[0m     show_progress_bar: \u001b[38;5;28mbool\u001b[39m \u001b[38;5;241m=\u001b[39m \u001b[38;5;28;01mFalse\u001b[39;00m,\n\u001b[0;32m    331\u001b[0m ) \u001b[38;5;241m-\u001b[39m\u001b[38;5;241m>\u001b[39m \u001b[38;5;28;01mNone\u001b[39;00m:\n\u001b[0;32m    332\u001b[0m \u001b[38;5;250m    \u001b[39m\u001b[38;5;124;03m\"\"\"Optimize an objective function.\u001b[39;00m\n\u001b[0;32m    333\u001b[0m \n\u001b[0;32m    334\u001b[0m \u001b[38;5;124;03m    Optimization is done by choosing a suitable set of hyperparameter values from a given\u001b[39;00m\n\u001b[1;32m   (...)\u001b[0m\n\u001b[0;32m    422\u001b[0m \u001b[38;5;124;03m            If nested invocation of this method occurs.\u001b[39;00m\n\u001b[0;32m    423\u001b[0m \u001b[38;5;124;03m    \"\"\"\u001b[39;00m\n\u001b[1;32m--> 425\u001b[0m     \u001b[43m_optimize\u001b[49m\u001b[43m(\u001b[49m\n\u001b[0;32m    426\u001b[0m \u001b[43m        \u001b[49m\u001b[43mstudy\u001b[49m\u001b[38;5;241;43m=\u001b[39;49m\u001b[38;5;28;43mself\u001b[39;49m\u001b[43m,\u001b[49m\n\u001b[0;32m    427\u001b[0m \u001b[43m        \u001b[49m\u001b[43mfunc\u001b[49m\u001b[38;5;241;43m=\u001b[39;49m\u001b[43mfunc\u001b[49m\u001b[43m,\u001b[49m\n\u001b[0;32m    428\u001b[0m \u001b[43m        \u001b[49m\u001b[43mn_trials\u001b[49m\u001b[38;5;241;43m=\u001b[39;49m\u001b[43mn_trials\u001b[49m\u001b[43m,\u001b[49m\n\u001b[0;32m    429\u001b[0m \u001b[43m        \u001b[49m\u001b[43mtimeout\u001b[49m\u001b[38;5;241;43m=\u001b[39;49m\u001b[43mtimeout\u001b[49m\u001b[43m,\u001b[49m\n\u001b[0;32m    430\u001b[0m \u001b[43m        \u001b[49m\u001b[43mn_jobs\u001b[49m\u001b[38;5;241;43m=\u001b[39;49m\u001b[43mn_jobs\u001b[49m\u001b[43m,\u001b[49m\n\u001b[0;32m    431\u001b[0m \u001b[43m        \u001b[49m\u001b[43mcatch\u001b[49m\u001b[38;5;241;43m=\u001b[39;49m\u001b[38;5;28;43mtuple\u001b[39;49m\u001b[43m(\u001b[49m\u001b[43mcatch\u001b[49m\u001b[43m)\u001b[49m\u001b[43m \u001b[49m\u001b[38;5;28;43;01mif\u001b[39;49;00m\u001b[43m \u001b[49m\u001b[38;5;28;43misinstance\u001b[39;49m\u001b[43m(\u001b[49m\u001b[43mcatch\u001b[49m\u001b[43m,\u001b[49m\u001b[43m \u001b[49m\u001b[43mIterable\u001b[49m\u001b[43m)\u001b[49m\u001b[43m \u001b[49m\u001b[38;5;28;43;01melse\u001b[39;49;00m\u001b[43m \u001b[49m\u001b[43m(\u001b[49m\u001b[43mcatch\u001b[49m\u001b[43m,\u001b[49m\u001b[43m)\u001b[49m\u001b[43m,\u001b[49m\n\u001b[0;32m    432\u001b[0m \u001b[43m        \u001b[49m\u001b[43mcallbacks\u001b[49m\u001b[38;5;241;43m=\u001b[39;49m\u001b[43mcallbacks\u001b[49m\u001b[43m,\u001b[49m\n\u001b[0;32m    433\u001b[0m \u001b[43m        \u001b[49m\u001b[43mgc_after_trial\u001b[49m\u001b[38;5;241;43m=\u001b[39;49m\u001b[43mgc_after_trial\u001b[49m\u001b[43m,\u001b[49m\n\u001b[0;32m    434\u001b[0m \u001b[43m        \u001b[49m\u001b[43mshow_progress_bar\u001b[49m\u001b[38;5;241;43m=\u001b[39;49m\u001b[43mshow_progress_bar\u001b[49m\u001b[43m,\u001b[49m\n\u001b[0;32m    435\u001b[0m \u001b[43m    \u001b[49m\u001b[43m)\u001b[49m\n",
      "File \u001b[1;32m~\\anaconda3\\envs\\mini-project\\lib\\site-packages\\optuna\\study\\_optimize.py:66\u001b[0m, in \u001b[0;36m_optimize\u001b[1;34m(study, func, n_trials, timeout, n_jobs, catch, callbacks, gc_after_trial, show_progress_bar)\u001b[0m\n\u001b[0;32m     64\u001b[0m \u001b[38;5;28;01mtry\u001b[39;00m:\n\u001b[0;32m     65\u001b[0m     \u001b[38;5;28;01mif\u001b[39;00m n_jobs \u001b[38;5;241m==\u001b[39m \u001b[38;5;241m1\u001b[39m:\n\u001b[1;32m---> 66\u001b[0m         \u001b[43m_optimize_sequential\u001b[49m\u001b[43m(\u001b[49m\n\u001b[0;32m     67\u001b[0m \u001b[43m            \u001b[49m\u001b[43mstudy\u001b[49m\u001b[43m,\u001b[49m\n\u001b[0;32m     68\u001b[0m \u001b[43m            \u001b[49m\u001b[43mfunc\u001b[49m\u001b[43m,\u001b[49m\n\u001b[0;32m     69\u001b[0m \u001b[43m            \u001b[49m\u001b[43mn_trials\u001b[49m\u001b[43m,\u001b[49m\n\u001b[0;32m     70\u001b[0m \u001b[43m            \u001b[49m\u001b[43mtimeout\u001b[49m\u001b[43m,\u001b[49m\n\u001b[0;32m     71\u001b[0m \u001b[43m            \u001b[49m\u001b[43mcatch\u001b[49m\u001b[43m,\u001b[49m\n\u001b[0;32m     72\u001b[0m \u001b[43m            \u001b[49m\u001b[43mcallbacks\u001b[49m\u001b[43m,\u001b[49m\n\u001b[0;32m     73\u001b[0m \u001b[43m            \u001b[49m\u001b[43mgc_after_trial\u001b[49m\u001b[43m,\u001b[49m\n\u001b[0;32m     74\u001b[0m \u001b[43m            \u001b[49m\u001b[43mreseed_sampler_rng\u001b[49m\u001b[38;5;241;43m=\u001b[39;49m\u001b[38;5;28;43;01mFalse\u001b[39;49;00m\u001b[43m,\u001b[49m\n\u001b[0;32m     75\u001b[0m \u001b[43m            \u001b[49m\u001b[43mtime_start\u001b[49m\u001b[38;5;241;43m=\u001b[39;49m\u001b[38;5;28;43;01mNone\u001b[39;49;00m\u001b[43m,\u001b[49m\n\u001b[0;32m     76\u001b[0m \u001b[43m            \u001b[49m\u001b[43mprogress_bar\u001b[49m\u001b[38;5;241;43m=\u001b[39;49m\u001b[43mprogress_bar\u001b[49m\u001b[43m,\u001b[49m\n\u001b[0;32m     77\u001b[0m \u001b[43m        \u001b[49m\u001b[43m)\u001b[49m\n\u001b[0;32m     78\u001b[0m     \u001b[38;5;28;01melse\u001b[39;00m:\n\u001b[0;32m     79\u001b[0m         \u001b[38;5;28;01mif\u001b[39;00m n_jobs \u001b[38;5;241m==\u001b[39m \u001b[38;5;241m-\u001b[39m\u001b[38;5;241m1\u001b[39m:\n",
      "File \u001b[1;32m~\\anaconda3\\envs\\mini-project\\lib\\site-packages\\optuna\\study\\_optimize.py:163\u001b[0m, in \u001b[0;36m_optimize_sequential\u001b[1;34m(study, func, n_trials, timeout, catch, callbacks, gc_after_trial, reseed_sampler_rng, time_start, progress_bar)\u001b[0m\n\u001b[0;32m    160\u001b[0m         \u001b[38;5;28;01mbreak\u001b[39;00m\n\u001b[0;32m    162\u001b[0m \u001b[38;5;28;01mtry\u001b[39;00m:\n\u001b[1;32m--> 163\u001b[0m     frozen_trial \u001b[38;5;241m=\u001b[39m \u001b[43m_run_trial\u001b[49m\u001b[43m(\u001b[49m\u001b[43mstudy\u001b[49m\u001b[43m,\u001b[49m\u001b[43m \u001b[49m\u001b[43mfunc\u001b[49m\u001b[43m,\u001b[49m\u001b[43m \u001b[49m\u001b[43mcatch\u001b[49m\u001b[43m)\u001b[49m\n\u001b[0;32m    164\u001b[0m \u001b[38;5;28;01mfinally\u001b[39;00m:\n\u001b[0;32m    165\u001b[0m     \u001b[38;5;66;03m# The following line mitigates memory problems that can be occurred in some\u001b[39;00m\n\u001b[0;32m    166\u001b[0m     \u001b[38;5;66;03m# environments (e.g., services that use computing containers such as GitHub Actions).\u001b[39;00m\n\u001b[0;32m    167\u001b[0m     \u001b[38;5;66;03m# Please refer to the following PR for further details:\u001b[39;00m\n\u001b[0;32m    168\u001b[0m     \u001b[38;5;66;03m# https://github.com/optuna/optuna/pull/325.\u001b[39;00m\n\u001b[0;32m    169\u001b[0m     \u001b[38;5;28;01mif\u001b[39;00m gc_after_trial:\n",
      "File \u001b[1;32m~\\anaconda3\\envs\\mini-project\\lib\\site-packages\\optuna\\study\\_optimize.py:251\u001b[0m, in \u001b[0;36m_run_trial\u001b[1;34m(study, func, catch)\u001b[0m\n\u001b[0;32m    244\u001b[0m         \u001b[38;5;28;01massert\u001b[39;00m \u001b[38;5;28;01mFalse\u001b[39;00m, \u001b[38;5;124m\"\u001b[39m\u001b[38;5;124mShould not reach.\u001b[39m\u001b[38;5;124m\"\u001b[39m\n\u001b[0;32m    246\u001b[0m \u001b[38;5;28;01mif\u001b[39;00m (\n\u001b[0;32m    247\u001b[0m     frozen_trial\u001b[38;5;241m.\u001b[39mstate \u001b[38;5;241m==\u001b[39m TrialState\u001b[38;5;241m.\u001b[39mFAIL\n\u001b[0;32m    248\u001b[0m     \u001b[38;5;129;01mand\u001b[39;00m func_err \u001b[38;5;129;01mis\u001b[39;00m \u001b[38;5;129;01mnot\u001b[39;00m \u001b[38;5;28;01mNone\u001b[39;00m\n\u001b[0;32m    249\u001b[0m     \u001b[38;5;129;01mand\u001b[39;00m \u001b[38;5;129;01mnot\u001b[39;00m \u001b[38;5;28misinstance\u001b[39m(func_err, catch)\n\u001b[0;32m    250\u001b[0m ):\n\u001b[1;32m--> 251\u001b[0m     \u001b[38;5;28;01mraise\u001b[39;00m func_err\n\u001b[0;32m    252\u001b[0m \u001b[38;5;28;01mreturn\u001b[39;00m frozen_trial\n",
      "File \u001b[1;32m~\\anaconda3\\envs\\mini-project\\lib\\site-packages\\optuna\\study\\_optimize.py:200\u001b[0m, in \u001b[0;36m_run_trial\u001b[1;34m(study, func, catch)\u001b[0m\n\u001b[0;32m    198\u001b[0m \u001b[38;5;28;01mwith\u001b[39;00m get_heartbeat_thread(trial\u001b[38;5;241m.\u001b[39m_trial_id, study\u001b[38;5;241m.\u001b[39m_storage):\n\u001b[0;32m    199\u001b[0m     \u001b[38;5;28;01mtry\u001b[39;00m:\n\u001b[1;32m--> 200\u001b[0m         value_or_values \u001b[38;5;241m=\u001b[39m \u001b[43mfunc\u001b[49m\u001b[43m(\u001b[49m\u001b[43mtrial\u001b[49m\u001b[43m)\u001b[49m\n\u001b[0;32m    201\u001b[0m     \u001b[38;5;28;01mexcept\u001b[39;00m exceptions\u001b[38;5;241m.\u001b[39mTrialPruned \u001b[38;5;28;01mas\u001b[39;00m e:\n\u001b[0;32m    202\u001b[0m         \u001b[38;5;66;03m# TODO(mamu): Handle multi-objective cases.\u001b[39;00m\n\u001b[0;32m    203\u001b[0m         state \u001b[38;5;241m=\u001b[39m TrialState\u001b[38;5;241m.\u001b[39mPRUNED\n",
      "Cell \u001b[1;32mIn[22], line 22\u001b[0m, in \u001b[0;36mobjective\u001b[1;34m(trial)\u001b[0m\n\u001b[0;32m     15\u001b[0m model\u001b[38;5;241m.\u001b[39mfit(interactions\u001b[38;5;241m=\u001b[39mtrain_interactions,\n\u001b[0;32m     16\u001b[0m           user_features\u001b[38;5;241m=\u001b[39muser_features,\n\u001b[0;32m     17\u001b[0m           item_features\u001b[38;5;241m=\u001b[39mitem_features,\n\u001b[0;32m     18\u001b[0m           epochs\u001b[38;5;241m=\u001b[39m\u001b[38;5;241m5\u001b[39m,\n\u001b[0;32m     19\u001b[0m           verbose\u001b[38;5;241m=\u001b[39m\u001b[38;5;28;01mTrue\u001b[39;00m)\n\u001b[0;32m     21\u001b[0m test_precision \u001b[38;5;241m=\u001b[39m precision_at_k(model, valid_interactions, k\u001b[38;5;241m=\u001b[39m\u001b[38;5;241m9\u001b[39m, item_features\u001b[38;5;241m=\u001b[39mitem_features, user_features\u001b[38;5;241m=\u001b[39muser_features)\u001b[38;5;241m.\u001b[39mmean()\n\u001b[1;32m---> 22\u001b[0m test_recall \u001b[38;5;241m=\u001b[39m \u001b[43mrecall_at_k\u001b[49m\u001b[43m(\u001b[49m\u001b[43mmodel\u001b[49m\u001b[43m,\u001b[49m\u001b[43m \u001b[49m\u001b[43mvalid_interactions\u001b[49m\u001b[43m,\u001b[49m\u001b[43m \u001b[49m\u001b[43mk\u001b[49m\u001b[38;5;241;43m=\u001b[39;49m\u001b[38;5;241;43m9\u001b[39;49m\u001b[43m,\u001b[49m\u001b[43m \u001b[49m\u001b[43mitem_features\u001b[49m\u001b[38;5;241;43m=\u001b[39;49m\u001b[43mitem_features\u001b[49m\u001b[43m,\u001b[49m\u001b[43m \u001b[49m\u001b[43muser_features\u001b[49m\u001b[38;5;241;43m=\u001b[39;49m\u001b[43muser_features\u001b[49m\u001b[43m)\u001b[49m\u001b[38;5;241m.\u001b[39mmean()\n\u001b[0;32m     23\u001b[0m test_auc \u001b[38;5;241m=\u001b[39m auc_score(model, valid_interactions, item_features\u001b[38;5;241m=\u001b[39mitem_features, user_features\u001b[38;5;241m=\u001b[39muser_features)\u001b[38;5;241m.\u001b[39mmean()\n\u001b[0;32m     25\u001b[0m \u001b[38;5;28mprint\u001b[39m(\u001b[38;5;124m\"\u001b[39m\u001b[38;5;124mno_comp: \u001b[39m\u001b[38;5;132;01m{}\u001b[39;00m\u001b[38;5;124m, lrn_rate: \u001b[39m\u001b[38;5;132;01m{:.5f}\u001b[39;00m\u001b[38;5;124m, item_alpha: \u001b[39m\u001b[38;5;132;01m{:.5f}\u001b[39;00m\u001b[38;5;124m, user_alpha: \u001b[39m\u001b[38;5;132;01m{:.5f}\u001b[39;00m\u001b[38;5;124m, precision: \u001b[39m\u001b[38;5;132;01m{:.5f}\u001b[39;00m\u001b[38;5;124m, recall: \u001b[39m\u001b[38;5;132;01m{:.5f}\u001b[39;00m\u001b[38;5;124m, auc_score: \u001b[39m\u001b[38;5;132;01m{:.5f}\u001b[39;00m\u001b[38;5;124m\"\u001b[39m\u001b[38;5;241m.\u001b[39mformat(\n\u001b[0;32m     26\u001b[0m   params[\u001b[38;5;124m\"\u001b[39m\u001b[38;5;124mno_components\u001b[39m\u001b[38;5;124m\"\u001b[39m], params[\u001b[38;5;124m\"\u001b[39m\u001b[38;5;124mlearning_rate\u001b[39m\u001b[38;5;124m\"\u001b[39m], params[\u001b[38;5;124m\"\u001b[39m\u001b[38;5;124mitem_alpha\u001b[39m\u001b[38;5;124m\"\u001b[39m], params[\u001b[38;5;124m\"\u001b[39m\u001b[38;5;124muser_alpha\u001b[39m\u001b[38;5;124m\"\u001b[39m], test_precision, test_recall, test_auc))\n",
      "File \u001b[1;32m~\\anaconda3\\envs\\mini-project\\lib\\site-packages\\lightfm\\evaluation.py:148\u001b[0m, in \u001b[0;36mrecall_at_k\u001b[1;34m(model, test_interactions, train_interactions, k, user_features, item_features, preserve_rows, num_threads, check_intersections)\u001b[0m\n\u001b[0;32m    145\u001b[0m \u001b[38;5;28;01mif\u001b[39;00m num_threads \u001b[38;5;241m<\u001b[39m \u001b[38;5;241m1\u001b[39m:\n\u001b[0;32m    146\u001b[0m     \u001b[38;5;28;01mraise\u001b[39;00m \u001b[38;5;167;01mValueError\u001b[39;00m(\u001b[38;5;124m\"\u001b[39m\u001b[38;5;124mNumber of threads must be 1 or larger.\u001b[39m\u001b[38;5;124m\"\u001b[39m)\n\u001b[1;32m--> 148\u001b[0m ranks \u001b[38;5;241m=\u001b[39m \u001b[43mmodel\u001b[49m\u001b[38;5;241;43m.\u001b[39;49m\u001b[43mpredict_rank\u001b[49m\u001b[43m(\u001b[49m\n\u001b[0;32m    149\u001b[0m \u001b[43m    \u001b[49m\u001b[43mtest_interactions\u001b[49m\u001b[43m,\u001b[49m\n\u001b[0;32m    150\u001b[0m \u001b[43m    \u001b[49m\u001b[43mtrain_interactions\u001b[49m\u001b[38;5;241;43m=\u001b[39;49m\u001b[43mtrain_interactions\u001b[49m\u001b[43m,\u001b[49m\n\u001b[0;32m    151\u001b[0m \u001b[43m    \u001b[49m\u001b[43muser_features\u001b[49m\u001b[38;5;241;43m=\u001b[39;49m\u001b[43muser_features\u001b[49m\u001b[43m,\u001b[49m\n\u001b[0;32m    152\u001b[0m \u001b[43m    \u001b[49m\u001b[43mitem_features\u001b[49m\u001b[38;5;241;43m=\u001b[39;49m\u001b[43mitem_features\u001b[49m\u001b[43m,\u001b[49m\n\u001b[0;32m    153\u001b[0m \u001b[43m    \u001b[49m\u001b[43mnum_threads\u001b[49m\u001b[38;5;241;43m=\u001b[39;49m\u001b[43mnum_threads\u001b[49m\u001b[43m,\u001b[49m\n\u001b[0;32m    154\u001b[0m \u001b[43m    \u001b[49m\u001b[43mcheck_intersections\u001b[49m\u001b[38;5;241;43m=\u001b[39;49m\u001b[43mcheck_intersections\u001b[49m\u001b[43m,\u001b[49m\n\u001b[0;32m    155\u001b[0m \u001b[43m\u001b[49m\u001b[43m)\u001b[49m\n\u001b[0;32m    157\u001b[0m ranks\u001b[38;5;241m.\u001b[39mdata \u001b[38;5;241m=\u001b[39m np\u001b[38;5;241m.\u001b[39mless(ranks\u001b[38;5;241m.\u001b[39mdata, k, ranks\u001b[38;5;241m.\u001b[39mdata)\n\u001b[0;32m    159\u001b[0m retrieved \u001b[38;5;241m=\u001b[39m np\u001b[38;5;241m.\u001b[39msqueeze(test_interactions\u001b[38;5;241m.\u001b[39mgetnnz(axis\u001b[38;5;241m=\u001b[39m\u001b[38;5;241m1\u001b[39m))\n",
      "File \u001b[1;32m~\\anaconda3\\envs\\mini-project\\lib\\site-packages\\lightfm\\lightfm.py:942\u001b[0m, in \u001b[0;36mLightFM.predict_rank\u001b[1;34m(self, test_interactions, train_interactions, item_features, user_features, num_threads, check_intersections)\u001b[0m\n\u001b[0;32m    931\u001b[0m ranks \u001b[38;5;241m=\u001b[39m sp\u001b[38;5;241m.\u001b[39mcsr_matrix(\n\u001b[0;32m    932\u001b[0m     (\n\u001b[0;32m    933\u001b[0m         np\u001b[38;5;241m.\u001b[39mzeros_like(test_interactions\u001b[38;5;241m.\u001b[39mdata),\n\u001b[1;32m   (...)\u001b[0m\n\u001b[0;32m    937\u001b[0m     shape\u001b[38;5;241m=\u001b[39mtest_interactions\u001b[38;5;241m.\u001b[39mshape,\n\u001b[0;32m    938\u001b[0m )\n\u001b[0;32m    940\u001b[0m lightfm_data \u001b[38;5;241m=\u001b[39m \u001b[38;5;28mself\u001b[39m\u001b[38;5;241m.\u001b[39m_get_lightfm_data()\n\u001b[1;32m--> 942\u001b[0m \u001b[43mpredict_ranks\u001b[49m\u001b[43m(\u001b[49m\n\u001b[0;32m    943\u001b[0m \u001b[43m    \u001b[49m\u001b[43mCSRMatrix\u001b[49m\u001b[43m(\u001b[49m\u001b[43mitem_features\u001b[49m\u001b[43m)\u001b[49m\u001b[43m,\u001b[49m\n\u001b[0;32m    944\u001b[0m \u001b[43m    \u001b[49m\u001b[43mCSRMatrix\u001b[49m\u001b[43m(\u001b[49m\u001b[43muser_features\u001b[49m\u001b[43m)\u001b[49m\u001b[43m,\u001b[49m\n\u001b[0;32m    945\u001b[0m \u001b[43m    \u001b[49m\u001b[43mCSRMatrix\u001b[49m\u001b[43m(\u001b[49m\u001b[43mtest_interactions\u001b[49m\u001b[43m)\u001b[49m\u001b[43m,\u001b[49m\n\u001b[0;32m    946\u001b[0m \u001b[43m    \u001b[49m\u001b[43mCSRMatrix\u001b[49m\u001b[43m(\u001b[49m\u001b[43mtrain_interactions\u001b[49m\u001b[43m)\u001b[49m\u001b[43m,\u001b[49m\n\u001b[0;32m    947\u001b[0m \u001b[43m    \u001b[49m\u001b[43mranks\u001b[49m\u001b[38;5;241;43m.\u001b[39;49m\u001b[43mdata\u001b[49m\u001b[43m,\u001b[49m\n\u001b[0;32m    948\u001b[0m \u001b[43m    \u001b[49m\u001b[43mlightfm_data\u001b[49m\u001b[43m,\u001b[49m\n\u001b[0;32m    949\u001b[0m \u001b[43m    \u001b[49m\u001b[43mnum_threads\u001b[49m\u001b[43m,\u001b[49m\n\u001b[0;32m    950\u001b[0m \u001b[43m\u001b[49m\u001b[43m)\u001b[49m\n\u001b[0;32m    952\u001b[0m \u001b[38;5;28;01mreturn\u001b[39;00m ranks\n",
      "\u001b[1;31mKeyboardInterrupt\u001b[0m: "
     ]
    }
   ],
   "source": [
    "study = optuna.create_study(direction='maximize')\n",
    "study.optimize(objective, n_trials=50)\n",
    "print(study.best_trial.params)"
   ]
  },
  {
   "cell_type": "code",
   "execution_count": 24,
   "id": "ef6735d8",
   "metadata": {},
   "outputs": [
    {
     "name": "stdout",
     "output_type": "stream",
     "text": [
      "Best Params : {'no_components': 100, 'learning_rate': 0.009940909725802523, 'item_alpha': 0.007755873955143551, 'user_alpha': 0.009853008299281606}\n",
      "\n",
      "Best Trials : [FrozenTrial(number=11, state=TrialState.COMPLETE, values=[0.7956605553627014], datetime_start=datetime.datetime(2023, 3, 14, 11, 47, 1, 521114), datetime_complete=datetime.datetime(2023, 3, 14, 12, 6, 32, 43161), params={'no_components': 100, 'learning_rate': 0.009940909725802523, 'item_alpha': 0.007755873955143551, 'user_alpha': 0.009853008299281606}, user_attrs={}, system_attrs={}, intermediate_values={}, distributions={'no_components': IntDistribution(high=100, log=False, low=40, step=10), 'learning_rate': FloatDistribution(high=0.01, log=False, low=0.005, step=None), 'item_alpha': FloatDistribution(high=0.01, log=False, low=0.001, step=None), 'user_alpha': FloatDistribution(high=0.01, log=False, low=0.001, step=None)}, trial_id=11, value=None)]\n",
      "\n",
      "Best Values : 0.7956605553627014\n"
     ]
    }
   ],
   "source": [
    "print(\"Best Params : {}\".format(study.best_params))\n",
    "print()\n",
    "print(\"Best Trials : {}\".format(study.best_trials))\n",
    "print()\n",
    "print(\"Best Values : {}\".format(study.best_value))"
   ]
  },
  {
   "cell_type": "markdown",
   "id": "c33c954c",
   "metadata": {},
   "source": [
    "no_comp: 100, lrn_rate: 0.00994, item_alpha: 0.00776, user_alpha: 0.00985, precision: 0.00417, recall: 0.01984, auc_score: 0.79566\n",
    "\n",
    "Best Params : {'no_components': 40, 'learning_rate': 0.05, 'item_alpha': 0.01, 'user_alpha': 0.001}\n",
    "Best Values : 0.8078765869140625"
   ]
  },
  {
   "cell_type": "code",
   "execution_count": null,
   "id": "d29d052e",
   "metadata": {},
   "outputs": [],
   "source": []
  },
  {
   "cell_type": "markdown",
   "id": "2295ccab",
   "metadata": {},
   "source": [
    "### Evaluation\n",
    "---\n",
    "- 1차 최적화 hyper parameter 결과\n",
    "- Best Params : {'no_components': 40, 'learning_rate': 0.05, 'item_alpha': 0.01, 'user_alpha': 0.001}\n",
    "- Best Values : 0.8078765869140625"
   ]
  },
  {
   "cell_type": "code",
   "execution_count": 36,
   "id": "cf458e7b",
   "metadata": {},
   "outputs": [
    {
     "name": "stderr",
     "output_type": "stream",
     "text": [
      "Epoch: 100%|███████████████████████████████████████████████████████████████████████████| 10/10 [05:30<00:00, 33.00s/it]"
     ]
    },
    {
     "name": "stdout",
     "output_type": "stream",
     "text": [
      "CPU times: total: 5min 25s\n",
      "Wall time: 5min 30s\n"
     ]
    },
    {
     "name": "stderr",
     "output_type": "stream",
     "text": [
      "\n"
     ]
    },
    {
     "data": {
      "text/plain": [
       "<lightfm.lightfm.LightFM at 0x1fd697cf070>"
      ]
     },
     "execution_count": 36,
     "metadata": {},
     "output_type": "execute_result"
    }
   ],
   "source": [
    "min_max_lightfm = LightFM(\n",
    "    no_components=40, learning_rate=0.05000, item_alpha=0.00500, user_alpha=0.00050,learning_schedule='adagrad',loss=\"warp\", random_state=42\n",
    ")\n",
    "%time min_max_lightfm.fit(interactions=train_interactions, user_features=user_features, item_features=item_features, epochs=10, verbose=True)"
   ]
  },
  {
   "cell_type": "code",
   "execution_count": 37,
   "id": "e24f8846",
   "metadata": {},
   "outputs": [
    {
     "name": "stdout",
     "output_type": "stream",
     "text": [
      "Train precision: 0.00731\n",
      "Test precision: 0.04211\n",
      "Test AUC Score : 0.81388\n"
     ]
    }
   ],
   "source": [
    "test_precision = precision_at_k(min_max_lightfm, test_interactions, user_features=user_features, item_features=item_features, k=9).mean()\n",
    "test_recall = recall_at_k(min_max_lightfm, test_interactions,  user_features=user_features, item_features=item_features, k=9).mean()\n",
    "test_auc = auc_score(min_max_lightfm, test_interactions, user_features=user_features, item_features=item_features).mean()\n",
    "\n",
    "print(\"Train precision: %.5f\" % test_precision)\n",
    "print(\"Test precision: %.5f\" % test_recall)\n",
    "print(\"Test AUC Score : %.5f\" % test_auc)"
   ]
  },
  {
   "cell_type": "markdown",
   "id": "8f62a731",
   "metadata": {},
   "source": [
    "### save"
   ]
  },
  {
   "cell_type": "code",
   "execution_count": 38,
   "id": "cdaa34ba",
   "metadata": {},
   "outputs": [],
   "source": [
    "# save the model to a file\n",
    "with open('min_max_lightfm.pkl', 'wb') as f:\n",
    "    pickle.dump(min_max_lightfm, f)"
   ]
  },
  {
   "cell_type": "code",
   "execution_count": null,
   "id": "fd341b55",
   "metadata": {},
   "outputs": [],
   "source": []
  },
  {
   "cell_type": "code",
   "execution_count": null,
   "id": "bef926cd",
   "metadata": {},
   "outputs": [],
   "source": []
  }
 ],
 "metadata": {
  "kernelspec": {
   "display_name": "Python 3 (ipykernel)",
   "language": "python",
   "name": "python3"
  },
  "language_info": {
   "codemirror_mode": {
    "name": "ipython",
    "version": 3
   },
   "file_extension": ".py",
   "mimetype": "text/x-python",
   "name": "python",
   "nbconvert_exporter": "python",
   "pygments_lexer": "ipython3",
   "version": "3.9.16"
  }
 },
 "nbformat": 4,
 "nbformat_minor": 5
}
