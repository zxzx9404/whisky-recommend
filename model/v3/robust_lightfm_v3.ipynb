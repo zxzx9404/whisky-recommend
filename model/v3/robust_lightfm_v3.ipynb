{
 "cells": [
  {
   "cell_type": "markdown",
   "id": "046e486d",
   "metadata": {},
   "source": [
    "# Robust Scaling 적용한 lightfm model 학습"
   ]
  },
  {
   "cell_type": "code",
   "execution_count": null,
   "id": "52af3f22",
   "metadata": {},
   "outputs": [],
   "source": []
  },
  {
   "cell_type": "code",
   "execution_count": 1,
   "id": "96adc554",
   "metadata": {},
   "outputs": [
    {
     "name": "stderr",
     "output_type": "stream",
     "text": [
      "C:\\Users\\SSAFY\\anaconda3\\envs\\mini-project\\lib\\site-packages\\lightfm\\_lightfm_fast.py:9: UserWarning: LightFM was compiled without OpenMP support. Only a single thread will be used.\n",
      "  warnings.warn(\n"
     ]
    }
   ],
   "source": [
    "import os\n",
    "import pandas as pd\n",
    "import numpy as np\n",
    "from time import time\n",
    "from tqdm.notebook import tqdm\n",
    "import pickle\n",
    "\n",
    "from scipy.sparse import coo_matrix, csr_matrix\n",
    "\n",
    "from lightfm.cross_validation import random_train_test_split\n",
    "from lightfm import LightFM\n",
    "from lightfm.datasets import fetch_movielens\n",
    "from lightfm.evaluation import precision_at_k, auc_score, recall_at_k\n",
    "\n",
    "from hyperopt import fmin, hp, tpe, Trials"
   ]
  },
  {
   "cell_type": "markdown",
   "id": "d181589a",
   "metadata": {},
   "source": [
    "min_max_item_features.csv\n",
    "min_max_user_features.csv\n",
    "rating.csv\n",
    "robust_item_features.csv\n",
    "robust_user_features.csv\n",
    "whisky.csv"
   ]
  },
  {
   "cell_type": "code",
   "execution_count": 2,
   "id": "3397d437",
   "metadata": {},
   "outputs": [],
   "source": [
    "item_features = pd.read_csv(\"dataset/robust_item_features.csv\", index_col=0, encoding=\"UTF-8\")\n",
    "user_features = pd.read_csv(\"dataset/robust_user_features.csv\", index_col=0, encoding=\"UTF-8\")\n",
    "rating = pd.read_csv(\"dataset/rating.csv\", index_col=0, encoding=\"UTF-8\")\n",
    "whisky = pd.read_csv(\"dataset/whisky.csv\", index_col=0, encoding=\"UTF-8\")"
   ]
  },
  {
   "cell_type": "code",
   "execution_count": 3,
   "id": "ffb2c5f6",
   "metadata": {},
   "outputs": [],
   "source": [
    "item_features = csr_matrix(item_features)\n",
    "user_features = csr_matrix(user_features)"
   ]
  },
  {
   "cell_type": "code",
   "execution_count": 4,
   "id": "8799f9ef",
   "metadata": {},
   "outputs": [
    {
     "name": "stdout",
     "output_type": "stream",
     "text": [
      "  (0, 0)\t4.0\n",
      "  (0, 2)\t30.0\n",
      "  (0, 3)\t-0.1666666666666666\n",
      "  (0, 5)\t-0.6\n",
      "  (0, 6)\t0.1666666666666666\n",
      "  (0, 7)\t-0.1666666666666666\n",
      "  (0, 8)\t0.3333333333333333\n",
      "  (0, 9)\t1.3333333333333333\n",
      "  (0, 10)\t0.8571428571428571\n",
      "  (0, 11)\t1.3333333333333333\n",
      "  (0, 12)\t0.8571428571428571\n",
      "  (0, 13)\t1.3461538461538465\n",
      "  (1, 0)\t5.0\n",
      "  (1, 1)\t0.4\n",
      "  (1, 3)\t-0.1666666666666666\n",
      "  (1, 4)\t-0.3333333333333333\n",
      "  (1, 5)\t0.2\n",
      "  (1, 6)\t0.5\n",
      "  (1, 7)\t0.8333333333333334\n",
      "  (1, 8)\t0.6666666666666666\n",
      "  (1, 9)\t0.6666666666666666\n",
      "  (1, 10)\t0.5714285714285714\n",
      "  (1, 12)\t1.4285714285714286\n",
      "  (1, 13)\t-0.1923076923076923\n",
      "  (2, 0)\t4.0\n",
      "  :\t:\n",
      "  (119512, 13)\t-0.1923076923076923\n",
      "  (119513, 0)\t1.0\n",
      "  (119513, 1)\t0.44\n",
      "  (119513, 3)\t-0.1666666666666666\n",
      "  (119513, 4)\t0.3\n",
      "  (119513, 5)\t-1.0\n",
      "  (119513, 6)\t-0.8333333333333334\n",
      "  (119513, 7)\t-0.5\n",
      "  (119513, 8)\t1.3333333333333333\n",
      "  (119513, 10)\t0.4285714285714285\n",
      "  (119513, 11)\t-0.6666666666666666\n",
      "  (119513, 12)\t-0.2857142857142857\n",
      "  (119513, 13)\t-0.1923076923076923\n",
      "  (119514, 0)\t1.0\n",
      "  (119514, 1)\t0.44\n",
      "  (119514, 3)\t-0.1666666666666666\n",
      "  (119514, 4)\t0.3\n",
      "  (119514, 5)\t-1.0\n",
      "  (119514, 6)\t-0.8333333333333334\n",
      "  (119514, 7)\t-0.5\n",
      "  (119514, 8)\t1.3333333333333333\n",
      "  (119514, 10)\t0.4285714285714285\n",
      "  (119514, 11)\t-0.6666666666666666\n",
      "  (119514, 12)\t-0.2857142857142857\n",
      "  (119514, 13)\t-0.1923076923076923\n"
     ]
    }
   ],
   "source": [
    "print(user_features)"
   ]
  },
  {
   "cell_type": "code",
   "execution_count": 5,
   "id": "a94bde6c",
   "metadata": {},
   "outputs": [],
   "source": [
    "unique_user = rating[\"user_id\"].unique()"
   ]
  },
  {
   "cell_type": "code",
   "execution_count": 6,
   "id": "12ca25f5",
   "metadata": {
    "scrolled": true
   },
   "outputs": [
    {
     "data": {
      "text/plain": [
       "array([     0,      1,      2, ..., 119512, 119513, 119514], dtype=int64)"
      ]
     },
     "execution_count": 6,
     "metadata": {},
     "output_type": "execute_result"
    }
   ],
   "source": [
    "unique_user"
   ]
  },
  {
   "cell_type": "code",
   "execution_count": null,
   "id": "a193cb67",
   "metadata": {},
   "outputs": [],
   "source": []
  },
  {
   "cell_type": "markdown",
   "id": "07d49b19",
   "metadata": {},
   "source": [
    "### make Interactions "
   ]
  },
  {
   "cell_type": "code",
   "execution_count": 7,
   "id": "17e2c250",
   "metadata": {},
   "outputs": [
    {
     "data": {
      "text/plain": [
       "(908176, 3)"
      ]
     },
     "execution_count": 7,
     "metadata": {},
     "output_type": "execute_result"
    }
   ],
   "source": [
    "rating.shape"
   ]
  },
  {
   "cell_type": "code",
   "execution_count": 8,
   "id": "d4092a72",
   "metadata": {},
   "outputs": [],
   "source": [
    "def create_user_item_interactions(rating, n_users, n_items):\n",
    "    interactions = coo_matrix(\n",
    "        (\n",
    "            rating['rating'].values,\n",
    "            (rating['user_id'].values, rating[\"whisky_id\"].values)\n",
    "        ),\n",
    "        shape=(n_users, n_items)\n",
    "    )\n",
    "    return interactions"
   ]
  },
  {
   "cell_type": "code",
   "execution_count": 9,
   "id": "ff1dbe03",
   "metadata": {},
   "outputs": [],
   "source": [
    "interactions = create_user_item_interactions(rating, rating[\"user_id\"].nunique(), whisky[\"whisky_id\"].nunique())"
   ]
  },
  {
   "cell_type": "code",
   "execution_count": 10,
   "id": "0aeaba0b",
   "metadata": {},
   "outputs": [
    {
     "name": "stdout",
     "output_type": "stream",
     "text": [
      "  (0, 0)\t9.0\n",
      "  (1, 0)\t7.0\n",
      "  (2, 0)\t9.0\n",
      "  (3, 0)\t10.0\n",
      "  (4, 0)\t9.0\n",
      "  (5, 0)\t7.0\n",
      "  (6, 0)\t10.0\n",
      "  (7, 0)\t7.0\n",
      "  (8, 0)\t10.0\n",
      "  (9, 0)\t10.0\n",
      "  (10, 0)\t9.0\n",
      "  (11, 0)\t9.0\n",
      "  (12, 0)\t8.0\n",
      "  (13, 0)\t8.0\n",
      "  (14, 0)\t10.0\n",
      "  (15, 0)\t10.0\n",
      "  (16, 0)\t9.0\n",
      "  (17, 0)\t9.0\n",
      "  (18, 0)\t8.0\n",
      "  (19, 0)\t9.0\n",
      "  (20, 0)\t9.0\n",
      "  (21, 0)\t10.0\n",
      "  (22, 0)\t9.0\n",
      "  (23, 0)\t9.0\n",
      "  (24, 0)\t9.0\n",
      "  :\t:\n",
      "  (7636, 3531)\t4.0\n",
      "  (56292, 3531)\t2.0\n",
      "  (2670, 3531)\t2.0\n",
      "  (786, 3531)\t2.0\n",
      "  (5942, 3531)\t6.0\n",
      "  (15561, 3531)\t2.0\n",
      "  (25623, 3532)\t6.0\n",
      "  (2885, 3532)\t6.0\n",
      "  (7368, 3533)\t2.0\n",
      "  (69554, 3534)\t10.0\n",
      "  (4484, 3534)\t2.0\n",
      "  (85727, 3534)\t5.0\n",
      "  (43900, 3534)\t4.0\n",
      "  (16070, 3534)\t8.0\n",
      "  (29998, 3534)\t8.0\n",
      "  (7895, 3534)\t4.0\n",
      "  (104052, 3534)\t5.0\n",
      "  (31152, 3534)\t2.0\n",
      "  (119512, 3534)\t6.0\n",
      "  (2509, 3534)\t4.0\n",
      "  (4828, 3534)\t4.0\n",
      "  (119513, 3534)\t2.0\n",
      "  (119514, 3534)\t8.0\n",
      "  (3123, 3534)\t4.0\n",
      "  (95648, 3534)\t2.0\n"
     ]
    },
    {
     "data": {
      "text/plain": [
       "<119515x3535 sparse matrix of type '<class 'numpy.float64'>'\n",
       "\twith 908176 stored elements in COOrdinate format>"
      ]
     },
     "execution_count": 10,
     "metadata": {},
     "output_type": "execute_result"
    }
   ],
   "source": [
    "print(interactions)\n",
    "interactions"
   ]
  },
  {
   "cell_type": "markdown",
   "id": "60b46c26",
   "metadata": {},
   "source": [
    "## Train_Test data split"
   ]
  },
  {
   "cell_type": "code",
   "execution_count": 11,
   "id": "25e7f621",
   "metadata": {},
   "outputs": [],
   "source": [
    "train_interactions, test_interactions = random_train_test_split(interactions, test_percentage=0.2, random_state=42)"
   ]
  },
  {
   "cell_type": "code",
   "execution_count": 12,
   "id": "d1b0c888",
   "metadata": {},
   "outputs": [],
   "source": [
    "train_interactions, valid_interactions = random_train_test_split(train_interactions, test_percentage=0.2, random_state=42)"
   ]
  },
  {
   "cell_type": "markdown",
   "id": "7e399bbb",
   "metadata": {},
   "source": [
    "## Optuna 사용한 HyperParameter 최적화\n",
    "---\n",
    "- learning_rate, alpha 등의 하이퍼 파라미터 값을 작게 설정했을 때보다 높게 설정했을 때 AUC Score가 높게 나오는 경향이 보였습니다.\n",
    "- HyperOPT는 베이지안 최적화 접근 기반인데 이 부분에 제대로 알지 못하기 때문에 전체를 돌려보는 Optuna 방식으로 변경하겠습니다.\n",
    "- Optuna의 경우 시각화도 가능하고, GridSearchCV보다 빠르다는 장점이 있습니다."
   ]
  },
  {
   "cell_type": "code",
   "execution_count": 13,
   "id": "8cf22987",
   "metadata": {},
   "outputs": [],
   "source": [
    "import optuna"
   ]
  },
  {
   "cell_type": "code",
   "execution_count": 14,
   "id": "6ab473c9",
   "metadata": {},
   "outputs": [],
   "source": [
    "def objective(trial):\n",
    "    \n",
    "    \n",
    "    # 조정할 하이퍼 파라미터\n",
    "    params = {\n",
    "        \"learning_schedule\": 'adagrad',\n",
    "        \"loss\": \"warp\",\n",
    "        \"random_state\": 0,\n",
    "        \"no_components\": trial.suggest_categorical(\"no_components\", [10, 20, 30, 40, 50]),\n",
    "        'learning_rate': trial.suggest_categorical(\"learning_rate\", [0.0005, 0.001, 0.005,  0.01,  0.05]),\n",
    "        'item_alpha': trial.suggest_categorical(\"item_alpha\", [5e-04, 1e-03, 5e-03, 1e-02]),\n",
    "        'user_alpha': trial.suggest_categorical(\"user_alpha\", [5e-04, 1e-03, 5e-03, 1e-02]),\n",
    "    }\n",
    "\n",
    "    model = LightFM(**params)\n",
    "\n",
    "    model.fit(interactions=train_interactions,\n",
    "              user_features=user_features,\n",
    "              item_features=item_features,\n",
    "              epochs=3,\n",
    "              verbose=True)\n",
    "\n",
    "    test_precision = precision_at_k(model, valid_interactions, k=9, item_features=item_features, user_features=user_features).mean()\n",
    "    test_recall = recall_at_k(model, valid_interactions, k=9, item_features=item_features, user_features=user_features).mean()\n",
    "    test_auc = auc_score(model, valid_interactions, item_features=item_features, user_features=user_features).mean()\n",
    "    \n",
    "    print(\"no_comp: {}, lrn_rate: {:.5f}, item_alpha: {:.5f}, user_alpha: {:.5f}, precision: {:.5f}, recall: {:.5f}, auc_score: {:.5f}\".format(\n",
    "      params[\"no_components\"], params[\"learning_rate\"], params[\"item_alpha\"], params[\"user_alpha\"], test_precision, test_recall, test_auc))\n",
    "    return test_auc"
   ]
  },
  {
   "cell_type": "code",
   "execution_count": 15,
   "id": "f85067cf",
   "metadata": {},
   "outputs": [
    {
     "name": "stderr",
     "output_type": "stream",
     "text": [
      "\u001b[32m[I 2023-03-13 20:39:12,895]\u001b[0m A new study created in memory with name: no-name-a06ad83c-6795-4de4-b42e-5be385d06427\u001b[0m\n",
      "Epoch: 100%|█████████████████████████████████████████████████████████████████████████████| 3/3 [01:06<00:00, 22.09s/it]\n",
      "\u001b[32m[I 2023-03-13 20:42:51,232]\u001b[0m Trial 0 finished with value: 0.7774629592895508 and parameters: {'no_components': 20, 'learning_rate': 0.005, 'item_alpha': 0.01, 'user_alpha': 0.0005}. Best is trial 0 with value: 0.7774629592895508.\u001b[0m\n"
     ]
    },
    {
     "name": "stdout",
     "output_type": "stream",
     "text": [
      "no_comp: 20, lrn_rate: 0.00500, item_alpha: 0.01000, user_alpha: 0.00050, precision: 0.00288, recall: 0.01245, auc_score: 0.77746\n"
     ]
    },
    {
     "name": "stderr",
     "output_type": "stream",
     "text": [
      "Epoch: 100%|█████████████████████████████████████████████████████████████████████████████| 3/3 [02:44<00:00, 54.69s/it]\n",
      "\u001b[32m[I 2023-03-13 20:50:32,939]\u001b[0m Trial 1 finished with value: 0.7648791670799255 and parameters: {'no_components': 50, 'learning_rate': 0.0005, 'item_alpha': 0.0005, 'user_alpha': 0.01}. Best is trial 0 with value: 0.7774629592895508.\u001b[0m\n"
     ]
    },
    {
     "name": "stdout",
     "output_type": "stream",
     "text": [
      "no_comp: 50, lrn_rate: 0.00050, item_alpha: 0.00050, user_alpha: 0.01000, precision: 0.00165, recall: 0.00594, auc_score: 0.76488\n"
     ]
    },
    {
     "name": "stderr",
     "output_type": "stream",
     "text": [
      "Epoch: 100%|█████████████████████████████████████████████████████████████████████████████| 3/3 [01:37<00:00, 32.40s/it]\n",
      "\u001b[32m[I 2023-03-13 20:55:28,678]\u001b[0m Trial 2 finished with value: 0.48272180557250977 and parameters: {'no_components': 30, 'learning_rate': 0.05, 'item_alpha': 0.0005, 'user_alpha': 0.001}. Best is trial 0 with value: 0.7774629592895508.\u001b[0m\n"
     ]
    },
    {
     "name": "stdout",
     "output_type": "stream",
     "text": [
      "no_comp: 30, lrn_rate: 0.05000, item_alpha: 0.00050, user_alpha: 0.00100, precision: 0.00086, recall: 0.00252, auc_score: 0.48272\n"
     ]
    },
    {
     "name": "stderr",
     "output_type": "stream",
     "text": [
      "Epoch: 100%|█████████████████████████████████████████████████████████████████████████████| 3/3 [02:39<00:00, 53.05s/it]\n",
      "\u001b[32m[I 2023-03-13 21:03:02,373]\u001b[0m Trial 3 finished with value: 0.7801773548126221 and parameters: {'no_components': 50, 'learning_rate': 0.005, 'item_alpha': 0.005, 'user_alpha': 0.01}. Best is trial 3 with value: 0.7801773548126221.\u001b[0m\n"
     ]
    },
    {
     "name": "stdout",
     "output_type": "stream",
     "text": [
      "no_comp: 50, lrn_rate: 0.00500, item_alpha: 0.00500, user_alpha: 0.01000, precision: 0.00343, recall: 0.01723, auc_score: 0.78018\n"
     ]
    },
    {
     "name": "stderr",
     "output_type": "stream",
     "text": [
      "Epoch: 100%|█████████████████████████████████████████████████████████████████████████████| 3/3 [00:37<00:00, 12.60s/it]\n",
      "\u001b[32m[I 2023-03-13 21:05:25,883]\u001b[0m Trial 4 finished with value: 0.7466212511062622 and parameters: {'no_components': 10, 'learning_rate': 0.0005, 'item_alpha': 0.0005, 'user_alpha': 0.001}. Best is trial 3 with value: 0.7801773548126221.\u001b[0m\n"
     ]
    },
    {
     "name": "stdout",
     "output_type": "stream",
     "text": [
      "no_comp: 10, lrn_rate: 0.00050, item_alpha: 0.00050, user_alpha: 0.00100, precision: 0.00143, recall: 0.00474, auc_score: 0.74662\n"
     ]
    },
    {
     "name": "stderr",
     "output_type": "stream",
     "text": [
      "Epoch: 100%|█████████████████████████████████████████████████████████████████████████████| 3/3 [00:38<00:00, 12.76s/it]\n",
      "\u001b[32m[I 2023-03-13 21:07:53,084]\u001b[0m Trial 5 finished with value: 0.7465819120407104 and parameters: {'no_components': 10, 'learning_rate': 0.0005, 'item_alpha': 0.01, 'user_alpha': 0.001}. Best is trial 3 with value: 0.7801773548126221.\u001b[0m\n"
     ]
    },
    {
     "name": "stdout",
     "output_type": "stream",
     "text": [
      "no_comp: 10, lrn_rate: 0.00050, item_alpha: 0.01000, user_alpha: 0.00100, precision: 0.00144, recall: 0.00479, auc_score: 0.74658\n"
     ]
    },
    {
     "name": "stderr",
     "output_type": "stream",
     "text": [
      "Epoch: 100%|█████████████████████████████████████████████████████████████████████████████| 3/3 [01:32<00:00, 30.70s/it]\n",
      "\u001b[32m[I 2023-03-13 21:12:46,705]\u001b[0m Trial 6 finished with value: 0.6654597520828247 and parameters: {'no_components': 30, 'learning_rate': 0.01, 'item_alpha': 0.0005, 'user_alpha': 0.0005}. Best is trial 3 with value: 0.7801773548126221.\u001b[0m\n"
     ]
    },
    {
     "name": "stdout",
     "output_type": "stream",
     "text": [
      "no_comp: 30, lrn_rate: 0.01000, item_alpha: 0.00050, user_alpha: 0.00050, precision: 0.00173, recall: 0.00590, auc_score: 0.66546\n"
     ]
    },
    {
     "name": "stderr",
     "output_type": "stream",
     "text": [
      "Epoch: 100%|█████████████████████████████████████████████████████████████████████████████| 3/3 [02:12<00:00, 44.24s/it]\n",
      "\u001b[32m[I 2023-03-13 21:19:05,851]\u001b[0m Trial 7 finished with value: 0.7219672799110413 and parameters: {'no_components': 40, 'learning_rate': 0.0005, 'item_alpha': 0.0005, 'user_alpha': 0.01}. Best is trial 3 with value: 0.7801773548126221.\u001b[0m\n"
     ]
    },
    {
     "name": "stdout",
     "output_type": "stream",
     "text": [
      "no_comp: 40, lrn_rate: 0.00050, item_alpha: 0.00050, user_alpha: 0.01000, precision: 0.00142, recall: 0.00465, auc_score: 0.72197\n"
     ]
    },
    {
     "name": "stderr",
     "output_type": "stream",
     "text": [
      "Epoch: 100%|█████████████████████████████████████████████████████████████████████████████| 3/3 [01:05<00:00, 21.92s/it]\n",
      "\u001b[32m[I 2023-03-13 21:22:39,768]\u001b[0m Trial 8 finished with value: 0.5793220400810242 and parameters: {'no_components': 20, 'learning_rate': 0.05, 'item_alpha': 0.0005, 'user_alpha': 0.0005}. Best is trial 3 with value: 0.7801773548126221.\u001b[0m\n"
     ]
    },
    {
     "name": "stdout",
     "output_type": "stream",
     "text": [
      "no_comp: 20, lrn_rate: 0.05000, item_alpha: 0.00050, user_alpha: 0.00050, precision: 0.00088, recall: 0.00273, auc_score: 0.57932\n"
     ]
    },
    {
     "name": "stderr",
     "output_type": "stream",
     "text": [
      "Epoch: 100%|█████████████████████████████████████████████████████████████████████████████| 3/3 [02:13<00:00, 44.45s/it]\n",
      "\u001b[32m[I 2023-03-13 21:28:57,715]\u001b[0m Trial 9 finished with value: 0.7226675748825073 and parameters: {'no_components': 40, 'learning_rate': 0.0005, 'item_alpha': 0.01, 'user_alpha': 0.0005}. Best is trial 3 with value: 0.7801773548126221.\u001b[0m\n"
     ]
    },
    {
     "name": "stdout",
     "output_type": "stream",
     "text": [
      "no_comp: 40, lrn_rate: 0.00050, item_alpha: 0.01000, user_alpha: 0.00050, precision: 0.00140, recall: 0.00461, auc_score: 0.72267\n"
     ]
    },
    {
     "name": "stderr",
     "output_type": "stream",
     "text": [
      "Epoch: 100%|█████████████████████████████████████████████████████████████████████████████| 3/3 [02:46<00:00, 55.52s/it]\n",
      "\u001b[32m[I 2023-03-13 21:37:00,462]\u001b[0m Trial 10 finished with value: 0.7669777274131775 and parameters: {'no_components': 50, 'learning_rate': 0.001, 'item_alpha': 0.005, 'user_alpha': 0.005}. Best is trial 3 with value: 0.7801773548126221.\u001b[0m\n"
     ]
    },
    {
     "name": "stdout",
     "output_type": "stream",
     "text": [
      "no_comp: 50, lrn_rate: 0.00100, item_alpha: 0.00500, user_alpha: 0.00500, precision: 0.00212, recall: 0.00945, auc_score: 0.76698\n"
     ]
    },
    {
     "name": "stderr",
     "output_type": "stream",
     "text": [
      "Epoch: 100%|█████████████████████████████████████████████████████████████████████████████| 3/3 [01:17<00:00, 25.74s/it]\n",
      "\u001b[32m[I 2023-03-13 21:41:12,606]\u001b[0m Trial 11 finished with value: 0.7778975367546082 and parameters: {'no_components': 20, 'learning_rate': 0.005, 'item_alpha': 0.001, 'user_alpha': 0.01}. Best is trial 3 with value: 0.7801773548126221.\u001b[0m\n"
     ]
    },
    {
     "name": "stdout",
     "output_type": "stream",
     "text": [
      "no_comp: 20, lrn_rate: 0.00500, item_alpha: 0.00100, user_alpha: 0.01000, precision: 0.00292, recall: 0.01246, auc_score: 0.77790\n"
     ]
    },
    {
     "name": "stderr",
     "output_type": "stream",
     "text": [
      "Epoch: 100%|█████████████████████████████████████████████████████████████████████████████| 3/3 [03:07<00:00, 62.45s/it]\n",
      "\u001b[32m[I 2023-03-13 21:49:35,298]\u001b[0m Trial 12 finished with value: 0.781226634979248 and parameters: {'no_components': 50, 'learning_rate': 0.005, 'item_alpha': 0.001, 'user_alpha': 0.01}. Best is trial 12 with value: 0.781226634979248.\u001b[0m\n"
     ]
    },
    {
     "name": "stdout",
     "output_type": "stream",
     "text": [
      "no_comp: 50, lrn_rate: 0.00500, item_alpha: 0.00100, user_alpha: 0.01000, precision: 0.00334, recall: 0.01624, auc_score: 0.78123\n"
     ]
    },
    {
     "name": "stderr",
     "output_type": "stream",
     "text": [
      "Epoch: 100%|█████████████████████████████████████████████████████████████████████████████| 3/3 [02:53<00:00, 57.92s/it]\n",
      "\u001b[32m[I 2023-03-13 21:57:41,170]\u001b[0m Trial 13 finished with value: 0.781226634979248 and parameters: {'no_components': 50, 'learning_rate': 0.005, 'item_alpha': 0.001, 'user_alpha': 0.01}. Best is trial 12 with value: 0.781226634979248.\u001b[0m\n"
     ]
    },
    {
     "name": "stdout",
     "output_type": "stream",
     "text": [
      "no_comp: 50, lrn_rate: 0.00500, item_alpha: 0.00100, user_alpha: 0.01000, precision: 0.00334, recall: 0.01624, auc_score: 0.78123\n"
     ]
    },
    {
     "name": "stderr",
     "output_type": "stream",
     "text": [
      "Epoch: 100%|█████████████████████████████████████████████████████████████████████████████| 3/3 [02:53<00:00, 57.87s/it]\n",
      "\u001b[32m[I 2023-03-13 22:05:39,867]\u001b[0m Trial 14 finished with value: 0.781226634979248 and parameters: {'no_components': 50, 'learning_rate': 0.005, 'item_alpha': 0.001, 'user_alpha': 0.01}. Best is trial 12 with value: 0.781226634979248.\u001b[0m\n"
     ]
    },
    {
     "name": "stdout",
     "output_type": "stream",
     "text": [
      "no_comp: 50, lrn_rate: 0.00500, item_alpha: 0.00100, user_alpha: 0.01000, precision: 0.00334, recall: 0.01624, auc_score: 0.78123\n"
     ]
    },
    {
     "name": "stderr",
     "output_type": "stream",
     "text": [
      "Epoch: 100%|█████████████████████████████████████████████████████████████████████████████| 3/3 [02:47<00:00, 55.80s/it]\n",
      "\u001b[32m[I 2023-03-13 22:13:31,797]\u001b[0m Trial 15 finished with value: 0.7808710336685181 and parameters: {'no_components': 50, 'learning_rate': 0.005, 'item_alpha': 0.001, 'user_alpha': 0.005}. Best is trial 12 with value: 0.781226634979248.\u001b[0m\n"
     ]
    },
    {
     "name": "stdout",
     "output_type": "stream",
     "text": [
      "no_comp: 50, lrn_rate: 0.00500, item_alpha: 0.00100, user_alpha: 0.00500, precision: 0.00314, recall: 0.01490, auc_score: 0.78087\n"
     ]
    },
    {
     "name": "stderr",
     "output_type": "stream",
     "text": [
      "Epoch: 100%|█████████████████████████████████████████████████████████████████████████████| 3/3 [02:27<00:00, 49.08s/it]\n",
      "\u001b[32m[I 2023-03-13 22:21:13,035]\u001b[0m Trial 16 finished with value: 0.7572591304779053 and parameters: {'no_components': 50, 'learning_rate': 0.01, 'item_alpha': 0.001, 'user_alpha': 0.01}. Best is trial 12 with value: 0.781226634979248.\u001b[0m\n"
     ]
    },
    {
     "name": "stdout",
     "output_type": "stream",
     "text": [
      "no_comp: 50, lrn_rate: 0.01000, item_alpha: 0.00100, user_alpha: 0.01000, precision: 0.00248, recall: 0.01107, auc_score: 0.75726\n"
     ]
    },
    {
     "name": "stderr",
     "output_type": "stream",
     "text": [
      "Epoch: 100%|█████████████████████████████████████████████████████████████████████████████| 3/3 [02:55<00:00, 58.57s/it]\n",
      "\u001b[32m[I 2023-03-13 22:29:29,344]\u001b[0m Trial 17 finished with value: 0.7668690085411072 and parameters: {'no_components': 50, 'learning_rate': 0.001, 'item_alpha': 0.001, 'user_alpha': 0.01}. Best is trial 12 with value: 0.781226634979248.\u001b[0m\n"
     ]
    },
    {
     "name": "stdout",
     "output_type": "stream",
     "text": [
      "no_comp: 50, lrn_rate: 0.00100, item_alpha: 0.00100, user_alpha: 0.01000, precision: 0.00206, recall: 0.00923, auc_score: 0.76687\n"
     ]
    },
    {
     "name": "stderr",
     "output_type": "stream",
     "text": [
      "Epoch: 100%|█████████████████████████████████████████████████████████████████████████████| 3/3 [02:47<00:00, 55.96s/it]\n",
      "\u001b[32m[I 2023-03-13 22:37:25,625]\u001b[0m Trial 18 finished with value: 0.781226634979248 and parameters: {'no_components': 50, 'learning_rate': 0.005, 'item_alpha': 0.001, 'user_alpha': 0.01}. Best is trial 12 with value: 0.781226634979248.\u001b[0m\n"
     ]
    },
    {
     "name": "stdout",
     "output_type": "stream",
     "text": [
      "no_comp: 50, lrn_rate: 0.00500, item_alpha: 0.00100, user_alpha: 0.01000, precision: 0.00334, recall: 0.01624, auc_score: 0.78123\n"
     ]
    },
    {
     "name": "stderr",
     "output_type": "stream",
     "text": [
      "Epoch: 100%|█████████████████████████████████████████████████████████████████████████████| 3/3 [00:38<00:00, 12.85s/it]\n",
      "\u001b[32m[I 2023-03-13 22:40:00,105]\u001b[0m Trial 19 finished with value: 0.7774520516395569 and parameters: {'no_components': 10, 'learning_rate': 0.005, 'item_alpha': 0.001, 'user_alpha': 0.005}. Best is trial 12 with value: 0.781226634979248.\u001b[0m\n"
     ]
    },
    {
     "name": "stdout",
     "output_type": "stream",
     "text": [
      "no_comp: 10, lrn_rate: 0.00500, item_alpha: 0.00100, user_alpha: 0.00500, precision: 0.00283, recall: 0.01218, auc_score: 0.77745\n"
     ]
    },
    {
     "name": "stderr",
     "output_type": "stream",
     "text": [
      "Epoch: 100%|█████████████████████████████████████████████████████████████████████████████| 3/3 [02:08<00:00, 42.86s/it]\n",
      "\u001b[32m[I 2023-03-13 22:46:21,427]\u001b[0m Trial 20 finished with value: 0.6962584257125854 and parameters: {'no_components': 40, 'learning_rate': 0.005, 'item_alpha': 0.001, 'user_alpha': 0.01}. Best is trial 12 with value: 0.781226634979248.\u001b[0m\n"
     ]
    },
    {
     "name": "stdout",
     "output_type": "stream",
     "text": [
      "no_comp: 40, lrn_rate: 0.00500, item_alpha: 0.00100, user_alpha: 0.01000, precision: 0.00175, recall: 0.00582, auc_score: 0.69626\n"
     ]
    },
    {
     "name": "stderr",
     "output_type": "stream",
     "text": [
      "Epoch: 100%|█████████████████████████████████████████████████████████████████████████████| 3/3 [02:47<00:00, 55.93s/it]\n",
      "\u001b[32m[I 2023-03-13 22:54:15,757]\u001b[0m Trial 21 finished with value: 0.781226634979248 and parameters: {'no_components': 50, 'learning_rate': 0.005, 'item_alpha': 0.001, 'user_alpha': 0.01}. Best is trial 12 with value: 0.781226634979248.\u001b[0m\n"
     ]
    },
    {
     "name": "stdout",
     "output_type": "stream",
     "text": [
      "no_comp: 50, lrn_rate: 0.00500, item_alpha: 0.00100, user_alpha: 0.01000, precision: 0.00334, recall: 0.01624, auc_score: 0.78123\n"
     ]
    },
    {
     "name": "stderr",
     "output_type": "stream",
     "text": [
      "Epoch: 100%|█████████████████████████████████████████████████████████████████████████████| 3/3 [03:07<00:00, 62.44s/it]\n",
      "\u001b[32m[I 2023-03-13 23:02:31,171]\u001b[0m Trial 22 finished with value: 0.781226634979248 and parameters: {'no_components': 50, 'learning_rate': 0.005, 'item_alpha': 0.001, 'user_alpha': 0.01}. Best is trial 12 with value: 0.781226634979248.\u001b[0m\n"
     ]
    },
    {
     "name": "stdout",
     "output_type": "stream",
     "text": [
      "no_comp: 50, lrn_rate: 0.00500, item_alpha: 0.00100, user_alpha: 0.01000, precision: 0.00334, recall: 0.01624, auc_score: 0.78123\n"
     ]
    },
    {
     "name": "stderr",
     "output_type": "stream",
     "text": [
      "Epoch: 100%|█████████████████████████████████████████████████████████████████████████████| 3/3 [02:45<00:00, 55.18s/it]\n",
      "\u001b[32m[I 2023-03-13 23:10:18,650]\u001b[0m Trial 23 finished with value: 0.781226634979248 and parameters: {'no_components': 50, 'learning_rate': 0.005, 'item_alpha': 0.001, 'user_alpha': 0.01}. Best is trial 12 with value: 0.781226634979248.\u001b[0m\n"
     ]
    },
    {
     "name": "stdout",
     "output_type": "stream",
     "text": [
      "no_comp: 50, lrn_rate: 0.00500, item_alpha: 0.00100, user_alpha: 0.01000, precision: 0.00334, recall: 0.01624, auc_score: 0.78123\n"
     ]
    },
    {
     "name": "stderr",
     "output_type": "stream",
     "text": [
      "Epoch: 100%|█████████████████████████████████████████████████████████████████████████████| 3/3 [02:45<00:00, 55.04s/it]\n",
      "\u001b[32m[I 2023-03-13 23:18:28,902]\u001b[0m Trial 24 finished with value: 0.7801773548126221 and parameters: {'no_components': 50, 'learning_rate': 0.005, 'item_alpha': 0.005, 'user_alpha': 0.01}. Best is trial 12 with value: 0.781226634979248.\u001b[0m\n"
     ]
    },
    {
     "name": "stdout",
     "output_type": "stream",
     "text": [
      "no_comp: 50, lrn_rate: 0.00500, item_alpha: 0.00500, user_alpha: 0.01000, precision: 0.00343, recall: 0.01723, auc_score: 0.78018\n"
     ]
    },
    {
     "name": "stderr",
     "output_type": "stream",
     "text": [
      "Epoch: 100%|█████████████████████████████████████████████████████████████████████████████| 3/3 [01:58<00:00, 39.38s/it]\n",
      "\u001b[32m[I 2023-03-13 23:24:16,809]\u001b[0m Trial 25 finished with value: 0.7148984670639038 and parameters: {'no_components': 30, 'learning_rate': 0.001, 'item_alpha': 0.001, 'user_alpha': 0.01}. Best is trial 12 with value: 0.781226634979248.\u001b[0m\n"
     ]
    },
    {
     "name": "stdout",
     "output_type": "stream",
     "text": [
      "no_comp: 30, lrn_rate: 0.00100, item_alpha: 0.00100, user_alpha: 0.01000, precision: 0.00128, recall: 0.00385, auc_score: 0.71490\n"
     ]
    },
    {
     "name": "stderr",
     "output_type": "stream",
     "text": [
      "Epoch: 100%|█████████████████████████████████████████████████████████████████████████████| 3/3 [02:50<00:00, 56.87s/it]\n",
      "\u001b[32m[I 2023-03-13 23:32:44,698]\u001b[0m Trial 26 finished with value: 0.6568671464920044 and parameters: {'no_components': 50, 'learning_rate': 0.05, 'item_alpha': 0.001, 'user_alpha': 0.01}. Best is trial 12 with value: 0.781226634979248.\u001b[0m\n"
     ]
    },
    {
     "name": "stdout",
     "output_type": "stream",
     "text": [
      "no_comp: 50, lrn_rate: 0.05000, item_alpha: 0.00100, user_alpha: 0.01000, precision: 0.00159, recall: 0.00576, auc_score: 0.65687\n"
     ]
    },
    {
     "name": "stderr",
     "output_type": "stream",
     "text": [
      "Epoch: 100%|█████████████████████████████████████████████████████████████████████████████| 3/3 [02:38<00:00, 52.74s/it]\n",
      "\u001b[32m[I 2023-03-13 23:40:56,905]\u001b[0m Trial 27 finished with value: 0.7560548782348633 and parameters: {'no_components': 50, 'learning_rate': 0.01, 'item_alpha': 0.001, 'user_alpha': 0.001}. Best is trial 12 with value: 0.781226634979248.\u001b[0m\n"
     ]
    },
    {
     "name": "stdout",
     "output_type": "stream",
     "text": [
      "no_comp: 50, lrn_rate: 0.01000, item_alpha: 0.00100, user_alpha: 0.00100, precision: 0.00272, recall: 0.01234, auc_score: 0.75605\n"
     ]
    },
    {
     "name": "stderr",
     "output_type": "stream",
     "text": [
      "Epoch: 100%|█████████████████████████████████████████████████████████████████████████████| 3/3 [02:40<00:00, 53.51s/it]\n",
      "\u001b[32m[I 2023-03-13 23:48:47,881]\u001b[0m Trial 28 finished with value: 0.7808710336685181 and parameters: {'no_components': 50, 'learning_rate': 0.005, 'item_alpha': 0.001, 'user_alpha': 0.005}. Best is trial 12 with value: 0.781226634979248.\u001b[0m\n"
     ]
    },
    {
     "name": "stdout",
     "output_type": "stream",
     "text": [
      "no_comp: 50, lrn_rate: 0.00500, item_alpha: 0.00100, user_alpha: 0.00500, precision: 0.00314, recall: 0.01490, auc_score: 0.78087\n"
     ]
    },
    {
     "name": "stderr",
     "output_type": "stream",
     "text": [
      "Epoch: 100%|█████████████████████████████████████████████████████████████████████████████| 3/3 [01:07<00:00, 22.65s/it]\n",
      "\u001b[32m[I 2023-03-13 23:52:34,489]\u001b[0m Trial 29 finished with value: 0.7774629592895508 and parameters: {'no_components': 20, 'learning_rate': 0.005, 'item_alpha': 0.01, 'user_alpha': 0.0005}. Best is trial 12 with value: 0.781226634979248.\u001b[0m\n"
     ]
    },
    {
     "name": "stdout",
     "output_type": "stream",
     "text": [
      "no_comp: 20, lrn_rate: 0.00500, item_alpha: 0.01000, user_alpha: 0.00050, precision: 0.00288, recall: 0.01245, auc_score: 0.77746\n"
     ]
    },
    {
     "name": "stderr",
     "output_type": "stream",
     "text": [
      "Epoch: 100%|█████████████████████████████████████████████████████████████████████████████| 3/3 [00:39<00:00, 13.28s/it]\n",
      "\u001b[32m[I 2023-03-13 23:55:09,460]\u001b[0m Trial 30 finished with value: 0.7779573798179626 and parameters: {'no_components': 10, 'learning_rate': 0.005, 'item_alpha': 0.005, 'user_alpha': 0.01}. Best is trial 12 with value: 0.781226634979248.\u001b[0m\n"
     ]
    },
    {
     "name": "stdout",
     "output_type": "stream",
     "text": [
      "no_comp: 10, lrn_rate: 0.00500, item_alpha: 0.00500, user_alpha: 0.01000, precision: 0.00284, recall: 0.01231, auc_score: 0.77796\n"
     ]
    },
    {
     "name": "stderr",
     "output_type": "stream",
     "text": [
      "Epoch: 100%|█████████████████████████████████████████████████████████████████████████████| 3/3 [02:45<00:00, 55.29s/it]\n",
      "\u001b[32m[I 2023-03-14 00:03:07,706]\u001b[0m Trial 31 finished with value: 0.781226634979248 and parameters: {'no_components': 50, 'learning_rate': 0.005, 'item_alpha': 0.001, 'user_alpha': 0.01}. Best is trial 12 with value: 0.781226634979248.\u001b[0m\n"
     ]
    },
    {
     "name": "stdout",
     "output_type": "stream",
     "text": [
      "no_comp: 50, lrn_rate: 0.00500, item_alpha: 0.00100, user_alpha: 0.01000, precision: 0.00334, recall: 0.01624, auc_score: 0.78123\n"
     ]
    },
    {
     "name": "stderr",
     "output_type": "stream",
     "text": [
      "Epoch: 100%|█████████████████████████████████████████████████████████████████████████████| 3/3 [02:52<00:00, 57.66s/it]\n",
      "\u001b[32m[I 2023-03-14 00:11:32,166]\u001b[0m Trial 32 finished with value: 0.781226634979248 and parameters: {'no_components': 50, 'learning_rate': 0.005, 'item_alpha': 0.001, 'user_alpha': 0.01}. Best is trial 12 with value: 0.781226634979248.\u001b[0m\n"
     ]
    },
    {
     "name": "stdout",
     "output_type": "stream",
     "text": [
      "no_comp: 50, lrn_rate: 0.00500, item_alpha: 0.00100, user_alpha: 0.01000, precision: 0.00334, recall: 0.01624, auc_score: 0.78123\n"
     ]
    },
    {
     "name": "stderr",
     "output_type": "stream",
     "text": [
      "Epoch: 100%|█████████████████████████████████████████████████████████████████████████████| 3/3 [03:01<00:00, 60.35s/it]\n",
      "\u001b[32m[I 2023-03-14 00:20:05,956]\u001b[0m Trial 33 finished with value: 0.781226634979248 and parameters: {'no_components': 50, 'learning_rate': 0.005, 'item_alpha': 0.001, 'user_alpha': 0.01}. Best is trial 12 with value: 0.781226634979248.\u001b[0m\n"
     ]
    },
    {
     "name": "stdout",
     "output_type": "stream",
     "text": [
      "no_comp: 50, lrn_rate: 0.00500, item_alpha: 0.00100, user_alpha: 0.01000, precision: 0.00334, recall: 0.01624, auc_score: 0.78123\n"
     ]
    },
    {
     "name": "stderr",
     "output_type": "stream",
     "text": [
      "Epoch: 100%|█████████████████████████████████████████████████████████████████████████████| 3/3 [01:51<00:00, 37.03s/it]\n",
      "\u001b[32m[I 2023-03-14 00:25:49,912]\u001b[0m Trial 34 finished with value: 0.4826804995536804 and parameters: {'no_components': 30, 'learning_rate': 0.05, 'item_alpha': 0.001, 'user_alpha': 0.01}. Best is trial 12 with value: 0.781226634979248.\u001b[0m\n"
     ]
    },
    {
     "name": "stdout",
     "output_type": "stream",
     "text": [
      "no_comp: 30, lrn_rate: 0.05000, item_alpha: 0.00100, user_alpha: 0.01000, precision: 0.00086, recall: 0.00251, auc_score: 0.48268\n"
     ]
    },
    {
     "name": "stderr",
     "output_type": "stream",
     "text": [
      "Epoch: 100%|█████████████████████████████████████████████████████████████████████████████| 3/3 [03:02<00:00, 60.90s/it]\n",
      "\u001b[32m[I 2023-03-14 00:34:36,999]\u001b[0m Trial 35 finished with value: 0.7788313627243042 and parameters: {'no_components': 50, 'learning_rate': 0.005, 'item_alpha': 0.01, 'user_alpha': 0.01}. Best is trial 12 with value: 0.781226634979248.\u001b[0m\n"
     ]
    },
    {
     "name": "stdout",
     "output_type": "stream",
     "text": [
      "no_comp: 50, lrn_rate: 0.00500, item_alpha: 0.01000, user_alpha: 0.01000, precision: 0.00321, recall: 0.01588, auc_score: 0.77883\n"
     ]
    },
    {
     "name": "stderr",
     "output_type": "stream",
     "text": [
      "Epoch: 100%|█████████████████████████████████████████████████████████████████████████████| 3/3 [03:03<00:00, 61.07s/it]\n",
      "\u001b[32m[I 2023-03-14 00:43:20,877]\u001b[0m Trial 36 finished with value: 0.7817395925521851 and parameters: {'no_components': 50, 'learning_rate': 0.005, 'item_alpha': 0.001, 'user_alpha': 0.001}. Best is trial 36 with value: 0.7817395925521851.\u001b[0m\n"
     ]
    },
    {
     "name": "stdout",
     "output_type": "stream",
     "text": [
      "no_comp: 50, lrn_rate: 0.00500, item_alpha: 0.00100, user_alpha: 0.00100, precision: 0.00419, recall: 0.02188, auc_score: 0.78174\n"
     ]
    },
    {
     "name": "stderr",
     "output_type": "stream",
     "text": [
      "Epoch: 100%|█████████████████████████████████████████████████████████████████████████████| 3/3 [02:37<00:00, 52.48s/it]\n",
      "\u001b[32m[I 2023-03-14 00:50:52,744]\u001b[0m Trial 37 finished with value: 0.7560548782348633 and parameters: {'no_components': 50, 'learning_rate': 0.01, 'item_alpha': 0.001, 'user_alpha': 0.001}. Best is trial 36 with value: 0.7817395925521851.\u001b[0m\n"
     ]
    },
    {
     "name": "stdout",
     "output_type": "stream",
     "text": [
      "no_comp: 50, lrn_rate: 0.01000, item_alpha: 0.00100, user_alpha: 0.00100, precision: 0.00272, recall: 0.01234, auc_score: 0.75605\n"
     ]
    },
    {
     "name": "stderr",
     "output_type": "stream",
     "text": [
      "Epoch: 100%|█████████████████████████████████████████████████████████████████████████████| 3/3 [01:59<00:00, 39.89s/it]\n",
      "\u001b[32m[I 2023-03-14 00:56:57,826]\u001b[0m Trial 38 finished with value: 0.6956368684768677 and parameters: {'no_components': 40, 'learning_rate': 0.005, 'item_alpha': 0.005, 'user_alpha': 0.001}. Best is trial 36 with value: 0.7817395925521851.\u001b[0m\n"
     ]
    },
    {
     "name": "stdout",
     "output_type": "stream",
     "text": [
      "no_comp: 40, lrn_rate: 0.00500, item_alpha: 0.00500, user_alpha: 0.00100, precision: 0.00169, recall: 0.00551, auc_score: 0.69564\n"
     ]
    },
    {
     "name": "stderr",
     "output_type": "stream",
     "text": [
      "Epoch: 100%|█████████████████████████████████████████████████████████████████████████████| 3/3 [01:12<00:00, 24.27s/it]\n",
      "\u001b[32m[I 2023-03-14 01:00:50,577]\u001b[0m Trial 39 finished with value: 0.739649772644043 and parameters: {'no_components': 20, 'learning_rate': 0.0005, 'item_alpha': 0.0005, 'user_alpha': 0.001}. Best is trial 36 with value: 0.7817395925521851.\u001b[0m\n"
     ]
    },
    {
     "name": "stdout",
     "output_type": "stream",
     "text": [
      "no_comp: 20, lrn_rate: 0.00050, item_alpha: 0.00050, user_alpha: 0.00100, precision: 0.00112, recall: 0.00344, auc_score: 0.73965\n"
     ]
    },
    {
     "name": "stderr",
     "output_type": "stream",
     "text": [
      "Epoch: 100%|█████████████████████████████████████████████████████████████████████████████| 3/3 [01:44<00:00, 34.74s/it]\n",
      "\u001b[32m[I 2023-03-14 01:06:06,912]\u001b[0m Trial 40 finished with value: 0.7149181365966797 and parameters: {'no_components': 30, 'learning_rate': 0.001, 'item_alpha': 0.01, 'user_alpha': 0.001}. Best is trial 36 with value: 0.7817395925521851.\u001b[0m\n"
     ]
    },
    {
     "name": "stdout",
     "output_type": "stream",
     "text": [
      "no_comp: 30, lrn_rate: 0.00100, item_alpha: 0.01000, user_alpha: 0.00100, precision: 0.00128, recall: 0.00387, auc_score: 0.71492\n"
     ]
    },
    {
     "name": "stderr",
     "output_type": "stream",
     "text": [
      "Epoch: 100%|█████████████████████████████████████████████████████████████████████████████| 3/3 [02:43<00:00, 54.52s/it]\n",
      "\u001b[32m[I 2023-03-14 01:14:07,135]\u001b[0m Trial 41 finished with value: 0.7817395925521851 and parameters: {'no_components': 50, 'learning_rate': 0.005, 'item_alpha': 0.001, 'user_alpha': 0.001}. Best is trial 36 with value: 0.7817395925521851.\u001b[0m\n"
     ]
    },
    {
     "name": "stdout",
     "output_type": "stream",
     "text": [
      "no_comp: 50, lrn_rate: 0.00500, item_alpha: 0.00100, user_alpha: 0.00100, precision: 0.00419, recall: 0.02188, auc_score: 0.78174\n"
     ]
    },
    {
     "name": "stderr",
     "output_type": "stream",
     "text": [
      "Epoch: 100%|█████████████████████████████████████████████████████████████████████████████| 3/3 [02:48<00:00, 56.13s/it]\n",
      "\u001b[32m[I 2023-03-14 01:22:09,766]\u001b[0m Trial 42 finished with value: 0.7817395925521851 and parameters: {'no_components': 50, 'learning_rate': 0.005, 'item_alpha': 0.001, 'user_alpha': 0.001}. Best is trial 36 with value: 0.7817395925521851.\u001b[0m\n"
     ]
    },
    {
     "name": "stdout",
     "output_type": "stream",
     "text": [
      "no_comp: 50, lrn_rate: 0.00500, item_alpha: 0.00100, user_alpha: 0.00100, precision: 0.00419, recall: 0.02188, auc_score: 0.78174\n"
     ]
    },
    {
     "name": "stderr",
     "output_type": "stream",
     "text": [
      "Epoch: 100%|█████████████████████████████████████████████████████████████████████████████| 3/3 [02:43<00:00, 54.65s/it]\n",
      "\u001b[32m[I 2023-03-14 01:30:02,430]\u001b[0m Trial 43 finished with value: 0.7817395925521851 and parameters: {'no_components': 50, 'learning_rate': 0.005, 'item_alpha': 0.001, 'user_alpha': 0.001}. Best is trial 36 with value: 0.7817395925521851.\u001b[0m\n"
     ]
    },
    {
     "name": "stdout",
     "output_type": "stream",
     "text": [
      "no_comp: 50, lrn_rate: 0.00500, item_alpha: 0.00100, user_alpha: 0.00100, precision: 0.00419, recall: 0.02188, auc_score: 0.78174\n"
     ]
    },
    {
     "name": "stderr",
     "output_type": "stream",
     "text": [
      "Epoch: 100%|█████████████████████████████████████████████████████████████████████████████| 3/3 [00:35<00:00, 11.82s/it]\n",
      "\u001b[32m[I 2023-03-14 01:32:27,149]\u001b[0m Trial 44 finished with value: 0.5605233907699585 and parameters: {'no_components': 10, 'learning_rate': 0.05, 'item_alpha': 0.0005, 'user_alpha': 0.001}. Best is trial 36 with value: 0.7817395925521851.\u001b[0m\n"
     ]
    },
    {
     "name": "stdout",
     "output_type": "stream",
     "text": [
      "no_comp: 10, lrn_rate: 0.05000, item_alpha: 0.00050, user_alpha: 0.00100, precision: 0.00061, recall: 0.00168, auc_score: 0.56052\n"
     ]
    },
    {
     "name": "stderr",
     "output_type": "stream",
     "text": [
      "Epoch: 100%|█████████████████████████████████████████████████████████████████████████████| 3/3 [02:51<00:00, 57.28s/it]\n",
      "\u001b[32m[I 2023-03-14 01:40:27,792]\u001b[0m Trial 45 finished with value: 0.7817395925521851 and parameters: {'no_components': 50, 'learning_rate': 0.005, 'item_alpha': 0.001, 'user_alpha': 0.001}. Best is trial 36 with value: 0.7817395925521851.\u001b[0m\n"
     ]
    },
    {
     "name": "stdout",
     "output_type": "stream",
     "text": [
      "no_comp: 50, lrn_rate: 0.00500, item_alpha: 0.00100, user_alpha: 0.00100, precision: 0.00419, recall: 0.02188, auc_score: 0.78174\n"
     ]
    },
    {
     "name": "stderr",
     "output_type": "stream",
     "text": [
      "Epoch: 100%|█████████████████████████████████████████████████████████████████████████████| 3/3 [02:51<00:00, 57.31s/it]\n",
      "\u001b[32m[I 2023-03-14 01:48:29,542]\u001b[0m Trial 46 finished with value: 0.7647778391838074 and parameters: {'no_components': 50, 'learning_rate': 0.0005, 'item_alpha': 0.001, 'user_alpha': 0.001}. Best is trial 36 with value: 0.7817395925521851.\u001b[0m\n"
     ]
    },
    {
     "name": "stdout",
     "output_type": "stream",
     "text": [
      "no_comp: 50, lrn_rate: 0.00050, item_alpha: 0.00100, user_alpha: 0.00100, precision: 0.00203, recall: 0.00879, auc_score: 0.76478\n"
     ]
    },
    {
     "name": "stderr",
     "output_type": "stream",
     "text": [
      "Epoch: 100%|█████████████████████████████████████████████████████████████████████████████| 3/3 [02:03<00:00, 41.05s/it]\n",
      "\u001b[32m[I 2023-03-14 01:54:46,892]\u001b[0m Trial 47 finished with value: 0.6878995299339294 and parameters: {'no_components': 40, 'learning_rate': 0.005, 'item_alpha': 0.001, 'user_alpha': 0.001}. Best is trial 36 with value: 0.7817395925521851.\u001b[0m\n"
     ]
    },
    {
     "name": "stdout",
     "output_type": "stream",
     "text": [
      "no_comp: 40, lrn_rate: 0.00500, item_alpha: 0.00100, user_alpha: 0.00100, precision: 0.00165, recall: 0.00539, auc_score: 0.68790\n"
     ]
    },
    {
     "name": "stderr",
     "output_type": "stream",
     "text": [
      "Epoch: 100%|█████████████████████████████████████████████████████████████████████████████| 3/3 [02:43<00:00, 54.52s/it]\n",
      "\u001b[32m[I 2023-03-14 02:01:50,632]\u001b[0m Trial 48 finished with value: 0.7817395925521851 and parameters: {'no_components': 50, 'learning_rate': 0.005, 'item_alpha': 0.001, 'user_alpha': 0.001}. Best is trial 36 with value: 0.7817395925521851.\u001b[0m\n"
     ]
    },
    {
     "name": "stdout",
     "output_type": "stream",
     "text": [
      "no_comp: 50, lrn_rate: 0.00500, item_alpha: 0.00100, user_alpha: 0.00100, precision: 0.00419, recall: 0.02188, auc_score: 0.78174\n"
     ]
    },
    {
     "name": "stderr",
     "output_type": "stream",
     "text": [
      "Epoch: 100%|█████████████████████████████████████████████████████████████████████████████| 3/3 [00:50<00:00, 16.68s/it]\n",
      "\u001b[32m[I 2023-03-14 02:04:32,212]\u001b[0m Trial 49 finished with value: 0.7769889235496521 and parameters: {'no_components': 20, 'learning_rate': 0.005, 'item_alpha': 0.0005, 'user_alpha': 0.001}. Best is trial 36 with value: 0.7817395925521851.\u001b[0m\n"
     ]
    },
    {
     "name": "stdout",
     "output_type": "stream",
     "text": [
      "no_comp: 20, lrn_rate: 0.00500, item_alpha: 0.00050, user_alpha: 0.00100, precision: 0.00291, recall: 0.01235, auc_score: 0.77699\n",
      "{'no_components': 50, 'learning_rate': 0.005, 'item_alpha': 0.001, 'user_alpha': 0.001}\n"
     ]
    }
   ],
   "source": [
    "study = optuna.create_study(direction='maximize')\n",
    "study.optimize(objective, n_trials=50)\n",
    "print(study.best_trial.params)"
   ]
  },
  {
   "cell_type": "code",
   "execution_count": 16,
   "id": "8dfe0330",
   "metadata": {},
   "outputs": [
    {
     "name": "stdout",
     "output_type": "stream",
     "text": [
      "Best Params : {'no_components': 50, 'learning_rate': 0.005, 'item_alpha': 0.001, 'user_alpha': 0.001}\n",
      "\n",
      "Best Trials : [FrozenTrial(number=36, state=TrialState.COMPLETE, values=[0.7817395925521851], datetime_start=datetime.datetime(2023, 3, 14, 0, 34, 37, 839), datetime_complete=datetime.datetime(2023, 3, 14, 0, 43, 20, 877070), params={'no_components': 50, 'learning_rate': 0.005, 'item_alpha': 0.001, 'user_alpha': 0.001}, user_attrs={}, system_attrs={}, intermediate_values={}, distributions={'no_components': CategoricalDistribution(choices=(10, 20, 30, 40, 50)), 'learning_rate': CategoricalDistribution(choices=(0.0005, 0.001, 0.005, 0.01, 0.05)), 'item_alpha': CategoricalDistribution(choices=(0.0005, 0.001, 0.005, 0.01)), 'user_alpha': CategoricalDistribution(choices=(0.0005, 0.001, 0.005, 0.01))}, trial_id=36, value=None), FrozenTrial(number=41, state=TrialState.COMPLETE, values=[0.7817395925521851], datetime_start=datetime.datetime(2023, 3, 14, 1, 6, 6, 913256), datetime_complete=datetime.datetime(2023, 3, 14, 1, 14, 7, 135479), params={'no_components': 50, 'learning_rate': 0.005, 'item_alpha': 0.001, 'user_alpha': 0.001}, user_attrs={}, system_attrs={}, intermediate_values={}, distributions={'no_components': CategoricalDistribution(choices=(10, 20, 30, 40, 50)), 'learning_rate': CategoricalDistribution(choices=(0.0005, 0.001, 0.005, 0.01, 0.05)), 'item_alpha': CategoricalDistribution(choices=(0.0005, 0.001, 0.005, 0.01)), 'user_alpha': CategoricalDistribution(choices=(0.0005, 0.001, 0.005, 0.01))}, trial_id=41, value=None), FrozenTrial(number=42, state=TrialState.COMPLETE, values=[0.7817395925521851], datetime_start=datetime.datetime(2023, 3, 14, 1, 14, 7, 136479), datetime_complete=datetime.datetime(2023, 3, 14, 1, 22, 9, 766294), params={'no_components': 50, 'learning_rate': 0.005, 'item_alpha': 0.001, 'user_alpha': 0.001}, user_attrs={}, system_attrs={}, intermediate_values={}, distributions={'no_components': CategoricalDistribution(choices=(10, 20, 30, 40, 50)), 'learning_rate': CategoricalDistribution(choices=(0.0005, 0.001, 0.005, 0.01, 0.05)), 'item_alpha': CategoricalDistribution(choices=(0.0005, 0.001, 0.005, 0.01)), 'user_alpha': CategoricalDistribution(choices=(0.0005, 0.001, 0.005, 0.01))}, trial_id=42, value=None), FrozenTrial(number=43, state=TrialState.COMPLETE, values=[0.7817395925521851], datetime_start=datetime.datetime(2023, 3, 14, 1, 22, 9, 767292), datetime_complete=datetime.datetime(2023, 3, 14, 1, 30, 2, 430004), params={'no_components': 50, 'learning_rate': 0.005, 'item_alpha': 0.001, 'user_alpha': 0.001}, user_attrs={}, system_attrs={}, intermediate_values={}, distributions={'no_components': CategoricalDistribution(choices=(10, 20, 30, 40, 50)), 'learning_rate': CategoricalDistribution(choices=(0.0005, 0.001, 0.005, 0.01, 0.05)), 'item_alpha': CategoricalDistribution(choices=(0.0005, 0.001, 0.005, 0.01)), 'user_alpha': CategoricalDistribution(choices=(0.0005, 0.001, 0.005, 0.01))}, trial_id=43, value=None), FrozenTrial(number=45, state=TrialState.COMPLETE, values=[0.7817395925521851], datetime_start=datetime.datetime(2023, 3, 14, 1, 32, 27, 150637), datetime_complete=datetime.datetime(2023, 3, 14, 1, 40, 27, 792618), params={'no_components': 50, 'learning_rate': 0.005, 'item_alpha': 0.001, 'user_alpha': 0.001}, user_attrs={}, system_attrs={}, intermediate_values={}, distributions={'no_components': CategoricalDistribution(choices=(10, 20, 30, 40, 50)), 'learning_rate': CategoricalDistribution(choices=(0.0005, 0.001, 0.005, 0.01, 0.05)), 'item_alpha': CategoricalDistribution(choices=(0.0005, 0.001, 0.005, 0.01)), 'user_alpha': CategoricalDistribution(choices=(0.0005, 0.001, 0.005, 0.01))}, trial_id=45, value=None), FrozenTrial(number=48, state=TrialState.COMPLETE, values=[0.7817395925521851], datetime_start=datetime.datetime(2023, 3, 14, 1, 54, 46, 892953), datetime_complete=datetime.datetime(2023, 3, 14, 2, 1, 50, 632268), params={'no_components': 50, 'learning_rate': 0.005, 'item_alpha': 0.001, 'user_alpha': 0.001}, user_attrs={}, system_attrs={}, intermediate_values={}, distributions={'no_components': CategoricalDistribution(choices=(10, 20, 30, 40, 50)), 'learning_rate': CategoricalDistribution(choices=(0.0005, 0.001, 0.005, 0.01, 0.05)), 'item_alpha': CategoricalDistribution(choices=(0.0005, 0.001, 0.005, 0.01)), 'user_alpha': CategoricalDistribution(choices=(0.0005, 0.001, 0.005, 0.01))}, trial_id=48, value=None)]\n",
      "\n",
      "Best Values : 0.7817395925521851\n"
     ]
    }
   ],
   "source": [
    "print(\"Best Params : {}\".format(study.best_params))\n",
    "print()\n",
    "print(\"Best Trials : {}\".format(study.best_trials))\n",
    "print()\n",
    "print(\"Best Values : {}\".format(study.best_value))"
   ]
  },
  {
   "cell_type": "code",
   "execution_count": null,
   "id": "6f805c0d",
   "metadata": {},
   "outputs": [],
   "source": []
  },
  {
   "cell_type": "code",
   "execution_count": null,
   "id": "d3222429",
   "metadata": {},
   "outputs": [],
   "source": []
  },
  {
   "cell_type": "code",
   "execution_count": 14,
   "id": "88d34a6e",
   "metadata": {},
   "outputs": [
    {
     "name": "stderr",
     "output_type": "stream",
     "text": [
      "Epoch: 100%|█████████████████████████████████████████████████████████████████████████████| 5/5 [04:13<00:00, 50.73s/it]\n"
     ]
    },
    {
     "data": {
      "text/plain": [
       "<lightfm.lightfm.LightFM at 0x191cf2e1730>"
      ]
     },
     "execution_count": 14,
     "metadata": {},
     "output_type": "execute_result"
    }
   ],
   "source": [
    "m1 = LightFM(loss='warp', learning_schedule=\"adagrad\", random_state=0, no_components=60, learning_rate=0.01, item_alpha=0.005, user_alpha=0.01)\n",
    "m1.fit(interactions=train_interactions, user_features=user_features, item_features=item_features, epochs=5, verbose=True)"
   ]
  },
  {
   "cell_type": "code",
   "execution_count": 15,
   "id": "d7e55cda",
   "metadata": {},
   "outputs": [
    {
     "name": "stdout",
     "output_type": "stream",
     "text": [
      "Train precision: 0.00624\n",
      "Test precision: 0.03233\n",
      "Test AUC Score : 0.78300\n"
     ]
    }
   ],
   "source": [
    "test_precision = precision_at_k(m1, test_interactions, user_features=user_features, item_features=item_features, k=9).mean()\n",
    "test_recall = recall_at_k(m1, test_interactions,  user_features=user_features, item_features=item_features, k=9).mean()\n",
    "test_auc = auc_score(m1, test_interactions, user_features=user_features, item_features=item_features).mean()\n",
    "\n",
    "print(\"Train precision: %.5f\" % test_precision)\n",
    "print(\"Test precision: %.5f\" % test_recall) \n",
    "print(\"Test AUC Score : %.5f\" % test_auc)"
   ]
  },
  {
   "cell_type": "code",
   "execution_count": null,
   "id": "5e2da017",
   "metadata": {},
   "outputs": [],
   "source": []
  },
  {
   "cell_type": "code",
   "execution_count": 17,
   "id": "c460edda",
   "metadata": {},
   "outputs": [],
   "source": [
    "def objective(trial):\n",
    "    # 조정할 하이퍼 파라미터\n",
    "    params = {\n",
    "        \"learning_schedule\": 'adagrad',\n",
    "        \"loss\": \"warp\",\n",
    "        \"random_state\": 0,\n",
    "        \"no_components\": trial.suggest_int(\"no_components\", 40, 100, 10),\n",
    "        'learning_rate': trial.suggest_float(\"learning_rate\", 0.005,  0.01),\n",
    "        'item_alpha': trial.suggest_float(\"item_alpha\", 1e-03, 1e-02),\n",
    "        'user_alpha': trial.suggest_float(\"user_alpha\", 1e-03, 1e-02),\n",
    "    }\n",
    "\n",
    "    model = LightFM(**params)\n",
    "\n",
    "    model.fit(interactions=train_interactions,\n",
    "              user_features=user_features,\n",
    "              item_features=item_features,\n",
    "              epochs=5,\n",
    "              verbose=True)\n",
    "\n",
    "    test_precision = precision_at_k(model, valid_interactions, k=9, item_features=item_features, user_features=user_features).mean()\n",
    "    test_recall = recall_at_k(model, valid_interactions, k=9, item_features=item_features, user_features=user_features).mean()\n",
    "    test_auc = auc_score(model, valid_interactions, item_features=item_features, user_features=user_features).mean()\n",
    "    \n",
    "    print(\"no_comp: {}, lrn_rate: {:.5f}, item_alpha: {:.5f}, user_alpha: {:.5f}, precision: {:.5f}, recall: {:.5f}, auc_score: {:.5f}\".format(\n",
    "      params[\"no_components\"], params[\"learning_rate\"], params[\"item_alpha\"], params[\"user_alpha\"], test_precision, test_recall, test_auc))\n",
    "    return test_auc"
   ]
  },
  {
   "cell_type": "code",
   "execution_count": 18,
   "id": "1eae18cc",
   "metadata": {},
   "outputs": [
    {
     "name": "stderr",
     "output_type": "stream",
     "text": [
      "\u001b[32m[I 2023-03-14 09:43:24,995]\u001b[0m A new study created in memory with name: no-name-33e1116d-f16f-4c9f-aa0b-10e582584106\u001b[0m\n",
      "Epoch: 100%|█████████████████████████████████████████████████████████████████████████████| 5/5 [03:21<00:00, 40.29s/it]\n",
      "\u001b[32m[I 2023-03-14 09:50:42,438]\u001b[0m Trial 0 finished with value: 0.7664042711257935 and parameters: {'no_components': 50, 'learning_rate': 0.008515490987966674, 'item_alpha': 0.009989801052029564, 'user_alpha': 0.006525796566942141}. Best is trial 0 with value: 0.7664042711257935.\u001b[0m\n"
     ]
    },
    {
     "name": "stdout",
     "output_type": "stream",
     "text": [
      "no_comp: 50, lrn_rate: 0.00852, item_alpha: 0.00999, user_alpha: 0.00653, precision: 0.00224, recall: 0.00890, auc_score: 0.76640\n"
     ]
    },
    {
     "name": "stderr",
     "output_type": "stream",
     "text": [
      "Epoch: 100%|█████████████████████████████████████████████████████████████████████████████| 5/5 [02:44<00:00, 32.81s/it]\n",
      "\u001b[32m[I 2023-03-14 09:56:34,061]\u001b[0m Trial 1 finished with value: 0.6648830771446228 and parameters: {'no_components': 40, 'learning_rate': 0.00928604382460443, 'item_alpha': 0.001431535015211974, 'user_alpha': 0.008787731876146091}. Best is trial 0 with value: 0.7664042711257935.\u001b[0m\n"
     ]
    },
    {
     "name": "stdout",
     "output_type": "stream",
     "text": [
      "no_comp: 40, lrn_rate: 0.00929, item_alpha: 0.00143, user_alpha: 0.00879, precision: 0.00141, recall: 0.00443, auc_score: 0.66488\n"
     ]
    },
    {
     "name": "stderr",
     "output_type": "stream",
     "text": [
      "Epoch: 100%|█████████████████████████████████████████████████████████████████████████████| 5/5 [03:20<00:00, 40.04s/it]\n",
      "\u001b[32m[I 2023-03-14 10:03:37,357]\u001b[0m Trial 2 finished with value: 0.7677977681159973 and parameters: {'no_components': 50, 'learning_rate': 0.008668578547255225, 'item_alpha': 0.009478209543015877, 'user_alpha': 0.001899806983471075}. Best is trial 2 with value: 0.7677977681159973.\u001b[0m\n"
     ]
    },
    {
     "name": "stdout",
     "output_type": "stream",
     "text": [
      "no_comp: 50, lrn_rate: 0.00867, item_alpha: 0.00948, user_alpha: 0.00190, precision: 0.00229, recall: 0.00899, auc_score: 0.76780\n"
     ]
    },
    {
     "name": "stderr",
     "output_type": "stream",
     "text": [
      "Epoch: 100%|█████████████████████████████████████████████████████████████████████████████| 5/5 [04:20<00:00, 52.08s/it]\n",
      "\u001b[32m[I 2023-03-14 10:12:53,118]\u001b[0m Trial 3 finished with value: 0.7026572227478027 and parameters: {'no_components': 70, 'learning_rate': 0.006647381814146183, 'item_alpha': 0.009769828032584211, 'user_alpha': 0.0037891000784671235}. Best is trial 2 with value: 0.7677977681159973.\u001b[0m\n"
     ]
    },
    {
     "name": "stdout",
     "output_type": "stream",
     "text": [
      "no_comp: 70, lrn_rate: 0.00665, item_alpha: 0.00977, user_alpha: 0.00379, precision: 0.00196, recall: 0.00705, auc_score: 0.70266\n"
     ]
    },
    {
     "name": "stderr",
     "output_type": "stream",
     "text": [
      "Epoch: 100%|█████████████████████████████████████████████████████████████████████████████| 5/5 [03:07<00:00, 37.52s/it]\n",
      "\u001b[32m[I 2023-03-14 10:19:51,666]\u001b[0m Trial 4 finished with value: 0.7480788230895996 and parameters: {'no_components': 50, 'learning_rate': 0.00771827318819096, 'item_alpha': 0.008491357979891222, 'user_alpha': 0.008510330922786236}. Best is trial 2 with value: 0.7677977681159973.\u001b[0m\n"
     ]
    },
    {
     "name": "stdout",
     "output_type": "stream",
     "text": [
      "no_comp: 50, lrn_rate: 0.00772, item_alpha: 0.00849, user_alpha: 0.00851, precision: 0.00381, recall: 0.01915, auc_score: 0.74808\n"
     ]
    },
    {
     "name": "stderr",
     "output_type": "stream",
     "text": [
      "Epoch: 100%|█████████████████████████████████████████████████████████████████████████████| 5/5 [04:32<00:00, 54.52s/it]\n",
      "\u001b[32m[I 2023-03-14 10:29:29,079]\u001b[0m Trial 5 finished with value: 0.6983861327171326 and parameters: {'no_components': 70, 'learning_rate': 0.007289593775809891, 'item_alpha': 0.005452906812705326, 'user_alpha': 0.0020003748946945377}. Best is trial 2 with value: 0.7677977681159973.\u001b[0m\n"
     ]
    },
    {
     "name": "stdout",
     "output_type": "stream",
     "text": [
      "no_comp: 70, lrn_rate: 0.00729, item_alpha: 0.00545, user_alpha: 0.00200, precision: 0.00211, recall: 0.00888, auc_score: 0.69839\n"
     ]
    },
    {
     "name": "stderr",
     "output_type": "stream",
     "text": [
      "Epoch: 100%|█████████████████████████████████████████████████████████████████████████████| 5/5 [06:30<00:00, 78.10s/it]\n",
      "\u001b[32m[I 2023-03-14 10:44:05,338]\u001b[0m Trial 6 finished with value: 0.7225891947746277 and parameters: {'no_components': 100, 'learning_rate': 0.006509272585593201, 'item_alpha': 0.004363854667169842, 'user_alpha': 0.006610497214754425}. Best is trial 2 with value: 0.7677977681159973.\u001b[0m\n"
     ]
    },
    {
     "name": "stdout",
     "output_type": "stream",
     "text": [
      "no_comp: 100, lrn_rate: 0.00651, item_alpha: 0.00436, user_alpha: 0.00661, precision: 0.00212, recall: 0.00905, auc_score: 0.72259\n"
     ]
    },
    {
     "name": "stderr",
     "output_type": "stream",
     "text": [
      "Epoch: 100%|████████████████████████████████████████████████████████████████████████████| 5/5 [08:52<00:00, 106.55s/it]\n",
      "\u001b[32m[I 2023-03-14 11:02:43,157]\u001b[0m Trial 7 finished with value: 0.7229148149490356 and parameters: {'no_components': 100, 'learning_rate': 0.005968969400855364, 'item_alpha': 0.001407105031569854, 'user_alpha': 0.0025640866776845024}. Best is trial 2 with value: 0.7677977681159973.\u001b[0m\n"
     ]
    },
    {
     "name": "stdout",
     "output_type": "stream",
     "text": [
      "no_comp: 100, lrn_rate: 0.00597, item_alpha: 0.00141, user_alpha: 0.00256, precision: 0.00234, recall: 0.00985, auc_score: 0.72291\n"
     ]
    },
    {
     "name": "stderr",
     "output_type": "stream",
     "text": [
      "Epoch: 100%|█████████████████████████████████████████████████████████████████████████████| 5/5 [05:29<00:00, 65.82s/it]\n",
      "\u001b[32m[I 2023-03-14 11:14:02,667]\u001b[0m Trial 8 finished with value: 0.7782987952232361 and parameters: {'no_components': 60, 'learning_rate': 0.009860561731923383, 'item_alpha': 0.001215062984330102, 'user_alpha': 0.006420194552258707}. Best is trial 8 with value: 0.7782987952232361.\u001b[0m\n"
     ]
    },
    {
     "name": "stdout",
     "output_type": "stream",
     "text": [
      "no_comp: 60, lrn_rate: 0.00986, item_alpha: 0.00122, user_alpha: 0.00642, precision: 0.00570, recall: 0.03001, auc_score: 0.77830\n"
     ]
    },
    {
     "name": "stderr",
     "output_type": "stream",
     "text": [
      "Epoch: 100%|█████████████████████████████████████████████████████████████████████████████| 5/5 [04:35<00:00, 55.14s/it]\n",
      "\u001b[32m[I 2023-03-14 11:24:09,285]\u001b[0m Trial 9 finished with value: 0.7701193690299988 and parameters: {'no_components': 50, 'learning_rate': 0.00685990535879959, 'item_alpha': 0.009449351927747075, 'user_alpha': 0.001221378294114082}. Best is trial 8 with value: 0.7782987952232361.\u001b[0m\n"
     ]
    },
    {
     "name": "stdout",
     "output_type": "stream",
     "text": [
      "no_comp: 50, lrn_rate: 0.00686, item_alpha: 0.00945, user_alpha: 0.00122, precision: 0.00386, recall: 0.01883, auc_score: 0.77012\n"
     ]
    },
    {
     "name": "stderr",
     "output_type": "stream",
     "text": [
      "Epoch: 100%|█████████████████████████████████████████████████████████████████████████████| 5/5 [06:51<00:00, 82.39s/it]\n",
      "\u001b[32m[I 2023-03-14 11:38:40,224]\u001b[0m Trial 10 finished with value: 0.6994630098342896 and parameters: {'no_components': 80, 'learning_rate': 0.00501409814008439, 'item_alpha': 0.002920156300040253, 'user_alpha': 0.004748053984368421}. Best is trial 8 with value: 0.7782987952232361.\u001b[0m\n"
     ]
    },
    {
     "name": "stdout",
     "output_type": "stream",
     "text": [
      "no_comp: 80, lrn_rate: 0.00501, item_alpha: 0.00292, user_alpha: 0.00475, precision: 0.00162, recall: 0.00535, auc_score: 0.69946\n"
     ]
    },
    {
     "name": "stderr",
     "output_type": "stream",
     "text": [
      "Epoch: 100%|█████████████████████████████████████████████████████████████████████████████| 5/5 [05:27<00:00, 65.46s/it]\n",
      "\u001b[32m[I 2023-03-14 11:50:02,965]\u001b[0m Trial 11 finished with value: 0.7800536155700684 and parameters: {'no_components': 60, 'learning_rate': 0.009744727638426742, 'item_alpha': 0.00751559424526017, 'user_alpha': 0.003984200056854025}. Best is trial 11 with value: 0.7800536155700684.\u001b[0m\n"
     ]
    },
    {
     "name": "stdout",
     "output_type": "stream",
     "text": [
      "no_comp: 60, lrn_rate: 0.00974, item_alpha: 0.00752, user_alpha: 0.00398, precision: 0.00554, recall: 0.02955, auc_score: 0.78005\n"
     ]
    },
    {
     "name": "stderr",
     "output_type": "stream",
     "text": [
      "Epoch: 100%|█████████████████████████████████████████████████████████████████████████████| 5/5 [07:01<00:00, 84.39s/it]\n",
      "\u001b[32m[I 2023-03-14 12:05:01,202]\u001b[0m Trial 12 finished with value: 0.7408261299133301 and parameters: {'no_components': 80, 'learning_rate': 0.00967184567070999, 'item_alpha': 0.007380262175885372, 'user_alpha': 0.005038829964680467}. Best is trial 11 with value: 0.7800536155700684.\u001b[0m\n"
     ]
    },
    {
     "name": "stdout",
     "output_type": "stream",
     "text": [
      "no_comp: 80, lrn_rate: 0.00967, item_alpha: 0.00738, user_alpha: 0.00504, precision: 0.00296, recall: 0.01298, auc_score: 0.74083\n"
     ]
    },
    {
     "name": "stderr",
     "output_type": "stream",
     "text": [
      "Epoch: 100%|█████████████████████████████████████████████████████████████████████████████| 5/5 [05:16<00:00, 63.24s/it]\n",
      "\u001b[32m[I 2023-03-14 12:16:01,437]\u001b[0m Trial 13 finished with value: 0.7732396721839905 and parameters: {'no_components': 60, 'learning_rate': 0.009982814398297573, 'item_alpha': 0.0069789193146403295, 'user_alpha': 0.003721968673736693}. Best is trial 11 with value: 0.7800536155700684.\u001b[0m\n"
     ]
    },
    {
     "name": "stdout",
     "output_type": "stream",
     "text": [
      "no_comp: 60, lrn_rate: 0.00998, item_alpha: 0.00698, user_alpha: 0.00372, precision: 0.00486, recall: 0.02473, auc_score: 0.77324\n"
     ]
    },
    {
     "name": "stderr",
     "output_type": "stream",
     "text": [
      "Epoch: 100%|█████████████████████████████████████████████████████████████████████████████| 5/5 [05:21<00:00, 64.36s/it]\n",
      "\u001b[32m[I 2023-03-14 12:27:08,450]\u001b[0m Trial 14 finished with value: 0.7813881635665894 and parameters: {'no_components': 60, 'learning_rate': 0.009070638302229142, 'item_alpha': 0.003972469608076546, 'user_alpha': 0.006730144043094697}. Best is trial 14 with value: 0.7813881635665894.\u001b[0m\n"
     ]
    },
    {
     "name": "stdout",
     "output_type": "stream",
     "text": [
      "no_comp: 60, lrn_rate: 0.00907, item_alpha: 0.00397, user_alpha: 0.00673, precision: 0.00594, recall: 0.03198, auc_score: 0.78139\n"
     ]
    },
    {
     "name": "stderr",
     "output_type": "stream",
     "text": [
      "Epoch: 100%|█████████████████████████████████████████████████████████████████████████████| 5/5 [06:46<00:00, 81.23s/it]\n",
      "\u001b[32m[I 2023-03-14 12:42:10,368]\u001b[0m Trial 15 finished with value: 0.6304170489311218 and parameters: {'no_components': 80, 'learning_rate': 0.008981343747941142, 'item_alpha': 0.00547736037713057, 'user_alpha': 0.007878919314096448}. Best is trial 14 with value: 0.7813881635665894.\u001b[0m\n"
     ]
    },
    {
     "name": "stdout",
     "output_type": "stream",
     "text": [
      "no_comp: 80, lrn_rate: 0.00898, item_alpha: 0.00548, user_alpha: 0.00788, precision: 0.00288, recall: 0.01399, auc_score: 0.63042\n"
     ]
    },
    {
     "name": "stderr",
     "output_type": "stream",
     "text": [
      "Epoch: 100%|█████████████████████████████████████████████████████████████████████████████| 5/5 [05:45<00:00, 69.11s/it]\n",
      "\u001b[32m[I 2023-03-14 12:54:07,097]\u001b[0m Trial 16 finished with value: 0.780698835849762 and parameters: {'no_components': 60, 'learning_rate': 0.00925270999020915, 'item_alpha': 0.006826547878249492, 'user_alpha': 0.00586551042984355}. Best is trial 14 with value: 0.7813881635665894.\u001b[0m\n"
     ]
    },
    {
     "name": "stdout",
     "output_type": "stream",
     "text": [
      "no_comp: 60, lrn_rate: 0.00925, item_alpha: 0.00683, user_alpha: 0.00587, precision: 0.00511, recall: 0.02713, auc_score: 0.78070\n"
     ]
    },
    {
     "name": "stderr",
     "output_type": "stream",
     "text": [
      "Epoch: 100%|█████████████████████████████████████████████████████████████████████████████| 5/5 [03:40<00:00, 44.18s/it]\n",
      "\u001b[32m[I 2023-03-14 13:02:21,392]\u001b[0m Trial 17 finished with value: 0.6713290810585022 and parameters: {'no_components': 40, 'learning_rate': 0.00807574965623575, 'item_alpha': 0.004266967516888211, 'user_alpha': 0.009675852277958422}. Best is trial 14 with value: 0.7813881635665894.\u001b[0m\n"
     ]
    },
    {
     "name": "stdout",
     "output_type": "stream",
     "text": [
      "no_comp: 40, lrn_rate: 0.00808, item_alpha: 0.00427, user_alpha: 0.00968, precision: 0.00161, recall: 0.00495, auc_score: 0.67133\n"
     ]
    },
    {
     "name": "stderr",
     "output_type": "stream",
     "text": [
      "Epoch: 100%|█████████████████████████████████████████████████████████████████████████████| 5/5 [06:19<00:00, 75.84s/it]\n",
      "\u001b[32m[I 2023-03-14 13:16:00,213]\u001b[0m Trial 18 finished with value: 0.6683340668678284 and parameters: {'no_components': 70, 'learning_rate': 0.009205142747528889, 'item_alpha': 0.006245880186147626, 'user_alpha': 0.005736349294648854}. Best is trial 14 with value: 0.7813881635665894.\u001b[0m\n"
     ]
    },
    {
     "name": "stdout",
     "output_type": "stream",
     "text": [
      "no_comp: 70, lrn_rate: 0.00921, item_alpha: 0.00625, user_alpha: 0.00574, precision: 0.00224, recall: 0.01094, auc_score: 0.66833\n"
     ]
    },
    {
     "name": "stderr",
     "output_type": "stream",
     "text": [
      "Epoch: 100%|████████████████████████████████████████████████████████████████████████████| 5/5 [08:22<00:00, 100.41s/it]\n",
      "\u001b[32m[I 2023-03-14 13:33:47,948]\u001b[0m Trial 19 finished with value: 0.7324991226196289 and parameters: {'no_components': 90, 'learning_rate': 0.008553595955646857, 'item_alpha': 0.004437161385747066, 'user_alpha': 0.0073957117681295315}. Best is trial 14 with value: 0.7813881635665894.\u001b[0m\n"
     ]
    },
    {
     "name": "stdout",
     "output_type": "stream",
     "text": [
      "no_comp: 90, lrn_rate: 0.00855, item_alpha: 0.00444, user_alpha: 0.00740, precision: 0.00334, recall: 0.01684, auc_score: 0.73250\n"
     ]
    },
    {
     "name": "stderr",
     "output_type": "stream",
     "text": [
      "Epoch: 100%|█████████████████████████████████████████████████████████████████████████████| 5/5 [05:31<00:00, 66.31s/it]\n",
      "\u001b[32m[I 2023-03-14 13:45:19,108]\u001b[0m Trial 20 finished with value: 0.7801561951637268 and parameters: {'no_components': 60, 'learning_rate': 0.008129292221597667, 'item_alpha': 0.00625218179250305, 'user_alpha': 0.005703923433998452}. Best is trial 14 with value: 0.7813881635665894.\u001b[0m\n"
     ]
    },
    {
     "name": "stdout",
     "output_type": "stream",
     "text": [
      "no_comp: 60, lrn_rate: 0.00813, item_alpha: 0.00625, user_alpha: 0.00570, precision: 0.00537, recall: 0.02858, auc_score: 0.78016\n"
     ]
    },
    {
     "name": "stderr",
     "output_type": "stream",
     "text": [
      "Epoch: 100%|█████████████████████████████████████████████████████████████████████████████| 5/5 [05:40<00:00, 68.13s/it]\n",
      "\u001b[32m[I 2023-03-14 13:57:23,590]\u001b[0m Trial 21 finished with value: 0.7828404903411865 and parameters: {'no_components': 60, 'learning_rate': 0.008146396234592687, 'item_alpha': 0.00628651909946878, 'user_alpha': 0.005732287458834077}. Best is trial 21 with value: 0.7828404903411865.\u001b[0m\n"
     ]
    },
    {
     "name": "stdout",
     "output_type": "stream",
     "text": [
      "no_comp: 60, lrn_rate: 0.00815, item_alpha: 0.00629, user_alpha: 0.00573, precision: 0.00543, recall: 0.02894, auc_score: 0.78284\n"
     ]
    },
    {
     "name": "stderr",
     "output_type": "stream",
     "text": [
      "Epoch: 100%|█████████████████████████████████████████████████████████████████████████████| 5/5 [05:42<00:00, 68.50s/it]\n",
      "\u001b[32m[I 2023-03-14 14:09:25,834]\u001b[0m Trial 22 finished with value: 0.7810840606689453 and parameters: {'no_components': 60, 'learning_rate': 0.008985278929795653, 'item_alpha': 0.008218529609928056, 'user_alpha': 0.0072183001843209565}. Best is trial 21 with value: 0.7828404903411865.\u001b[0m\n"
     ]
    },
    {
     "name": "stdout",
     "output_type": "stream",
     "text": [
      "no_comp: 60, lrn_rate: 0.00899, item_alpha: 0.00822, user_alpha: 0.00722, precision: 0.00577, recall: 0.03145, auc_score: 0.78108\n"
     ]
    },
    {
     "name": "stderr",
     "output_type": "stream",
     "text": [
      "Epoch: 100%|█████████████████████████████████████████████████████████████████████████████| 5/5 [05:46<00:00, 69.30s/it]\n",
      "\u001b[32m[I 2023-03-14 14:20:10,438]\u001b[0m Trial 23 finished with value: 0.6730281710624695 and parameters: {'no_components': 70, 'learning_rate': 0.008889179552784395, 'item_alpha': 0.008340193928602932, 'user_alpha': 0.0072747823590638945}. Best is trial 21 with value: 0.7828404903411865.\u001b[0m\n"
     ]
    },
    {
     "name": "stdout",
     "output_type": "stream",
     "text": [
      "no_comp: 70, lrn_rate: 0.00889, item_alpha: 0.00834, user_alpha: 0.00727, precision: 0.00232, recall: 0.01134, auc_score: 0.67303\n"
     ]
    },
    {
     "name": "stderr",
     "output_type": "stream",
     "text": [
      "Epoch: 100%|█████████████████████████████████████████████████████████████████████████████| 5/5 [03:21<00:00, 40.37s/it]\n",
      "\u001b[33m[W 2023-03-14 14:24:44,346]\u001b[0m Trial 24 failed with parameters: {'no_components': 50, 'learning_rate': 0.008177141786385261, 'item_alpha': 0.008041511437748481, 'user_alpha': 0.007254423593822881} because of the following error: KeyboardInterrupt().\u001b[0m\n",
      "Traceback (most recent call last):\n",
      "  File \"C:\\Users\\SSAFY\\anaconda3\\envs\\mini-project\\lib\\site-packages\\optuna\\study\\_optimize.py\", line 200, in _run_trial\n",
      "    value_or_values = func(trial)\n",
      "  File \"C:\\Users\\SSAFY\\AppData\\Local\\Temp\\ipykernel_26048\\3567443769.py\", line 21, in objective\n",
      "    test_precision = precision_at_k(model, valid_interactions, k=9, item_features=item_features, user_features=user_features).mean()\n",
      "  File \"C:\\Users\\SSAFY\\anaconda3\\envs\\mini-project\\lib\\site-packages\\lightfm\\evaluation.py\", line 71, in precision_at_k\n",
      "    ranks = model.predict_rank(\n",
      "  File \"C:\\Users\\SSAFY\\anaconda3\\envs\\mini-project\\lib\\site-packages\\lightfm\\lightfm.py\", line 942, in predict_rank\n",
      "    predict_ranks(\n",
      "KeyboardInterrupt\n",
      "\u001b[33m[W 2023-03-14 14:24:44,352]\u001b[0m Trial 24 failed with value None.\u001b[0m\n"
     ]
    },
    {
     "ename": "KeyboardInterrupt",
     "evalue": "",
     "output_type": "error",
     "traceback": [
      "\u001b[1;31m---------------------------------------------------------------------------\u001b[0m",
      "\u001b[1;31mKeyboardInterrupt\u001b[0m                         Traceback (most recent call last)",
      "Cell \u001b[1;32mIn[18], line 2\u001b[0m\n\u001b[0;32m      1\u001b[0m study \u001b[38;5;241m=\u001b[39m optuna\u001b[38;5;241m.\u001b[39mcreate_study(direction\u001b[38;5;241m=\u001b[39m\u001b[38;5;124m'\u001b[39m\u001b[38;5;124mmaximize\u001b[39m\u001b[38;5;124m'\u001b[39m)\n\u001b[1;32m----> 2\u001b[0m \u001b[43mstudy\u001b[49m\u001b[38;5;241;43m.\u001b[39;49m\u001b[43moptimize\u001b[49m\u001b[43m(\u001b[49m\u001b[43mobjective\u001b[49m\u001b[43m,\u001b[49m\u001b[43m \u001b[49m\u001b[43mn_trials\u001b[49m\u001b[38;5;241;43m=\u001b[39;49m\u001b[38;5;241;43m50\u001b[39;49m\u001b[43m)\u001b[49m\n\u001b[0;32m      3\u001b[0m \u001b[38;5;28mprint\u001b[39m(study\u001b[38;5;241m.\u001b[39mbest_trial\u001b[38;5;241m.\u001b[39mparams)\n",
      "File \u001b[1;32m~\\anaconda3\\envs\\mini-project\\lib\\site-packages\\optuna\\study\\study.py:425\u001b[0m, in \u001b[0;36mStudy.optimize\u001b[1;34m(self, func, n_trials, timeout, n_jobs, catch, callbacks, gc_after_trial, show_progress_bar)\u001b[0m\n\u001b[0;32m    321\u001b[0m \u001b[38;5;28;01mdef\u001b[39;00m \u001b[38;5;21moptimize\u001b[39m(\n\u001b[0;32m    322\u001b[0m     \u001b[38;5;28mself\u001b[39m,\n\u001b[0;32m    323\u001b[0m     func: ObjectiveFuncType,\n\u001b[1;32m   (...)\u001b[0m\n\u001b[0;32m    330\u001b[0m     show_progress_bar: \u001b[38;5;28mbool\u001b[39m \u001b[38;5;241m=\u001b[39m \u001b[38;5;28;01mFalse\u001b[39;00m,\n\u001b[0;32m    331\u001b[0m ) \u001b[38;5;241m-\u001b[39m\u001b[38;5;241m>\u001b[39m \u001b[38;5;28;01mNone\u001b[39;00m:\n\u001b[0;32m    332\u001b[0m \u001b[38;5;250m    \u001b[39m\u001b[38;5;124;03m\"\"\"Optimize an objective function.\u001b[39;00m\n\u001b[0;32m    333\u001b[0m \n\u001b[0;32m    334\u001b[0m \u001b[38;5;124;03m    Optimization is done by choosing a suitable set of hyperparameter values from a given\u001b[39;00m\n\u001b[1;32m   (...)\u001b[0m\n\u001b[0;32m    422\u001b[0m \u001b[38;5;124;03m            If nested invocation of this method occurs.\u001b[39;00m\n\u001b[0;32m    423\u001b[0m \u001b[38;5;124;03m    \"\"\"\u001b[39;00m\n\u001b[1;32m--> 425\u001b[0m     \u001b[43m_optimize\u001b[49m\u001b[43m(\u001b[49m\n\u001b[0;32m    426\u001b[0m \u001b[43m        \u001b[49m\u001b[43mstudy\u001b[49m\u001b[38;5;241;43m=\u001b[39;49m\u001b[38;5;28;43mself\u001b[39;49m\u001b[43m,\u001b[49m\n\u001b[0;32m    427\u001b[0m \u001b[43m        \u001b[49m\u001b[43mfunc\u001b[49m\u001b[38;5;241;43m=\u001b[39;49m\u001b[43mfunc\u001b[49m\u001b[43m,\u001b[49m\n\u001b[0;32m    428\u001b[0m \u001b[43m        \u001b[49m\u001b[43mn_trials\u001b[49m\u001b[38;5;241;43m=\u001b[39;49m\u001b[43mn_trials\u001b[49m\u001b[43m,\u001b[49m\n\u001b[0;32m    429\u001b[0m \u001b[43m        \u001b[49m\u001b[43mtimeout\u001b[49m\u001b[38;5;241;43m=\u001b[39;49m\u001b[43mtimeout\u001b[49m\u001b[43m,\u001b[49m\n\u001b[0;32m    430\u001b[0m \u001b[43m        \u001b[49m\u001b[43mn_jobs\u001b[49m\u001b[38;5;241;43m=\u001b[39;49m\u001b[43mn_jobs\u001b[49m\u001b[43m,\u001b[49m\n\u001b[0;32m    431\u001b[0m \u001b[43m        \u001b[49m\u001b[43mcatch\u001b[49m\u001b[38;5;241;43m=\u001b[39;49m\u001b[38;5;28;43mtuple\u001b[39;49m\u001b[43m(\u001b[49m\u001b[43mcatch\u001b[49m\u001b[43m)\u001b[49m\u001b[43m \u001b[49m\u001b[38;5;28;43;01mif\u001b[39;49;00m\u001b[43m \u001b[49m\u001b[38;5;28;43misinstance\u001b[39;49m\u001b[43m(\u001b[49m\u001b[43mcatch\u001b[49m\u001b[43m,\u001b[49m\u001b[43m \u001b[49m\u001b[43mIterable\u001b[49m\u001b[43m)\u001b[49m\u001b[43m \u001b[49m\u001b[38;5;28;43;01melse\u001b[39;49;00m\u001b[43m \u001b[49m\u001b[43m(\u001b[49m\u001b[43mcatch\u001b[49m\u001b[43m,\u001b[49m\u001b[43m)\u001b[49m\u001b[43m,\u001b[49m\n\u001b[0;32m    432\u001b[0m \u001b[43m        \u001b[49m\u001b[43mcallbacks\u001b[49m\u001b[38;5;241;43m=\u001b[39;49m\u001b[43mcallbacks\u001b[49m\u001b[43m,\u001b[49m\n\u001b[0;32m    433\u001b[0m \u001b[43m        \u001b[49m\u001b[43mgc_after_trial\u001b[49m\u001b[38;5;241;43m=\u001b[39;49m\u001b[43mgc_after_trial\u001b[49m\u001b[43m,\u001b[49m\n\u001b[0;32m    434\u001b[0m \u001b[43m        \u001b[49m\u001b[43mshow_progress_bar\u001b[49m\u001b[38;5;241;43m=\u001b[39;49m\u001b[43mshow_progress_bar\u001b[49m\u001b[43m,\u001b[49m\n\u001b[0;32m    435\u001b[0m \u001b[43m    \u001b[49m\u001b[43m)\u001b[49m\n",
      "File \u001b[1;32m~\\anaconda3\\envs\\mini-project\\lib\\site-packages\\optuna\\study\\_optimize.py:66\u001b[0m, in \u001b[0;36m_optimize\u001b[1;34m(study, func, n_trials, timeout, n_jobs, catch, callbacks, gc_after_trial, show_progress_bar)\u001b[0m\n\u001b[0;32m     64\u001b[0m \u001b[38;5;28;01mtry\u001b[39;00m:\n\u001b[0;32m     65\u001b[0m     \u001b[38;5;28;01mif\u001b[39;00m n_jobs \u001b[38;5;241m==\u001b[39m \u001b[38;5;241m1\u001b[39m:\n\u001b[1;32m---> 66\u001b[0m         \u001b[43m_optimize_sequential\u001b[49m\u001b[43m(\u001b[49m\n\u001b[0;32m     67\u001b[0m \u001b[43m            \u001b[49m\u001b[43mstudy\u001b[49m\u001b[43m,\u001b[49m\n\u001b[0;32m     68\u001b[0m \u001b[43m            \u001b[49m\u001b[43mfunc\u001b[49m\u001b[43m,\u001b[49m\n\u001b[0;32m     69\u001b[0m \u001b[43m            \u001b[49m\u001b[43mn_trials\u001b[49m\u001b[43m,\u001b[49m\n\u001b[0;32m     70\u001b[0m \u001b[43m            \u001b[49m\u001b[43mtimeout\u001b[49m\u001b[43m,\u001b[49m\n\u001b[0;32m     71\u001b[0m \u001b[43m            \u001b[49m\u001b[43mcatch\u001b[49m\u001b[43m,\u001b[49m\n\u001b[0;32m     72\u001b[0m \u001b[43m            \u001b[49m\u001b[43mcallbacks\u001b[49m\u001b[43m,\u001b[49m\n\u001b[0;32m     73\u001b[0m \u001b[43m            \u001b[49m\u001b[43mgc_after_trial\u001b[49m\u001b[43m,\u001b[49m\n\u001b[0;32m     74\u001b[0m \u001b[43m            \u001b[49m\u001b[43mreseed_sampler_rng\u001b[49m\u001b[38;5;241;43m=\u001b[39;49m\u001b[38;5;28;43;01mFalse\u001b[39;49;00m\u001b[43m,\u001b[49m\n\u001b[0;32m     75\u001b[0m \u001b[43m            \u001b[49m\u001b[43mtime_start\u001b[49m\u001b[38;5;241;43m=\u001b[39;49m\u001b[38;5;28;43;01mNone\u001b[39;49;00m\u001b[43m,\u001b[49m\n\u001b[0;32m     76\u001b[0m \u001b[43m            \u001b[49m\u001b[43mprogress_bar\u001b[49m\u001b[38;5;241;43m=\u001b[39;49m\u001b[43mprogress_bar\u001b[49m\u001b[43m,\u001b[49m\n\u001b[0;32m     77\u001b[0m \u001b[43m        \u001b[49m\u001b[43m)\u001b[49m\n\u001b[0;32m     78\u001b[0m     \u001b[38;5;28;01melse\u001b[39;00m:\n\u001b[0;32m     79\u001b[0m         \u001b[38;5;28;01mif\u001b[39;00m n_jobs \u001b[38;5;241m==\u001b[39m \u001b[38;5;241m-\u001b[39m\u001b[38;5;241m1\u001b[39m:\n",
      "File \u001b[1;32m~\\anaconda3\\envs\\mini-project\\lib\\site-packages\\optuna\\study\\_optimize.py:163\u001b[0m, in \u001b[0;36m_optimize_sequential\u001b[1;34m(study, func, n_trials, timeout, catch, callbacks, gc_after_trial, reseed_sampler_rng, time_start, progress_bar)\u001b[0m\n\u001b[0;32m    160\u001b[0m         \u001b[38;5;28;01mbreak\u001b[39;00m\n\u001b[0;32m    162\u001b[0m \u001b[38;5;28;01mtry\u001b[39;00m:\n\u001b[1;32m--> 163\u001b[0m     frozen_trial \u001b[38;5;241m=\u001b[39m \u001b[43m_run_trial\u001b[49m\u001b[43m(\u001b[49m\u001b[43mstudy\u001b[49m\u001b[43m,\u001b[49m\u001b[43m \u001b[49m\u001b[43mfunc\u001b[49m\u001b[43m,\u001b[49m\u001b[43m \u001b[49m\u001b[43mcatch\u001b[49m\u001b[43m)\u001b[49m\n\u001b[0;32m    164\u001b[0m \u001b[38;5;28;01mfinally\u001b[39;00m:\n\u001b[0;32m    165\u001b[0m     \u001b[38;5;66;03m# The following line mitigates memory problems that can be occurred in some\u001b[39;00m\n\u001b[0;32m    166\u001b[0m     \u001b[38;5;66;03m# environments (e.g., services that use computing containers such as GitHub Actions).\u001b[39;00m\n\u001b[0;32m    167\u001b[0m     \u001b[38;5;66;03m# Please refer to the following PR for further details:\u001b[39;00m\n\u001b[0;32m    168\u001b[0m     \u001b[38;5;66;03m# https://github.com/optuna/optuna/pull/325.\u001b[39;00m\n\u001b[0;32m    169\u001b[0m     \u001b[38;5;28;01mif\u001b[39;00m gc_after_trial:\n",
      "File \u001b[1;32m~\\anaconda3\\envs\\mini-project\\lib\\site-packages\\optuna\\study\\_optimize.py:251\u001b[0m, in \u001b[0;36m_run_trial\u001b[1;34m(study, func, catch)\u001b[0m\n\u001b[0;32m    244\u001b[0m         \u001b[38;5;28;01massert\u001b[39;00m \u001b[38;5;28;01mFalse\u001b[39;00m, \u001b[38;5;124m\"\u001b[39m\u001b[38;5;124mShould not reach.\u001b[39m\u001b[38;5;124m\"\u001b[39m\n\u001b[0;32m    246\u001b[0m \u001b[38;5;28;01mif\u001b[39;00m (\n\u001b[0;32m    247\u001b[0m     frozen_trial\u001b[38;5;241m.\u001b[39mstate \u001b[38;5;241m==\u001b[39m TrialState\u001b[38;5;241m.\u001b[39mFAIL\n\u001b[0;32m    248\u001b[0m     \u001b[38;5;129;01mand\u001b[39;00m func_err \u001b[38;5;129;01mis\u001b[39;00m \u001b[38;5;129;01mnot\u001b[39;00m \u001b[38;5;28;01mNone\u001b[39;00m\n\u001b[0;32m    249\u001b[0m     \u001b[38;5;129;01mand\u001b[39;00m \u001b[38;5;129;01mnot\u001b[39;00m \u001b[38;5;28misinstance\u001b[39m(func_err, catch)\n\u001b[0;32m    250\u001b[0m ):\n\u001b[1;32m--> 251\u001b[0m     \u001b[38;5;28;01mraise\u001b[39;00m func_err\n\u001b[0;32m    252\u001b[0m \u001b[38;5;28;01mreturn\u001b[39;00m frozen_trial\n",
      "File \u001b[1;32m~\\anaconda3\\envs\\mini-project\\lib\\site-packages\\optuna\\study\\_optimize.py:200\u001b[0m, in \u001b[0;36m_run_trial\u001b[1;34m(study, func, catch)\u001b[0m\n\u001b[0;32m    198\u001b[0m \u001b[38;5;28;01mwith\u001b[39;00m get_heartbeat_thread(trial\u001b[38;5;241m.\u001b[39m_trial_id, study\u001b[38;5;241m.\u001b[39m_storage):\n\u001b[0;32m    199\u001b[0m     \u001b[38;5;28;01mtry\u001b[39;00m:\n\u001b[1;32m--> 200\u001b[0m         value_or_values \u001b[38;5;241m=\u001b[39m \u001b[43mfunc\u001b[49m\u001b[43m(\u001b[49m\u001b[43mtrial\u001b[49m\u001b[43m)\u001b[49m\n\u001b[0;32m    201\u001b[0m     \u001b[38;5;28;01mexcept\u001b[39;00m exceptions\u001b[38;5;241m.\u001b[39mTrialPruned \u001b[38;5;28;01mas\u001b[39;00m e:\n\u001b[0;32m    202\u001b[0m         \u001b[38;5;66;03m# TODO(mamu): Handle multi-objective cases.\u001b[39;00m\n\u001b[0;32m    203\u001b[0m         state \u001b[38;5;241m=\u001b[39m TrialState\u001b[38;5;241m.\u001b[39mPRUNED\n",
      "Cell \u001b[1;32mIn[17], line 21\u001b[0m, in \u001b[0;36mobjective\u001b[1;34m(trial)\u001b[0m\n\u001b[0;32m     13\u001b[0m model \u001b[38;5;241m=\u001b[39m LightFM(\u001b[38;5;241m*\u001b[39m\u001b[38;5;241m*\u001b[39mparams)\n\u001b[0;32m     15\u001b[0m model\u001b[38;5;241m.\u001b[39mfit(interactions\u001b[38;5;241m=\u001b[39mtrain_interactions,\n\u001b[0;32m     16\u001b[0m           user_features\u001b[38;5;241m=\u001b[39muser_features,\n\u001b[0;32m     17\u001b[0m           item_features\u001b[38;5;241m=\u001b[39mitem_features,\n\u001b[0;32m     18\u001b[0m           epochs\u001b[38;5;241m=\u001b[39m\u001b[38;5;241m5\u001b[39m,\n\u001b[0;32m     19\u001b[0m           verbose\u001b[38;5;241m=\u001b[39m\u001b[38;5;28;01mTrue\u001b[39;00m)\n\u001b[1;32m---> 21\u001b[0m test_precision \u001b[38;5;241m=\u001b[39m \u001b[43mprecision_at_k\u001b[49m\u001b[43m(\u001b[49m\u001b[43mmodel\u001b[49m\u001b[43m,\u001b[49m\u001b[43m \u001b[49m\u001b[43mvalid_interactions\u001b[49m\u001b[43m,\u001b[49m\u001b[43m \u001b[49m\u001b[43mk\u001b[49m\u001b[38;5;241;43m=\u001b[39;49m\u001b[38;5;241;43m9\u001b[39;49m\u001b[43m,\u001b[49m\u001b[43m \u001b[49m\u001b[43mitem_features\u001b[49m\u001b[38;5;241;43m=\u001b[39;49m\u001b[43mitem_features\u001b[49m\u001b[43m,\u001b[49m\u001b[43m \u001b[49m\u001b[43muser_features\u001b[49m\u001b[38;5;241;43m=\u001b[39;49m\u001b[43muser_features\u001b[49m\u001b[43m)\u001b[49m\u001b[38;5;241m.\u001b[39mmean()\n\u001b[0;32m     22\u001b[0m test_recall \u001b[38;5;241m=\u001b[39m recall_at_k(model, valid_interactions, k\u001b[38;5;241m=\u001b[39m\u001b[38;5;241m9\u001b[39m, item_features\u001b[38;5;241m=\u001b[39mitem_features, user_features\u001b[38;5;241m=\u001b[39muser_features)\u001b[38;5;241m.\u001b[39mmean()\n\u001b[0;32m     23\u001b[0m test_auc \u001b[38;5;241m=\u001b[39m auc_score(model, valid_interactions, item_features\u001b[38;5;241m=\u001b[39mitem_features, user_features\u001b[38;5;241m=\u001b[39muser_features)\u001b[38;5;241m.\u001b[39mmean()\n",
      "File \u001b[1;32m~\\anaconda3\\envs\\mini-project\\lib\\site-packages\\lightfm\\evaluation.py:71\u001b[0m, in \u001b[0;36mprecision_at_k\u001b[1;34m(model, test_interactions, train_interactions, k, user_features, item_features, preserve_rows, num_threads, check_intersections)\u001b[0m\n\u001b[0;32m     68\u001b[0m \u001b[38;5;28;01mif\u001b[39;00m num_threads \u001b[38;5;241m<\u001b[39m \u001b[38;5;241m1\u001b[39m:\n\u001b[0;32m     69\u001b[0m     \u001b[38;5;28;01mraise\u001b[39;00m \u001b[38;5;167;01mValueError\u001b[39;00m(\u001b[38;5;124m\"\u001b[39m\u001b[38;5;124mNumber of threads must be 1 or larger.\u001b[39m\u001b[38;5;124m\"\u001b[39m)\n\u001b[1;32m---> 71\u001b[0m ranks \u001b[38;5;241m=\u001b[39m \u001b[43mmodel\u001b[49m\u001b[38;5;241;43m.\u001b[39;49m\u001b[43mpredict_rank\u001b[49m\u001b[43m(\u001b[49m\n\u001b[0;32m     72\u001b[0m \u001b[43m    \u001b[49m\u001b[43mtest_interactions\u001b[49m\u001b[43m,\u001b[49m\n\u001b[0;32m     73\u001b[0m \u001b[43m    \u001b[49m\u001b[43mtrain_interactions\u001b[49m\u001b[38;5;241;43m=\u001b[39;49m\u001b[43mtrain_interactions\u001b[49m\u001b[43m,\u001b[49m\n\u001b[0;32m     74\u001b[0m \u001b[43m    \u001b[49m\u001b[43muser_features\u001b[49m\u001b[38;5;241;43m=\u001b[39;49m\u001b[43muser_features\u001b[49m\u001b[43m,\u001b[49m\n\u001b[0;32m     75\u001b[0m \u001b[43m    \u001b[49m\u001b[43mitem_features\u001b[49m\u001b[38;5;241;43m=\u001b[39;49m\u001b[43mitem_features\u001b[49m\u001b[43m,\u001b[49m\n\u001b[0;32m     76\u001b[0m \u001b[43m    \u001b[49m\u001b[43mnum_threads\u001b[49m\u001b[38;5;241;43m=\u001b[39;49m\u001b[43mnum_threads\u001b[49m\u001b[43m,\u001b[49m\n\u001b[0;32m     77\u001b[0m \u001b[43m    \u001b[49m\u001b[43mcheck_intersections\u001b[49m\u001b[38;5;241;43m=\u001b[39;49m\u001b[43mcheck_intersections\u001b[49m\u001b[43m,\u001b[49m\n\u001b[0;32m     78\u001b[0m \u001b[43m\u001b[49m\u001b[43m)\u001b[49m\n\u001b[0;32m     80\u001b[0m ranks\u001b[38;5;241m.\u001b[39mdata \u001b[38;5;241m=\u001b[39m np\u001b[38;5;241m.\u001b[39mless(ranks\u001b[38;5;241m.\u001b[39mdata, k, ranks\u001b[38;5;241m.\u001b[39mdata)\n\u001b[0;32m     82\u001b[0m precision \u001b[38;5;241m=\u001b[39m np\u001b[38;5;241m.\u001b[39msqueeze(np\u001b[38;5;241m.\u001b[39marray(ranks\u001b[38;5;241m.\u001b[39msum(axis\u001b[38;5;241m=\u001b[39m\u001b[38;5;241m1\u001b[39m))) \u001b[38;5;241m/\u001b[39m k\n",
      "File \u001b[1;32m~\\anaconda3\\envs\\mini-project\\lib\\site-packages\\lightfm\\lightfm.py:942\u001b[0m, in \u001b[0;36mLightFM.predict_rank\u001b[1;34m(self, test_interactions, train_interactions, item_features, user_features, num_threads, check_intersections)\u001b[0m\n\u001b[0;32m    931\u001b[0m ranks \u001b[38;5;241m=\u001b[39m sp\u001b[38;5;241m.\u001b[39mcsr_matrix(\n\u001b[0;32m    932\u001b[0m     (\n\u001b[0;32m    933\u001b[0m         np\u001b[38;5;241m.\u001b[39mzeros_like(test_interactions\u001b[38;5;241m.\u001b[39mdata),\n\u001b[1;32m   (...)\u001b[0m\n\u001b[0;32m    937\u001b[0m     shape\u001b[38;5;241m=\u001b[39mtest_interactions\u001b[38;5;241m.\u001b[39mshape,\n\u001b[0;32m    938\u001b[0m )\n\u001b[0;32m    940\u001b[0m lightfm_data \u001b[38;5;241m=\u001b[39m \u001b[38;5;28mself\u001b[39m\u001b[38;5;241m.\u001b[39m_get_lightfm_data()\n\u001b[1;32m--> 942\u001b[0m \u001b[43mpredict_ranks\u001b[49m\u001b[43m(\u001b[49m\n\u001b[0;32m    943\u001b[0m \u001b[43m    \u001b[49m\u001b[43mCSRMatrix\u001b[49m\u001b[43m(\u001b[49m\u001b[43mitem_features\u001b[49m\u001b[43m)\u001b[49m\u001b[43m,\u001b[49m\n\u001b[0;32m    944\u001b[0m \u001b[43m    \u001b[49m\u001b[43mCSRMatrix\u001b[49m\u001b[43m(\u001b[49m\u001b[43muser_features\u001b[49m\u001b[43m)\u001b[49m\u001b[43m,\u001b[49m\n\u001b[0;32m    945\u001b[0m \u001b[43m    \u001b[49m\u001b[43mCSRMatrix\u001b[49m\u001b[43m(\u001b[49m\u001b[43mtest_interactions\u001b[49m\u001b[43m)\u001b[49m\u001b[43m,\u001b[49m\n\u001b[0;32m    946\u001b[0m \u001b[43m    \u001b[49m\u001b[43mCSRMatrix\u001b[49m\u001b[43m(\u001b[49m\u001b[43mtrain_interactions\u001b[49m\u001b[43m)\u001b[49m\u001b[43m,\u001b[49m\n\u001b[0;32m    947\u001b[0m \u001b[43m    \u001b[49m\u001b[43mranks\u001b[49m\u001b[38;5;241;43m.\u001b[39;49m\u001b[43mdata\u001b[49m\u001b[43m,\u001b[49m\n\u001b[0;32m    948\u001b[0m \u001b[43m    \u001b[49m\u001b[43mlightfm_data\u001b[49m\u001b[43m,\u001b[49m\n\u001b[0;32m    949\u001b[0m \u001b[43m    \u001b[49m\u001b[43mnum_threads\u001b[49m\u001b[43m,\u001b[49m\n\u001b[0;32m    950\u001b[0m \u001b[43m\u001b[49m\u001b[43m)\u001b[49m\n\u001b[0;32m    952\u001b[0m \u001b[38;5;28;01mreturn\u001b[39;00m ranks\n",
      "\u001b[1;31mKeyboardInterrupt\u001b[0m: "
     ]
    }
   ],
   "source": [
    "study = optuna.create_study(direction='maximize')\n",
    "study.optimize(objective, n_trials=50)\n",
    "print(study.best_trial.params)"
   ]
  },
  {
   "cell_type": "code",
   "execution_count": 19,
   "id": "369a985c",
   "metadata": {},
   "outputs": [
    {
     "name": "stdout",
     "output_type": "stream",
     "text": [
      "Best Params : {'no_components': 60, 'learning_rate': 0.008146396234592687, 'item_alpha': 0.00628651909946878, 'user_alpha': 0.005732287458834077}\n",
      "\n",
      "Best Trials : [FrozenTrial(number=21, state=TrialState.COMPLETE, values=[0.7828404903411865], datetime_start=datetime.datetime(2023, 3, 14, 13, 45, 19, 109162), datetime_complete=datetime.datetime(2023, 3, 14, 13, 57, 23, 590782), params={'no_components': 60, 'learning_rate': 0.008146396234592687, 'item_alpha': 0.00628651909946878, 'user_alpha': 0.005732287458834077}, user_attrs={}, system_attrs={}, intermediate_values={}, distributions={'no_components': IntDistribution(high=100, log=False, low=40, step=10), 'learning_rate': FloatDistribution(high=0.01, log=False, low=0.005, step=None), 'item_alpha': FloatDistribution(high=0.01, log=False, low=0.001, step=None), 'user_alpha': FloatDistribution(high=0.01, log=False, low=0.001, step=None)}, trial_id=21, value=None)]\n",
      "\n",
      "Best Values : 0.7828404903411865\n"
     ]
    }
   ],
   "source": [
    "print(\"Best Params : {}\".format(study.best_params))\n",
    "print()\n",
    "print(\"Best Trials : {}\".format(study.best_trials))\n",
    "print()\n",
    "print(\"Best Values : {}\".format(study.best_value))"
   ]
  },
  {
   "cell_type": "markdown",
   "id": "73c8a496",
   "metadata": {},
   "source": [
    "no_comp: 60, lrn_rate: 0.00815, item_alpha: 0.00629, user_alpha: 0.00573, precision: 0.00543, recall: 0.02894, auc_score: 0.78284\n",
    "\n",
    "Best Params : {'no_components': 50, 'learning_rate': 0.005, 'item_alpha': 0.001, 'user_alpha': 0.001}\n",
    "Best Values : 0.7817395925521851"
   ]
  },
  {
   "cell_type": "code",
   "execution_count": null,
   "id": "8dc67c76",
   "metadata": {},
   "outputs": [],
   "source": []
  },
  {
   "cell_type": "markdown",
   "id": "bb1523e5",
   "metadata": {},
   "source": [
    "### Evaluation"
   ]
  },
  {
   "cell_type": "code",
   "execution_count": 20,
   "id": "c7b5c5db",
   "metadata": {},
   "outputs": [],
   "source": [
    "m1 = LightFM(\n",
    "    no_components=60,\n",
    "    learning_schedule='adagrad',\n",
    "    loss='warp',\n",
    "    learning_rate=0.01,\n",
    "    item_alpha=0.00629,\n",
    "    user_alpha=0.00573,\n",
    "    random_state=0\n",
    ")"
   ]
  },
  {
   "cell_type": "code",
   "execution_count": 21,
   "id": "d380253f",
   "metadata": {
    "scrolled": true
   },
   "outputs": [
    {
     "name": "stderr",
     "output_type": "stream",
     "text": [
      "Epoch: 100%|███████████████████████████████████████████████████████████████████████████| 10/10 [08:16<00:00, 49.70s/it]"
     ]
    },
    {
     "name": "stdout",
     "output_type": "stream",
     "text": [
      "CPU times: total: 8min 16s\n",
      "Wall time: 8min 16s\n"
     ]
    },
    {
     "name": "stderr",
     "output_type": "stream",
     "text": [
      "\n"
     ]
    },
    {
     "data": {
      "text/plain": [
       "<lightfm.lightfm.LightFM at 0x191d1a0c640>"
      ]
     },
     "execution_count": 21,
     "metadata": {},
     "output_type": "execute_result"
    }
   ],
   "source": [
    "%time m1.fit(interactions=train_interactions, user_features=user_features, item_features=item_features, epochs=10, verbose=True)"
   ]
  },
  {
   "cell_type": "code",
   "execution_count": 22,
   "id": "8cdc3743",
   "metadata": {},
   "outputs": [
    {
     "name": "stdout",
     "output_type": "stream",
     "text": [
      "Train precision: 0.00652\n",
      "Test precision: 0.03355\n",
      "Test AUC Score : 0.79624\n"
     ]
    }
   ],
   "source": [
    "test_precision = precision_at_k(m1, test_interactions, user_features=user_features, item_features=item_features, k=9).mean()\n",
    "test_recall = recall_at_k(m1, test_interactions,  user_features=user_features, item_features=item_features, k=9).mean()\n",
    "test_auc = auc_score(m1, test_interactions, user_features=user_features, item_features=item_features).mean()\n",
    "\n",
    "print(\"Train precision: %.5f\" % test_precision)\n",
    "print(\"Test precision: %.5f\" % test_recall) \n",
    "print(\"Test AUC Score : %.5f\" % test_auc)"
   ]
  },
  {
   "cell_type": "markdown",
   "id": "923d5e88",
   "metadata": {},
   "source": [
    "### Result\n",
    "---\n",
    "Min-Max Normalization이 조금 더 좋은 성능을 보이기 때문에 Min-Max Normalization을 적용한 model을 저장합니다."
   ]
  },
  {
   "cell_type": "code",
   "execution_count": null,
   "id": "e24f8846",
   "metadata": {},
   "outputs": [],
   "source": []
  },
  {
   "cell_type": "markdown",
   "id": "8f62a731",
   "metadata": {},
   "source": [
    "### save"
   ]
  },
  {
   "cell_type": "code",
   "execution_count": null,
   "id": "cdaa34ba",
   "metadata": {},
   "outputs": [],
   "source": [
    "# # save the model to a file\n",
    "# with open('robust_lightfm.pkl', 'wb') as f:\n",
    "#     pickle.dump(model, f)"
   ]
  }
 ],
 "metadata": {
  "kernelspec": {
   "display_name": "Python 3 (ipykernel)",
   "language": "python",
   "name": "python3"
  },
  "language_info": {
   "codemirror_mode": {
    "name": "ipython",
    "version": 3
   },
   "file_extension": ".py",
   "mimetype": "text/x-python",
   "name": "python",
   "nbconvert_exporter": "python",
   "pygments_lexer": "ipython3",
   "version": "3.9.16"
  }
 },
 "nbformat": 4,
 "nbformat_minor": 5
}
