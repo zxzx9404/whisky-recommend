{
 "cells": [
  {
   "cell_type": "code",
   "execution_count": 1,
   "id": "2861c922",
   "metadata": {},
   "outputs": [],
   "source": [
    "import os\n",
    "import pandas as pd\n",
    "import numpy as np\n",
    "import chardet"
   ]
  },
  {
   "cell_type": "markdown",
   "id": "6b45957c",
   "metadata": {},
   "source": [
    "# Concat all rating data\n",
    "---\n",
    "## 1️⃣ 우선 크롤링한 모든 rating data를 하나의 파일로 합치는 작업을 수행합니다.\n",
    "- data [0\\~550], [550\\~1100] 부분 인코딩 라틴어를 기준으로 되어있습니다.\n",
    "- 추후 이름 불일치 작업필요\n",
    "\n",
    "## 2️⃣ 하나의 DataFrame으로 만들어졌다면 이를 저장합니다.\n"
   ]
  },
  {
   "cell_type": "code",
   "execution_count": 2,
   "id": "ed722279",
   "metadata": {},
   "outputs": [],
   "source": [
    "data_0_550 = pd.read_csv(\"../dataset/rating/rating_0_550.csv\", index_col=0, encoding=\"latin-1\")"
   ]
  },
  {
   "cell_type": "code",
   "execution_count": 3,
   "id": "b296151d",
   "metadata": {},
   "outputs": [],
   "source": [
    "data_550_1100 = pd.read_csv(\"../dataset/rating/rating_550_1100.csv\", index_col = 0, encoding='latin-1')"
   ]
  },
  {
   "cell_type": "code",
   "execution_count": 4,
   "id": "5b71bb12",
   "metadata": {},
   "outputs": [],
   "source": [
    "data_1100_1650 = pd.read_csv(\"../dataset/rating/rating_1100_1650.csv\", index_col = 0, encoding='UTF-8')"
   ]
  },
  {
   "cell_type": "code",
   "execution_count": 5,
   "id": "2ffec42d",
   "metadata": {},
   "outputs": [],
   "source": [
    "data_1650_2200 = pd.read_csv(\"../dataset/rating/rating_1650_2200.csv\", index_col = 0, encoding='UTF-8')"
   ]
  },
  {
   "cell_type": "code",
   "execution_count": 6,
   "id": "7f6ecb23",
   "metadata": {},
   "outputs": [],
   "source": [
    "data_2200_2750 = pd.read_csv(\"../dataset/rating/rating_2200_2750.csv\", index_col = 0, encoding='UTF-8')"
   ]
  },
  {
   "cell_type": "code",
   "execution_count": 7,
   "id": "149144b7",
   "metadata": {},
   "outputs": [],
   "source": [
    "data_2750_3535 = pd.read_csv(\"../dataset/rating/rating_2750_3535.csv\", index_col = 0, encoding='UTF-8')"
   ]
  },
  {
   "cell_type": "code",
   "execution_count": 8,
   "id": "dd9d4389",
   "metadata": {},
   "outputs": [],
   "source": [
    "data = pd.concat([data_0_550, data_550_1100, data_1100_1650, data_1650_2200, data_2200_2750,data_2750_3535])"
   ]
  },
  {
   "cell_type": "code",
   "execution_count": 9,
   "id": "407157e9",
   "metadata": {},
   "outputs": [
    {
     "name": "stdout",
     "output_type": "stream",
     "text": [
      "119515\n",
      "3466\n",
      "<class 'pandas.core.frame.DataFrame'>\n",
      "Int64Index: 908176 entries, 0 to 11258\n",
      "Data columns (total 3 columns):\n",
      " #   Column       Non-Null Count   Dtype  \n",
      "---  ------       --------------   -----  \n",
      " 0   username     908176 non-null  object \n",
      " 1   whisky_name  908176 non-null  object \n",
      " 2   rating       888132 non-null  float64\n",
      "dtypes: float64(1), object(2)\n",
      "memory usage: 27.7+ MB\n"
     ]
    }
   ],
   "source": [
    "print(data['username'].nunique())\n",
    "print(data['whisky_name'].nunique())\n",
    "data.info()"
   ]
  },
  {
   "cell_type": "code",
   "execution_count": 10,
   "id": "dba15b1f",
   "metadata": {},
   "outputs": [],
   "source": [
    "## 저장\n",
    "data.to_csv(\"../dataset/rating.csv\", encoding=\"utf-8\")"
   ]
  }
 ],
 "metadata": {
  "kernelspec": {
   "display_name": "Python 3 (ipykernel)",
   "language": "python",
   "name": "python3"
  },
  "language_info": {
   "codemirror_mode": {
    "name": "ipython",
    "version": 3
   },
   "file_extension": ".py",
   "mimetype": "text/x-python",
   "name": "python",
   "nbconvert_exporter": "python",
   "pygments_lexer": "ipython3",
   "version": "3.9.16"
  }
 },
 "nbformat": 4,
 "nbformat_minor": 5
}
