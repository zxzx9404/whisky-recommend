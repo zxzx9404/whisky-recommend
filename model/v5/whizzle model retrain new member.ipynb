{
 "cells": [
  {
   "cell_type": "markdown",
   "id": "a399cb31",
   "metadata": {},
   "source": [
    "# Whizzle model v5 retrain - New Member"
   ]
  },
  {
   "cell_type": "code",
   "execution_count": 1,
   "id": "191576ee",
   "metadata": {},
   "outputs": [
    {
     "name": "stderr",
     "output_type": "stream",
     "text": [
      "C:\\Users\\SSAFY\\anaconda3\\envs\\mini-project\\lib\\site-packages\\lightfm\\_lightfm_fast.py:9: UserWarning: LightFM was compiled without OpenMP support. Only a single thread will be used.\n",
      "  warnings.warn(\n"
     ]
    }
   ],
   "source": [
    "import os\n",
    "import pandas as pd\n",
    "import numpy as np\n",
    "from time import time\n",
    "from tqdm.notebook import tqdm\n",
    "import random\n",
    "import pickle\n",
    "\n",
    "from scipy.sparse import coo_matrix, csr_matrix\n",
    "\n",
    "from lightfm.cross_validation import random_train_test_split\n",
    "from lightfm import LightFM\n",
    "from lightfm.data import Dataset\n",
    "from lightfm.evaluation import precision_at_k, auc_score, recall_at_k, reciprocal_rank\n",
    "\n",
    "from hyperopt import fmin, hp, tpe, Trials\n",
    "\n",
    "from sklearn.base import clone\n",
    "\n",
    "## Normalization\n",
    "from sklearn.preprocessing import LabelEncoder, MinMaxScaler\n",
    "\n",
    "import seaborn as sns\n",
    "import matplotlib.pyplot as plt\n",
    "\n",
    "from dataclasses import dataclass"
   ]
  },
  {
   "cell_type": "code",
   "execution_count": 2,
   "id": "d0dfe2c7",
   "metadata": {},
   "outputs": [],
   "source": [
    "item_features = pd.read_csv(\"dataset/item_features.csv\", index_col=0, encoding=\"UTF-8\")\n",
    "user_features = pd.read_csv(\"dataset/user_features.csv\", index_col=0, encoding=\"UTF-8\")\n",
    "train_rating = pd.read_csv(\"dataset/train_rating.csv\", index_col=0, encoding=\"UTF-8\")\n",
    "test_rating = pd.read_csv(\"dataset/test_rating.csv\", index_col=0, encoding=\"UTF-8\")\n",
    "whisky = pd.read_csv(\"dataset/whisky.csv\", index_col=0, encoding=\"UTF-8\")"
   ]
  },
  {
   "cell_type": "code",
   "execution_count": 12,
   "id": "74b5ca47",
   "metadata": {},
   "outputs": [],
   "source": [
    "def make_source(data):\n",
    "    source = []\n",
    "    for row in data.itertuples(index=False):\n",
    "        meta = {feat: value for feat, value in zip(data.columns[1:], row[1:])}\n",
    "        source.append((row[0], meta))\n",
    "    return source"
   ]
  },
  {
   "cell_type": "markdown",
   "id": "1b20ea36",
   "metadata": {},
   "source": [
    "## 신규 사용자 입력 가정\n",
    "---\n",
    "- 저장된 모델날짜 이후로 변경된 모든 데이터를 전달한다.\n",
    "    - 학습에 포함된 사용자의 rating, preference는 전달하지 않아도 된다.\n",
    "- 즉, 사용자 기준으로 모델에 포함되지 않은 사용자의 rating, preference 데이터를 전달받는다"
   ]
  },
  {
   "cell_type": "markdown",
   "id": "9cce3f74",
   "metadata": {},
   "source": [
    "## 입력 기준\n",
    "---\n",
    "content : {\n",
    "    users: 마지막 6\n",
    "    ratings: [\n",
    "        {\n",
    "            member_id: 1,\n",
    "            whiskiy_id: 515,\n",
    "            rating: 10,\n",
    "        },\n",
    "        {\n",
    "            member_id: 2,\n",
    "            whiskiy_id: 443,\n",
    "            rating: 10,\n",
    "        },\n",
    "        {\n",
    "            member_id: 3,\n",
    "            whiskiy_id: 515,\n",
    "            rating: 8,\n",
    "        },\n",
    "        {\n",
    "            member_id: 4,\n",
    "            whiskiy_id: 111,\n",
    "            rating: 9,\n",
    "        }\n",
    "    ],\n",
    "    preferences: [\n",
    "        {\n",
    "            member_id: 1,\n",
    "            smoky: 0.51,\n",
    "            ...\n",
    "        },\n",
    "        {\n",
    "            member_id: 1,\n",
    "            smoky: 0.51,\n",
    "            ...\n",
    "        },\n",
    "        {\n",
    "            member_id: 1,\n",
    "            smoky: 0.51,\n",
    "            ...\n",
    "        }\n",
    "    ]\n",
    "}"
   ]
  },
  {
   "cell_type": "code",
   "execution_count": null,
   "id": "5783973e",
   "metadata": {},
   "outputs": [],
   "source": [
    "## 신규 사용자 rating df 만들기\n",
    "def make_new_rating_df(ratings):\n",
    "    return pd.DataFrame([(rating.user_id+119515, rating.whisky_id, rating.rating) for rating in ratings], columns=['user_id', 'whisky_id', 'rating'])\n"
   ]
  }
 ],
 "metadata": {
  "kernelspec": {
   "display_name": "Python 3 (ipykernel)",
   "language": "python",
   "name": "python3"
  },
  "language_info": {
   "codemirror_mode": {
    "name": "ipython",
    "version": 3
   },
   "file_extension": ".py",
   "mimetype": "text/x-python",
   "name": "python",
   "nbconvert_exporter": "python",
   "pygments_lexer": "ipython3",
   "version": "3.9.16"
  }
 },
 "nbformat": 4,
 "nbformat_minor": 5
}
